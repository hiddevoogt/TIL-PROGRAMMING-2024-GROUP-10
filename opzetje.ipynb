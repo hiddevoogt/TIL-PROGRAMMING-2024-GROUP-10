{
 "cells": [
  {
   "cell_type": "code",
   "execution_count": 12,
   "metadata": {},
   "outputs": [],
   "source": [
    "import pandas as pd\n",
    "import matplotlib.pyplot as plt\n",
    "import seaborn as sns\n",
    "\n",
    "# For better visualization aesthetics\n",
    "sns.set(style=\"whitegrid\")\n"
   ]
  },
  {
   "cell_type": "code",
   "execution_count": 23,
   "metadata": {},
   "outputs": [],
   "source": [
    "travel_motives_mapping = {\n",
    "    \"2030170\": \"Travel to/from work, (non)-daily commute\",\n",
    "    \"2030190\": \"Services/care\",\n",
    "    \"2030200\": \"Shopping, groceries, fun shopping\",\n",
    "    \"2030210\": \"Attending education/courses\",\n",
    "    \"2030220\": \"Visits including staying overnight\",\n",
    "    \"2030230\": \"Leisure, sports\",\n",
    "    \"2030240\": \"Touring/walking\",\n",
    "    \"2030250\": \"Other\",\n",
    "    \"2820740\": \"Professionally\",\n",
    "    \"T001080\": \"Total\"\n",
    "}\n"
   ]
  },
  {
   "cell_type": "code",
   "execution_count": 24,
   "metadata": {},
   "outputs": [],
   "source": [
    "population_mapping = {\n",
    "    \"A048710\": \"Population 6 years or older\",\n",
    "    \"A048709\": \"Population: 12 years or older\"\n",
    "}\n"
   ]
  },
  {
   "cell_type": "code",
   "execution_count": 25,
   "metadata": {},
   "outputs": [],
   "source": [
    "travel_modes_mapping = {\n",
    "    \"T001093\": \"Total\",\n",
    "    \"A048583\": \"Passenger car (driver)\",\n",
    "    \"A048584\": \"Passenger car (passenger)\",\n",
    "    \"A018981\": \"Train\",\n",
    "    \"A018982\": \"Bus/tram/metro\",\n",
    "    \"A018984\": \"Bike\",\n",
    "    \"A018985\": \"Walking\",\n",
    "    \"A018986\": \"Other\"\n",
    "}\n"
   ]
  },
  {
   "cell_type": "code",
   "execution_count": 26,
   "metadata": {},
   "outputs": [],
   "source": [
    "margins_mapping = {\n",
    "    \"MW00000\": \"Value\",\n",
    "    \"MOG0095\": \"Lower bound 95% confidence interval\",\n",
    "    \"MBG0095\": \"Upper bound 95% confidence interval\"\n",
    "}\n"
   ]
  },
  {
   "cell_type": "code",
   "execution_count": 27,
   "metadata": {},
   "outputs": [],
   "source": [
    "region_char_mapping = {\n",
    "    \"NL01    \": \"The Netherlands\",\n",
    "    \"LD01    \": \"Noord-Nederland (LD)\",\n",
    "    \"LD02    \": \"Oost-Nederland (LD)\",\n",
    "    \"LD03    \": \"West-Nederland (LD)\",\n",
    "    \"LD04    \": \"Zuid-Nederland (LD)\",\n",
    "    \"PV20    \": \"Groningen (PV)\",\n",
    "    \"PV21    \": \"Fryslân (PV)\",\n",
    "    \"PV22    \": \"Drenthe (PV)\",\n",
    "    \"PV23    \": \"Overijssel (PV)\",\n",
    "    \"PV24    \": \"Flevoland (PV)\",\n",
    "    \"PV25    \": \"Gelderland (PV)\",\n",
    "    \"PV26    \": \"Utrecht (PV)\",\n",
    "    \"PV27    \": \"Noord-Holland (PV)\",\n",
    "    \"PV28    \": \"Zuid-Holland (PV)\",\n",
    "    \"PV29    \": \"Zeeland (PV)\",\n",
    "    \"PV30    \": \"Noord-Brabant (PV)\",\n",
    "    \"PV31    \": \"Limburg (PV)\",\n",
    "    \"1018850 \": \"Extremely urbanised\",\n",
    "    \"1018905 \": \"Strongly urbanised\",\n",
    "    \"1018955 \": \"Moderately urbanised\",\n",
    "    \"1019005 \": \"Hardly urbanised\",\n",
    "    \"1019052 \": \"Not urbanised\"\n",
    "}\n"
   ]
  },
  {
   "cell_type": "code",
   "execution_count": 28,
   "metadata": {},
   "outputs": [],
   "source": [
    "periods_mapping = {\n",
    "    \"2018JJ00\": \"2018\",\n",
    "    \"2019JJ00\": \"2019\",\n",
    "    \"2020JJ00\": \"2020\",\n",
    "    \"2021JJ00\": \"2021\",\n",
    "    \"2022JJ00\": \"2022\",\n",
    "    \"2023JJ00\": \"2023\"\n",
    "}\n"
   ]
  },
  {
   "cell_type": "code",
   "execution_count": 36,
   "metadata": {},
   "outputs": [
    {
     "name": "stdout",
     "output_type": "stream",
     "text": [
      "Data Shape After Dropping Missing Values: (38718, 13) \n",
      "\n",
      "Named data saved to 'test123.csv'.\n",
      "Initial Data:\n",
      "   ID  Trips_Per_Day  ...  RegionCharacteristics  Period\n",
      "0   0           2.78  ...        The Netherlands    2018\n",
      "1   1           2.71  ...        The Netherlands    2019\n",
      "2   2           2.35  ...        The Netherlands    2020\n",
      "3   3           2.51  ...        The Netherlands    2021\n",
      "4   4           2.70  ...        The Netherlands    2022\n",
      "\n",
      "[5 rows x 13 columns] \n",
      "\n"
     ]
    }
   ],
   "source": [
    "from data_rename import make_named_clean_dataset\n",
    "\n",
    "# Define the path to your data directory and file\n",
    "file_path = 'oud/84710ENG_TypedDataSet_30092024_142837.csv'\n",
    "\n",
    "# Load the dataset\n",
    "data = pd.read_csv(file_path, delimiter=';', encoding='utf-8')\n",
    "\n",
    "\n",
    "# Define the path for the named data\n",
    "named_file_path = 'test123.csv'\n",
    "\n",
    "# Save the named data to CSV\n",
    "data_named = make_named_clean_dataset(data)\n",
    "data_named.to_csv(named_file_path, index=False)\n",
    "print(f\"Named data saved to '{named_file_path}'.\")\n",
    "\n",
    "# Display the first few rows\n",
    "print(\"Initial Data:\")\n",
    "print(data.head(), \"\\n\")\n"
   ]
  },
  {
   "cell_type": "code",
   "execution_count": 30,
   "metadata": {},
   "outputs": [
    {
     "name": "stdout",
     "output_type": "stream",
     "text": [
      "Data Info:\n",
      "<class 'pandas.core.frame.DataFrame'>\n",
      "RangeIndex: 63360 entries, 0 to 63359\n",
      "Data columns (total 13 columns):\n",
      " #   Column                                   Non-Null Count  Dtype  \n",
      "---  ------                                   --------------  -----  \n",
      " 0   ID                                       63360 non-null  int64  \n",
      " 1   Trips_Per_Day                            40002 non-null  float64\n",
      " 2   Distance_Travelled_PassengerKm_Per_Day   39021 non-null  float64\n",
      " 3   Time_Travelled_Minutes_Per_Day           39498 non-null  float64\n",
      " 4   Trips_Per_Year                           40002 non-null  float64\n",
      " 5   Distance_Travelled_PassengerKm_Per_Year  39021 non-null  float64\n",
      " 6   Time_Travelled_Hours_Per_Year            39498 non-null  float64\n",
      " 7   TravelMotives                            63360 non-null  object \n",
      " 8   Population                               63360 non-null  object \n",
      " 9   TravelModes                              63360 non-null  object \n",
      " 10  Margins                                  63360 non-null  object \n",
      " 11  RegionCharacteristics                    63360 non-null  object \n",
      " 12  Period                                   63360 non-null  object \n",
      "dtypes: float64(6), int64(1), object(6)\n",
      "memory usage: 6.3+ MB\n",
      "None \n",
      "\n",
      "Missing Values:\n",
      "ID                                             0\n",
      "Trips_Per_Day                              23358\n",
      "Distance_Travelled_PassengerKm_Per_Day     24339\n",
      "Time_Travelled_Minutes_Per_Day             23862\n",
      "Trips_Per_Year                             23358\n",
      "Distance_Travelled_PassengerKm_Per_Year    24339\n",
      "Time_Travelled_Hours_Per_Year              23862\n",
      "TravelMotives                                  0\n",
      "Population                                     0\n",
      "TravelModes                                    0\n",
      "Margins                                        0\n",
      "RegionCharacteristics                          0\n",
      "Period                                         0\n",
      "dtype: int64 \n",
      "\n",
      "Summary Statistics:\n",
      "                  ID  Trips_Per_Day  ...  RegionCharacteristics  Period\n",
      "count   63360.000000   40002.000000  ...                  63360   63360\n",
      "unique           NaN            NaN  ...                     22       6\n",
      "top              NaN            NaN  ...        The Netherlands    2018\n",
      "freq             NaN            NaN  ...                   2880   10560\n",
      "mean    31679.500000       0.202393  ...                    NaN     NaN\n",
      "std     18290.600865       0.397390  ...                    NaN     NaN\n",
      "min         0.000000       0.000000  ...                    NaN     NaN\n",
      "25%     15839.750000       0.030000  ...                    NaN     NaN\n",
      "50%     31679.500000       0.080000  ...                    NaN     NaN\n",
      "75%     47519.250000       0.210000  ...                    NaN     NaN\n",
      "max     63359.000000       2.970000  ...                    NaN     NaN\n",
      "\n",
      "[11 rows x 13 columns] \n",
      "\n"
     ]
    }
   ],
   "source": [
    "# Get basic information about the dataset\n",
    "print(\"Data Info:\")\n",
    "print(data.info(), \"\\n\")\n",
    "\n",
    "# Check for missing values\n",
    "print(\"Missing Values:\")\n",
    "print(data.isnull().sum(), \"\\n\")\n",
    "\n",
    "# Summary statistics\n",
    "print(\"Summary Statistics:\")\n",
    "print(data.describe(include='all'), \"\\n\")\n"
   ]
  },
  {
   "cell_type": "code",
   "execution_count": 31,
   "metadata": {},
   "outputs": [
    {
     "name": "stdout",
     "output_type": "stream",
     "text": [
      "Renamed Columns:\n",
      "Index(['ID', 'Trips_Per_Day', 'Distance_Travelled_PassengerKm_Per_Day',\n",
      "       'Time_Travelled_Minutes_Per_Day', 'Trips_Per_Year',\n",
      "       'Distance_Travelled_PassengerKm_Per_Year',\n",
      "       'Time_Travelled_Hours_Per_Year', 'TravelMotivesCode', 'PopulationCode',\n",
      "       'TravelModesCode', 'MarginsCode', 'RegionCharacteristicsCode',\n",
      "       'Period'],\n",
      "      dtype='object') \n",
      "\n"
     ]
    }
   ],
   "source": [
    "# Example: Renaming columns (adjust as per your actual column names)\n",
    "data.rename(columns={\n",
    "    \"TravelMotives\": \"TravelMotivesCode\",\n",
    "    \"Population\": \"PopulationCode\",\n",
    "    \"TravelModes\": \"TravelModesCode\",\n",
    "    \"Margins\": \"MarginsCode\",\n",
    "    \"RegionCharacteristics\": \"RegionCharacteristicsCode\",\n",
    "    \"Periods\": \"PeriodsCode\",\n",
    "    \"Trips_1\": \"Trips_Per_Day\",\n",
    "    \"DistanceTravelled_2\": \"Distance_Travelled_PassengerKm_Per_Day\",\n",
    "    \"TimeTravelled_3\": \"Time_Travelled_Minutes_Per_Day\",\n",
    "    \"Trips_4\": \"Trips_Per_Year\",\n",
    "    \"DistanceTravelled_5\": \"Distance_Travelled_PassengerKm_Per_Year\",\n",
    "    \"TimeTravelled_6\": \"Time_Travelled_Hours_Per_Year\"\n",
    "}, inplace=True)\n",
    "\n",
    "# Display the renamed columns\n",
    "print(\"Renamed Columns:\")\n",
    "print(data.columns, \"\\n\")\n"
   ]
  },
  {
   "cell_type": "code",
   "execution_count": 35,
   "metadata": {},
   "outputs": [
    {
     "ename": "KeyError",
     "evalue": "'TravelMotivesCode'",
     "output_type": "error",
     "traceback": [
      "\u001b[1;31m---------------------------------------------------------------------------\u001b[0m",
      "\u001b[1;31mKeyError\u001b[0m                                  Traceback (most recent call last)",
      "File \u001b[1;32mc:\\ProgramData\\anaconda3\\envs\\TIL6022\\Lib\\site-packages\\pandas\\core\\indexes\\base.py:3805\u001b[0m, in \u001b[0;36mIndex.get_loc\u001b[1;34m(self, key)\u001b[0m\n\u001b[0;32m   3804\u001b[0m \u001b[38;5;28;01mtry\u001b[39;00m:\n\u001b[1;32m-> 3805\u001b[0m     \u001b[38;5;28;01mreturn\u001b[39;00m \u001b[38;5;28mself\u001b[39m\u001b[38;5;241m.\u001b[39m_engine\u001b[38;5;241m.\u001b[39mget_loc(casted_key)\n\u001b[0;32m   3806\u001b[0m \u001b[38;5;28;01mexcept\u001b[39;00m \u001b[38;5;167;01mKeyError\u001b[39;00m \u001b[38;5;28;01mas\u001b[39;00m err:\n",
      "File \u001b[1;32mindex.pyx:167\u001b[0m, in \u001b[0;36mpandas._libs.index.IndexEngine.get_loc\u001b[1;34m()\u001b[0m\n",
      "File \u001b[1;32mindex.pyx:196\u001b[0m, in \u001b[0;36mpandas._libs.index.IndexEngine.get_loc\u001b[1;34m()\u001b[0m\n",
      "File \u001b[1;32mpandas\\\\_libs\\\\hashtable_class_helper.pxi:7081\u001b[0m, in \u001b[0;36mpandas._libs.hashtable.PyObjectHashTable.get_item\u001b[1;34m()\u001b[0m\n",
      "File \u001b[1;32mpandas\\\\_libs\\\\hashtable_class_helper.pxi:7089\u001b[0m, in \u001b[0;36mpandas._libs.hashtable.PyObjectHashTable.get_item\u001b[1;34m()\u001b[0m\n",
      "\u001b[1;31mKeyError\u001b[0m: 'TravelMotivesCode'",
      "\nThe above exception was the direct cause of the following exception:\n",
      "\u001b[1;31mKeyError\u001b[0m                                  Traceback (most recent call last)",
      "Cell \u001b[1;32mIn[35], line 1\u001b[0m\n\u001b[1;32m----> 1\u001b[0m data[\u001b[38;5;124m'\u001b[39m\u001b[38;5;124mTravelMotives\u001b[39m\u001b[38;5;124m'\u001b[39m] \u001b[38;5;241m=\u001b[39m data[\u001b[38;5;124m'\u001b[39m\u001b[38;5;124mTravelMotivesCode\u001b[39m\u001b[38;5;124m'\u001b[39m]\u001b[38;5;241m.\u001b[39mmap(travel_motives_mapping)\n\u001b[0;32m      4\u001b[0m data[\u001b[38;5;124m'\u001b[39m\u001b[38;5;124mPopulation\u001b[39m\u001b[38;5;124m'\u001b[39m] \u001b[38;5;241m=\u001b[39m data[\u001b[38;5;124m'\u001b[39m\u001b[38;5;124mPopulationCode\u001b[39m\u001b[38;5;124m'\u001b[39m]\u001b[38;5;241m.\u001b[39mmap(population_mapping)\n\u001b[0;32m      6\u001b[0m data[\u001b[38;5;124m'\u001b[39m\u001b[38;5;124mTravelModes\u001b[39m\u001b[38;5;124m'\u001b[39m] \u001b[38;5;241m=\u001b[39m data[\u001b[38;5;124m'\u001b[39m\u001b[38;5;124mTravelModesCode\u001b[39m\u001b[38;5;124m'\u001b[39m]\u001b[38;5;241m.\u001b[39mmap(travel_modes_mapping)\n",
      "File \u001b[1;32mc:\\ProgramData\\anaconda3\\envs\\TIL6022\\Lib\\site-packages\\pandas\\core\\frame.py:4102\u001b[0m, in \u001b[0;36mDataFrame.__getitem__\u001b[1;34m(self, key)\u001b[0m\n\u001b[0;32m   4100\u001b[0m \u001b[38;5;28;01mif\u001b[39;00m \u001b[38;5;28mself\u001b[39m\u001b[38;5;241m.\u001b[39mcolumns\u001b[38;5;241m.\u001b[39mnlevels \u001b[38;5;241m>\u001b[39m \u001b[38;5;241m1\u001b[39m:\n\u001b[0;32m   4101\u001b[0m     \u001b[38;5;28;01mreturn\u001b[39;00m \u001b[38;5;28mself\u001b[39m\u001b[38;5;241m.\u001b[39m_getitem_multilevel(key)\n\u001b[1;32m-> 4102\u001b[0m indexer \u001b[38;5;241m=\u001b[39m \u001b[38;5;28mself\u001b[39m\u001b[38;5;241m.\u001b[39mcolumns\u001b[38;5;241m.\u001b[39mget_loc(key)\n\u001b[0;32m   4103\u001b[0m \u001b[38;5;28;01mif\u001b[39;00m is_integer(indexer):\n\u001b[0;32m   4104\u001b[0m     indexer \u001b[38;5;241m=\u001b[39m [indexer]\n",
      "File \u001b[1;32mc:\\ProgramData\\anaconda3\\envs\\TIL6022\\Lib\\site-packages\\pandas\\core\\indexes\\base.py:3812\u001b[0m, in \u001b[0;36mIndex.get_loc\u001b[1;34m(self, key)\u001b[0m\n\u001b[0;32m   3807\u001b[0m     \u001b[38;5;28;01mif\u001b[39;00m \u001b[38;5;28misinstance\u001b[39m(casted_key, \u001b[38;5;28mslice\u001b[39m) \u001b[38;5;129;01mor\u001b[39;00m (\n\u001b[0;32m   3808\u001b[0m         \u001b[38;5;28misinstance\u001b[39m(casted_key, abc\u001b[38;5;241m.\u001b[39mIterable)\n\u001b[0;32m   3809\u001b[0m         \u001b[38;5;129;01mand\u001b[39;00m \u001b[38;5;28many\u001b[39m(\u001b[38;5;28misinstance\u001b[39m(x, \u001b[38;5;28mslice\u001b[39m) \u001b[38;5;28;01mfor\u001b[39;00m x \u001b[38;5;129;01min\u001b[39;00m casted_key)\n\u001b[0;32m   3810\u001b[0m     ):\n\u001b[0;32m   3811\u001b[0m         \u001b[38;5;28;01mraise\u001b[39;00m InvalidIndexError(key)\n\u001b[1;32m-> 3812\u001b[0m     \u001b[38;5;28;01mraise\u001b[39;00m \u001b[38;5;167;01mKeyError\u001b[39;00m(key) \u001b[38;5;28;01mfrom\u001b[39;00m \u001b[38;5;21;01merr\u001b[39;00m\n\u001b[0;32m   3813\u001b[0m \u001b[38;5;28;01mexcept\u001b[39;00m \u001b[38;5;167;01mTypeError\u001b[39;00m:\n\u001b[0;32m   3814\u001b[0m     \u001b[38;5;66;03m# If we have a listlike key, _check_indexing_error will raise\u001b[39;00m\n\u001b[0;32m   3815\u001b[0m     \u001b[38;5;66;03m#  InvalidIndexError. Otherwise we fall through and re-raise\u001b[39;00m\n\u001b[0;32m   3816\u001b[0m     \u001b[38;5;66;03m#  the TypeError.\u001b[39;00m\n\u001b[0;32m   3817\u001b[0m     \u001b[38;5;28mself\u001b[39m\u001b[38;5;241m.\u001b[39m_check_indexing_error(key)\n",
      "\u001b[1;31mKeyError\u001b[0m: 'TravelMotivesCode'"
     ]
    }
   ],
   "source": [
    "data['TravelMotives'] = data['TravelMotivesCode'].map(travel_motives_mapping)\n",
    "\n",
    "\n",
    "data['Population'] = data['PopulationCode'].map(population_mapping)\n",
    "\n",
    "data['TravelModes'] = data['TravelModesCode'].map(travel_modes_mapping)\n",
    "\n",
    "data['Margins'] = data['MarginsCode'].map(margins_mapping)\n",
    "\n",
    "data['RegionCharacteristics'] = data['RegionCharacteristicsCode'].map(region_char_mapping)\n",
    "\n",
    "data['Period'] = data['PeriodsCode'].map(periods_mapping)\n",
    "\n",
    "print(data.columns)\n"
   ]
  },
  {
   "cell_type": "code",
   "execution_count": 23,
   "metadata": {},
   "outputs": [],
   "source": [
    "# List of original code columns to drop\n",
    "code_columns = [\n",
    "    'TravelMotivesCode',\n",
    "    'PopulationCode',\n",
    "    'TravelModesCode',\n",
    "    'MarginsCode',\n",
    "    'RegionCharacteristicsCode',\n",
    "    'PeriodsCode'\n",
    "]\n",
    "\n",
    "# Drop the code columns\n",
    "data.drop(columns=code_columns, inplace=True)\n",
    "\n"
   ]
  },
  {
   "cell_type": "code",
   "execution_count": 24,
   "metadata": {},
   "outputs": [
    {
     "name": "stdout",
     "output_type": "stream",
     "text": [
      "Data with Mapped Titles:\n",
      "   ID  Trips_Per_Day  Distance_Travelled_PassengerKm_Per_Day  \\\n",
      "0   0           2.78                                   36.16   \n",
      "1   1           2.71                                   36.00   \n",
      "2   2           2.35                                   24.88   \n",
      "3   3           2.51                                   27.24   \n",
      "4   4           2.70                                   30.21   \n",
      "\n",
      "   Time_Travelled_Minutes_Per_Day  Trips_Per_Year  \\\n",
      "0                           74.60          1015.0   \n",
      "1                           74.39           989.0   \n",
      "2                           61.96           861.0   \n",
      "3                           69.85           915.0   \n",
      "4                           72.69           984.0   \n",
      "\n",
      "   Distance_Travelled_PassengerKm_Per_Year  Time_Travelled_Hours_Per_Year  \\\n",
      "0                                  13200.0                          453.8   \n",
      "1                                  13140.0                          452.6   \n",
      "2                                   9105.0                          378.0   \n",
      "3                                   9942.0                          424.9   \n",
      "4                                  11027.0                          442.2   \n",
      "\n",
      "  TravelMotives                   Population TravelModes Margins  \\\n",
      "0         Total  Population 6 years or older       Total   Value   \n",
      "1         Total  Population 6 years or older       Total   Value   \n",
      "2         Total  Population 6 years or older       Total   Value   \n",
      "3         Total  Population 6 years or older       Total   Value   \n",
      "4         Total  Population 6 years or older       Total   Value   \n",
      "\n",
      "  RegionCharacteristics Period  \n",
      "0       The Netherlands   2018  \n",
      "1       The Netherlands   2019  \n",
      "2       The Netherlands   2020  \n",
      "3       The Netherlands   2021  \n",
      "4       The Netherlands   2022   \n",
      "\n"
     ]
    }
   ],
   "source": [
    "print(\"Data with Mapped Titles:\")\n",
    "print(data.head(), \"\\n\")\n"
   ]
  },
  {
   "cell_type": "code",
   "execution_count": 25,
   "metadata": {},
   "outputs": [
    {
     "name": "stdout",
     "output_type": "stream",
     "text": [
      "Data Types After Conversion:\n",
      "ID                                           int64\n",
      "Trips_Per_Day                              float64\n",
      "Distance_Travelled_PassengerKm_Per_Day     float64\n",
      "Time_Travelled_Minutes_Per_Day             float64\n",
      "Trips_Per_Year                             float64\n",
      "Distance_Travelled_PassengerKm_Per_Year    float64\n",
      "Time_Travelled_Hours_Per_Year              float64\n",
      "TravelMotives                               object\n",
      "Population                                  object\n",
      "TravelModes                                 object\n",
      "Margins                                     object\n",
      "RegionCharacteristics                       object\n",
      "Period                                      object\n",
      "dtype: object \n",
      "\n"
     ]
    }
   ],
   "source": [
    "# List of numerical columns\n",
    "numeric_columns = [\n",
    "    'Trips_Per_Day',\n",
    "    'Distance_Travelled_PassengerKm_Per_Day',\n",
    "    'Time_Travelled_Minutes_Per_Day',\n",
    "    'Trips_Per_Year',\n",
    "    'Distance_Travelled_PassengerKm_Per_Year',\n",
    "    'Time_Travelled_Hours_Per_Year'\n",
    "]\n",
    "\n",
    "# Convert columns to numeric, coercing errors to NaN\n",
    "for col in numeric_columns:\n",
    "    data[col] = pd.to_numeric(data[col], errors='coerce')\n",
    "\n",
    "# Verify data types\n",
    "print(\"Data Types After Conversion:\")\n",
    "print(data.dtypes, \"\\n\")\n"
   ]
  },
  {
   "cell_type": "code",
   "execution_count": null,
   "metadata": {},
   "outputs": [],
   "source": []
  },
  {
   "cell_type": "code",
   "execution_count": 168,
   "metadata": {},
   "outputs": [
    {
     "name": "stdout",
     "output_type": "stream",
     "text": [
      "Missing Values After Mapping and Conversion:\n",
      "ID                                             0\n",
      "Trips_Per_Day                              23358\n",
      "Distance_Travelled_PassengerKm_Per_Day     24339\n",
      "Time_Travelled_Minutes_Per_Day             23862\n",
      "Trips_Per_Year                             23358\n",
      "Distance_Travelled_PassengerKm_Per_Year    24339\n",
      "Time_Travelled_Hours_Per_Year              23862\n",
      "TravelMotives                                  0\n",
      "Population                                     0\n",
      "TravelModes                                    0\n",
      "Margins                                        0\n",
      "RegionCharacteristics                          0\n",
      "Period                                         0\n",
      "dtype: int64 \n",
      "\n",
      "Data shape before dropping missing values: (63360, 13) \n",
      "\n"
     ]
    },
    {
     "name": "stdout",
     "output_type": "stream",
     "text": [
      "Named data saved to 'named_mobility_data.csv'.\n",
      "Total rows with missing data: 24642\n",
      "Selected Columns from Rows with Missing Values:\n",
      "     TravelMotives                   Population TravelModes Margins  \\\n",
      "1220         Total  Population 6 years or older       Train   Value   \n",
      "1222         Total  Population 6 years or older       Train   Value   \n",
      "1225         Total  Population 6 years or older       Train   Value   \n",
      "1226         Total  Population 6 years or older       Train   Value   \n",
      "1227         Total  Population 6 years or older       Train   Value   \n",
      "\n",
      "     RegionCharacteristics Period  \n",
      "1220        Groningen (PV)   2020  \n",
      "1222        Groningen (PV)   2022  \n",
      "1225          Fryslân (PV)   2019  \n",
      "1226          Fryslân (PV)   2020  \n",
      "1227          Fryslân (PV)   2021   \n",
      "\n",
      "Column: TravelMotives\n",
      "TravelMotives\n",
      "Professionally                              3954\n",
      "Services/care                               3588\n",
      "Touring/walking                             3027\n",
      "Attending education/courses                 2946\n",
      "Other                                       2646\n",
      "Visits including staying overnight          2295\n",
      "Shopping, groceries, fun shopping           2001\n",
      "Leisure, sports                             1899\n",
      "Travel to/from work, (non)-daily commute    1872\n",
      "Total                                        414\n",
      "Name: count, dtype: int64\n",
      "\n",
      "\n",
      "Column: Population\n",
      "Population\n",
      "Population: 12 years or older    12639\n",
      "Population 6 years or older      12003\n",
      "Name: count, dtype: int64\n",
      "\n",
      "\n",
      "Column: TravelModes\n",
      "TravelModes\n",
      "Bus/tram/metro               5877\n",
      "Train                        5559\n",
      "Other                        5394\n",
      "Passenger car (passenger)    2949\n",
      "Walking                      2619\n",
      "Bike                         1065\n",
      "Passenger car (driver)       1062\n",
      "Total                         117\n",
      "Name: count, dtype: int64\n",
      "\n",
      "\n",
      "Column: Margins\n",
      "Margins\n",
      "Value                                  8214\n",
      "Lower bound 95% confidence interval    8214\n",
      "Upper bound 95% confidence interval    8214\n",
      "Name: count, dtype: int64\n",
      "\n",
      "\n",
      "Column: RegionCharacteristics\n",
      "RegionCharacteristics\n",
      "Zeeland (PV)            2040\n",
      "Drenthe (PV)            1923\n",
      "Groningen (PV)          1812\n",
      "Flevoland (PV)          1776\n",
      "Fryslân (PV)            1758\n",
      "Overijssel (PV)         1488\n",
      "Limburg (PV)            1479\n",
      "Not urbanised           1389\n",
      "Noord-Nederland (LD)    1290\n",
      "Gelderland (PV)         1137\n",
      "Noord-Brabant (PV)      1113\n",
      "Utrecht (PV)            1029\n",
      "Moderately urbanised     972\n",
      "Zuid-Nederland (LD)      927\n",
      "Hardly urbanised         915\n",
      "Oost-Nederland (LD)      849\n",
      "Noord-Holland (PV)       765\n",
      "Strongly urbanised       588\n",
      "Zuid-Holland (PV)        555\n",
      "Extremely urbanised      477\n",
      "West-Nederland (LD)      228\n",
      "The Netherlands          132\n",
      "Name: count, dtype: int64\n",
      "\n",
      "\n",
      "Column: Period\n",
      "Period\n",
      "2020    4467\n",
      "2019    4161\n",
      "2021    4158\n",
      "2022    4062\n",
      "2023    3906\n",
      "2018    3888\n",
      "Name: count, dtype: int64\n",
      "\n",
      "\n",
      "                 ID  Trips_Per_Day  Distance_Travelled_PassengerKm_Per_Day  \\\n",
      "count  24642.000000    1284.000000                              303.000000   \n",
      "mean   33961.202459       0.032399                                0.183630   \n",
      "std    16817.701875       0.034758                                0.476449   \n",
      "min     1220.000000       0.000000                                0.000000   \n",
      "25%    18830.250000       0.010000                                0.030000   \n",
      "50%    33165.500000       0.020000                                0.040000   \n",
      "75%    49332.750000       0.040000                                0.130000   \n",
      "max    63359.000000       0.210000                                3.740000   \n",
      "\n",
      "       Time_Travelled_Minutes_Per_Day  Trips_Per_Year  \\\n",
      "count                      780.000000     1284.000000   \n",
      "mean                         0.956795       11.756231   \n",
      "std                          1.152077       12.649564   \n",
      "min                          0.050000        0.000000   \n",
      "25%                          0.250000        3.000000   \n",
      "50%                          0.490000        6.000000   \n",
      "75%                          1.080000       15.000000   \n",
      "max                          6.370000       75.000000   \n",
      "\n",
      "       Distance_Travelled_PassengerKm_Per_Year  Time_Travelled_Hours_Per_Year  \n",
      "count                               303.000000                     780.000000  \n",
      "mean                                 66.960396                       5.822436  \n",
      "std                                 173.912606                       7.010617  \n",
      "min                                   1.000000                       0.300000  \n",
      "25%                                   9.000000                       1.500000  \n",
      "50%                                  16.000000                       3.000000  \n",
      "75%                                  48.000000                       6.600000  \n",
      "max                                1366.000000                      38.700000  \n"
     ]
    }
   ],
   "source": [
    "# Check for missing values after mapping and conversion\n",
    "print(\"Missing Values After Mapping and Conversion:\")\n",
    "print(data.isnull().sum(), \"\\n\")\n",
    "\n",
    "# Define the path for the named data\n",
    "named_file_path = 'named_mobility_data.csv'\n",
    "\n",
    "# Save the named data to CSV\n",
    "print(\"Data shape before dropping missing values:\",data.shape, \"\\n\" )\n",
    "data.to_csv(named_file_path, index=False)\n",
    "print(f\"Named data saved to '{named_file_path}'.\")\n",
    "\n",
    "\n",
    "# Identify rows with any missing values\n",
    "rows_with_missing = data[data.isnull().any(axis=1)]\n",
    "\n",
    "print(f\"Total rows with missing data: {rows_with_missing.shape[0]}\")\n",
    "\n",
    "\n",
    "# Define the list of relevant columns\n",
    "relevant_columns = ['TravelMotives', 'Population', 'TravelModes', 'Margins', 'RegionCharacteristics', 'Period']\n",
    "\n",
    "# Ensure that these columns exist in the dataset\n",
    "for col in relevant_columns:\n",
    "    if col not in data.columns:\n",
    "        raise ValueError(f\"Column '{col}' not found in the dataset.\")\n",
    "\n",
    "# Select the relevant columns from the missing rows\n",
    "selected_missing = rows_with_missing[relevant_columns]\n",
    "\n",
    "# Display the first few rows of the selected data\n",
    "print(\"Selected Columns from Rows with Missing Values:\")\n",
    "print(selected_missing.head(), \"\\n\")\n",
    "\n",
    "\n",
    "# Drop duplicate combinations\n",
    "unique_combinations = selected_missing.drop_duplicates()\n",
    "\n",
    "\"\"\"\n",
    "# Count the number of unique combinations\n",
    "num_unique_combinations = unique_combinations.shape[0]\n",
    "\n",
    "# Display the result\n",
    "print(f\"Number of unique combinations of Population, TravelModes, Margins, RegionCharacteristics, and Period with missing values: {num_unique_combinations}\\n\")\n",
    "\n",
    "\n",
    "# Display all unique combinations\n",
    "print(\"Unique Combinations:\")\n",
    "print(unique_combinations.to_string(index=False))\n",
    "\"\"\"\n",
    "\n",
    "# Calculate unique entries and their frequencies for each column\n",
    "unique_entries_per_column = {}\n",
    "\n",
    "# Loop through each column and calculate the unique values and their frequencies\n",
    "for column in unique_combinations.columns:\n",
    "    unique_entries_per_column[column] = unique_combinations[column].value_counts()\n",
    "\n",
    "# Display the result for each column\n",
    "for column, value_counts in unique_entries_per_column.items():\n",
    "    print(f\"Column: {column}\")\n",
    "    print(value_counts)\n",
    "    print(\"\\n\")\n",
    "\n",
    "\n",
    "# Summary statistics for numerical features\n",
    "print(rows_with_missing.describe())\n",
    "\n",
    "\n"
   ]
  },
  {
   "cell_type": "code",
   "execution_count": null,
   "metadata": {},
   "outputs": [],
   "source": []
  },
  {
   "cell_type": "code",
   "execution_count": 27,
   "metadata": {},
   "outputs": [
    {
     "name": "stdout",
     "output_type": "stream",
     "text": [
      "Data Shape After Dropping Missing Values: (38718, 13) \n",
      "\n"
     ]
    }
   ],
   "source": [
    "# Option 1: Drop rows with any missing values\n",
    "clean_data = data.dropna()\n",
    "\n",
    "# Option 2: Impute missing values (e.g., fill with mean or median)\n",
    "# Example: Fill numerical columns with median\n",
    "# for col in numeric_columns:\n",
    "#     clean_data[col] = data[col].fillna(data[col].median())\n",
    "\n",
    "# For this guide, we'll proceed with Option 1\n",
    "print(\"Data Shape After Dropping Missing Values:\", clean_data.shape, \"\\n\")"
   ]
  },
  {
   "cell_type": "code",
   "execution_count": 28,
   "metadata": {},
   "outputs": [
    {
     "name": "stderr",
     "output_type": "stream",
     "text": [
      "/var/folders/zc/64yfk3l16nl3_zq6lr9yl6km0000gn/T/ipykernel_59473/3113688847.py:16: FutureWarning: \n",
      "\n",
      "Passing `palette` without assigning `hue` is deprecated and will be removed in v0.14.0. Assign the `y` variable to `hue` and set `legend=False` for the same effect.\n",
      "\n",
      "  sns.barplot(data=avg_trips, x='Trips_Per_Year', y='TravelMotives', palette='viridis')\n"
     ]
    },
    {
     "data": {
      "image/png": "[encoded data removed]",
      "text/plain": [
       "<Figure size 1400x800 with 1 Axes>"
      ]
     },
     "metadata": {},
     "output_type": "display_data"
    }
   ],
   "source": [
    "# Filter data for 'Population 6 years or older' and 'The Netherlands' and 'Value' margin\n",
    "filtered_trips = clean_data[\n",
    "    (clean_data['Population'] == 'Population 6 years or older') &\n",
    "    (clean_data['RegionCharacteristics'] == 'The Netherlands') &\n",
    "    (clean_data['Margins'] == 'Value')\n",
    "]\n",
    "\n",
    "# Group by Travel Motive and calculate average trips per year\n",
    "avg_trips = filtered_trips.groupby('TravelMotives')['Trips_Per_Year'].mean().reset_index()\n",
    "\n",
    "# Sort the data for better visualization\n",
    "avg_trips.sort_values('Trips_Per_Year', inplace=True, ascending=False)\n",
    "\n",
    "# Plotting\n",
    "plt.figure(figsize=(14, 8))\n",
    "sns.barplot(data=avg_trips, x='Trips_Per_Year', y='TravelMotives', palette='viridis')\n",
    "plt.title('Average Number of Trips per Person per Year by Travel Motive')\n",
    "plt.xlabel('Average Trips per Year')\n",
    "plt.ylabel('Travel Motive')\n",
    "plt.tight_layout()\n",
    "plt.show()\n"
   ]
  },
  {
   "cell_type": "code",
   "execution_count": 29,
   "metadata": {},
   "outputs": [
    {
     "name": "stderr",
     "output_type": "stream",
     "text": [
      "/var/folders/zc/64yfk3l16nl3_zq6lr9yl6km0000gn/T/ipykernel_59473/2551151558.py:20: FutureWarning: \n",
      "\n",
      "Passing `palette` without assigning `hue` is deprecated and will be removed in v0.14.0. Assign the `y` variable to `hue` and set `legend=False` for the same effect.\n",
      "\n",
      "  sns.barplot(data=avg_distance, x='Distance_Travelled_PassengerKm_Per_Year', y='TravelModes', palette='magma')\n"
     ]
    },
    {
     "data": {
      "image/png": "[encoded data removed]",
      "text/plain": [
       "<Figure size 1400x800 with 1 Axes>"
      ]
     },
     "metadata": {},
     "output_type": "display_data"
    }
   ],
   "source": [
    "# Filter data for 'Total' travel motives and 'Total' travel modes\n",
    "filtered_distance = clean_data[\n",
    "    (clean_data['Population'] == 'Population 6 years or older') &\n",
    "    (clean_data['TravelMotives'] == 'Total') &\n",
    "    (clean_data['RegionCharacteristics'] == 'The Netherlands') &\n",
    "    (clean_data['Margins'] == 'Value')\n",
    "]\n",
    "\n",
    "# Group by Travel Mode and calculate average distance\n",
    "avg_distance = filtered_distance.groupby('TravelModes')['Distance_Travelled_PassengerKm_Per_Year'].mean().reset_index()\n",
    "\n",
    "# Remove 'Total' from Travel Modes if present\n",
    "avg_distance = avg_distance[avg_distance['TravelModes'] != 'Total']\n",
    "\n",
    "# Sort the data\n",
    "avg_distance.sort_values('Distance_Travelled_PassengerKm_Per_Year', inplace=True, ascending=False)\n",
    "\n",
    "# Plotting\n",
    "plt.figure(figsize=(14, 8))\n",
    "sns.barplot(data=avg_distance, x='Distance_Travelled_PassengerKm_Per_Year', y='TravelModes', palette='magma')\n",
    "plt.title('Average Distance Travelled per Person per Year by Travel Mode')\n",
    "plt.xlabel('Average Distance (Passenger Kilometers per Year)')\n",
    "plt.ylabel('Travel Mode')\n",
    "plt.tight_layout()\n",
    "plt.show()\n"
   ]
  },
  {
   "cell_type": "code",
   "execution_count": 30,
   "metadata": {},
   "outputs": [
    {
     "data": {
      "image/png": "[encoded data removed]",
      "text/plain": [
       "<Figure size 1000x600 with 1 Axes>"
      ]
     },
     "metadata": {},
     "output_type": "display_data"
    }
   ],
   "source": [
    "# Filter data for 'Total' travel motives and 'Total' travel modes\n",
    "trend_data = clean_data[\n",
    "    (clean_data['TravelMotives'] == 'Total') &\n",
    "    (clean_data['TravelModes'] == 'Total') &\n",
    "    (clean_data['Population'] == 'Population 6 years or older') &\n",
    "    (clean_data['RegionCharacteristics'] == 'The Netherlands') &\n",
    "    (clean_data['Margins'] == 'Value')\n",
    "]\n",
    "\n",
    "# Group by Period and calculate average distance\n",
    "distance_trend = trend_data.groupby('Period')['Distance_Travelled_PassengerKm_Per_Year'].mean().reset_index()\n",
    "\n",
    "# Sort by Period\n",
    "distance_trend['Period'] = distance_trend['Period'].astype(int)\n",
    "distance_trend.sort_values('Period', inplace=True)\n",
    "\n",
    "# Plotting\n",
    "plt.figure(figsize=(10, 6))\n",
    "sns.lineplot(data=distance_trend, x='Period', y='Distance_Travelled_PassengerKm_Per_Year', marker='o')\n",
    "plt.title('Trend of Average Distance Travelled per Person per Year')\n",
    "plt.xlabel('Year')\n",
    "plt.ylabel('Average Distance (Passenger Kilometers per Year)')\n",
    "plt.tight_layout()\n",
    "plt.show()\n"
   ]
  },
  {
   "cell_type": "code",
   "execution_count": 31,
   "metadata": {},
   "outputs": [
    {
     "name": "stderr",
     "output_type": "stream",
     "text": [
      "/var/folders/zc/64yfk3l16nl3_zq6lr9yl6km0000gn/T/ipykernel_59473/3788717328.py:9: FutureWarning: \n",
      "\n",
      "Passing `palette` without assigning `hue` is deprecated and will be removed in v0.14.0. Assign the `y` variable to `hue` and set `legend=False` for the same effect.\n",
      "\n",
      "  sns.barplot(data=avg_time, x='Time_Travelled_Hours_Per_Year', y='TravelMotives', palette='coolwarm')\n"
     ]
    },
    {
     "data": {
      "image/png": "[encoded data removed]",
      "text/plain": [
       "<Figure size 1400x800 with 1 Axes>"
      ]
     },
     "metadata": {},
     "output_type": "display_data"
    }
   ],
   "source": [
    "# Group by Travel Motive and calculate average time travelled per year\n",
    "avg_time = filtered_trips.groupby('TravelMotives')['Time_Travelled_Hours_Per_Year'].mean().reset_index()\n",
    "\n",
    "# Sort the data\n",
    "avg_time.sort_values('Time_Travelled_Hours_Per_Year', inplace=True, ascending=False)\n",
    "\n",
    "# Plotting\n",
    "plt.figure(figsize=(14, 8))\n",
    "sns.barplot(data=avg_time, x='Time_Travelled_Hours_Per_Year', y='TravelMotives', palette='coolwarm')\n",
    "plt.title('Average Time Travelled per Person per Year by Travel Motive')\n",
    "plt.xlabel('Average Time (Hours per Year)')\n",
    "plt.ylabel('Travel Motive')\n",
    "plt.tight_layout()\n",
    "plt.show()\n"
   ]
  },
  {
   "cell_type": "code",
   "execution_count": 32,
   "metadata": {},
   "outputs": [
    {
     "name": "stderr",
     "output_type": "stream",
     "text": [
      "/var/folders/zc/64yfk3l16nl3_zq6lr9yl6km0000gn/T/ipykernel_59473/3216102441.py:30: FutureWarning: \n",
      "\n",
      "Passing `palette` without assigning `hue` is deprecated and will be removed in v0.14.0. Assign the `y` variable to `hue` and set `legend=False` for the same effect.\n",
      "\n",
      "  sns.barplot(data=avg_urban_trips, x='Trips_Per_Year', y='RegionCharacteristics', palette='pastel')\n"
     ]
    },
    {
     "data": {
      "image/png": "[encoded data removed]",
      "text/plain": [
       "<Figure size 1400x800 with 1 Axes>"
      ]
     },
     "metadata": {},
     "output_type": "display_data"
    }
   ],
   "source": [
    "# Filter data for 'Total' travel motives and 'Total' travel modes\n",
    "urban_trips = clean_data[\n",
    "    (clean_data['TravelMotives'] == 'Total') &\n",
    "    (clean_data['TravelModes'] == 'Total') &\n",
    "    (clean_data['Population'] == 'Population 6 years or older') &\n",
    "    (clean_data['Margins'] == 'Value') &\n",
    "    (clean_data['RegionCharacteristics'].isin([\n",
    "        'Extremely urbanised',\n",
    "        'Strongly urbanised',\n",
    "        'Moderately urbanised',\n",
    "        'Hardly urbanised',\n",
    "        'Not urbanised'\n",
    "    ]))\n",
    "]\n",
    "\n",
    "# Group by Urbanization Level and calculate average trips per year\n",
    "avg_urban_trips = urban_trips.groupby('RegionCharacteristics')['Trips_Per_Year'].mean().reset_index()\n",
    "\n",
    "# Define the order of urbanization levels for plotting\n",
    "urban_order = ['Not urbanised', 'Hardly urbanised', 'Moderately urbanised', 'Strongly urbanised', 'Extremely urbanised']\n",
    "avg_urban_trips['RegionCharacteristics'] = pd.Categorical(\n",
    "    avg_urban_trips['RegionCharacteristics'],\n",
    "    categories=urban_order,\n",
    "    ordered=True\n",
    ")\n",
    "avg_urban_trips.sort_values('RegionCharacteristics', inplace=True)\n",
    "\n",
    "# Plotting\n",
    "plt.figure(figsize=(14, 8))\n",
    "sns.barplot(data=avg_urban_trips, x='Trips_Per_Year', y='RegionCharacteristics', palette='pastel')\n",
    "plt.title('Average Number of Trips per Person per Year by Urbanization Level')\n",
    "plt.xlabel('Average Trips per Year')\n",
    "plt.ylabel('Urbanization Level')\n",
    "plt.tight_layout()\n",
    "plt.show()\n"
   ]
  },
  {
   "cell_type": "code",
   "execution_count": 171,
   "metadata": {},
   "outputs": [
    {
     "name": "stderr",
     "output_type": "stream",
     "text": [
      "/var/folders/zc/64yfk3l16nl3_zq6lr9yl6km0000gn/T/ipykernel_59473/1686577585.py:14: FutureWarning: \n",
      "\n",
      "Passing `palette` without assigning `hue` is deprecated and will be removed in v0.14.0. Assign the `y` variable to `hue` and set `legend=False` for the same effect.\n",
      "\n",
      "  sns.barplot(data=avg_urban_distance, x='Distance_Travelled_PassengerKm_Per_Year', y='RegionCharacteristics', palette='Blues_d')\n"
     ]
    },
    {
     "data": {
      "image/png": "[encoded data removed]",
      "text/plain": [
       "<Figure size 1400x800 with 1 Axes>"
      ]
     },
     "metadata": {},
     "output_type": "display_data"
    }
   ],
   "source": [
    "# Group by Urbanization Level and calculate average distance per year\n",
    "avg_urban_distance = urban_trips.groupby('RegionCharacteristics')['Distance_Travelled_PassengerKm_Per_Year'].mean().reset_index()\n",
    "\n",
    "# Ensure the order is maintained\n",
    "avg_urban_distance['RegionCharacteristics'] = pd.Categorical(\n",
    "    avg_urban_distance['RegionCharacteristics'],\n",
    "    categories=urban_order,\n",
    "    ordered=True\n",
    ")\n",
    "avg_urban_distance.sort_values('RegionCharacteristics', inplace=True)\n",
    "\n",
    "# Plotting\n",
    "plt.figure(figsize=(14, 8))\n",
    "sns.barplot(data=avg_urban_distance, x='Distance_Travelled_PassengerKm_Per_Year', y='RegionCharacteristics', palette='Blues_d')\n",
    "plt.title('Average Distance Travelled per Person per Year by Urbanization Level')\n",
    "plt.xlabel('Average Distance (Passenger Kilometers per Year)')\n",
    "plt.ylabel('Urbanization Level')\n",
    "plt.tight_layout()\n",
    "plt.show()\n"
   ]
  },
  {
   "cell_type": "code",
   "execution_count": 34,
   "metadata": {},
   "outputs": [
    {
     "name": "stdout",
     "output_type": "stream",
     "text": [
      "Cleaned data saved to 'named_clean_mobility_data.csv'.\n"
     ]
    }
   ],
   "source": [
    "# Define the path for the cleaned data\n",
    "clean_file_path = 'named_clean_mobility_data.csv'\n",
    "\n",
    "# Save the cleaned data to CSV\n",
    "clean_data.to_csv(clean_file_path, index=False)\n",
    "print(f\"Cleaned data saved to '{clean_file_path}'.\")\n"
   ]
  },
  {
   "cell_type": "code",
   "execution_count": 35,
   "metadata": {},
   "outputs": [
    {
     "name": "stdout",
     "output_type": "stream",
     "text": [
      "Named data saved to 'values_named_clean_mobility_data.csv'.\n"
     ]
    }
   ],
   "source": [
    "# Replace 'value' with the specific value you're looking for\n",
    "value_clean_data = clean_data[clean_data['Margins'] == 'Value']\n",
    "\n",
    "# Define the path for the named data\n",
    "value_cleaned_named_file_path = 'values_named_clean_mobility_data.csv'\n",
    "\n",
    "# Save the named data to CSV\n",
    "value_clean_data.to_csv(value_cleaned_named_file_path, index=False)\n",
    "print(f\"Named data saved to '{value_cleaned_named_file_path}'.\")"
   ]
  },
  {
   "cell_type": "code",
   "execution_count": 56,
   "metadata": {},
   "outputs": [
    {
     "data": {
      "application/vnd.plotly.v1+json": {
       "config": {
        "plotlyServerURL": "https://plot.ly"
       },
       "data": [
        {
         "alignmentgroup": "True",
         "hovertemplate": "TravelModes=%{y}<br>Distance_Travelled_PassengerKm_Per_Year=%{x}<extra></extra>",
         "legendgroup": "Bike",
         "marker": {
          "color": "#636efa",
          "pattern": {
           "shape": ""
          }
         },
         "name": "Bike",
         "offsetgroup": "Bike",
         "orientation": "h",
         "showlegend": true,
         "textposition": "auto",
         "type": "bar",
         "x": [
          100149
         ],
         "xaxis": "x",
         "y": [
          "Bike"
         ],
         "yaxis": "y"
        },
        {
         "alignmentgroup": "True",
         "hovertemplate": "TravelModes=%{y}<br>Distance_Travelled_PassengerKm_Per_Year=%{x}<extra></extra>",
         "legendgroup": "Bus/tram/metro",
         "marker": {
          "color": "#EF553B",
          "pattern": {
           "shape": ""
          }
         },
         "name": "Bus/tram/metro",
         "offsetgroup": "Bus/tram/metro",
         "orientation": "h",
         "showlegend": true,
         "textposition": "auto",
         "type": "bar",
         "x": [
          22424
         ],
         "xaxis": "x",
         "y": [
          "Bus/tram/metro"
         ],
         "yaxis": "y"
        },
        {
         "alignmentgroup": "True",
         "hovertemplate": "TravelModes=%{y}<br>Distance_Travelled_PassengerKm_Per_Year=%{x}<extra></extra>",
         "legendgroup": "Other",
         "marker": {
          "color": "#00cc96",
          "pattern": {
           "shape": ""
          }
         },
         "name": "Other",
         "offsetgroup": "Other",
         "orientation": "h",
         "showlegend": true,
         "textposition": "auto",
         "type": "bar",
         "x": [
          60427
         ],
         "xaxis": "x",
         "y": [
          "Other"
         ],
         "yaxis": "y"
        },
        {
         "alignmentgroup": "True",
         "hovertemplate": "TravelModes=%{y}<br>Distance_Travelled_PassengerKm_Per_Year=%{x}<extra></extra>",
         "legendgroup": "Passenger car (driver)",
         "marker": {
          "color": "#ab63fa",
          "pattern": {
           "shape": ""
          }
         },
         "name": "Passenger car (driver)",
         "offsetgroup": "Passenger car (driver)",
         "orientation": "h",
         "showlegend": true,
         "textposition": "auto",
         "type": "bar",
         "x": [
          616249
         ],
         "xaxis": "x",
         "y": [
          "Passenger car (driver)"
         ],
         "yaxis": "y"
        },
        {
         "alignmentgroup": "True",
         "hovertemplate": "TravelModes=%{y}<br>Distance_Travelled_PassengerKm_Per_Year=%{x}<extra></extra>",
         "legendgroup": "Passenger car (passenger)",
         "marker": {
          "color": "#FFA15A",
          "pattern": {
           "shape": ""
          }
         },
         "name": "Passenger car (passenger)",
         "offsetgroup": "Passenger car (passenger)",
         "orientation": "h",
         "showlegend": true,
         "textposition": "auto",
         "type": "bar",
         "x": [
          196620
         ],
         "xaxis": "x",
         "y": [
          "Passenger car (passenger)"
         ],
         "yaxis": "y"
        },
        {
         "alignmentgroup": "True",
         "hovertemplate": "TravelModes=%{y}<br>Distance_Travelled_PassengerKm_Per_Year=%{x}<extra></extra>",
         "legendgroup": "Total",
         "marker": {
          "color": "#19d3f3",
          "pattern": {
           "shape": ""
          }
         },
         "name": "Total",
         "offsetgroup": "Total",
         "orientation": "h",
         "showlegend": true,
         "textposition": "auto",
         "type": "bar",
         "x": [
          1210510
         ],
         "xaxis": "x",
         "y": [
          "Total"
         ],
         "yaxis": "y"
        },
        {
         "alignmentgroup": "True",
         "hovertemplate": "TravelModes=%{y}<br>Distance_Travelled_PassengerKm_Per_Year=%{x}<extra></extra>",
         "legendgroup": "Train",
         "marker": {
          "color": "#FF6692",
          "pattern": {
           "shape": ""
          }
         },
         "name": "Train",
         "offsetgroup": "Train",
         "orientation": "h",
         "showlegend": true,
         "textposition": "auto",
         "type": "bar",
         "x": [
          92643
         ],
         "xaxis": "x",
         "y": [
          "Train"
         ],
         "yaxis": "y"
        },
        {
         "alignmentgroup": "True",
         "hovertemplate": "TravelModes=%{y}<br>Distance_Travelled_PassengerKm_Per_Year=%{x}<extra></extra>",
         "legendgroup": "Walking",
         "marker": {
          "color": "#B6E880",
          "pattern": {
           "shape": ""
          }
         },
         "name": "Walking",
         "offsetgroup": "Walking",
         "orientation": "h",
         "showlegend": true,
         "textposition": "auto",
         "type": "bar",
         "x": [
          26250
         ],
         "xaxis": "x",
         "y": [
          "Walking"
         ],
         "yaxis": "y"
        }
       ],
       "layout": {
        "barmode": "relative",
        "legend": {
         "title": {
          "text": "TravelModes"
         },
         "tracegroupgap": 0
        },
        "margin": {
         "t": 60
        },
        "template": {
         "data": {
          "bar": [
           {
            "error_x": {
             "color": "#2a3f5f"
            },
            "error_y": {
             "color": "#2a3f5f"
            },
            "marker": {
             "line": {
              "color": "#E5ECF6",
              "width": 0.5
             },
             "pattern": {
              "fillmode": "overlay",
              "size": 10,
              "solidity": 0.2
             }
            },
            "type": "bar"
           }
          ],
          "barpolar": [
           {
            "marker": {
             "line": {
              "color": "#E5ECF6",
              "width": 0.5
             },
             "pattern": {
              "fillmode": "overlay",
              "size": 10,
              "solidity": 0.2
             }
            },
            "type": "barpolar"
           }
          ],
          "carpet": [
           {
            "aaxis": {
             "endlinecolor": "#2a3f5f",
             "gridcolor": "white",
             "linecolor": "white",
             "minorgridcolor": "white",
             "startlinecolor": "#2a3f5f"
            },
            "baxis": {
             "endlinecolor": "#2a3f5f",
             "gridcolor": "white",
             "linecolor": "white",
             "minorgridcolor": "white",
             "startlinecolor": "#2a3f5f"
            },
            "type": "carpet"
           }
          ],
          "choropleth": [
           {
            "colorbar": {
             "outlinewidth": 0,
             "ticks": ""
            },
            "type": "choropleth"
           }
          ],
          "contour": [
           {
            "colorbar": {
             "outlinewidth": 0,
             "ticks": ""
            },
            "colorscale": [
             [
              0,
              "#0d0887"
             ],
             [
              0.1111111111111111,
              "#46039f"
             ],
             [
              0.2222222222222222,
              "#7201a8"
             ],
             [
              0.3333333333333333,
              "#9c179e"
             ],
             [
              0.4444444444444444,
              "#bd3786"
             ],
             [
              0.5555555555555556,
              "#d8576b"
             ],
             [
              0.6666666666666666,
              "#ed7953"
             ],
             [
              0.7777777777777778,
              "#fb9f3a"
             ],
             [
              0.8888888888888888,
              "#fdca26"
             ],
             [
              1,
              "#f0f921"
             ]
            ],
            "type": "contour"
           }
          ],
          "contourcarpet": [
           {
            "colorbar": {
             "outlinewidth": 0,
             "ticks": ""
            },
            "type": "contourcarpet"
           }
          ],
          "heatmap": [
           {
            "colorbar": {
             "outlinewidth": 0,
             "ticks": ""
            },
            "colorscale": [
             [
              0,
              "#0d0887"
             ],
             [
              0.1111111111111111,
              "#46039f"
             ],
             [
              0.2222222222222222,
              "#7201a8"
             ],
             [
              0.3333333333333333,
              "#9c179e"
             ],
             [
              0.4444444444444444,
              "#bd3786"
             ],
             [
              0.5555555555555556,
              "#d8576b"
             ],
             [
              0.6666666666666666,
              "#ed7953"
             ],
             [
              0.7777777777777778,
              "#fb9f3a"
             ],
             [
              0.8888888888888888,
              "#fdca26"
             ],
             [
              1,
              "#f0f921"
             ]
            ],
            "type": "heatmap"
           }
          ],
          "heatmapgl": [
           {
            "colorbar": {
             "outlinewidth": 0,
             "ticks": ""
            },
            "colorscale": [
             [
              0,
              "#0d0887"
             ],
             [
              0.1111111111111111,
              "#46039f"
             ],
             [
              0.2222222222222222,
              "#7201a8"
             ],
             [
              0.3333333333333333,
              "#9c179e"
             ],
             [
              0.4444444444444444,
              "#bd3786"
             ],
             [
              0.5555555555555556,
              "#d8576b"
             ],
             [
              0.6666666666666666,
              "#ed7953"
             ],
             [
              0.7777777777777778,
              "#fb9f3a"
             ],
             [
              0.8888888888888888,
              "#fdca26"
             ],
             [
              1,
              "#f0f921"
             ]
            ],
            "type": "heatmapgl"
           }
          ],
          "histogram": [
           {
            "marker": {
             "pattern": {
              "fillmode": "overlay",
              "size": 10,
              "solidity": 0.2
             }
            },
            "type": "histogram"
           }
          ],
          "histogram2d": [
           {
            "colorbar": {
             "outlinewidth": 0,
             "ticks": ""
            },
            "colorscale": [
             [
              0,
              "#0d0887"
             ],
             [
              0.1111111111111111,
              "#46039f"
             ],
             [
              0.2222222222222222,
              "#7201a8"
             ],
             [
              0.3333333333333333,
              "#9c179e"
             ],
             [
              0.4444444444444444,
              "#bd3786"
             ],
             [
              0.5555555555555556,
              "#d8576b"
             ],
             [
              0.6666666666666666,
              "#ed7953"
             ],
             [
              0.7777777777777778,
              "#fb9f3a"
             ],
             [
              0.8888888888888888,
              "#fdca26"
             ],
             [
              1,
              "#f0f921"
             ]
            ],
            "type": "histogram2d"
           }
          ],
          "histogram2dcontour": [
           {
            "colorbar": {
             "outlinewidth": 0,
             "ticks": ""
            },
            "colorscale": [
             [
              0,
              "#0d0887"
             ],
             [
              0.1111111111111111,
              "#46039f"
             ],
             [
              0.2222222222222222,
              "#7201a8"
             ],
             [
              0.3333333333333333,
              "#9c179e"
             ],
             [
              0.4444444444444444,
              "#bd3786"
             ],
             [
              0.5555555555555556,
              "#d8576b"
             ],
             [
              0.6666666666666666,
              "#ed7953"
             ],
             [
              0.7777777777777778,
              "#fb9f3a"
             ],
             [
              0.8888888888888888,
              "#fdca26"
             ],
             [
              1,
              "#f0f921"
             ]
            ],
            "type": "histogram2dcontour"
           }
          ],
          "mesh3d": [
           {
            "colorbar": {
             "outlinewidth": 0,
             "ticks": ""
            },
            "type": "mesh3d"
           }
          ],
          "parcoords": [
           {
            "line": {
             "colorbar": {
              "outlinewidth": 0,
              "ticks": ""
             }
            },
            "type": "parcoords"
           }
          ],
          "pie": [
           {
            "automargin": true,
            "type": "pie"
           }
          ],
          "scatter": [
           {
            "fillpattern": {
             "fillmode": "overlay",
             "size": 10,
             "solidity": 0.2
            },
            "type": "scatter"
           }
          ],
          "scatter3d": [
           {
            "line": {
             "colorbar": {
              "outlinewidth": 0,
              "ticks": ""
             }
            },
            "marker": {
             "colorbar": {
              "outlinewidth": 0,
              "ticks": ""
             }
            },
            "type": "scatter3d"
           }
          ],
          "scattercarpet": [
           {
            "marker": {
             "colorbar": {
              "outlinewidth": 0,
              "ticks": ""
             }
            },
            "type": "scattercarpet"
           }
          ],
          "scattergeo": [
           {
            "marker": {
             "colorbar": {
              "outlinewidth": 0,
              "ticks": ""
             }
            },
            "type": "scattergeo"
           }
          ],
          "scattergl": [
           {
            "marker": {
             "colorbar": {
              "outlinewidth": 0,
              "ticks": ""
             }
            },
            "type": "scattergl"
           }
          ],
          "scattermapbox": [
           {
            "marker": {
             "colorbar": {
              "outlinewidth": 0,
              "ticks": ""
             }
            },
            "type": "scattermapbox"
           }
          ],
          "scatterpolar": [
           {
            "marker": {
             "colorbar": {
              "outlinewidth": 0,
              "ticks": ""
             }
            },
            "type": "scatterpolar"
           }
          ],
          "scatterpolargl": [
           {
            "marker": {
             "colorbar": {
              "outlinewidth": 0,
              "ticks": ""
             }
            },
            "type": "scatterpolargl"
           }
          ],
          "scatterternary": [
           {
            "marker": {
             "colorbar": {
              "outlinewidth": 0,
              "ticks": ""
             }
            },
            "type": "scatterternary"
           }
          ],
          "surface": [
           {
            "colorbar": {
             "outlinewidth": 0,
             "ticks": ""
            },
            "colorscale": [
             [
              0,
              "#0d0887"
             ],
             [
              0.1111111111111111,
              "#46039f"
             ],
             [
              0.2222222222222222,
              "#7201a8"
             ],
             [
              0.3333333333333333,
              "#9c179e"
             ],
             [
              0.4444444444444444,
              "#bd3786"
             ],
             [
              0.5555555555555556,
              "#d8576b"
             ],
             [
              0.6666666666666666,
              "#ed7953"
             ],
             [
              0.7777777777777778,
              "#fb9f3a"
             ],
             [
              0.8888888888888888,
              "#fdca26"
             ],
             [
              1,
              "#f0f921"
             ]
            ],
            "type": "surface"
           }
          ],
          "table": [
           {
            "cells": {
             "fill": {
              "color": "#EBF0F8"
             },
             "line": {
              "color": "white"
             }
            },
            "header": {
             "fill": {
              "color": "#C8D4E3"
             },
             "line": {
              "color": "white"
             }
            },
            "type": "table"
           }
          ]
         },
         "layout": {
          "annotationdefaults": {
           "arrowcolor": "#2a3f5f",
           "arrowhead": 0,
           "arrowwidth": 1
          },
          "autotypenumbers": "strict",
          "coloraxis": {
           "colorbar": {
            "outlinewidth": 0,
            "ticks": ""
           }
          },
          "colorscale": {
           "diverging": [
            [
             0,
             "#8e0152"
            ],
            [
             0.1,
             "#c51b7d"
            ],
            [
             0.2,
             "#de77ae"
            ],
            [
             0.3,
             "#f1b6da"
            ],
            [
             0.4,
             "#fde0ef"
            ],
            [
             0.5,
             "#f7f7f7"
            ],
            [
             0.6,
             "#e6f5d0"
            ],
            [
             0.7,
             "#b8e186"
            ],
            [
             0.8,
             "#7fbc41"
            ],
            [
             0.9,
             "#4d9221"
            ],
            [
             1,
             "#276419"
            ]
           ],
           "sequential": [
            [
             0,
             "#0d0887"
            ],
            [
             0.1111111111111111,
             "#46039f"
            ],
            [
             0.2222222222222222,
             "#7201a8"
            ],
            [
             0.3333333333333333,
             "#9c179e"
            ],
            [
             0.4444444444444444,
             "#bd3786"
            ],
            [
             0.5555555555555556,
             "#d8576b"
            ],
            [
             0.6666666666666666,
             "#ed7953"
            ],
            [
             0.7777777777777778,
             "#fb9f3a"
            ],
            [
             0.8888888888888888,
             "#fdca26"
            ],
            [
             1,
             "#f0f921"
            ]
           ],
           "sequentialminus": [
            [
             0,
             "#0d0887"
            ],
            [
             0.1111111111111111,
             "#46039f"
            ],
            [
             0.2222222222222222,
             "#7201a8"
            ],
            [
             0.3333333333333333,
             "#9c179e"
            ],
            [
             0.4444444444444444,
             "#bd3786"
            ],
            [
             0.5555555555555556,
             "#d8576b"
            ],
            [
             0.6666666666666666,
             "#ed7953"
            ],
            [
             0.7777777777777778,
             "#fb9f3a"
            ],
            [
             0.8888888888888888,
             "#fdca26"
            ],
            [
             1,
             "#f0f921"
            ]
           ]
          },
          "colorway": [
           "#636efa",
           "#EF553B",
           "#00cc96",
           "#ab63fa",
           "#FFA15A",
           "#19d3f3",
           "#FF6692",
           "#B6E880",
           "#FF97FF",
           "#FECB52"
          ],
          "font": {
           "color": "#2a3f5f"
          },
          "geo": {
           "bgcolor": "white",
           "lakecolor": "white",
           "landcolor": "#E5ECF6",
           "showlakes": true,
           "showland": true,
           "subunitcolor": "white"
          },
          "hoverlabel": {
           "align": "left"
          },
          "hovermode": "closest",
          "mapbox": {
           "style": "light"
          },
          "paper_bgcolor": "white",
          "plot_bgcolor": "#E5ECF6",
          "polar": {
           "angularaxis": {
            "gridcolor": "white",
            "linecolor": "white",
            "ticks": ""
           },
           "bgcolor": "#E5ECF6",
           "radialaxis": {
            "gridcolor": "white",
            "linecolor": "white",
            "ticks": ""
           }
          },
          "scene": {
           "xaxis": {
            "backgroundcolor": "#E5ECF6",
            "gridcolor": "white",
            "gridwidth": 2,
            "linecolor": "white",
            "showbackground": true,
            "ticks": "",
            "zerolinecolor": "white"
           },
           "yaxis": {
            "backgroundcolor": "#E5ECF6",
            "gridcolor": "white",
            "gridwidth": 2,
            "linecolor": "white",
            "showbackground": true,
            "ticks": "",
            "zerolinecolor": "white"
           },
           "zaxis": {
            "backgroundcolor": "#E5ECF6",
            "gridcolor": "white",
            "gridwidth": 2,
            "linecolor": "white",
            "showbackground": true,
            "ticks": "",
            "zerolinecolor": "white"
           }
          },
          "shapedefaults": {
           "line": {
            "color": "#2a3f5f"
           }
          },
          "ternary": {
           "aaxis": {
            "gridcolor": "white",
            "linecolor": "white",
            "ticks": ""
           },
           "baxis": {
            "gridcolor": "white",
            "linecolor": "white",
            "ticks": ""
           },
           "bgcolor": "#E5ECF6",
           "caxis": {
            "gridcolor": "white",
            "linecolor": "white",
            "ticks": ""
           }
          },
          "title": {
           "x": 0.05
          },
          "xaxis": {
           "automargin": true,
           "gridcolor": "white",
           "linecolor": "white",
           "ticks": "",
           "title": {
            "standoff": 15
           },
           "zerolinecolor": "white",
           "zerolinewidth": 2
          },
          "yaxis": {
           "automargin": true,
           "gridcolor": "white",
           "linecolor": "white",
           "ticks": "",
           "title": {
            "standoff": 15
           },
           "zerolinecolor": "white",
           "zerolinewidth": 2
          }
         }
        },
        "xaxis": {
         "anchor": "y",
         "domain": [
          0,
          1
         ],
         "title": {
          "text": "Distance_Travelled_PassengerKm_Per_Year"
         }
        },
        "yaxis": {
         "anchor": "x",
         "categoryarray": [
          "Walking",
          "Train",
          "Total",
          "Passenger car (passenger)",
          "Passenger car (driver)",
          "Other",
          "Bus/tram/metro",
          "Bike"
         ],
         "categoryorder": "array",
         "domain": [
          0,
          1
         ],
         "title": {
          "text": "TravelModes"
         }
        }
       }
      }
     },
     "metadata": {},
     "output_type": "display_data"
    }
   ],
   "source": [
    "import plotly_express as px\n",
    "\n",
    "travel_2018 = value_clean_data[value_clean_data['Period'] == '2018']\n",
    "\n",
    "travelmode_2018 = travel_2018.groupby('TravelModes')\n",
    "sumtravelmode_2018 = travelmode_2018['Distance_Travelled_PassengerKm_Per_Year'].sum().reset_index()\n",
    "fig = px.bar(data_frame=sumtravelmode_2018,\n",
    "              x = 'Distance_Travelled_PassengerKm_Per_Year',\n",
    "              y = 'TravelModes',\n",
    "              color = 'TravelModes')\n",
    "fig.show()\n"
   ]
  },
  {
   "cell_type": "code",
   "execution_count": 58,
   "metadata": {},
   "outputs": [
    {
     "data": {
      "application/vnd.plotly.v1+json": {
       "config": {
        "plotlyServerURL": "https://plot.ly"
       },
       "data": [
        {
         "alignmentgroup": "True",
         "hovertemplate": "TravelModes=%{y}<br>Period=2018<br>Distance_Travelled_PassengerKm_Per_Year=%{x}<extra></extra>",
         "legendgroup": "Bike",
         "marker": {
          "color": "#636efa",
          "pattern": {
           "shape": ""
          }
         },
         "name": "Bike",
         "offsetgroup": "Bike",
         "orientation": "h",
         "showlegend": true,
         "textposition": "auto",
         "type": "bar",
         "x": [
          100149
         ],
         "xaxis": "x",
         "y": [
          "Bike"
         ],
         "yaxis": "y"
        },
        {
         "alignmentgroup": "True",
         "hovertemplate": "TravelModes=%{y}<br>Period=2018<br>Distance_Travelled_PassengerKm_Per_Year=%{x}<extra></extra>",
         "legendgroup": "Bus/tram/metro",
         "marker": {
          "color": "#EF553B",
          "pattern": {
           "shape": ""
          }
         },
         "name": "Bus/tram/metro",
         "offsetgroup": "Bus/tram/metro",
         "orientation": "h",
         "showlegend": true,
         "textposition": "auto",
         "type": "bar",
         "x": [
          22424
         ],
         "xaxis": "x",
         "y": [
          "Bus/tram/metro"
         ],
         "yaxis": "y"
        },
        {
         "alignmentgroup": "True",
         "hovertemplate": "TravelModes=%{y}<br>Period=2018<br>Distance_Travelled_PassengerKm_Per_Year=%{x}<extra></extra>",
         "legendgroup": "Other",
         "marker": {
          "color": "#00cc96",
          "pattern": {
           "shape": ""
          }
         },
         "name": "Other",
         "offsetgroup": "Other",
         "orientation": "h",
         "showlegend": true,
         "textposition": "auto",
         "type": "bar",
         "x": [
          60427
         ],
         "xaxis": "x",
         "y": [
          "Other"
         ],
         "yaxis": "y"
        },
        {
         "alignmentgroup": "True",
         "hovertemplate": "TravelModes=%{y}<br>Period=2018<br>Distance_Travelled_PassengerKm_Per_Year=%{x}<extra></extra>",
         "legendgroup": "Passenger car (driver)",
         "marker": {
          "color": "#ab63fa",
          "pattern": {
           "shape": ""
          }
         },
         "name": "Passenger car (driver)",
         "offsetgroup": "Passenger car (driver)",
         "orientation": "h",
         "showlegend": true,
         "textposition": "auto",
         "type": "bar",
         "x": [
          616249
         ],
         "xaxis": "x",
         "y": [
          "Passenger car (driver)"
         ],
         "yaxis": "y"
        },
        {
         "alignmentgroup": "True",
         "hovertemplate": "TravelModes=%{y}<br>Period=2018<br>Distance_Travelled_PassengerKm_Per_Year=%{x}<extra></extra>",
         "legendgroup": "Passenger car (passenger)",
         "marker": {
          "color": "#FFA15A",
          "pattern": {
           "shape": ""
          }
         },
         "name": "Passenger car (passenger)",
         "offsetgroup": "Passenger car (passenger)",
         "orientation": "h",
         "showlegend": true,
         "textposition": "auto",
         "type": "bar",
         "x": [
          196620
         ],
         "xaxis": "x",
         "y": [
          "Passenger car (passenger)"
         ],
         "yaxis": "y"
        },
        {
         "alignmentgroup": "True",
         "hovertemplate": "TravelModes=%{y}<br>Period=2018<br>Distance_Travelled_PassengerKm_Per_Year=%{x}<extra></extra>",
         "legendgroup": "Total",
         "marker": {
          "color": "#19d3f3",
          "pattern": {
           "shape": ""
          }
         },
         "name": "Total",
         "offsetgroup": "Total",
         "orientation": "h",
         "showlegend": true,
         "textposition": "auto",
         "type": "bar",
         "x": [
          1210510
         ],
         "xaxis": "x",
         "y": [
          "Total"
         ],
         "yaxis": "y"
        },
        {
         "alignmentgroup": "True",
         "hovertemplate": "TravelModes=%{y}<br>Period=2018<br>Distance_Travelled_PassengerKm_Per_Year=%{x}<extra></extra>",
         "legendgroup": "Train",
         "marker": {
          "color": "#FF6692",
          "pattern": {
           "shape": ""
          }
         },
         "name": "Train",
         "offsetgroup": "Train",
         "orientation": "h",
         "showlegend": true,
         "textposition": "auto",
         "type": "bar",
         "x": [
          92643
         ],
         "xaxis": "x",
         "y": [
          "Train"
         ],
         "yaxis": "y"
        },
        {
         "alignmentgroup": "True",
         "hovertemplate": "TravelModes=%{y}<br>Period=2018<br>Distance_Travelled_PassengerKm_Per_Year=%{x}<extra></extra>",
         "legendgroup": "Walking",
         "marker": {
          "color": "#B6E880",
          "pattern": {
           "shape": ""
          }
         },
         "name": "Walking",
         "offsetgroup": "Walking",
         "orientation": "h",
         "showlegend": true,
         "textposition": "auto",
         "type": "bar",
         "x": [
          26250
         ],
         "xaxis": "x",
         "y": [
          "Walking"
         ],
         "yaxis": "y"
        }
       ],
       "frames": [
        {
         "data": [
          {
           "alignmentgroup": "True",
           "hovertemplate": "TravelModes=%{y}<br>Period=2018<br>Distance_Travelled_PassengerKm_Per_Year=%{x}<extra></extra>",
           "legendgroup": "Bike",
           "marker": {
            "color": "#636efa",
            "pattern": {
             "shape": ""
            }
           },
           "name": "Bike",
           "offsetgroup": "Bike",
           "orientation": "h",
           "showlegend": true,
           "textposition": "auto",
           "type": "bar",
           "x": [
            100149
           ],
           "xaxis": "x",
           "y": [
            "Bike"
           ],
           "yaxis": "y"
          },
          {
           "alignmentgroup": "True",
           "hovertemplate": "TravelModes=%{y}<br>Period=2018<br>Distance_Travelled_PassengerKm_Per_Year=%{x}<extra></extra>",
           "legendgroup": "Bus/tram/metro",
           "marker": {
            "color": "#EF553B",
            "pattern": {
             "shape": ""
            }
           },
           "name": "Bus/tram/metro",
           "offsetgroup": "Bus/tram/metro",
           "orientation": "h",
           "showlegend": true,
           "textposition": "auto",
           "type": "bar",
           "x": [
            22424
           ],
           "xaxis": "x",
           "y": [
            "Bus/tram/metro"
           ],
           "yaxis": "y"
          },
          {
           "alignmentgroup": "True",
           "hovertemplate": "TravelModes=%{y}<br>Period=2018<br>Distance_Travelled_PassengerKm_Per_Year=%{x}<extra></extra>",
           "legendgroup": "Other",
           "marker": {
            "color": "#00cc96",
            "pattern": {
             "shape": ""
            }
           },
           "name": "Other",
           "offsetgroup": "Other",
           "orientation": "h",
           "showlegend": true,
           "textposition": "auto",
           "type": "bar",
           "x": [
            60427
           ],
           "xaxis": "x",
           "y": [
            "Other"
           ],
           "yaxis": "y"
          },
          {
           "alignmentgroup": "True",
           "hovertemplate": "TravelModes=%{y}<br>Period=2018<br>Distance_Travelled_PassengerKm_Per_Year=%{x}<extra></extra>",
           "legendgroup": "Passenger car (driver)",
           "marker": {
            "color": "#ab63fa",
            "pattern": {
             "shape": ""
            }
           },
           "name": "Passenger car (driver)",
           "offsetgroup": "Passenger car (driver)",
           "orientation": "h",
           "showlegend": true,
           "textposition": "auto",
           "type": "bar",
           "x": [
            616249
           ],
           "xaxis": "x",
           "y": [
            "Passenger car (driver)"
           ],
           "yaxis": "y"
          },
          {
           "alignmentgroup": "True",
           "hovertemplate": "TravelModes=%{y}<br>Period=2018<br>Distance_Travelled_PassengerKm_Per_Year=%{x}<extra></extra>",
           "legendgroup": "Passenger car (passenger)",
           "marker": {
            "color": "#FFA15A",
            "pattern": {
             "shape": ""
            }
           },
           "name": "Passenger car (passenger)",
           "offsetgroup": "Passenger car (passenger)",
           "orientation": "h",
           "showlegend": true,
           "textposition": "auto",
           "type": "bar",
           "x": [
            196620
           ],
           "xaxis": "x",
           "y": [
            "Passenger car (passenger)"
           ],
           "yaxis": "y"
          },
          {
           "alignmentgroup": "True",
           "hovertemplate": "TravelModes=%{y}<br>Period=2018<br>Distance_Travelled_PassengerKm_Per_Year=%{x}<extra></extra>",
           "legendgroup": "Total",
           "marker": {
            "color": "#19d3f3",
            "pattern": {
             "shape": ""
            }
           },
           "name": "Total",
           "offsetgroup": "Total",
           "orientation": "h",
           "showlegend": true,
           "textposition": "auto",
           "type": "bar",
           "x": [
            1210510
           ],
           "xaxis": "x",
           "y": [
            "Total"
           ],
           "yaxis": "y"
          },
          {
           "alignmentgroup": "True",
           "hovertemplate": "TravelModes=%{y}<br>Period=2018<br>Distance_Travelled_PassengerKm_Per_Year=%{x}<extra></extra>",
           "legendgroup": "Train",
           "marker": {
            "color": "#FF6692",
            "pattern": {
             "shape": ""
            }
           },
           "name": "Train",
           "offsetgroup": "Train",
           "orientation": "h",
           "showlegend": true,
           "textposition": "auto",
           "type": "bar",
           "x": [
            92643
           ],
           "xaxis": "x",
           "y": [
            "Train"
           ],
           "yaxis": "y"
          },
          {
           "alignmentgroup": "True",
           "hovertemplate": "TravelModes=%{y}<br>Period=2018<br>Distance_Travelled_PassengerKm_Per_Year=%{x}<extra></extra>",
           "legendgroup": "Walking",
           "marker": {
            "color": "#B6E880",
            "pattern": {
             "shape": ""
            }
           },
           "name": "Walking",
           "offsetgroup": "Walking",
           "orientation": "h",
           "showlegend": true,
           "textposition": "auto",
           "type": "bar",
           "x": [
            26250
           ],
           "xaxis": "x",
           "y": [
            "Walking"
           ],
           "yaxis": "y"
          }
         ],
         "name": "2018"
        },
        {
         "data": [
          {
           "alignmentgroup": "True",
           "hovertemplate": "TravelModes=%{y}<br>Period=2019<br>Distance_Travelled_PassengerKm_Per_Year=%{x}<extra></extra>",
           "legendgroup": "Bike",
           "marker": {
            "color": "#636efa",
            "pattern": {
             "shape": ""
            }
           },
           "name": "Bike",
           "offsetgroup": "Bike",
           "orientation": "h",
           "showlegend": true,
           "textposition": "auto",
           "type": "bar",
           "x": [
            93184
           ],
           "xaxis": "x",
           "y": [
            "Bike"
           ],
           "yaxis": "y"
          },
          {
           "alignmentgroup": "True",
           "hovertemplate": "TravelModes=%{y}<br>Period=2019<br>Distance_Travelled_PassengerKm_Per_Year=%{x}<extra></extra>",
           "legendgroup": "Bus/tram/metro",
           "marker": {
            "color": "#EF553B",
            "pattern": {
             "shape": ""
            }
           },
           "name": "Bus/tram/metro",
           "offsetgroup": "Bus/tram/metro",
           "orientation": "h",
           "showlegend": true,
           "textposition": "auto",
           "type": "bar",
           "x": [
            18559
           ],
           "xaxis": "x",
           "y": [
            "Bus/tram/metro"
           ],
           "yaxis": "y"
          },
          {
           "alignmentgroup": "True",
           "hovertemplate": "TravelModes=%{y}<br>Period=2019<br>Distance_Travelled_PassengerKm_Per_Year=%{x}<extra></extra>",
           "legendgroup": "Other",
           "marker": {
            "color": "#00cc96",
            "pattern": {
             "shape": ""
            }
           },
           "name": "Other",
           "offsetgroup": "Other",
           "orientation": "h",
           "showlegend": true,
           "textposition": "auto",
           "type": "bar",
           "x": [
            58002
           ],
           "xaxis": "x",
           "y": [
            "Other"
           ],
           "yaxis": "y"
          },
          {
           "alignmentgroup": "True",
           "hovertemplate": "TravelModes=%{y}<br>Period=2019<br>Distance_Travelled_PassengerKm_Per_Year=%{x}<extra></extra>",
           "legendgroup": "Passenger car (driver)",
           "marker": {
            "color": "#ab63fa",
            "pattern": {
             "shape": ""
            }
           },
           "name": "Passenger car (driver)",
           "offsetgroup": "Passenger car (driver)",
           "orientation": "h",
           "showlegend": true,
           "textposition": "auto",
           "type": "bar",
           "x": [
            615396
           ],
           "xaxis": "x",
           "y": [
            "Passenger car (driver)"
           ],
           "yaxis": "y"
          },
          {
           "alignmentgroup": "True",
           "hovertemplate": "TravelModes=%{y}<br>Period=2019<br>Distance_Travelled_PassengerKm_Per_Year=%{x}<extra></extra>",
           "legendgroup": "Passenger car (passenger)",
           "marker": {
            "color": "#FFA15A",
            "pattern": {
             "shape": ""
            }
           },
           "name": "Passenger car (passenger)",
           "offsetgroup": "Passenger car (passenger)",
           "orientation": "h",
           "showlegend": true,
           "textposition": "auto",
           "type": "bar",
           "x": [
            192939
           ],
           "xaxis": "x",
           "y": [
            "Passenger car (passenger)"
           ],
           "yaxis": "y"
          },
          {
           "alignmentgroup": "True",
           "hovertemplate": "TravelModes=%{y}<br>Period=2019<br>Distance_Travelled_PassengerKm_Per_Year=%{x}<extra></extra>",
           "legendgroup": "Total",
           "marker": {
            "color": "#19d3f3",
            "pattern": {
             "shape": ""
            }
           },
           "name": "Total",
           "offsetgroup": "Total",
           "orientation": "h",
           "showlegend": true,
           "textposition": "auto",
           "type": "bar",
           "x": [
            1221717
           ],
           "xaxis": "x",
           "y": [
            "Total"
           ],
           "yaxis": "y"
          },
          {
           "alignmentgroup": "True",
           "hovertemplate": "TravelModes=%{y}<br>Period=2019<br>Distance_Travelled_PassengerKm_Per_Year=%{x}<extra></extra>",
           "legendgroup": "Train",
           "marker": {
            "color": "#FF6692",
            "pattern": {
             "shape": ""
            }
           },
           "name": "Train",
           "offsetgroup": "Train",
           "orientation": "h",
           "showlegend": true,
           "textposition": "auto",
           "type": "bar",
           "x": [
            92197
           ],
           "xaxis": "x",
           "y": [
            "Train"
           ],
           "yaxis": "y"
          },
          {
           "alignmentgroup": "True",
           "hovertemplate": "TravelModes=%{y}<br>Period=2019<br>Distance_Travelled_PassengerKm_Per_Year=%{x}<extra></extra>",
           "legendgroup": "Walking",
           "marker": {
            "color": "#B6E880",
            "pattern": {
             "shape": ""
            }
           },
           "name": "Walking",
           "offsetgroup": "Walking",
           "orientation": "h",
           "showlegend": true,
           "textposition": "auto",
           "type": "bar",
           "x": [
            25750
           ],
           "xaxis": "x",
           "y": [
            "Walking"
           ],
           "yaxis": "y"
          }
         ],
         "name": "2019"
        },
        {
         "data": [
          {
           "alignmentgroup": "True",
           "hovertemplate": "TravelModes=%{y}<br>Period=2020<br>Distance_Travelled_PassengerKm_Per_Year=%{x}<extra></extra>",
           "legendgroup": "Bike",
           "marker": {
            "color": "#636efa",
            "pattern": {
             "shape": ""
            }
           },
           "name": "Bike",
           "offsetgroup": "Bike",
           "orientation": "h",
           "showlegend": true,
           "textposition": "auto",
           "type": "bar",
           "x": [
            81779
           ],
           "xaxis": "x",
           "y": [
            "Bike"
           ],
           "yaxis": "y"
          },
          {
           "alignmentgroup": "True",
           "hovertemplate": "TravelModes=%{y}<br>Period=2020<br>Distance_Travelled_PassengerKm_Per_Year=%{x}<extra></extra>",
           "legendgroup": "Bus/tram/metro",
           "marker": {
            "color": "#EF553B",
            "pattern": {
             "shape": ""
            }
           },
           "name": "Bus/tram/metro",
           "offsetgroup": "Bus/tram/metro",
           "orientation": "h",
           "showlegend": true,
           "textposition": "auto",
           "type": "bar",
           "x": [
            7086
           ],
           "xaxis": "x",
           "y": [
            "Bus/tram/metro"
           ],
           "yaxis": "y"
          },
          {
           "alignmentgroup": "True",
           "hovertemplate": "TravelModes=%{y}<br>Period=2020<br>Distance_Travelled_PassengerKm_Per_Year=%{x}<extra></extra>",
           "legendgroup": "Other",
           "marker": {
            "color": "#00cc96",
            "pattern": {
             "shape": ""
            }
           },
           "name": "Other",
           "offsetgroup": "Other",
           "orientation": "h",
           "showlegend": true,
           "textposition": "auto",
           "type": "bar",
           "x": [
            34216
           ],
           "xaxis": "x",
           "y": [
            "Other"
           ],
           "yaxis": "y"
          },
          {
           "alignmentgroup": "True",
           "hovertemplate": "TravelModes=%{y}<br>Period=2020<br>Distance_Travelled_PassengerKm_Per_Year=%{x}<extra></extra>",
           "legendgroup": "Passenger car (driver)",
           "marker": {
            "color": "#ab63fa",
            "pattern": {
             "shape": ""
            }
           },
           "name": "Passenger car (driver)",
           "offsetgroup": "Passenger car (driver)",
           "orientation": "h",
           "showlegend": true,
           "textposition": "auto",
           "type": "bar",
           "x": [
            449882
           ],
           "xaxis": "x",
           "y": [
            "Passenger car (driver)"
           ],
           "yaxis": "y"
          },
          {
           "alignmentgroup": "True",
           "hovertemplate": "TravelModes=%{y}<br>Period=2020<br>Distance_Travelled_PassengerKm_Per_Year=%{x}<extra></extra>",
           "legendgroup": "Passenger car (passenger)",
           "marker": {
            "color": "#FFA15A",
            "pattern": {
             "shape": ""
            }
           },
           "name": "Passenger car (passenger)",
           "offsetgroup": "Passenger car (passenger)",
           "orientation": "h",
           "showlegend": true,
           "textposition": "auto",
           "type": "bar",
           "x": [
            121652
           ],
           "xaxis": "x",
           "y": [
            "Passenger car (passenger)"
           ],
           "yaxis": "y"
          },
          {
           "alignmentgroup": "True",
           "hovertemplate": "TravelModes=%{y}<br>Period=2020<br>Distance_Travelled_PassengerKm_Per_Year=%{x}<extra></extra>",
           "legendgroup": "Total",
           "marker": {
            "color": "#19d3f3",
            "pattern": {
             "shape": ""
            }
           },
           "name": "Total",
           "offsetgroup": "Total",
           "orientation": "h",
           "showlegend": true,
           "textposition": "auto",
           "type": "bar",
           "x": [
            847352
           ],
           "xaxis": "x",
           "y": [
            "Total"
           ],
           "yaxis": "y"
          },
          {
           "alignmentgroup": "True",
           "hovertemplate": "TravelModes=%{y}<br>Period=2020<br>Distance_Travelled_PassengerKm_Per_Year=%{x}<extra></extra>",
           "legendgroup": "Train",
           "marker": {
            "color": "#FF6692",
            "pattern": {
             "shape": ""
            }
           },
           "name": "Train",
           "offsetgroup": "Train",
           "orientation": "h",
           "showlegend": true,
           "textposition": "auto",
           "type": "bar",
           "x": [
            26822
           ],
           "xaxis": "x",
           "y": [
            "Train"
           ],
           "yaxis": "y"
          },
          {
           "alignmentgroup": "True",
           "hovertemplate": "TravelModes=%{y}<br>Period=2020<br>Distance_Travelled_PassengerKm_Per_Year=%{x}<extra></extra>",
           "legendgroup": "Walking",
           "marker": {
            "color": "#B6E880",
            "pattern": {
             "shape": ""
            }
           },
           "name": "Walking",
           "offsetgroup": "Walking",
           "orientation": "h",
           "showlegend": true,
           "textposition": "auto",
           "type": "bar",
           "x": [
            34855
           ],
           "xaxis": "x",
           "y": [
            "Walking"
           ],
           "yaxis": "y"
          }
         ],
         "name": "2020"
        },
        {
         "data": [
          {
           "alignmentgroup": "True",
           "hovertemplate": "TravelModes=%{y}<br>Period=2021<br>Distance_Travelled_PassengerKm_Per_Year=%{x}<extra></extra>",
           "legendgroup": "Bike",
           "marker": {
            "color": "#636efa",
            "pattern": {
             "shape": ""
            }
           },
           "name": "Bike",
           "offsetgroup": "Bike",
           "orientation": "h",
           "showlegend": true,
           "textposition": "auto",
           "type": "bar",
           "x": [
            85133
           ],
           "xaxis": "x",
           "y": [
            "Bike"
           ],
           "yaxis": "y"
          },
          {
           "alignmentgroup": "True",
           "hovertemplate": "TravelModes=%{y}<br>Period=2021<br>Distance_Travelled_PassengerKm_Per_Year=%{x}<extra></extra>",
           "legendgroup": "Bus/tram/metro",
           "marker": {
            "color": "#EF553B",
            "pattern": {
             "shape": ""
            }
           },
           "name": "Bus/tram/metro",
           "offsetgroup": "Bus/tram/metro",
           "orientation": "h",
           "showlegend": true,
           "textposition": "auto",
           "type": "bar",
           "x": [
            8652
           ],
           "xaxis": "x",
           "y": [
            "Bus/tram/metro"
           ],
           "yaxis": "y"
          },
          {
           "alignmentgroup": "True",
           "hovertemplate": "TravelModes=%{y}<br>Period=2021<br>Distance_Travelled_PassengerKm_Per_Year=%{x}<extra></extra>",
           "legendgroup": "Other",
           "marker": {
            "color": "#00cc96",
            "pattern": {
             "shape": ""
            }
           },
           "name": "Other",
           "offsetgroup": "Other",
           "orientation": "h",
           "showlegend": true,
           "textposition": "auto",
           "type": "bar",
           "x": [
            48046
           ],
           "xaxis": "x",
           "y": [
            "Other"
           ],
           "yaxis": "y"
          },
          {
           "alignmentgroup": "True",
           "hovertemplate": "TravelModes=%{y}<br>Period=2021<br>Distance_Travelled_PassengerKm_Per_Year=%{x}<extra></extra>",
           "legendgroup": "Passenger car (driver)",
           "marker": {
            "color": "#ab63fa",
            "pattern": {
             "shape": ""
            }
           },
           "name": "Passenger car (driver)",
           "offsetgroup": "Passenger car (driver)",
           "orientation": "h",
           "showlegend": true,
           "textposition": "auto",
           "type": "bar",
           "x": [
            485534
           ],
           "xaxis": "x",
           "y": [
            "Passenger car (driver)"
           ],
           "yaxis": "y"
          },
          {
           "alignmentgroup": "True",
           "hovertemplate": "TravelModes=%{y}<br>Period=2021<br>Distance_Travelled_PassengerKm_Per_Year=%{x}<extra></extra>",
           "legendgroup": "Passenger car (passenger)",
           "marker": {
            "color": "#FFA15A",
            "pattern": {
             "shape": ""
            }
           },
           "name": "Passenger car (passenger)",
           "offsetgroup": "Passenger car (passenger)",
           "orientation": "h",
           "showlegend": true,
           "textposition": "auto",
           "type": "bar",
           "x": [
            142177
           ],
           "xaxis": "x",
           "y": [
            "Passenger car (passenger)"
           ],
           "yaxis": "y"
          },
          {
           "alignmentgroup": "True",
           "hovertemplate": "TravelModes=%{y}<br>Period=2021<br>Distance_Travelled_PassengerKm_Per_Year=%{x}<extra></extra>",
           "legendgroup": "Total",
           "marker": {
            "color": "#19d3f3",
            "pattern": {
             "shape": ""
            }
           },
           "name": "Total",
           "offsetgroup": "Total",
           "orientation": "h",
           "showlegend": true,
           "textposition": "auto",
           "type": "bar",
           "x": [
            926440
           ],
           "xaxis": "x",
           "y": [
            "Total"
           ],
           "yaxis": "y"
          },
          {
           "alignmentgroup": "True",
           "hovertemplate": "TravelModes=%{y}<br>Period=2021<br>Distance_Travelled_PassengerKm_Per_Year=%{x}<extra></extra>",
           "legendgroup": "Train",
           "marker": {
            "color": "#FF6692",
            "pattern": {
             "shape": ""
            }
           },
           "name": "Train",
           "offsetgroup": "Train",
           "orientation": "h",
           "showlegend": true,
           "textposition": "auto",
           "type": "bar",
           "x": [
            32094
           ],
           "xaxis": "x",
           "y": [
            "Train"
           ],
           "yaxis": "y"
          },
          {
           "alignmentgroup": "True",
           "hovertemplate": "TravelModes=%{y}<br>Period=2021<br>Distance_Travelled_PassengerKm_Per_Year=%{x}<extra></extra>",
           "legendgroup": "Walking",
           "marker": {
            "color": "#B6E880",
            "pattern": {
             "shape": ""
            }
           },
           "name": "Walking",
           "offsetgroup": "Walking",
           "orientation": "h",
           "showlegend": true,
           "textposition": "auto",
           "type": "bar",
           "x": [
            42282
           ],
           "xaxis": "x",
           "y": [
            "Walking"
           ],
           "yaxis": "y"
          }
         ],
         "name": "2021"
        },
        {
         "data": [
          {
           "alignmentgroup": "True",
           "hovertemplate": "TravelModes=%{y}<br>Period=2022<br>Distance_Travelled_PassengerKm_Per_Year=%{x}<extra></extra>",
           "legendgroup": "Bike",
           "marker": {
            "color": "#636efa",
            "pattern": {
             "shape": ""
            }
           },
           "name": "Bike",
           "offsetgroup": "Bike",
           "orientation": "h",
           "showlegend": true,
           "textposition": "auto",
           "type": "bar",
           "x": [
            96863
           ],
           "xaxis": "x",
           "y": [
            "Bike"
           ],
           "yaxis": "y"
          },
          {
           "alignmentgroup": "True",
           "hovertemplate": "TravelModes=%{y}<br>Period=2022<br>Distance_Travelled_PassengerKm_Per_Year=%{x}<extra></extra>",
           "legendgroup": "Bus/tram/metro",
           "marker": {
            "color": "#EF553B",
            "pattern": {
             "shape": ""
            }
           },
           "name": "Bus/tram/metro",
           "offsetgroup": "Bus/tram/metro",
           "orientation": "h",
           "showlegend": true,
           "textposition": "auto",
           "type": "bar",
           "x": [
            14199
           ],
           "xaxis": "x",
           "y": [
            "Bus/tram/metro"
           ],
           "yaxis": "y"
          },
          {
           "alignmentgroup": "True",
           "hovertemplate": "TravelModes=%{y}<br>Period=2022<br>Distance_Travelled_PassengerKm_Per_Year=%{x}<extra></extra>",
           "legendgroup": "Other",
           "marker": {
            "color": "#00cc96",
            "pattern": {
             "shape": ""
            }
           },
           "name": "Other",
           "offsetgroup": "Other",
           "orientation": "h",
           "showlegend": true,
           "textposition": "auto",
           "type": "bar",
           "x": [
            45530
           ],
           "xaxis": "x",
           "y": [
            "Other"
           ],
           "yaxis": "y"
          },
          {
           "alignmentgroup": "True",
           "hovertemplate": "TravelModes=%{y}<br>Period=2022<br>Distance_Travelled_PassengerKm_Per_Year=%{x}<extra></extra>",
           "legendgroup": "Passenger car (driver)",
           "marker": {
            "color": "#ab63fa",
            "pattern": {
             "shape": ""
            }
           },
           "name": "Passenger car (driver)",
           "offsetgroup": "Passenger car (driver)",
           "orientation": "h",
           "showlegend": true,
           "textposition": "auto",
           "type": "bar",
           "x": [
            521187
           ],
           "xaxis": "x",
           "y": [
            "Passenger car (driver)"
           ],
           "yaxis": "y"
          },
          {
           "alignmentgroup": "True",
           "hovertemplate": "TravelModes=%{y}<br>Period=2022<br>Distance_Travelled_PassengerKm_Per_Year=%{x}<extra></extra>",
           "legendgroup": "Passenger car (passenger)",
           "marker": {
            "color": "#FFA15A",
            "pattern": {
             "shape": ""
            }
           },
           "name": "Passenger car (passenger)",
           "offsetgroup": "Passenger car (passenger)",
           "orientation": "h",
           "showlegend": true,
           "textposition": "auto",
           "type": "bar",
           "x": [
            155513
           ],
           "xaxis": "x",
           "y": [
            "Passenger car (passenger)"
           ],
           "yaxis": "y"
          },
          {
           "alignmentgroup": "True",
           "hovertemplate": "TravelModes=%{y}<br>Period=2022<br>Distance_Travelled_PassengerKm_Per_Year=%{x}<extra></extra>",
           "legendgroup": "Total",
           "marker": {
            "color": "#19d3f3",
            "pattern": {
             "shape": ""
            }
           },
           "name": "Total",
           "offsetgroup": "Total",
           "orientation": "h",
           "showlegend": true,
           "textposition": "auto",
           "type": "bar",
           "x": [
            1026444
           ],
           "xaxis": "x",
           "y": [
            "Total"
           ],
           "yaxis": "y"
          },
          {
           "alignmentgroup": "True",
           "hovertemplate": "TravelModes=%{y}<br>Period=2022<br>Distance_Travelled_PassengerKm_Per_Year=%{x}<extra></extra>",
           "legendgroup": "Train",
           "marker": {
            "color": "#FF6692",
            "pattern": {
             "shape": ""
            }
           },
           "name": "Train",
           "offsetgroup": "Train",
           "orientation": "h",
           "showlegend": true,
           "textposition": "auto",
           "type": "bar",
           "x": [
            53913
           ],
           "xaxis": "x",
           "y": [
            "Train"
           ],
           "yaxis": "y"
          },
          {
           "alignmentgroup": "True",
           "hovertemplate": "TravelModes=%{y}<br>Period=2022<br>Distance_Travelled_PassengerKm_Per_Year=%{x}<extra></extra>",
           "legendgroup": "Walking",
           "marker": {
            "color": "#B6E880",
            "pattern": {
             "shape": ""
            }
           },
           "name": "Walking",
           "offsetgroup": "Walking",
           "orientation": "h",
           "showlegend": true,
           "textposition": "auto",
           "type": "bar",
           "x": [
            37302
           ],
           "xaxis": "x",
           "y": [
            "Walking"
           ],
           "yaxis": "y"
          }
         ],
         "name": "2022"
        },
        {
         "data": [
          {
           "alignmentgroup": "True",
           "hovertemplate": "TravelModes=%{y}<br>Period=2023<br>Distance_Travelled_PassengerKm_Per_Year=%{x}<extra></extra>",
           "legendgroup": "Bike",
           "marker": {
            "color": "#636efa",
            "pattern": {
             "shape": ""
            }
           },
           "name": "Bike",
           "offsetgroup": "Bike",
           "orientation": "h",
           "showlegend": true,
           "textposition": "auto",
           "type": "bar",
           "x": [
            92493
           ],
           "xaxis": "x",
           "y": [
            "Bike"
           ],
           "yaxis": "y"
          },
          {
           "alignmentgroup": "True",
           "hovertemplate": "TravelModes=%{y}<br>Period=2023<br>Distance_Travelled_PassengerKm_Per_Year=%{x}<extra></extra>",
           "legendgroup": "Bus/tram/metro",
           "marker": {
            "color": "#EF553B",
            "pattern": {
             "shape": ""
            }
           },
           "name": "Bus/tram/metro",
           "offsetgroup": "Bus/tram/metro",
           "orientation": "h",
           "showlegend": true,
           "textposition": "auto",
           "type": "bar",
           "x": [
            15924
           ],
           "xaxis": "x",
           "y": [
            "Bus/tram/metro"
           ],
           "yaxis": "y"
          },
          {
           "alignmentgroup": "True",
           "hovertemplate": "TravelModes=%{y}<br>Period=2023<br>Distance_Travelled_PassengerKm_Per_Year=%{x}<extra></extra>",
           "legendgroup": "Other",
           "marker": {
            "color": "#00cc96",
            "pattern": {
             "shape": ""
            }
           },
           "name": "Other",
           "offsetgroup": "Other",
           "orientation": "h",
           "showlegend": true,
           "textposition": "auto",
           "type": "bar",
           "x": [
            41224
           ],
           "xaxis": "x",
           "y": [
            "Other"
           ],
           "yaxis": "y"
          },
          {
           "alignmentgroup": "True",
           "hovertemplate": "TravelModes=%{y}<br>Period=2023<br>Distance_Travelled_PassengerKm_Per_Year=%{x}<extra></extra>",
           "legendgroup": "Passenger car (driver)",
           "marker": {
            "color": "#ab63fa",
            "pattern": {
             "shape": ""
            }
           },
           "name": "Passenger car (driver)",
           "offsetgroup": "Passenger car (driver)",
           "orientation": "h",
           "showlegend": true,
           "textposition": "auto",
           "type": "bar",
           "x": [
            557154
           ],
           "xaxis": "x",
           "y": [
            "Passenger car (driver)"
           ],
           "yaxis": "y"
          },
          {
           "alignmentgroup": "True",
           "hovertemplate": "TravelModes=%{y}<br>Period=2023<br>Distance_Travelled_PassengerKm_Per_Year=%{x}<extra></extra>",
           "legendgroup": "Passenger car (passenger)",
           "marker": {
            "color": "#FFA15A",
            "pattern": {
             "shape": ""
            }
           },
           "name": "Passenger car (passenger)",
           "offsetgroup": "Passenger car (passenger)",
           "orientation": "h",
           "showlegend": true,
           "textposition": "auto",
           "type": "bar",
           "x": [
            176904
           ],
           "xaxis": "x",
           "y": [
            "Passenger car (passenger)"
           ],
           "yaxis": "y"
          },
          {
           "alignmentgroup": "True",
           "hovertemplate": "TravelModes=%{y}<br>Period=2023<br>Distance_Travelled_PassengerKm_Per_Year=%{x}<extra></extra>",
           "legendgroup": "Total",
           "marker": {
            "color": "#19d3f3",
            "pattern": {
             "shape": ""
            }
           },
           "name": "Total",
           "offsetgroup": "Total",
           "orientation": "h",
           "showlegend": true,
           "textposition": "auto",
           "type": "bar",
           "x": [
            1075704
           ],
           "xaxis": "x",
           "y": [
            "Total"
           ],
           "yaxis": "y"
          },
          {
           "alignmentgroup": "True",
           "hovertemplate": "TravelModes=%{y}<br>Period=2023<br>Distance_Travelled_PassengerKm_Per_Year=%{x}<extra></extra>",
           "legendgroup": "Train",
           "marker": {
            "color": "#FF6692",
            "pattern": {
             "shape": ""
            }
           },
           "name": "Train",
           "offsetgroup": "Train",
           "orientation": "h",
           "showlegend": true,
           "textposition": "auto",
           "type": "bar",
           "x": [
            71724
           ],
           "xaxis": "x",
           "y": [
            "Train"
           ],
           "yaxis": "y"
          },
          {
           "alignmentgroup": "True",
           "hovertemplate": "TravelModes=%{y}<br>Period=2023<br>Distance_Travelled_PassengerKm_Per_Year=%{x}<extra></extra>",
           "legendgroup": "Walking",
           "marker": {
            "color": "#B6E880",
            "pattern": {
             "shape": ""
            }
           },
           "name": "Walking",
           "offsetgroup": "Walking",
           "orientation": "h",
           "showlegend": true,
           "textposition": "auto",
           "type": "bar",
           "x": [
            35067
           ],
           "xaxis": "x",
           "y": [
            "Walking"
           ],
           "yaxis": "y"
          }
         ],
         "name": "2023"
        }
       ],
       "layout": {
        "barmode": "relative",
        "legend": {
         "title": {
          "text": "TravelModes"
         },
         "tracegroupgap": 0
        },
        "margin": {
         "t": 60
        },
        "sliders": [
         {
          "active": 0,
          "currentvalue": {
           "prefix": "Period="
          },
          "len": 0.9,
          "pad": {
           "b": 10,
           "t": 60
          },
          "steps": [
           {
            "args": [
             [
              "2018"
             ],
             {
              "frame": {
               "duration": 0,
               "redraw": true
              },
              "fromcurrent": true,
              "mode": "immediate",
              "transition": {
               "duration": 0,
               "easing": "linear"
              }
             }
            ],
            "label": "2018",
            "method": "animate"
           },
           {
            "args": [
             [
              "2019"
             ],
             {
              "frame": {
               "duration": 0,
               "redraw": true
              },
              "fromcurrent": true,
              "mode": "immediate",
              "transition": {
               "duration": 0,
               "easing": "linear"
              }
             }
            ],
            "label": "2019",
            "method": "animate"
           },
           {
            "args": [
             [
              "2020"
             ],
             {
              "frame": {
               "duration": 0,
               "redraw": true
              },
              "fromcurrent": true,
              "mode": "immediate",
              "transition": {
               "duration": 0,
               "easing": "linear"
              }
             }
            ],
            "label": "2020",
            "method": "animate"
           },
           {
            "args": [
             [
              "2021"
             ],
             {
              "frame": {
               "duration": 0,
               "redraw": true
              },
              "fromcurrent": true,
              "mode": "immediate",
              "transition": {
               "duration": 0,
               "easing": "linear"
              }
             }
            ],
            "label": "2021",
            "method": "animate"
           },
           {
            "args": [
             [
              "2022"
             ],
             {
              "frame": {
               "duration": 0,
               "redraw": true
              },
              "fromcurrent": true,
              "mode": "immediate",
              "transition": {
               "duration": 0,
               "easing": "linear"
              }
             }
            ],
            "label": "2022",
            "method": "animate"
           },
           {
            "args": [
             [
              "2023"
             ],
             {
              "frame": {
               "duration": 0,
               "redraw": true
              },
              "fromcurrent": true,
              "mode": "immediate",
              "transition": {
               "duration": 0,
               "easing": "linear"
              }
             }
            ],
            "label": "2023",
            "method": "animate"
           }
          ],
          "x": 0.1,
          "xanchor": "left",
          "y": 0,
          "yanchor": "top"
         }
        ],
        "template": {
         "data": {
          "bar": [
           {
            "error_x": {
             "color": "#2a3f5f"
            },
            "error_y": {
             "color": "#2a3f5f"
            },
            "marker": {
             "line": {
              "color": "#E5ECF6",
              "width": 0.5
             },
             "pattern": {
              "fillmode": "overlay",
              "size": 10,
              "solidity": 0.2
             }
            },
            "type": "bar"
           }
          ],
          "barpolar": [
           {
            "marker": {
             "line": {
              "color": "#E5ECF6",
              "width": 0.5
             },
             "pattern": {
              "fillmode": "overlay",
              "size": 10,
              "solidity": 0.2
             }
            },
            "type": "barpolar"
           }
          ],
          "carpet": [
           {
            "aaxis": {
             "endlinecolor": "#2a3f5f",
             "gridcolor": "white",
             "linecolor": "white",
             "minorgridcolor": "white",
             "startlinecolor": "#2a3f5f"
            },
            "baxis": {
             "endlinecolor": "#2a3f5f",
             "gridcolor": "white",
             "linecolor": "white",
             "minorgridcolor": "white",
             "startlinecolor": "#2a3f5f"
            },
            "type": "carpet"
           }
          ],
          "choropleth": [
           {
            "colorbar": {
             "outlinewidth": 0,
             "ticks": ""
            },
            "type": "choropleth"
           }
          ],
          "contour": [
           {
            "colorbar": {
             "outlinewidth": 0,
             "ticks": ""
            },
            "colorscale": [
             [
              0,
              "#0d0887"
             ],
             [
              0.1111111111111111,
              "#46039f"
             ],
             [
              0.2222222222222222,
              "#7201a8"
             ],
             [
              0.3333333333333333,
              "#9c179e"
             ],
             [
              0.4444444444444444,
              "#bd3786"
             ],
             [
              0.5555555555555556,
              "#d8576b"
             ],
             [
              0.6666666666666666,
              "#ed7953"
             ],
             [
              0.7777777777777778,
              "#fb9f3a"
             ],
             [
              0.8888888888888888,
              "#fdca26"
             ],
             [
              1,
              "#f0f921"
             ]
            ],
            "type": "contour"
           }
          ],
          "contourcarpet": [
           {
            "colorbar": {
             "outlinewidth": 0,
             "ticks": ""
            },
            "type": "contourcarpet"
           }
          ],
          "heatmap": [
           {
            "colorbar": {
             "outlinewidth": 0,
             "ticks": ""
            },
            "colorscale": [
             [
              0,
              "#0d0887"
             ],
             [
              0.1111111111111111,
              "#46039f"
             ],
             [
              0.2222222222222222,
              "#7201a8"
             ],
             [
              0.3333333333333333,
              "#9c179e"
             ],
             [
              0.4444444444444444,
              "#bd3786"
             ],
             [
              0.5555555555555556,
              "#d8576b"
             ],
             [
              0.6666666666666666,
              "#ed7953"
             ],
             [
              0.7777777777777778,
              "#fb9f3a"
             ],
             [
              0.8888888888888888,
              "#fdca26"
             ],
             [
              1,
              "#f0f921"
             ]
            ],
            "type": "heatmap"
           }
          ],
          "heatmapgl": [
           {
            "colorbar": {
             "outlinewidth": 0,
             "ticks": ""
            },
            "colorscale": [
             [
              0,
              "#0d0887"
             ],
             [
              0.1111111111111111,
              "#46039f"
             ],
             [
              0.2222222222222222,
              "#7201a8"
             ],
             [
              0.3333333333333333,
              "#9c179e"
             ],
             [
              0.4444444444444444,
              "#bd3786"
             ],
             [
              0.5555555555555556,
              "#d8576b"
             ],
             [
              0.6666666666666666,
              "#ed7953"
             ],
             [
              0.7777777777777778,
              "#fb9f3a"
             ],
             [
              0.8888888888888888,
              "#fdca26"
             ],
             [
              1,
              "#f0f921"
             ]
            ],
            "type": "heatmapgl"
           }
          ],
          "histogram": [
           {
            "marker": {
             "pattern": {
              "fillmode": "overlay",
              "size": 10,
              "solidity": 0.2
             }
            },
            "type": "histogram"
           }
          ],
          "histogram2d": [
           {
            "colorbar": {
             "outlinewidth": 0,
             "ticks": ""
            },
            "colorscale": [
             [
              0,
              "#0d0887"
             ],
             [
              0.1111111111111111,
              "#46039f"
             ],
             [
              0.2222222222222222,
              "#7201a8"
             ],
             [
              0.3333333333333333,
              "#9c179e"
             ],
             [
              0.4444444444444444,
              "#bd3786"
             ],
             [
              0.5555555555555556,
              "#d8576b"
             ],
             [
              0.6666666666666666,
              "#ed7953"
             ],
             [
              0.7777777777777778,
              "#fb9f3a"
             ],
             [
              0.8888888888888888,
              "#fdca26"
             ],
             [
              1,
              "#f0f921"
             ]
            ],
            "type": "histogram2d"
           }
          ],
          "histogram2dcontour": [
           {
            "colorbar": {
             "outlinewidth": 0,
             "ticks": ""
            },
            "colorscale": [
             [
              0,
              "#0d0887"
             ],
             [
              0.1111111111111111,
              "#46039f"
             ],
             [
              0.2222222222222222,
              "#7201a8"
             ],
             [
              0.3333333333333333,
              "#9c179e"
             ],
             [
              0.4444444444444444,
              "#bd3786"
             ],
             [
              0.5555555555555556,
              "#d8576b"
             ],
             [
              0.6666666666666666,
              "#ed7953"
             ],
             [
              0.7777777777777778,
              "#fb9f3a"
             ],
             [
              0.8888888888888888,
              "#fdca26"
             ],
             [
              1,
              "#f0f921"
             ]
            ],
            "type": "histogram2dcontour"
           }
          ],
          "mesh3d": [
           {
            "colorbar": {
             "outlinewidth": 0,
             "ticks": ""
            },
            "type": "mesh3d"
           }
          ],
          "parcoords": [
           {
            "line": {
             "colorbar": {
              "outlinewidth": 0,
              "ticks": ""
             }
            },
            "type": "parcoords"
           }
          ],
          "pie": [
           {
            "automargin": true,
            "type": "pie"
           }
          ],
          "scatter": [
           {
            "fillpattern": {
             "fillmode": "overlay",
             "size": 10,
             "solidity": 0.2
            },
            "type": "scatter"
           }
          ],
          "scatter3d": [
           {
            "line": {
             "colorbar": {
              "outlinewidth": 0,
              "ticks": ""
             }
            },
            "marker": {
             "colorbar": {
              "outlinewidth": 0,
              "ticks": ""
             }
            },
            "type": "scatter3d"
           }
          ],
          "scattercarpet": [
           {
            "marker": {
             "colorbar": {
              "outlinewidth": 0,
              "ticks": ""
             }
            },
            "type": "scattercarpet"
           }
          ],
          "scattergeo": [
           {
            "marker": {
             "colorbar": {
              "outlinewidth": 0,
              "ticks": ""
             }
            },
            "type": "scattergeo"
           }
          ],
          "scattergl": [
           {
            "marker": {
             "colorbar": {
              "outlinewidth": 0,
              "ticks": ""
             }
            },
            "type": "scattergl"
           }
          ],
          "scattermapbox": [
           {
            "marker": {
             "colorbar": {
              "outlinewidth": 0,
              "ticks": ""
             }
            },
            "type": "scattermapbox"
           }
          ],
          "scatterpolar": [
           {
            "marker": {
             "colorbar": {
              "outlinewidth": 0,
              "ticks": ""
             }
            },
            "type": "scatterpolar"
           }
          ],
          "scatterpolargl": [
           {
            "marker": {
             "colorbar": {
              "outlinewidth": 0,
              "ticks": ""
             }
            },
            "type": "scatterpolargl"
           }
          ],
          "scatterternary": [
           {
            "marker": {
             "colorbar": {
              "outlinewidth": 0,
              "ticks": ""
             }
            },
            "type": "scatterternary"
           }
          ],
          "surface": [
           {
            "colorbar": {
             "outlinewidth": 0,
             "ticks": ""
            },
            "colorscale": [
             [
              0,
              "#0d0887"
             ],
             [
              0.1111111111111111,
              "#46039f"
             ],
             [
              0.2222222222222222,
              "#7201a8"
             ],
             [
              0.3333333333333333,
              "#9c179e"
             ],
             [
              0.4444444444444444,
              "#bd3786"
             ],
             [
              0.5555555555555556,
              "#d8576b"
             ],
             [
              0.6666666666666666,
              "#ed7953"
             ],
             [
              0.7777777777777778,
              "#fb9f3a"
             ],
             [
              0.8888888888888888,
              "#fdca26"
             ],
             [
              1,
              "#f0f921"
             ]
            ],
            "type": "surface"
           }
          ],
          "table": [
           {
            "cells": {
             "fill": {
              "color": "#EBF0F8"
             },
             "line": {
              "color": "white"
             }
            },
            "header": {
             "fill": {
              "color": "#C8D4E3"
             },
             "line": {
              "color": "white"
             }
            },
            "type": "table"
           }
          ]
         },
         "layout": {
          "annotationdefaults": {
           "arrowcolor": "#2a3f5f",
           "arrowhead": 0,
           "arrowwidth": 1
          },
          "autotypenumbers": "strict",
          "coloraxis": {
           "colorbar": {
            "outlinewidth": 0,
            "ticks": ""
           }
          },
          "colorscale": {
           "diverging": [
            [
             0,
             "#8e0152"
            ],
            [
             0.1,
             "#c51b7d"
            ],
            [
             0.2,
             "#de77ae"
            ],
            [
             0.3,
             "#f1b6da"
            ],
            [
             0.4,
             "#fde0ef"
            ],
            [
             0.5,
             "#f7f7f7"
            ],
            [
             0.6,
             "#e6f5d0"
            ],
            [
             0.7,
             "#b8e186"
            ],
            [
             0.8,
             "#7fbc41"
            ],
            [
             0.9,
             "#4d9221"
            ],
            [
             1,
             "#276419"
            ]
           ],
           "sequential": [
            [
             0,
             "#0d0887"
            ],
            [
             0.1111111111111111,
             "#46039f"
            ],
            [
             0.2222222222222222,
             "#7201a8"
            ],
            [
             0.3333333333333333,
             "#9c179e"
            ],
            [
             0.4444444444444444,
             "#bd3786"
            ],
            [
             0.5555555555555556,
             "#d8576b"
            ],
            [
             0.6666666666666666,
             "#ed7953"
            ],
            [
             0.7777777777777778,
             "#fb9f3a"
            ],
            [
             0.8888888888888888,
             "#fdca26"
            ],
            [
             1,
             "#f0f921"
            ]
           ],
           "sequentialminus": [
            [
             0,
             "#0d0887"
            ],
            [
             0.1111111111111111,
             "#46039f"
            ],
            [
             0.2222222222222222,
             "#7201a8"
            ],
            [
             0.3333333333333333,
             "#9c179e"
            ],
            [
             0.4444444444444444,
             "#bd3786"
            ],
            [
             0.5555555555555556,
             "#d8576b"
            ],
            [
             0.6666666666666666,
             "#ed7953"
            ],
            [
             0.7777777777777778,
             "#fb9f3a"
            ],
            [
             0.8888888888888888,
             "#fdca26"
            ],
            [
             1,
             "#f0f921"
            ]
           ]
          },
          "colorway": [
           "#636efa",
           "#EF553B",
           "#00cc96",
           "#ab63fa",
           "#FFA15A",
           "#19d3f3",
           "#FF6692",
           "#B6E880",
           "#FF97FF",
           "#FECB52"
          ],
          "font": {
           "color": "#2a3f5f"
          },
          "geo": {
           "bgcolor": "white",
           "lakecolor": "white",
           "landcolor": "#E5ECF6",
           "showlakes": true,
           "showland": true,
           "subunitcolor": "white"
          },
          "hoverlabel": {
           "align": "left"
          },
          "hovermode": "closest",
          "mapbox": {
           "style": "light"
          },
          "paper_bgcolor": "white",
          "plot_bgcolor": "#E5ECF6",
          "polar": {
           "angularaxis": {
            "gridcolor": "white",
            "linecolor": "white",
            "ticks": ""
           },
           "bgcolor": "#E5ECF6",
           "radialaxis": {
            "gridcolor": "white",
            "linecolor": "white",
            "ticks": ""
           }
          },
          "scene": {
           "xaxis": {
            "backgroundcolor": "#E5ECF6",
            "gridcolor": "white",
            "gridwidth": 2,
            "linecolor": "white",
            "showbackground": true,
            "ticks": "",
            "zerolinecolor": "white"
           },
           "yaxis": {
            "backgroundcolor": "#E5ECF6",
            "gridcolor": "white",
            "gridwidth": 2,
            "linecolor": "white",
            "showbackground": true,
            "ticks": "",
            "zerolinecolor": "white"
           },
           "zaxis": {
            "backgroundcolor": "#E5ECF6",
            "gridcolor": "white",
            "gridwidth": 2,
            "linecolor": "white",
            "showbackground": true,
            "ticks": "",
            "zerolinecolor": "white"
           }
          },
          "shapedefaults": {
           "line": {
            "color": "#2a3f5f"
           }
          },
          "ternary": {
           "aaxis": {
            "gridcolor": "white",
            "linecolor": "white",
            "ticks": ""
           },
           "baxis": {
            "gridcolor": "white",
            "linecolor": "white",
            "ticks": ""
           },
           "bgcolor": "#E5ECF6",
           "caxis": {
            "gridcolor": "white",
            "linecolor": "white",
            "ticks": ""
           }
          },
          "title": {
           "x": 0.05
          },
          "xaxis": {
           "automargin": true,
           "gridcolor": "white",
           "linecolor": "white",
           "ticks": "",
           "title": {
            "standoff": 15
           },
           "zerolinecolor": "white",
           "zerolinewidth": 2
          },
          "yaxis": {
           "automargin": true,
           "gridcolor": "white",
           "linecolor": "white",
           "ticks": "",
           "title": {
            "standoff": 15
           },
           "zerolinecolor": "white",
           "zerolinewidth": 2
          }
         }
        },
        "updatemenus": [
         {
          "buttons": [
           {
            "args": [
             null,
             {
              "frame": {
               "duration": 500,
               "redraw": true
              },
              "fromcurrent": true,
              "mode": "immediate",
              "transition": {
               "duration": 500,
               "easing": "linear"
              }
             }
            ],
            "label": "&#9654;",
            "method": "animate"
           },
           {
            "args": [
             [
              null
             ],
             {
              "frame": {
               "duration": 0,
               "redraw": true
              },
              "fromcurrent": true,
              "mode": "immediate",
              "transition": {
               "duration": 0,
               "easing": "linear"
              }
             }
            ],
            "label": "&#9724;",
            "method": "animate"
           }
          ],
          "direction": "left",
          "pad": {
           "r": 10,
           "t": 70
          },
          "showactive": false,
          "type": "buttons",
          "x": 0.1,
          "xanchor": "right",
          "y": 0,
          "yanchor": "top"
         }
        ],
        "xaxis": {
         "anchor": "y",
         "domain": [
          0,
          1
         ],
         "range": [
          0,
          1300000
         ],
         "title": {
          "text": "Distance_Travelled_PassengerKm_Per_Year"
         }
        },
        "yaxis": {
         "anchor": "x",
         "categoryarray": [
          "Walking",
          "Train",
          "Total",
          "Passenger car (passenger)",
          "Passenger car (driver)",
          "Other",
          "Bus/tram/metro",
          "Bike"
         ],
         "categoryorder": "array",
         "domain": [
          0,
          1
         ],
         "title": {
          "text": "TravelModes"
         }
        }
       }
      }
     },
     "metadata": {},
     "output_type": "display_data"
    }
   ],
   "source": [
    "travelmode_animation = value_clean_data.groupby(['TravelModes', 'Period']).sum('Distance_Travelled_PassengerKm_Per_Year').reset_index()\n",
    "fig = px.bar(travelmode_animation, x = 'Distance_Travelled_PassengerKm_Per_Year', y = 'TravelModes', color = 'TravelModes',\n",
    "                animation_frame = 'Period', range_x = [0, 1300000])\n",
    "fig.show()"
   ]
  },
  {
   "cell_type": "code",
   "execution_count": null,
   "metadata": {},
   "outputs": [],
   "source": []
  }
 ],
 "metadata": {
  "kernelspec": {
   "display_name": "TIL6022",
   "language": "python",
   "name": "python3"
  },
  "language_info": {
   "codemirror_mode": {
    "name": "ipython",
    "version": 3
   },
   "file_extension": ".py",
   "mimetype": "text/x-python",
   "name": "python",
   "nbconvert_exporter": "python",
   "pygments_lexer": "ipython3",
   "version": "3.12.4"
  }
 },
 "nbformat": 4,
 "nbformat_minor": 2
}
