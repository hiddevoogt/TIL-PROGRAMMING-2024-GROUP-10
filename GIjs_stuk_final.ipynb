{
 "cells": [
  {
   "cell_type": "code",
   "execution_count": null,
   "metadata": {},
   "outputs": [],
   "source": [
    "from map_maker import generate_map"
   ]
  },
  {
   "cell_type": "markdown",
   "metadata": {},
   "source": [
    "## Data\n",
    "All data in this project comes from the Central Bureau of Statistics (CBS). The CBS is a Dutch government organization whose main task is to make statistics on societal topics and publish them. Think of subjects like population growth, inflation, crime, imports and exports, etc. But therefore also topics such as corona, mobility and data per municipality/region. This data is collected by CBS by surveying companies, individuals, but also by analyzing registers. CBS is a reputable government organization that has reliable information because they have lots and lots of good data. Moreover, they always indicate in their data how precise the data is by always indicating the upper and lower bound of the data. Moreover, they always state how they calculated the data and what exactly the data indicates. \n",
    "\n",
    "#### This project used two datasets from CBS, Mobility Data (2018-2023) and Geospatial Data (Wijk- en Buurtkaart 2020)."
   ]
  },
  {
   "cell_type": "markdown",
   "metadata": {},
   "source": [
    "**Mobility data (2018-2023).**\n",
    "\n",
    "The mobility dataset provides a detailed overview of the travel behavior of Dutch citizens. Data is available on multiple modes of transportation, frequency of trips, and distances traveled, broken down by region and degree of urbanization.\n",
    "The dat contains the following columns:"
   ]
  },
  {
   "cell_type": "code",
   "execution_count": null,
   "metadata": {},
   "outputs": [],
   "source": [
    "# import pandas as pd\n",
    "\n",
    "# mobility_data = pd.read_csv(\"\")\n",
    "\n",
    "# mobility_data.head()"
   ]
  },
  {
   "cell_type": "markdown",
   "metadata": {},
   "source": [
    "**Geospatial data (Wijk- en buurtkaart 2020).**\n",
    "\n",
    "The geospatial dataset provides geographic information at the neighbourhood and district level. This map contains spatial classifications of the Netherlands, including detailed descriptions of areas such as degree of urbanisation and socioeconomic characteristics. Linking this data to the mobility data makes the data easier to understand, as the data can be linked to the different municipalities in the Netherlands.\n",
    "There is a lot of data in this file, but here are the main columns, look especially Here for more information about this dataset.\n"
   ]
  },
  {
   "cell_type": "code",
   "execution_count": null,
   "metadata": {},
   "outputs": [],
   "source": [
    "import geopandas as gpd\n",
    "\n",
    "gemeenten = gpd.read_file('WijkBuurtkaart_2020_v3/gemeente_2020_v3.shp')\n",
    "\n",
    "gemeenten.head()"
   ]
  },
  {
   "cell_type": "markdown",
   "metadata": {},
   "source": [
    "### Data Transformation\n",
    "\n",
    "The CBS data was very unclearly structured, using many codes, making it difficult to decipher exactly what was in each line. Therefore, we decided to make the information in the rows readable by converting codes to readable values. We went from XXX\n",
    "To XXX. To do this, function XXX was used.\n",
    "\n",
    "What is also important to mention is that we only used the value and not the upper and lower bound. We know CBS has good data, so we chose for simplicity to use only the value. \n"
   ]
  },
  {
   "cell_type": "markdown",
   "metadata": {},
   "source": [
    "\n",
    "\n",
    "### Information urbanization rate\n",
    "\n",
    "To get a good idea of the different degrees of urbanization, we created a plot that looks at the degree of urbanization for each municipality. This makes the data we put down further in the report a lot easier to understand because the reader can relate it to the different municipalities in the Netherlands."
   ]
  },
  {
   "cell_type": "code",
   "execution_count": null,
   "metadata": {},
   "outputs": [],
   "source": [
    "generate_map('WijkBuurtkaart_2020_v3/gemeente_2020_v3.shp')"
   ]
  }
 ],
 "metadata": {
  "kernelspec": {
   "display_name": "TIL6022",
   "language": "python",
   "name": "python3"
  },
  "language_info": {
   "codemirror_mode": {
    "name": "ipython",
    "version": 3
   },
   "file_extension": ".py",
   "mimetype": "text/x-python",
   "name": "python",
   "nbconvert_exporter": "python",
   "pygments_lexer": "ipython3",
   "version": "3.12.4"
  }
 },
 "nbformat": 4,
 "nbformat_minor": 2
}
