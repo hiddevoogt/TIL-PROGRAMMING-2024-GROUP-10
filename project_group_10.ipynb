{
 "cells": [
  {
   "cell_type": "markdown",
   "metadata": {},
   "source": [
    "# Project Group - 10\n",
    "\n",
    "Splinter Groenink: 5170672  \n",
    "Ton van Mameren: 6108466  \n",
    "Gijs Volkers: 5295920   \n",
    "Hidde Voogt: 5886694  \n",
    "Justin Wagenaar: 5088259\n",
    "\n"
   ]
  },
  {
   "cell_type": "markdown",
   "metadata": {},
   "source": [
    "# Research Objective\n",
    "\n",
    "\n",
    "The COVID-19 pandemic caused big changes to human's travel behaviour. Research shows that the main reasons for travel, choice of transportation mode, travel distance, and trip frequency for primary journeys differed considerably before and during the pandemic. For example there was a notable shift from public transportation toward private vehicles and non-motorized modes (Abdullah et al., 2020). There is not much research about how this behaviour changed after the pandemic. Another intersting question is about whether there also is a difference on people's travel behaviour depending on where they live. To answer these questions, this report adresses the following research question: \n",
    "\n",
    "What are the differences in transportation modes used in different urbanization-level areas before, during, and after the COVID-19 pandemic?\n",
    "\n",
    "This research question is answered with the following subquestions:\n",
    "\n",
    "- How did the amount of travel time change across periods in different urbanization levels (in hours)? This subquestion investigates how the total time people spent traveling shifted during the pandemic. Examining changes in travel time across urban, suburban, and rural areas can reveal how individuals in different settings adapted their travel habits in response to the pandemic.\n",
    "\n",
    "- How did passenger kilometers vary across different periods in the different urbanization levels? Passenger kilometers measure the distance traveled per person across various transportation modes. By assessing this statistic across urbanization levels, shifts in overall travel distances can be understood. Changes in passenger kilometers provide insight into whether people in various regions continued commuting long distances or opted for shorter, more localized travel.\n",
    "\n",
    "- How did the number of trips vary across different transportation modes and periods? This question examines the frequency of trips taken across different transportation modes (e.g., cars, public transit, bicycles) during the pandemic. By tracking trip frequency over time, this analysis reveals shifts in transportation preferences and the extent to which different modes were utilized or avoided. This is particularly relevant for public transportation, which was heavily impacted by health concerns and restrictions.\n",
    "\n",
    "In the first section the datasources and the data pipeline is explained. Afterwards, each subquestion is answered and visualised. Finally the report ends with a conclusion to summarise the findings from the data.\n",
    "\n",
    "\n",
    "\n"
   ]
  },
  {
   "cell_type": "markdown",
   "metadata": {},
   "source": [
    "# Contribution Statement"
   ]
  },
  {
   "cell_type": "markdown",
   "metadata": {},
   "source": [
    "\n",
    "**Splinter Groenink**: Distance subquestion & discussion\n",
    "\n",
    "**Ton van Mameren**: Trips subquestion\n",
    "\n",
    "**Gijs Volkers**: Data, Data processing & map plot\n",
    "\n",
    "**Hidde Voogt**: Travel hours subquestion & conclusion\n",
    "\n",
    "**Justin Wagenaar**: Animated plots & introduction"
   ]
  },
  {
   "cell_type": "code",
   "execution_count": 13,
   "metadata": {},
   "outputs": [],
   "source": [
    "# Import necessary packages and helper functions\n",
    "\n",
    "from helper_functions.data_rename import make_named_clean_dataset\n",
    "from helper_functions.map_maker import generate_map\n",
    "import pandas as pd\n",
    "import geopandas as gpd\n",
    "import matplotlib.pyplot as plt\n",
    "import seaborn as sns\n",
    "import plotly.express as px  # Ensure Plotly is also imported here\n",
    "# import mplcursors\n",
    "\n",
    "from helper_functions.functions_trips import *\n",
    "from helper_functions.passenger_km_time import passenger_prop_plot, passenger_km_plot\n",
    "\n",
    "from helper_functions.barplot_animation import barplotanimation  # Import the function correctly\n",
    "\n",
    "from helper_functions.Function_Travel_Hours import plot_travelminutes\n",
    "\n"
   ]
  },
  {
   "cell_type": "markdown",
   "metadata": {},
   "source": [
    "# Data Used"
   ]
  },
  {
   "cell_type": "markdown",
   "metadata": {},
   "source": [
    "All data in this project comes from the Central Bureau of Statistics (CBS). The CBS is a Dutch government organization whose main task is to make statistics on societal topics and publish them. Think of subjects like population growth, inflation, crime, imports and exports, etc. But therefore also topics such as corona, mobility and data per municipality/region. This data is collected by CBS by surveying companies, individuals, but also by analyzing registers. CBS is a reputable government organization that has reliable information because they have lots and lots of good data. Moreover, they always indicate in their data how precise the data is by always indicating the upper and lower bound of the data. Moreover, they always state how they calculated the data and what exactly the data indicates. \n",
    "\n",
    "#### This project used two datasets from CBS, Mobility Data (2018-2023) and Geospatial Data (Wijk- en Buurtkaart 2020)."
   ]
  },
  {
   "cell_type": "markdown",
   "metadata": {},
   "source": [
    "**Mobility data (2018-2023).**\n",
    "\n",
    "The mobility dataset provides a detailed overview of the travel behavior of Dutch citizens. Data is available on multiple modes of transportation, frequency of trips, and distances traveled, broken down by region and degree of urbanization.\n",
    "The dat contains the following columns:"
   ]
  },
  {
   "cell_type": "code",
   "execution_count": null,
   "metadata": {},
   "outputs": [],
   "source": [
    "# Open and show mobility data\n",
    "\n",
    "file_path = 'oud/84710ENG_TypedDataSet_30092024_142837.csv'\n",
    "\n",
    "data_raw = pd.read_csv(file_path, delimiter=';', encoding='utf-8')\n",
    "\n",
    "data_raw.head()"
   ]
  },
  {
   "cell_type": "markdown",
   "metadata": {},
   "source": [
    "**Geospatial data (Wijk- en buurtkaart 2020).**\n",
    "\n",
    "The geospatial dataset provides geographic information at the neighbourhood and district level. This map contains spatial classifications of the Netherlands, including detailed descriptions of areas such as degree of urbanisation and socioeconomic characteristics. Linking this data to the mobility data makes the data easier to understand, as the data can be linked to the different municipalities in the Netherlands.\n",
    "There is a lot of data in this file, but here are the main columns, look especially Here for more information about this dataset.\n"
   ]
  },
  {
   "cell_type": "code",
   "execution_count": 20,
   "metadata": {},
   "outputs": [
    {
     "ename": "DriverError",
     "evalue": "WijkBuurtkaart_2020_v3/gemeente_2020_v3.shp: No such file or directory",
     "output_type": "error",
     "traceback": [
      "\u001b[1;31m---------------------------------------------------------------------------\u001b[0m",
      "\u001b[1;31mCPLE_OpenFailedError\u001b[0m                      Traceback (most recent call last)",
      "File \u001b[1;32mfiona\\\\ogrext.pyx:136\u001b[0m, in \u001b[0;36mfiona.ogrext.gdal_open_vector\u001b[1;34m()\u001b[0m\n",
      "File \u001b[1;32mfiona\\\\_err.pyx:291\u001b[0m, in \u001b[0;36mfiona._err.exc_wrap_pointer\u001b[1;34m()\u001b[0m\n",
      "\u001b[1;31mCPLE_OpenFailedError\u001b[0m: WijkBuurtkaart_2020_v3/gemeente_2020_v3.shp: No such file or directory",
      "\nDuring handling of the above exception, another exception occurred:\n",
      "\u001b[1;31mDriverError\u001b[0m                               Traceback (most recent call last)",
      "Cell \u001b[1;32mIn[20], line 3\u001b[0m\n\u001b[0;32m      1\u001b[0m \u001b[38;5;66;03m# Open and show geospatial data\u001b[39;00m\n\u001b[1;32m----> 3\u001b[0m gemeenten \u001b[38;5;241m=\u001b[39m gpd\u001b[38;5;241m.\u001b[39mread_file(\u001b[38;5;124m'\u001b[39m\u001b[38;5;124mWijkBuurtkaart_2020_v3/gemeente_2020_v3.shp\u001b[39m\u001b[38;5;124m'\u001b[39m)\n\u001b[0;32m      5\u001b[0m gemeenten\u001b[38;5;241m.\u001b[39mhead()\n",
      "File \u001b[1;32mc:\\ProgramData\\anaconda3\\envs\\TIL6022\\Lib\\site-packages\\geopandas\\io\\file.py:297\u001b[0m, in \u001b[0;36m_read_file\u001b[1;34m(filename, bbox, mask, rows, engine, **kwargs)\u001b[0m\n\u001b[0;32m    294\u001b[0m     \u001b[38;5;28;01melse\u001b[39;00m:\n\u001b[0;32m    295\u001b[0m         path_or_bytes \u001b[38;5;241m=\u001b[39m filename\n\u001b[1;32m--> 297\u001b[0m     \u001b[38;5;28;01mreturn\u001b[39;00m _read_file_fiona(\n\u001b[0;32m    298\u001b[0m         path_or_bytes, from_bytes, bbox\u001b[38;5;241m=\u001b[39mbbox, mask\u001b[38;5;241m=\u001b[39mmask, rows\u001b[38;5;241m=\u001b[39mrows, \u001b[38;5;241m*\u001b[39m\u001b[38;5;241m*\u001b[39mkwargs\n\u001b[0;32m    299\u001b[0m     )\n\u001b[0;32m    301\u001b[0m \u001b[38;5;28;01melse\u001b[39;00m:\n\u001b[0;32m    302\u001b[0m     \u001b[38;5;28;01mraise\u001b[39;00m \u001b[38;5;167;01mValueError\u001b[39;00m(\u001b[38;5;124mf\u001b[39m\u001b[38;5;124m\"\u001b[39m\u001b[38;5;124munknown engine \u001b[39m\u001b[38;5;124m'\u001b[39m\u001b[38;5;132;01m{\u001b[39;00mengine\u001b[38;5;132;01m}\u001b[39;00m\u001b[38;5;124m'\u001b[39m\u001b[38;5;124m\"\u001b[39m)\n",
      "File \u001b[1;32mc:\\ProgramData\\anaconda3\\envs\\TIL6022\\Lib\\site-packages\\geopandas\\io\\file.py:338\u001b[0m, in \u001b[0;36m_read_file_fiona\u001b[1;34m(path_or_bytes, from_bytes, bbox, mask, rows, where, **kwargs)\u001b[0m\n\u001b[0;32m    335\u001b[0m     reader \u001b[38;5;241m=\u001b[39m fiona\u001b[38;5;241m.\u001b[39mopen\n\u001b[0;32m    337\u001b[0m \u001b[38;5;28;01mwith\u001b[39;00m fiona_env():\n\u001b[1;32m--> 338\u001b[0m     \u001b[38;5;28;01mwith\u001b[39;00m reader(path_or_bytes, \u001b[38;5;241m*\u001b[39m\u001b[38;5;241m*\u001b[39mkwargs) \u001b[38;5;28;01mas\u001b[39;00m features:\n\u001b[0;32m    339\u001b[0m         crs \u001b[38;5;241m=\u001b[39m features\u001b[38;5;241m.\u001b[39mcrs_wkt\n\u001b[0;32m    340\u001b[0m         \u001b[38;5;66;03m# attempt to get EPSG code\u001b[39;00m\n",
      "File \u001b[1;32mc:\\ProgramData\\anaconda3\\envs\\TIL6022\\Lib\\site-packages\\fiona\\env.py:457\u001b[0m, in \u001b[0;36mensure_env_with_credentials.<locals>.wrapper\u001b[1;34m(*args, **kwds)\u001b[0m\n\u001b[0;32m    454\u001b[0m     session \u001b[38;5;241m=\u001b[39m DummySession()\n\u001b[0;32m    456\u001b[0m \u001b[38;5;28;01mwith\u001b[39;00m env_ctor(session\u001b[38;5;241m=\u001b[39msession):\n\u001b[1;32m--> 457\u001b[0m     \u001b[38;5;28;01mreturn\u001b[39;00m f(\u001b[38;5;241m*\u001b[39margs, \u001b[38;5;241m*\u001b[39m\u001b[38;5;241m*\u001b[39mkwds)\n",
      "File \u001b[1;32mc:\\ProgramData\\anaconda3\\envs\\TIL6022\\Lib\\site-packages\\fiona\\__init__.py:292\u001b[0m, in \u001b[0;36mopen\u001b[1;34m(fp, mode, driver, schema, crs, encoding, layer, vfs, enabled_drivers, crs_wkt, allow_unsupported_drivers, **kwargs)\u001b[0m\n\u001b[0;32m    289\u001b[0m     path \u001b[38;5;241m=\u001b[39m parse_path(fp)\n\u001b[0;32m    291\u001b[0m \u001b[38;5;28;01mif\u001b[39;00m mode \u001b[38;5;129;01min\u001b[39;00m (\u001b[38;5;124m\"\u001b[39m\u001b[38;5;124ma\u001b[39m\u001b[38;5;124m\"\u001b[39m, \u001b[38;5;124m\"\u001b[39m\u001b[38;5;124mr\u001b[39m\u001b[38;5;124m\"\u001b[39m):\n\u001b[1;32m--> 292\u001b[0m     colxn \u001b[38;5;241m=\u001b[39m Collection(\n\u001b[0;32m    293\u001b[0m         path,\n\u001b[0;32m    294\u001b[0m         mode,\n\u001b[0;32m    295\u001b[0m         driver\u001b[38;5;241m=\u001b[39mdriver,\n\u001b[0;32m    296\u001b[0m         encoding\u001b[38;5;241m=\u001b[39mencoding,\n\u001b[0;32m    297\u001b[0m         layer\u001b[38;5;241m=\u001b[39mlayer,\n\u001b[0;32m    298\u001b[0m         enabled_drivers\u001b[38;5;241m=\u001b[39menabled_drivers,\n\u001b[0;32m    299\u001b[0m         allow_unsupported_drivers\u001b[38;5;241m=\u001b[39mallow_unsupported_drivers,\n\u001b[0;32m    300\u001b[0m         \u001b[38;5;241m*\u001b[39m\u001b[38;5;241m*\u001b[39mkwargs\n\u001b[0;32m    301\u001b[0m     )\n\u001b[0;32m    302\u001b[0m \u001b[38;5;28;01melif\u001b[39;00m mode \u001b[38;5;241m==\u001b[39m \u001b[38;5;124m\"\u001b[39m\u001b[38;5;124mw\u001b[39m\u001b[38;5;124m\"\u001b[39m:\n\u001b[0;32m    303\u001b[0m     colxn \u001b[38;5;241m=\u001b[39m Collection(\n\u001b[0;32m    304\u001b[0m         path,\n\u001b[0;32m    305\u001b[0m         mode,\n\u001b[1;32m   (...)\u001b[0m\n\u001b[0;32m    314\u001b[0m         \u001b[38;5;241m*\u001b[39m\u001b[38;5;241m*\u001b[39mkwargs\n\u001b[0;32m    315\u001b[0m     )\n",
      "File \u001b[1;32mc:\\ProgramData\\anaconda3\\envs\\TIL6022\\Lib\\site-packages\\fiona\\collection.py:243\u001b[0m, in \u001b[0;36mCollection.__init__\u001b[1;34m(self, path, mode, driver, schema, crs, encoding, layer, vsi, archive, enabled_drivers, crs_wkt, ignore_fields, ignore_geometry, include_fields, wkt_version, allow_unsupported_drivers, **kwargs)\u001b[0m\n\u001b[0;32m    241\u001b[0m \u001b[38;5;28;01mif\u001b[39;00m \u001b[38;5;28mself\u001b[39m\u001b[38;5;241m.\u001b[39mmode \u001b[38;5;241m==\u001b[39m \u001b[38;5;124m\"\u001b[39m\u001b[38;5;124mr\u001b[39m\u001b[38;5;124m\"\u001b[39m:\n\u001b[0;32m    242\u001b[0m     \u001b[38;5;28mself\u001b[39m\u001b[38;5;241m.\u001b[39msession \u001b[38;5;241m=\u001b[39m Session()\n\u001b[1;32m--> 243\u001b[0m     \u001b[38;5;28mself\u001b[39m\u001b[38;5;241m.\u001b[39msession\u001b[38;5;241m.\u001b[39mstart(\u001b[38;5;28mself\u001b[39m, \u001b[38;5;241m*\u001b[39m\u001b[38;5;241m*\u001b[39mkwargs)\n\u001b[0;32m    244\u001b[0m \u001b[38;5;28;01melif\u001b[39;00m \u001b[38;5;28mself\u001b[39m\u001b[38;5;241m.\u001b[39mmode \u001b[38;5;129;01min\u001b[39;00m (\u001b[38;5;124m\"\u001b[39m\u001b[38;5;124ma\u001b[39m\u001b[38;5;124m\"\u001b[39m, \u001b[38;5;124m\"\u001b[39m\u001b[38;5;124mw\u001b[39m\u001b[38;5;124m\"\u001b[39m):\n\u001b[0;32m    245\u001b[0m     \u001b[38;5;28mself\u001b[39m\u001b[38;5;241m.\u001b[39msession \u001b[38;5;241m=\u001b[39m WritingSession()\n",
      "File \u001b[1;32mfiona\\\\ogrext.pyx:588\u001b[0m, in \u001b[0;36mfiona.ogrext.Session.start\u001b[1;34m()\u001b[0m\n",
      "File \u001b[1;32mfiona\\\\ogrext.pyx:143\u001b[0m, in \u001b[0;36mfiona.ogrext.gdal_open_vector\u001b[1;34m()\u001b[0m\n",
      "\u001b[1;31mDriverError\u001b[0m: WijkBuurtkaart_2020_v3/gemeente_2020_v3.shp: No such file or directory"
     ]
    }
   ],
   "source": [
    "# Open and show geospatial data\n",
    "\n",
    "gemeenten = gpd.read_file('WijkBuurtkaart_2020_v3/gemeente_2020_v3.shp')\n",
    "\n",
    "gemeenten.head()"
   ]
  },
  {
   "cell_type": "markdown",
   "metadata": {},
   "source": [
    "### Data Transformation\n",
    "\n",
    "The CBS data was very unclearly structured, using many codes, making it difficult to decipher exactly what was in each line. Therefore, we decided to make the information in the rows readable by converting codes to readable values.\n",
    "\n",
    "What is also important to mention is that we only used the value and not the upper and lower bound. We know CBS has good data, so we chose for simplicity to use only the value. \n"
   ]
  },
  {
   "cell_type": "code",
   "execution_count": 15,
   "metadata": {},
   "outputs": [
    {
     "name": "stdout",
     "output_type": "stream",
     "text": [
      "Named And Cleaned Data After Dropping Missing Values: (1698, 13) \n",
      "\n"
     ]
    },
    {
     "data": {
      "text/html": [
       "<div>\n",
       "<style scoped>\n",
       "    .dataframe tbody tr th:only-of-type {\n",
       "        vertical-align: middle;\n",
       "    }\n",
       "\n",
       "    .dataframe tbody tr th {\n",
       "        vertical-align: top;\n",
       "    }\n",
       "\n",
       "    .dataframe thead th {\n",
       "        text-align: right;\n",
       "    }\n",
       "</style>\n",
       "<table border=\"1\" class=\"dataframe\">\n",
       "  <thead>\n",
       "    <tr style=\"text-align: right;\">\n",
       "      <th></th>\n",
       "      <th>ID</th>\n",
       "      <th>Trips_Per_Day</th>\n",
       "      <th>Distance_Travelled_PassengerKm_Per_Day</th>\n",
       "      <th>Time_Travelled_Minutes_Per_Day</th>\n",
       "      <th>Trips_Per_Year</th>\n",
       "      <th>Distance_Travelled_PassengerKm_Per_Year</th>\n",
       "      <th>Time_Travelled_Hours_Per_Year</th>\n",
       "      <th>TravelMotives</th>\n",
       "      <th>Population</th>\n",
       "      <th>TravelModes</th>\n",
       "      <th>Margins</th>\n",
       "      <th>RegionCharacteristics</th>\n",
       "      <th>Period</th>\n",
       "    </tr>\n",
       "  </thead>\n",
       "  <tbody>\n",
       "    <tr>\n",
       "      <th>102</th>\n",
       "      <td>102</td>\n",
       "      <td>2.70</td>\n",
       "      <td>32.66</td>\n",
       "      <td>77.71</td>\n",
       "      <td>987.0</td>\n",
       "      <td>11922.0</td>\n",
       "      <td>472.7</td>\n",
       "      <td>Total</td>\n",
       "      <td>Population 6 years or older</td>\n",
       "      <td>Total</td>\n",
       "      <td>Value</td>\n",
       "      <td>Extremely urbanised</td>\n",
       "      <td>2018</td>\n",
       "    </tr>\n",
       "    <tr>\n",
       "      <th>103</th>\n",
       "      <td>103</td>\n",
       "      <td>2.59</td>\n",
       "      <td>31.41</td>\n",
       "      <td>76.64</td>\n",
       "      <td>947.0</td>\n",
       "      <td>11464.0</td>\n",
       "      <td>466.2</td>\n",
       "      <td>Total</td>\n",
       "      <td>Population 6 years or older</td>\n",
       "      <td>Total</td>\n",
       "      <td>Value</td>\n",
       "      <td>Extremely urbanised</td>\n",
       "      <td>2019</td>\n",
       "    </tr>\n",
       "    <tr>\n",
       "      <th>104</th>\n",
       "      <td>104</td>\n",
       "      <td>2.14</td>\n",
       "      <td>20.77</td>\n",
       "      <td>61.54</td>\n",
       "      <td>782.0</td>\n",
       "      <td>7601.0</td>\n",
       "      <td>375.4</td>\n",
       "      <td>Total</td>\n",
       "      <td>Population 6 years or older</td>\n",
       "      <td>Total</td>\n",
       "      <td>Value</td>\n",
       "      <td>Extremely urbanised</td>\n",
       "      <td>2020</td>\n",
       "    </tr>\n",
       "    <tr>\n",
       "      <th>105</th>\n",
       "      <td>105</td>\n",
       "      <td>2.33</td>\n",
       "      <td>23.02</td>\n",
       "      <td>71.00</td>\n",
       "      <td>852.0</td>\n",
       "      <td>8402.0</td>\n",
       "      <td>431.9</td>\n",
       "      <td>Total</td>\n",
       "      <td>Population 6 years or older</td>\n",
       "      <td>Total</td>\n",
       "      <td>Value</td>\n",
       "      <td>Extremely urbanised</td>\n",
       "      <td>2021</td>\n",
       "    </tr>\n",
       "    <tr>\n",
       "      <th>106</th>\n",
       "      <td>106</td>\n",
       "      <td>2.52</td>\n",
       "      <td>25.44</td>\n",
       "      <td>72.81</td>\n",
       "      <td>918.0</td>\n",
       "      <td>9287.0</td>\n",
       "      <td>442.9</td>\n",
       "      <td>Total</td>\n",
       "      <td>Population 6 years or older</td>\n",
       "      <td>Total</td>\n",
       "      <td>Value</td>\n",
       "      <td>Extremely urbanised</td>\n",
       "      <td>2022</td>\n",
       "    </tr>\n",
       "  </tbody>\n",
       "</table>\n",
       "</div>"
      ],
      "text/plain": [
       "      ID  Trips_Per_Day  Distance_Travelled_PassengerKm_Per_Day  \\\n",
       "102  102           2.70                                   32.66   \n",
       "103  103           2.59                                   31.41   \n",
       "104  104           2.14                                   20.77   \n",
       "105  105           2.33                                   23.02   \n",
       "106  106           2.52                                   25.44   \n",
       "\n",
       "     Time_Travelled_Minutes_Per_Day  Trips_Per_Year  \\\n",
       "102                           77.71           987.0   \n",
       "103                           76.64           947.0   \n",
       "104                           61.54           782.0   \n",
       "105                           71.00           852.0   \n",
       "106                           72.81           918.0   \n",
       "\n",
       "     Distance_Travelled_PassengerKm_Per_Year  Time_Travelled_Hours_Per_Year  \\\n",
       "102                                  11922.0                          472.7   \n",
       "103                                  11464.0                          466.2   \n",
       "104                                   7601.0                          375.4   \n",
       "105                                   8402.0                          431.9   \n",
       "106                                   9287.0                          442.9   \n",
       "\n",
       "    TravelMotives                   Population TravelModes Margins  \\\n",
       "102         Total  Population 6 years or older       Total   Value   \n",
       "103         Total  Population 6 years or older       Total   Value   \n",
       "104         Total  Population 6 years or older       Total   Value   \n",
       "105         Total  Population 6 years or older       Total   Value   \n",
       "106         Total  Population 6 years or older       Total   Value   \n",
       "\n",
       "    RegionCharacteristics Period  \n",
       "102   Extremely urbanised   2018  \n",
       "103   Extremely urbanised   2019  \n",
       "104   Extremely urbanised   2020  \n",
       "105   Extremely urbanised   2021  \n",
       "106   Extremely urbanised   2022  "
      ]
     },
     "execution_count": 15,
     "metadata": {},
     "output_type": "execute_result"
    }
   ],
   "source": [
    "# Transform the dataset to make it readable\n",
    "\n",
    "data = make_named_clean_dataset(data_raw)\n",
    "\n",
    "data.head()"
   ]
  },
  {
   "cell_type": "markdown",
   "metadata": {},
   "source": [
    "\n",
    "\n",
    "### Information urbanization rate\n",
    "\n",
    "To get a good idea of the different degrees of urbanization, we created a plot that looks at the degree of urbanization for each municipality. This makes the data we put down further in the report a lot easier to understand because the reader can relate it to the different municipalities in the Netherlands."
   ]
  },
  {
   "cell_type": "code",
   "execution_count": null,
   "metadata": {},
   "outputs": [],
   "source": [
    "generate_map('WijkBuurtkaart_2020_v3/gemeente_2020_v3.shp')"
   ]
  },
  {
   "cell_type": "markdown",
   "metadata": {},
   "source": [
    "## Figures\n",
    "\n",
    "We used Plotly for most of the graphs, however, **plotly graphs cannot be renderen in github online**. We added the pictures of the plots in the report if you do not want to download the reporisory. If you download the report you will be able to see the plots like they were intended."
   ]
  },
  {
   "cell_type": "markdown",
   "metadata": {},
   "source": [
    "# Data Pipeline"
   ]
  },
  {
   "cell_type": "markdown",
   "metadata": {},
   "source": [
    "**How did amount of travel time across periods in the different urbanisation levels (in hours) ?**\n",
    "\n",
    "Understanding the variation travel time for passengers before, during and after the COVID-19 pandemic indicates how travel behaviour might have changed due to the pandemic. These results are cross-checked with the level of urbanisation and provides new insights. A variation of graphs are presented below. Both the graphs contain data from 2018-2023. The COVID-19 pandemic had significant effects on the travel time in 2020, as time furthers travel time augments again. The line plot displays, in line with the expectation, a sharp decline in travel time in 2020 (during the first 'hard'lock-down). It then continues to rise but not evenly across urbanisation level. The areas which were labelled as 'not urbanised' did not climb as fast as the other levels of urbanisation. This could, perhaps, be attributed to the amount of people that work 'remote' and would have to travel further than other people in different urbanisation areas. \n",
    "\n",
    "\n",
    "The heatmap underscores these trends with a visual representation of travel time variations. Brighter colors, indicating higher travel times, show a clear decline in 2020 across all regions. However, in the post-pandemic years, the colors reveal a gradual return to increased travel, with urbanized regions showing a more intense recovery. Notably, areas with lower urbanization remain shaded in darker colors, signaling that pre-COVID levels have yet to fully return.\n",
    "\n",
    "These findings suggest that remote work and telecommuting may have a lasting impact, particularly in non-urbanized areas, where travel patterns may have fundamentally shifted due to the pandemic. This data could indicate a new equilibrium for travel demand, especially if remote work policies persist"
   ]
  },
  {
   "attachments": {
    "image-2.png": {
     "image/png": "[encoded data removed]"
    },
    "image-3.png": {
     "image/png": "[encoded data removed]"
    },
    "image.png": {
     "image/png": "[encoded data removed]"
    }
   },
   "cell_type": "markdown",
   "metadata": {},
   "source": [
    "**Images because github is not able to handle plotly graphs** \n",
    "![image.png](attachment:image.png)\n",
    "![image-2.png](attachment:image-2.png)\n",
    "![image-3.png](attachment:image-3.png)"
   ]
  },
  {
   "cell_type": "code",
   "execution_count": 16,
   "metadata": {},
   "outputs": [
    {
     "data": {
      "application/vnd.plotly.v1+json": {
       "config": {
        "plotlyServerURL": "https://plot.ly"
       },
       "data": [
        {
         "hovertemplate": "Region Characteristics=Extremely urbanised<br>Time Period=%{x}<br>Travel Time (Hours/Year)=%{y}<extra></extra>",
         "legendgroup": "Extremely urbanised",
         "line": {
          "color": "#636efa",
          "dash": "solid"
         },
         "marker": {
          "symbol": "circle"
         },
         "mode": "lines+markers",
         "name": "Extremely urbanised",
         "orientation": "v",
         "showlegend": true,
         "type": "scatter",
         "x": [
          2018,
          2019,
          2020,
          2021,
          2022,
          2023
         ],
         "xaxis": "x",
         "y": [
          1869.8,
          1844.8,
          1486.4,
          1715.3,
          1756.8,
          1806.4
         ],
         "yaxis": "y"
        },
        {
         "hovertemplate": "Region Characteristics=Hardly urbanised<br>Time Period=%{x}<br>Travel Time (Hours/Year)=%{y}<extra></extra>",
         "legendgroup": "Hardly urbanised",
         "line": {
          "color": "#EF553B",
          "dash": "solid"
         },
         "marker": {
          "symbol": "circle"
         },
         "mode": "lines+markers",
         "name": "Hardly urbanised",
         "orientation": "v",
         "showlegend": true,
         "type": "scatter",
         "x": [
          2018,
          2019,
          2020,
          2021,
          2022,
          2023
         ],
         "xaxis": "x",
         "y": [
          1762.1,
          1736.6,
          1487.8999999999999,
          1678.3,
          1743.7,
          1728.6
         ],
         "yaxis": "y"
        },
        {
         "hovertemplate": "Region Characteristics=Moderately urbanised<br>Time Period=%{x}<br>Travel Time (Hours/Year)=%{y}<extra></extra>",
         "legendgroup": "Moderately urbanised",
         "line": {
          "color": "#00cc96",
          "dash": "solid"
         },
         "marker": {
          "symbol": "circle"
         },
         "mode": "lines+markers",
         "name": "Moderately urbanised",
         "orientation": "v",
         "showlegend": true,
         "type": "scatter",
         "x": [
          2018,
          2019,
          2020,
          2021,
          2022,
          2023
         ],
         "xaxis": "x",
         "y": [
          1758.2,
          1768.8,
          1505.9,
          1637.1,
          1772.1,
          1757.1
         ],
         "yaxis": "y"
        },
        {
         "hovertemplate": "Region Characteristics=Not urbanised<br>Time Period=%{x}<br>Travel Time (Hours/Year)=%{y}<extra></extra>",
         "legendgroup": "Not urbanised",
         "line": {
          "color": "#ab63fa",
          "dash": "solid"
         },
         "marker": {
          "symbol": "circle"
         },
         "mode": "lines+markers",
         "name": "Not urbanised",
         "orientation": "v",
         "showlegend": true,
         "type": "scatter",
         "x": [
          2018,
          2019,
          2020,
          2021,
          2022,
          2023
         ],
         "xaxis": "x",
         "y": [
          1636.5,
          1722.2,
          1466.1,
          1680.7,
          1647.1,
          1695.9
         ],
         "yaxis": "y"
        },
        {
         "hovertemplate": "Region Characteristics=Strongly urbanised<br>Time Period=%{x}<br>Travel Time (Hours/Year)=%{y}<extra></extra>",
         "legendgroup": "Strongly urbanised",
         "line": {
          "color": "#FFA15A",
          "dash": "solid"
         },
         "marker": {
          "symbol": "circle"
         },
         "mode": "lines+markers",
         "name": "Strongly urbanised",
         "orientation": "v",
         "showlegend": true,
         "type": "scatter",
         "x": [
          2018,
          2019,
          2020,
          2021,
          2022,
          2023
         ],
         "xaxis": "x",
         "y": [
          1811.6,
          1786,
          1489.3,
          1664.5,
          1750.9,
          1784.6
         ],
         "yaxis": "y"
        }
       ],
       "layout": {
        "font": {
         "family": "Arial",
         "size": 14
        },
        "legend": {
         "title": {
          "text": "Regions"
         },
         "tracegroupgap": 0
        },
        "template": {
         "data": {
          "bar": [
           {
            "error_x": {
             "color": "#2a3f5f"
            },
            "error_y": {
             "color": "#2a3f5f"
            },
            "marker": {
             "line": {
              "color": "white",
              "width": 0.5
             },
             "pattern": {
              "fillmode": "overlay",
              "size": 10,
              "solidity": 0.2
             }
            },
            "type": "bar"
           }
          ],
          "barpolar": [
           {
            "marker": {
             "line": {
              "color": "white",
              "width": 0.5
             },
             "pattern": {
              "fillmode": "overlay",
              "size": 10,
              "solidity": 0.2
             }
            },
            "type": "barpolar"
           }
          ],
          "carpet": [
           {
            "aaxis": {
             "endlinecolor": "#2a3f5f",
             "gridcolor": "#C8D4E3",
             "linecolor": "#C8D4E3",
             "minorgridcolor": "#C8D4E3",
             "startlinecolor": "#2a3f5f"
            },
            "baxis": {
             "endlinecolor": "#2a3f5f",
             "gridcolor": "#C8D4E3",
             "linecolor": "#C8D4E3",
             "minorgridcolor": "#C8D4E3",
             "startlinecolor": "#2a3f5f"
            },
            "type": "carpet"
           }
          ],
          "choropleth": [
           {
            "colorbar": {
             "outlinewidth": 0,
             "ticks": ""
            },
            "type": "choropleth"
           }
          ],
          "contour": [
           {
            "colorbar": {
             "outlinewidth": 0,
             "ticks": ""
            },
            "colorscale": [
             [
              0,
              "#0d0887"
             ],
             [
              0.1111111111111111,
              "#46039f"
             ],
             [
              0.2222222222222222,
              "#7201a8"
             ],
             [
              0.3333333333333333,
              "#9c179e"
             ],
             [
              0.4444444444444444,
              "#bd3786"
             ],
             [
              0.5555555555555556,
              "#d8576b"
             ],
             [
              0.6666666666666666,
              "#ed7953"
             ],
             [
              0.7777777777777778,
              "#fb9f3a"
             ],
             [
              0.8888888888888888,
              "#fdca26"
             ],
             [
              1,
              "#f0f921"
             ]
            ],
            "type": "contour"
           }
          ],
          "contourcarpet": [
           {
            "colorbar": {
             "outlinewidth": 0,
             "ticks": ""
            },
            "type": "contourcarpet"
           }
          ],
          "heatmap": [
           {
            "colorbar": {
             "outlinewidth": 0,
             "ticks": ""
            },
            "colorscale": [
             [
              0,
              "#0d0887"
             ],
             [
              0.1111111111111111,
              "#46039f"
             ],
             [
              0.2222222222222222,
              "#7201a8"
             ],
             [
              0.3333333333333333,
              "#9c179e"
             ],
             [
              0.4444444444444444,
              "#bd3786"
             ],
             [
              0.5555555555555556,
              "#d8576b"
             ],
             [
              0.6666666666666666,
              "#ed7953"
             ],
             [
              0.7777777777777778,
              "#fb9f3a"
             ],
             [
              0.8888888888888888,
              "#fdca26"
             ],
             [
              1,
              "#f0f921"
             ]
            ],
            "type": "heatmap"
           }
          ],
          "heatmapgl": [
           {
            "colorbar": {
             "outlinewidth": 0,
             "ticks": ""
            },
            "colorscale": [
             [
              0,
              "#0d0887"
             ],
             [
              0.1111111111111111,
              "#46039f"
             ],
             [
              0.2222222222222222,
              "#7201a8"
             ],
             [
              0.3333333333333333,
              "#9c179e"
             ],
             [
              0.4444444444444444,
              "#bd3786"
             ],
             [
              0.5555555555555556,
              "#d8576b"
             ],
             [
              0.6666666666666666,
              "#ed7953"
             ],
             [
              0.7777777777777778,
              "#fb9f3a"
             ],
             [
              0.8888888888888888,
              "#fdca26"
             ],
             [
              1,
              "#f0f921"
             ]
            ],
            "type": "heatmapgl"
           }
          ],
          "histogram": [
           {
            "marker": {
             "pattern": {
              "fillmode": "overlay",
              "size": 10,
              "solidity": 0.2
             }
            },
            "type": "histogram"
           }
          ],
          "histogram2d": [
           {
            "colorbar": {
             "outlinewidth": 0,
             "ticks": ""
            },
            "colorscale": [
             [
              0,
              "#0d0887"
             ],
             [
              0.1111111111111111,
              "#46039f"
             ],
             [
              0.2222222222222222,
              "#7201a8"
             ],
             [
              0.3333333333333333,
              "#9c179e"
             ],
             [
              0.4444444444444444,
              "#bd3786"
             ],
             [
              0.5555555555555556,
              "#d8576b"
             ],
             [
              0.6666666666666666,
              "#ed7953"
             ],
             [
              0.7777777777777778,
              "#fb9f3a"
             ],
             [
              0.8888888888888888,
              "#fdca26"
             ],
             [
              1,
              "#f0f921"
             ]
            ],
            "type": "histogram2d"
           }
          ],
          "histogram2dcontour": [
           {
            "colorbar": {
             "outlinewidth": 0,
             "ticks": ""
            },
            "colorscale": [
             [
              0,
              "#0d0887"
             ],
             [
              0.1111111111111111,
              "#46039f"
             ],
             [
              0.2222222222222222,
              "#7201a8"
             ],
             [
              0.3333333333333333,
              "#9c179e"
             ],
             [
              0.4444444444444444,
              "#bd3786"
             ],
             [
              0.5555555555555556,
              "#d8576b"
             ],
             [
              0.6666666666666666,
              "#ed7953"
             ],
             [
              0.7777777777777778,
              "#fb9f3a"
             ],
             [
              0.8888888888888888,
              "#fdca26"
             ],
             [
              1,
              "#f0f921"
             ]
            ],
            "type": "histogram2dcontour"
           }
          ],
          "mesh3d": [
           {
            "colorbar": {
             "outlinewidth": 0,
             "ticks": ""
            },
            "type": "mesh3d"
           }
          ],
          "parcoords": [
           {
            "line": {
             "colorbar": {
              "outlinewidth": 0,
              "ticks": ""
             }
            },
            "type": "parcoords"
           }
          ],
          "pie": [
           {
            "automargin": true,
            "type": "pie"
           }
          ],
          "scatter": [
           {
            "fillpattern": {
             "fillmode": "overlay",
             "size": 10,
             "solidity": 0.2
            },
            "type": "scatter"
           }
          ],
          "scatter3d": [
           {
            "line": {
             "colorbar": {
              "outlinewidth": 0,
              "ticks": ""
             }
            },
            "marker": {
             "colorbar": {
              "outlinewidth": 0,
              "ticks": ""
             }
            },
            "type": "scatter3d"
           }
          ],
          "scattercarpet": [
           {
            "marker": {
             "colorbar": {
              "outlinewidth": 0,
              "ticks": ""
             }
            },
            "type": "scattercarpet"
           }
          ],
          "scattergeo": [
           {
            "marker": {
             "colorbar": {
              "outlinewidth": 0,
              "ticks": ""
             }
            },
            "type": "scattergeo"
           }
          ],
          "scattergl": [
           {
            "marker": {
             "colorbar": {
              "outlinewidth": 0,
              "ticks": ""
             }
            },
            "type": "scattergl"
           }
          ],
          "scattermapbox": [
           {
            "marker": {
             "colorbar": {
              "outlinewidth": 0,
              "ticks": ""
             }
            },
            "type": "scattermapbox"
           }
          ],
          "scatterpolar": [
           {
            "marker": {
             "colorbar": {
              "outlinewidth": 0,
              "ticks": ""
             }
            },
            "type": "scatterpolar"
           }
          ],
          "scatterpolargl": [
           {
            "marker": {
             "colorbar": {
              "outlinewidth": 0,
              "ticks": ""
             }
            },
            "type": "scatterpolargl"
           }
          ],
          "scatterternary": [
           {
            "marker": {
             "colorbar": {
              "outlinewidth": 0,
              "ticks": ""
             }
            },
            "type": "scatterternary"
           }
          ],
          "surface": [
           {
            "colorbar": {
             "outlinewidth": 0,
             "ticks": ""
            },
            "colorscale": [
             [
              0,
              "#0d0887"
             ],
             [
              0.1111111111111111,
              "#46039f"
             ],
             [
              0.2222222222222222,
              "#7201a8"
             ],
             [
              0.3333333333333333,
              "#9c179e"
             ],
             [
              0.4444444444444444,
              "#bd3786"
             ],
             [
              0.5555555555555556,
              "#d8576b"
             ],
             [
              0.6666666666666666,
              "#ed7953"
             ],
             [
              0.7777777777777778,
              "#fb9f3a"
             ],
             [
              0.8888888888888888,
              "#fdca26"
             ],
             [
              1,
              "#f0f921"
             ]
            ],
            "type": "surface"
           }
          ],
          "table": [
           {
            "cells": {
             "fill": {
              "color": "#EBF0F8"
             },
             "line": {
              "color": "white"
             }
            },
            "header": {
             "fill": {
              "color": "#C8D4E3"
             },
             "line": {
              "color": "white"
             }
            },
            "type": "table"
           }
          ]
         },
         "layout": {
          "annotationdefaults": {
           "arrowcolor": "#2a3f5f",
           "arrowhead": 0,
           "arrowwidth": 1
          },
          "autotypenumbers": "strict",
          "coloraxis": {
           "colorbar": {
            "outlinewidth": 0,
            "ticks": ""
           }
          },
          "colorscale": {
           "diverging": [
            [
             0,
             "#8e0152"
            ],
            [
             0.1,
             "#c51b7d"
            ],
            [
             0.2,
             "#de77ae"
            ],
            [
             0.3,
             "#f1b6da"
            ],
            [
             0.4,
             "#fde0ef"
            ],
            [
             0.5,
             "#f7f7f7"
            ],
            [
             0.6,
             "#e6f5d0"
            ],
            [
             0.7,
             "#b8e186"
            ],
            [
             0.8,
             "#7fbc41"
            ],
            [
             0.9,
             "#4d9221"
            ],
            [
             1,
             "#276419"
            ]
           ],
           "sequential": [
            [
             0,
             "#0d0887"
            ],
            [
             0.1111111111111111,
             "#46039f"
            ],
            [
             0.2222222222222222,
             "#7201a8"
            ],
            [
             0.3333333333333333,
             "#9c179e"
            ],
            [
             0.4444444444444444,
             "#bd3786"
            ],
            [
             0.5555555555555556,
             "#d8576b"
            ],
            [
             0.6666666666666666,
             "#ed7953"
            ],
            [
             0.7777777777777778,
             "#fb9f3a"
            ],
            [
             0.8888888888888888,
             "#fdca26"
            ],
            [
             1,
             "#f0f921"
            ]
           ],
           "sequentialminus": [
            [
             0,
             "#0d0887"
            ],
            [
             0.1111111111111111,
             "#46039f"
            ],
            [
             0.2222222222222222,
             "#7201a8"
            ],
            [
             0.3333333333333333,
             "#9c179e"
            ],
            [
             0.4444444444444444,
             "#bd3786"
            ],
            [
             0.5555555555555556,
             "#d8576b"
            ],
            [
             0.6666666666666666,
             "#ed7953"
            ],
            [
             0.7777777777777778,
             "#fb9f3a"
            ],
            [
             0.8888888888888888,
             "#fdca26"
            ],
            [
             1,
             "#f0f921"
            ]
           ]
          },
          "colorway": [
           "#636efa",
           "#EF553B",
           "#00cc96",
           "#ab63fa",
           "#FFA15A",
           "#19d3f3",
           "#FF6692",
           "#B6E880",
           "#FF97FF",
           "#FECB52"
          ],
          "font": {
           "color": "#2a3f5f"
          },
          "geo": {
           "bgcolor": "white",
           "lakecolor": "white",
           "landcolor": "white",
           "showlakes": true,
           "showland": true,
           "subunitcolor": "#C8D4E3"
          },
          "hoverlabel": {
           "align": "left"
          },
          "hovermode": "closest",
          "mapbox": {
           "style": "light"
          },
          "paper_bgcolor": "white",
          "plot_bgcolor": "white",
          "polar": {
           "angularaxis": {
            "gridcolor": "#EBF0F8",
            "linecolor": "#EBF0F8",
            "ticks": ""
           },
           "bgcolor": "white",
           "radialaxis": {
            "gridcolor": "#EBF0F8",
            "linecolor": "#EBF0F8",
            "ticks": ""
           }
          },
          "scene": {
           "xaxis": {
            "backgroundcolor": "white",
            "gridcolor": "#DFE8F3",
            "gridwidth": 2,
            "linecolor": "#EBF0F8",
            "showbackground": true,
            "ticks": "",
            "zerolinecolor": "#EBF0F8"
           },
           "yaxis": {
            "backgroundcolor": "white",
            "gridcolor": "#DFE8F3",
            "gridwidth": 2,
            "linecolor": "#EBF0F8",
            "showbackground": true,
            "ticks": "",
            "zerolinecolor": "#EBF0F8"
           },
           "zaxis": {
            "backgroundcolor": "white",
            "gridcolor": "#DFE8F3",
            "gridwidth": 2,
            "linecolor": "#EBF0F8",
            "showbackground": true,
            "ticks": "",
            "zerolinecolor": "#EBF0F8"
           }
          },
          "shapedefaults": {
           "line": {
            "color": "#2a3f5f"
           }
          },
          "ternary": {
           "aaxis": {
            "gridcolor": "#DFE8F3",
            "linecolor": "#A2B1C6",
            "ticks": ""
           },
           "baxis": {
            "gridcolor": "#DFE8F3",
            "linecolor": "#A2B1C6",
            "ticks": ""
           },
           "bgcolor": "white",
           "caxis": {
            "gridcolor": "#DFE8F3",
            "linecolor": "#A2B1C6",
            "ticks": ""
           }
          },
          "title": {
           "x": 0.05
          },
          "xaxis": {
           "automargin": true,
           "gridcolor": "#EBF0F8",
           "linecolor": "#EBF0F8",
           "ticks": "",
           "title": {
            "standoff": 15
           },
           "zerolinecolor": "#EBF0F8",
           "zerolinewidth": 2
          },
          "yaxis": {
           "automargin": true,
           "gridcolor": "#EBF0F8",
           "linecolor": "#EBF0F8",
           "ticks": "",
           "title": {
            "standoff": 15
           },
           "zerolinecolor": "#EBF0F8",
           "zerolinewidth": 2
          }
         }
        },
        "title": {
         "font": {
          "size": 20
         },
         "text": "Lineplot: Travel Time Over Time by Region",
         "x": 0.5
        },
        "xaxis": {
         "anchor": "y",
         "domain": [
          0,
          1
         ],
         "title": {
          "text": "Period"
         }
        },
        "yaxis": {
         "anchor": "x",
         "domain": [
          0,
          1
         ],
         "title": {
          "text": "Average Hours Travelled Per Year"
         }
        }
       }
      }
     },
     "metadata": {},
     "output_type": "display_data"
    },
    {
     "data": {
      "application/vnd.plotly.v1+json": {
       "config": {
        "plotlyServerURL": "https://plot.ly"
       },
       "data": [
        {
         "coloraxis": "coloraxis",
         "hovertemplate": "Period: %{x}<br>RegionCharacteristics: %{y}<br>Travel Time (hours/year): %{z}<extra></extra>",
         "name": "0",
         "type": "heatmap",
         "x": [
          2018,
          2019,
          2020,
          2021,
          2022,
          2023
         ],
         "xaxis": "x",
         "y": [
          "Extremely urbanised",
          "Hardly urbanised",
          "Moderately urbanised",
          "Not urbanised",
          "Strongly urbanised"
         ],
         "yaxis": "y",
         "z": [
          [
           1869.8,
           1844.8,
           1486.4,
           1715.3,
           1756.8,
           1806.4
          ],
          [
           1762.1,
           1736.6,
           1487.8999999999999,
           1678.3,
           1743.7,
           1728.6
          ],
          [
           1758.2,
           1768.8,
           1505.9,
           1637.1,
           1772.1,
           1757.1
          ],
          [
           1636.5,
           1722.2,
           1466.1,
           1680.7,
           1647.1,
           1695.9
          ],
          [
           1811.6,
           1786,
           1489.3,
           1664.5,
           1750.9,
           1784.6
          ]
         ]
        }
       ],
       "layout": {
        "coloraxis": {
         "colorbar": {
          "title": {
           "text": "Travel Time (hours/year)"
          }
         },
         "colorscale": [
          [
           0,
           "#0d0887"
          ],
          [
           0.1111111111111111,
           "#46039f"
          ],
          [
           0.2222222222222222,
           "#7201a8"
          ],
          [
           0.3333333333333333,
           "#9c179e"
          ],
          [
           0.4444444444444444,
           "#bd3786"
          ],
          [
           0.5555555555555556,
           "#d8576b"
          ],
          [
           0.6666666666666666,
           "#ed7953"
          ],
          [
           0.7777777777777778,
           "#fb9f3a"
          ],
          [
           0.8888888888888888,
           "#fdca26"
          ],
          [
           1,
           "#f0f921"
          ]
         ]
        },
        "font": {
         "family": "Arial",
         "size": 14
        },
        "template": {
         "data": {
          "bar": [
           {
            "error_x": {
             "color": "#2a3f5f"
            },
            "error_y": {
             "color": "#2a3f5f"
            },
            "marker": {
             "line": {
              "color": "#E5ECF6",
              "width": 0.5
             },
             "pattern": {
              "fillmode": "overlay",
              "size": 10,
              "solidity": 0.2
             }
            },
            "type": "bar"
           }
          ],
          "barpolar": [
           {
            "marker": {
             "line": {
              "color": "#E5ECF6",
              "width": 0.5
             },
             "pattern": {
              "fillmode": "overlay",
              "size": 10,
              "solidity": 0.2
             }
            },
            "type": "barpolar"
           }
          ],
          "carpet": [
           {
            "aaxis": {
             "endlinecolor": "#2a3f5f",
             "gridcolor": "white",
             "linecolor": "white",
             "minorgridcolor": "white",
             "startlinecolor": "#2a3f5f"
            },
            "baxis": {
             "endlinecolor": "#2a3f5f",
             "gridcolor": "white",
             "linecolor": "white",
             "minorgridcolor": "white",
             "startlinecolor": "#2a3f5f"
            },
            "type": "carpet"
           }
          ],
          "choropleth": [
           {
            "colorbar": {
             "outlinewidth": 0,
             "ticks": ""
            },
            "type": "choropleth"
           }
          ],
          "contour": [
           {
            "colorbar": {
             "outlinewidth": 0,
             "ticks": ""
            },
            "colorscale": [
             [
              0,
              "#0d0887"
             ],
             [
              0.1111111111111111,
              "#46039f"
             ],
             [
              0.2222222222222222,
              "#7201a8"
             ],
             [
              0.3333333333333333,
              "#9c179e"
             ],
             [
              0.4444444444444444,
              "#bd3786"
             ],
             [
              0.5555555555555556,
              "#d8576b"
             ],
             [
              0.6666666666666666,
              "#ed7953"
             ],
             [
              0.7777777777777778,
              "#fb9f3a"
             ],
             [
              0.8888888888888888,
              "#fdca26"
             ],
             [
              1,
              "#f0f921"
             ]
            ],
            "type": "contour"
           }
          ],
          "contourcarpet": [
           {
            "colorbar": {
             "outlinewidth": 0,
             "ticks": ""
            },
            "type": "contourcarpet"
           }
          ],
          "heatmap": [
           {
            "colorbar": {
             "outlinewidth": 0,
             "ticks": ""
            },
            "colorscale": [
             [
              0,
              "#0d0887"
             ],
             [
              0.1111111111111111,
              "#46039f"
             ],
             [
              0.2222222222222222,
              "#7201a8"
             ],
             [
              0.3333333333333333,
              "#9c179e"
             ],
             [
              0.4444444444444444,
              "#bd3786"
             ],
             [
              0.5555555555555556,
              "#d8576b"
             ],
             [
              0.6666666666666666,
              "#ed7953"
             ],
             [
              0.7777777777777778,
              "#fb9f3a"
             ],
             [
              0.8888888888888888,
              "#fdca26"
             ],
             [
              1,
              "#f0f921"
             ]
            ],
            "type": "heatmap"
           }
          ],
          "heatmapgl": [
           {
            "colorbar": {
             "outlinewidth": 0,
             "ticks": ""
            },
            "colorscale": [
             [
              0,
              "#0d0887"
             ],
             [
              0.1111111111111111,
              "#46039f"
             ],
             [
              0.2222222222222222,
              "#7201a8"
             ],
             [
              0.3333333333333333,
              "#9c179e"
             ],
             [
              0.4444444444444444,
              "#bd3786"
             ],
             [
              0.5555555555555556,
              "#d8576b"
             ],
             [
              0.6666666666666666,
              "#ed7953"
             ],
             [
              0.7777777777777778,
              "#fb9f3a"
             ],
             [
              0.8888888888888888,
              "#fdca26"
             ],
             [
              1,
              "#f0f921"
             ]
            ],
            "type": "heatmapgl"
           }
          ],
          "histogram": [
           {
            "marker": {
             "pattern": {
              "fillmode": "overlay",
              "size": 10,
              "solidity": 0.2
             }
            },
            "type": "histogram"
           }
          ],
          "histogram2d": [
           {
            "colorbar": {
             "outlinewidth": 0,
             "ticks": ""
            },
            "colorscale": [
             [
              0,
              "#0d0887"
             ],
             [
              0.1111111111111111,
              "#46039f"
             ],
             [
              0.2222222222222222,
              "#7201a8"
             ],
             [
              0.3333333333333333,
              "#9c179e"
             ],
             [
              0.4444444444444444,
              "#bd3786"
             ],
             [
              0.5555555555555556,
              "#d8576b"
             ],
             [
              0.6666666666666666,
              "#ed7953"
             ],
             [
              0.7777777777777778,
              "#fb9f3a"
             ],
             [
              0.8888888888888888,
              "#fdca26"
             ],
             [
              1,
              "#f0f921"
             ]
            ],
            "type": "histogram2d"
           }
          ],
          "histogram2dcontour": [
           {
            "colorbar": {
             "outlinewidth": 0,
             "ticks": ""
            },
            "colorscale": [
             [
              0,
              "#0d0887"
             ],
             [
              0.1111111111111111,
              "#46039f"
             ],
             [
              0.2222222222222222,
              "#7201a8"
             ],
             [
              0.3333333333333333,
              "#9c179e"
             ],
             [
              0.4444444444444444,
              "#bd3786"
             ],
             [
              0.5555555555555556,
              "#d8576b"
             ],
             [
              0.6666666666666666,
              "#ed7953"
             ],
             [
              0.7777777777777778,
              "#fb9f3a"
             ],
             [
              0.8888888888888888,
              "#fdca26"
             ],
             [
              1,
              "#f0f921"
             ]
            ],
            "type": "histogram2dcontour"
           }
          ],
          "mesh3d": [
           {
            "colorbar": {
             "outlinewidth": 0,
             "ticks": ""
            },
            "type": "mesh3d"
           }
          ],
          "parcoords": [
           {
            "line": {
             "colorbar": {
              "outlinewidth": 0,
              "ticks": ""
             }
            },
            "type": "parcoords"
           }
          ],
          "pie": [
           {
            "automargin": true,
            "type": "pie"
           }
          ],
          "scatter": [
           {
            "fillpattern": {
             "fillmode": "overlay",
             "size": 10,
             "solidity": 0.2
            },
            "type": "scatter"
           }
          ],
          "scatter3d": [
           {
            "line": {
             "colorbar": {
              "outlinewidth": 0,
              "ticks": ""
             }
            },
            "marker": {
             "colorbar": {
              "outlinewidth": 0,
              "ticks": ""
             }
            },
            "type": "scatter3d"
           }
          ],
          "scattercarpet": [
           {
            "marker": {
             "colorbar": {
              "outlinewidth": 0,
              "ticks": ""
             }
            },
            "type": "scattercarpet"
           }
          ],
          "scattergeo": [
           {
            "marker": {
             "colorbar": {
              "outlinewidth": 0,
              "ticks": ""
             }
            },
            "type": "scattergeo"
           }
          ],
          "scattergl": [
           {
            "marker": {
             "colorbar": {
              "outlinewidth": 0,
              "ticks": ""
             }
            },
            "type": "scattergl"
           }
          ],
          "scattermapbox": [
           {
            "marker": {
             "colorbar": {
              "outlinewidth": 0,
              "ticks": ""
             }
            },
            "type": "scattermapbox"
           }
          ],
          "scatterpolar": [
           {
            "marker": {
             "colorbar": {
              "outlinewidth": 0,
              "ticks": ""
             }
            },
            "type": "scatterpolar"
           }
          ],
          "scatterpolargl": [
           {
            "marker": {
             "colorbar": {
              "outlinewidth": 0,
              "ticks": ""
             }
            },
            "type": "scatterpolargl"
           }
          ],
          "scatterternary": [
           {
            "marker": {
             "colorbar": {
              "outlinewidth": 0,
              "ticks": ""
             }
            },
            "type": "scatterternary"
           }
          ],
          "surface": [
           {
            "colorbar": {
             "outlinewidth": 0,
             "ticks": ""
            },
            "colorscale": [
             [
              0,
              "#0d0887"
             ],
             [
              0.1111111111111111,
              "#46039f"
             ],
             [
              0.2222222222222222,
              "#7201a8"
             ],
             [
              0.3333333333333333,
              "#9c179e"
             ],
             [
              0.4444444444444444,
              "#bd3786"
             ],
             [
              0.5555555555555556,
              "#d8576b"
             ],
             [
              0.6666666666666666,
              "#ed7953"
             ],
             [
              0.7777777777777778,
              "#fb9f3a"
             ],
             [
              0.8888888888888888,
              "#fdca26"
             ],
             [
              1,
              "#f0f921"
             ]
            ],
            "type": "surface"
           }
          ],
          "table": [
           {
            "cells": {
             "fill": {
              "color": "#EBF0F8"
             },
             "line": {
              "color": "white"
             }
            },
            "header": {
             "fill": {
              "color": "#C8D4E3"
             },
             "line": {
              "color": "white"
             }
            },
            "type": "table"
           }
          ]
         },
         "layout": {
          "annotationdefaults": {
           "arrowcolor": "#2a3f5f",
           "arrowhead": 0,
           "arrowwidth": 1
          },
          "autotypenumbers": "strict",
          "coloraxis": {
           "colorbar": {
            "outlinewidth": 0,
            "ticks": ""
           }
          },
          "colorscale": {
           "diverging": [
            [
             0,
             "#8e0152"
            ],
            [
             0.1,
             "#c51b7d"
            ],
            [
             0.2,
             "#de77ae"
            ],
            [
             0.3,
             "#f1b6da"
            ],
            [
             0.4,
             "#fde0ef"
            ],
            [
             0.5,
             "#f7f7f7"
            ],
            [
             0.6,
             "#e6f5d0"
            ],
            [
             0.7,
             "#b8e186"
            ],
            [
             0.8,
             "#7fbc41"
            ],
            [
             0.9,
             "#4d9221"
            ],
            [
             1,
             "#276419"
            ]
           ],
           "sequential": [
            [
             0,
             "#0d0887"
            ],
            [
             0.1111111111111111,
             "#46039f"
            ],
            [
             0.2222222222222222,
             "#7201a8"
            ],
            [
             0.3333333333333333,
             "#9c179e"
            ],
            [
             0.4444444444444444,
             "#bd3786"
            ],
            [
             0.5555555555555556,
             "#d8576b"
            ],
            [
             0.6666666666666666,
             "#ed7953"
            ],
            [
             0.7777777777777778,
             "#fb9f3a"
            ],
            [
             0.8888888888888888,
             "#fdca26"
            ],
            [
             1,
             "#f0f921"
            ]
           ],
           "sequentialminus": [
            [
             0,
             "#0d0887"
            ],
            [
             0.1111111111111111,
             "#46039f"
            ],
            [
             0.2222222222222222,
             "#7201a8"
            ],
            [
             0.3333333333333333,
             "#9c179e"
            ],
            [
             0.4444444444444444,
             "#bd3786"
            ],
            [
             0.5555555555555556,
             "#d8576b"
            ],
            [
             0.6666666666666666,
             "#ed7953"
            ],
            [
             0.7777777777777778,
             "#fb9f3a"
            ],
            [
             0.8888888888888888,
             "#fdca26"
            ],
            [
             1,
             "#f0f921"
            ]
           ]
          },
          "colorway": [
           "#636efa",
           "#EF553B",
           "#00cc96",
           "#ab63fa",
           "#FFA15A",
           "#19d3f3",
           "#FF6692",
           "#B6E880",
           "#FF97FF",
           "#FECB52"
          ],
          "font": {
           "color": "#2a3f5f"
          },
          "geo": {
           "bgcolor": "white",
           "lakecolor": "white",
           "landcolor": "#E5ECF6",
           "showlakes": true,
           "showland": true,
           "subunitcolor": "white"
          },
          "hoverlabel": {
           "align": "left"
          },
          "hovermode": "closest",
          "mapbox": {
           "style": "light"
          },
          "paper_bgcolor": "white",
          "plot_bgcolor": "#E5ECF6",
          "polar": {
           "angularaxis": {
            "gridcolor": "white",
            "linecolor": "white",
            "ticks": ""
           },
           "bgcolor": "#E5ECF6",
           "radialaxis": {
            "gridcolor": "white",
            "linecolor": "white",
            "ticks": ""
           }
          },
          "scene": {
           "xaxis": {
            "backgroundcolor": "#E5ECF6",
            "gridcolor": "white",
            "gridwidth": 2,
            "linecolor": "white",
            "showbackground": true,
            "ticks": "",
            "zerolinecolor": "white"
           },
           "yaxis": {
            "backgroundcolor": "#E5ECF6",
            "gridcolor": "white",
            "gridwidth": 2,
            "linecolor": "white",
            "showbackground": true,
            "ticks": "",
            "zerolinecolor": "white"
           },
           "zaxis": {
            "backgroundcolor": "#E5ECF6",
            "gridcolor": "white",
            "gridwidth": 2,
            "linecolor": "white",
            "showbackground": true,
            "ticks": "",
            "zerolinecolor": "white"
           }
          },
          "shapedefaults": {
           "line": {
            "color": "#2a3f5f"
           }
          },
          "ternary": {
           "aaxis": {
            "gridcolor": "white",
            "linecolor": "white",
            "ticks": ""
           },
           "baxis": {
            "gridcolor": "white",
            "linecolor": "white",
            "ticks": ""
           },
           "bgcolor": "#E5ECF6",
           "caxis": {
            "gridcolor": "white",
            "linecolor": "white",
            "ticks": ""
           }
          },
          "title": {
           "x": 0.05
          },
          "xaxis": {
           "automargin": true,
           "gridcolor": "white",
           "linecolor": "white",
           "ticks": "",
           "title": {
            "standoff": 15
           },
           "zerolinecolor": "white",
           "zerolinewidth": 2
          },
          "yaxis": {
           "automargin": true,
           "gridcolor": "white",
           "linecolor": "white",
           "ticks": "",
           "title": {
            "standoff": 15
           },
           "zerolinecolor": "white",
           "zerolinewidth": 2
          }
         }
        },
        "title": {
         "font": {
          "size": 20
         },
         "text": "Heatmap: Travel Time Over Time by Region",
         "x": 0.5
        },
        "xaxis": {
         "anchor": "y",
         "domain": [
          0,
          1
         ],
         "title": {
          "text": "Period"
         }
        },
        "yaxis": {
         "anchor": "x",
         "autorange": "reversed",
         "domain": [
          0,
          1
         ],
         "title": {
          "text": "RegionCharacteristics"
         }
        }
       }
      }
     },
     "metadata": {},
     "output_type": "display_data"
    },
    {
     "data": {
      "application/vnd.plotly.v1+json": {
       "config": {
        "plotlyServerURL": "https://plot.ly"
       },
       "data": [
        {
         "alignmentgroup": "True",
         "hovertemplate": "TravelModes=Bike<br>Period=2018<br>Urbanization level=%{x}<br>Time travelled (hours/year)=%{y}<extra></extra>",
         "legendgroup": "Bike",
         "marker": {
          "color": "#636efa",
          "pattern": {
           "shape": ""
          }
         },
         "name": "Bike",
         "offsetgroup": "Bike",
         "orientation": "v",
         "showlegend": true,
         "textposition": "auto",
         "type": "bar",
         "x": [
          "Extremely urbanised",
          "Hardly urbanised",
          "Moderately urbanised",
          "Not urbanised",
          "Strongly urbanised"
         ],
         "xaxis": "x",
         "y": [
          213.1,
          189.70000000000002,
          200.1,
          178.3,
          202.29999999999998
         ],
         "yaxis": "y"
        },
        {
         "alignmentgroup": "True",
         "hovertemplate": "TravelModes=Bus/tram/metro<br>Period=2018<br>Urbanization level=%{x}<br>Time travelled (hours/year)=%{y}<extra></extra>",
         "legendgroup": "Bus/tram/metro",
         "marker": {
          "color": "#EF553B",
          "pattern": {
           "shape": ""
          }
         },
         "name": "Bus/tram/metro",
         "offsetgroup": "Bus/tram/metro",
         "orientation": "v",
         "showlegend": true,
         "textposition": "auto",
         "type": "bar",
         "x": [
          "Extremely urbanised",
          "Hardly urbanised",
          "Moderately urbanised",
          "Not urbanised",
          "Strongly urbanised"
         ],
         "xaxis": "x",
         "y": [
          80.5,
          18.2,
          18.3,
          17.3,
          29
         ],
         "yaxis": "y"
        },
        {
         "alignmentgroup": "True",
         "hovertemplate": "TravelModes=Other<br>Period=2018<br>Urbanization level=%{x}<br>Time travelled (hours/year)=%{y}<extra></extra>",
         "legendgroup": "Other",
         "marker": {
          "color": "#00cc96",
          "pattern": {
           "shape": ""
          }
         },
         "name": "Other",
         "offsetgroup": "Other",
         "orientation": "v",
         "showlegend": true,
         "textposition": "auto",
         "type": "bar",
         "x": [
          "Extremely urbanised",
          "Hardly urbanised",
          "Moderately urbanised",
          "Not urbanised",
          "Strongly urbanised"
         ],
         "xaxis": "x",
         "y": [
          22.7,
          49.7,
          35.3,
          41.9,
          35.3
         ],
         "yaxis": "y"
        },
        {
         "alignmentgroup": "True",
         "hovertemplate": "TravelModes=Passenger car (driver)<br>Period=2018<br>Urbanization level=%{x}<br>Time travelled (hours/year)=%{y}<extra></extra>",
         "legendgroup": "Passenger car (driver)",
         "marker": {
          "color": "#ab63fa",
          "pattern": {
           "shape": ""
          }
         },
         "name": "Passenger car (driver)",
         "offsetgroup": "Passenger car (driver)",
         "orientation": "v",
         "showlegend": true,
         "textposition": "auto",
         "type": "bar",
         "x": [
          "Extremely urbanised",
          "Hardly urbanised",
          "Moderately urbanised",
          "Not urbanised",
          "Strongly urbanised"
         ],
         "xaxis": "x",
         "y": [
          236.5,
          338.8,
          308.1,
          332.09999999999997,
          304.6
         ],
         "yaxis": "y"
        },
        {
         "alignmentgroup": "True",
         "hovertemplate": "TravelModes=Passenger car (passenger)<br>Period=2018<br>Urbanization level=%{x}<br>Time travelled (hours/year)=%{y}<extra></extra>",
         "legendgroup": "Passenger car (passenger)",
         "marker": {
          "color": "#FFA15A",
          "pattern": {
           "shape": ""
          }
         },
         "name": "Passenger car (passenger)",
         "offsetgroup": "Passenger car (passenger)",
         "orientation": "v",
         "showlegend": true,
         "textposition": "auto",
         "type": "bar",
         "x": [
          "Extremely urbanised",
          "Hardly urbanised",
          "Moderately urbanised",
          "Not urbanised",
          "Strongly urbanised"
         ],
         "xaxis": "x",
         "y": [
          94.9,
          127.69999999999999,
          116.1,
          103.8,
          111.8
         ],
         "yaxis": "y"
        },
        {
         "alignmentgroup": "True",
         "hovertemplate": "TravelModes=Train<br>Period=2018<br>Urbanization level=%{x}<br>Time travelled (hours/year)=%{y}<extra></extra>",
         "legendgroup": "Train",
         "marker": {
          "color": "#19d3f3",
          "pattern": {
           "shape": ""
          }
         },
         "name": "Train",
         "offsetgroup": "Train",
         "orientation": "v",
         "showlegend": true,
         "textposition": "auto",
         "type": "bar",
         "x": [
          "Extremely urbanised",
          "Hardly urbanised",
          "Moderately urbanised",
          "Not urbanised",
          "Strongly urbanised"
         ],
         "xaxis": "x",
         "y": [
          117.3,
          30.4,
          55.2,
          17,
          72.5
         ],
         "yaxis": "y"
        },
        {
         "alignmentgroup": "True",
         "hovertemplate": "TravelModes=Walking<br>Period=2018<br>Urbanization level=%{x}<br>Time travelled (hours/year)=%{y}<extra></extra>",
         "legendgroup": "Walking",
         "marker": {
          "color": "#FF6692",
          "pattern": {
           "shape": ""
          }
         },
         "name": "Walking",
         "offsetgroup": "Walking",
         "orientation": "v",
         "showlegend": true,
         "textposition": "auto",
         "type": "bar",
         "x": [
          "Extremely urbanised",
          "Hardly urbanised",
          "Moderately urbanised",
          "Not urbanised",
          "Strongly urbanised"
         ],
         "xaxis": "x",
         "y": [
          159.3,
          115.8,
          130,
          101.8,
          143.60000000000002
         ],
         "yaxis": "y"
        }
       ],
       "frames": [
        {
         "data": [
          {
           "alignmentgroup": "True",
           "hovertemplate": "TravelModes=Bike<br>Period=2018<br>Urbanization level=%{x}<br>Time travelled (hours/year)=%{y}<extra></extra>",
           "legendgroup": "Bike",
           "marker": {
            "color": "#636efa",
            "pattern": {
             "shape": ""
            }
           },
           "name": "Bike",
           "offsetgroup": "Bike",
           "orientation": "v",
           "showlegend": true,
           "textposition": "auto",
           "type": "bar",
           "x": [
            "Extremely urbanised",
            "Hardly urbanised",
            "Moderately urbanised",
            "Not urbanised",
            "Strongly urbanised"
           ],
           "xaxis": "x",
           "y": [
            213.1,
            189.70000000000002,
            200.1,
            178.3,
            202.29999999999998
           ],
           "yaxis": "y"
          },
          {
           "alignmentgroup": "True",
           "hovertemplate": "TravelModes=Bus/tram/metro<br>Period=2018<br>Urbanization level=%{x}<br>Time travelled (hours/year)=%{y}<extra></extra>",
           "legendgroup": "Bus/tram/metro",
           "marker": {
            "color": "#EF553B",
            "pattern": {
             "shape": ""
            }
           },
           "name": "Bus/tram/metro",
           "offsetgroup": "Bus/tram/metro",
           "orientation": "v",
           "showlegend": true,
           "textposition": "auto",
           "type": "bar",
           "x": [
            "Extremely urbanised",
            "Hardly urbanised",
            "Moderately urbanised",
            "Not urbanised",
            "Strongly urbanised"
           ],
           "xaxis": "x",
           "y": [
            80.5,
            18.2,
            18.3,
            17.3,
            29
           ],
           "yaxis": "y"
          },
          {
           "alignmentgroup": "True",
           "hovertemplate": "TravelModes=Other<br>Period=2018<br>Urbanization level=%{x}<br>Time travelled (hours/year)=%{y}<extra></extra>",
           "legendgroup": "Other",
           "marker": {
            "color": "#00cc96",
            "pattern": {
             "shape": ""
            }
           },
           "name": "Other",
           "offsetgroup": "Other",
           "orientation": "v",
           "showlegend": true,
           "textposition": "auto",
           "type": "bar",
           "x": [
            "Extremely urbanised",
            "Hardly urbanised",
            "Moderately urbanised",
            "Not urbanised",
            "Strongly urbanised"
           ],
           "xaxis": "x",
           "y": [
            22.7,
            49.7,
            35.3,
            41.9,
            35.3
           ],
           "yaxis": "y"
          },
          {
           "alignmentgroup": "True",
           "hovertemplate": "TravelModes=Passenger car (driver)<br>Period=2018<br>Urbanization level=%{x}<br>Time travelled (hours/year)=%{y}<extra></extra>",
           "legendgroup": "Passenger car (driver)",
           "marker": {
            "color": "#ab63fa",
            "pattern": {
             "shape": ""
            }
           },
           "name": "Passenger car (driver)",
           "offsetgroup": "Passenger car (driver)",
           "orientation": "v",
           "showlegend": true,
           "textposition": "auto",
           "type": "bar",
           "x": [
            "Extremely urbanised",
            "Hardly urbanised",
            "Moderately urbanised",
            "Not urbanised",
            "Strongly urbanised"
           ],
           "xaxis": "x",
           "y": [
            236.5,
            338.8,
            308.1,
            332.09999999999997,
            304.6
           ],
           "yaxis": "y"
          },
          {
           "alignmentgroup": "True",
           "hovertemplate": "TravelModes=Passenger car (passenger)<br>Period=2018<br>Urbanization level=%{x}<br>Time travelled (hours/year)=%{y}<extra></extra>",
           "legendgroup": "Passenger car (passenger)",
           "marker": {
            "color": "#FFA15A",
            "pattern": {
             "shape": ""
            }
           },
           "name": "Passenger car (passenger)",
           "offsetgroup": "Passenger car (passenger)",
           "orientation": "v",
           "showlegend": true,
           "textposition": "auto",
           "type": "bar",
           "x": [
            "Extremely urbanised",
            "Hardly urbanised",
            "Moderately urbanised",
            "Not urbanised",
            "Strongly urbanised"
           ],
           "xaxis": "x",
           "y": [
            94.9,
            127.69999999999999,
            116.1,
            103.8,
            111.8
           ],
           "yaxis": "y"
          },
          {
           "alignmentgroup": "True",
           "hovertemplate": "TravelModes=Train<br>Period=2018<br>Urbanization level=%{x}<br>Time travelled (hours/year)=%{y}<extra></extra>",
           "legendgroup": "Train",
           "marker": {
            "color": "#19d3f3",
            "pattern": {
             "shape": ""
            }
           },
           "name": "Train",
           "offsetgroup": "Train",
           "orientation": "v",
           "showlegend": true,
           "textposition": "auto",
           "type": "bar",
           "x": [
            "Extremely urbanised",
            "Hardly urbanised",
            "Moderately urbanised",
            "Not urbanised",
            "Strongly urbanised"
           ],
           "xaxis": "x",
           "y": [
            117.3,
            30.4,
            55.2,
            17,
            72.5
           ],
           "yaxis": "y"
          },
          {
           "alignmentgroup": "True",
           "hovertemplate": "TravelModes=Walking<br>Period=2018<br>Urbanization level=%{x}<br>Time travelled (hours/year)=%{y}<extra></extra>",
           "legendgroup": "Walking",
           "marker": {
            "color": "#FF6692",
            "pattern": {
             "shape": ""
            }
           },
           "name": "Walking",
           "offsetgroup": "Walking",
           "orientation": "v",
           "showlegend": true,
           "textposition": "auto",
           "type": "bar",
           "x": [
            "Extremely urbanised",
            "Hardly urbanised",
            "Moderately urbanised",
            "Not urbanised",
            "Strongly urbanised"
           ],
           "xaxis": "x",
           "y": [
            159.3,
            115.8,
            130,
            101.8,
            143.60000000000002
           ],
           "yaxis": "y"
          }
         ],
         "name": "2018"
        },
        {
         "data": [
          {
           "alignmentgroup": "True",
           "hovertemplate": "TravelModes=Bike<br>Period=2019<br>Urbanization level=%{x}<br>Time travelled (hours/year)=%{y}<extra></extra>",
           "legendgroup": "Bike",
           "marker": {
            "color": "#636efa",
            "pattern": {
             "shape": ""
            }
           },
           "name": "Bike",
           "offsetgroup": "Bike",
           "orientation": "v",
           "showlegend": true,
           "textposition": "auto",
           "type": "bar",
           "x": [
            "Extremely urbanised",
            "Hardly urbanised",
            "Moderately urbanised",
            "Not urbanised",
            "Strongly urbanised"
           ],
           "xaxis": "x",
           "y": [
            217.6,
            189.9,
            202.6,
            165.4,
            193
           ],
           "yaxis": "y"
          },
          {
           "alignmentgroup": "True",
           "hovertemplate": "TravelModes=Bus/tram/metro<br>Period=2019<br>Urbanization level=%{x}<br>Time travelled (hours/year)=%{y}<extra></extra>",
           "legendgroup": "Bus/tram/metro",
           "marker": {
            "color": "#EF553B",
            "pattern": {
             "shape": ""
            }
           },
           "name": "Bus/tram/metro",
           "offsetgroup": "Bus/tram/metro",
           "orientation": "v",
           "showlegend": true,
           "textposition": "auto",
           "type": "bar",
           "x": [
            "Extremely urbanised",
            "Hardly urbanised",
            "Moderately urbanised",
            "Not urbanised",
            "Strongly urbanised"
           ],
           "xaxis": "x",
           "y": [
            72.4,
            14.5,
            20.1,
            12.9,
            30
           ],
           "yaxis": "y"
          },
          {
           "alignmentgroup": "True",
           "hovertemplate": "TravelModes=Other<br>Period=2019<br>Urbanization level=%{x}<br>Time travelled (hours/year)=%{y}<extra></extra>",
           "legendgroup": "Other",
           "marker": {
            "color": "#00cc96",
            "pattern": {
             "shape": ""
            }
           },
           "name": "Other",
           "offsetgroup": "Other",
           "orientation": "v",
           "showlegend": true,
           "textposition": "auto",
           "type": "bar",
           "x": [
            "Extremely urbanised",
            "Hardly urbanised",
            "Moderately urbanised",
            "Not urbanised",
            "Strongly urbanised"
           ],
           "xaxis": "x",
           "y": [
            27.599999999999998,
            43.300000000000004,
            36,
            46.1,
            34.800000000000004
           ],
           "yaxis": "y"
          },
          {
           "alignmentgroup": "True",
           "hovertemplate": "TravelModes=Passenger car (driver)<br>Period=2019<br>Urbanization level=%{x}<br>Time travelled (hours/year)=%{y}<extra></extra>",
           "legendgroup": "Passenger car (driver)",
           "marker": {
            "color": "#ab63fa",
            "pattern": {
             "shape": ""
            }
           },
           "name": "Passenger car (driver)",
           "offsetgroup": "Passenger car (driver)",
           "orientation": "v",
           "showlegend": true,
           "textposition": "auto",
           "type": "bar",
           "x": [
            "Extremely urbanised",
            "Hardly urbanised",
            "Moderately urbanised",
            "Not urbanised",
            "Strongly urbanised"
           ],
           "xaxis": "x",
           "y": [
            224.8,
            334.4,
            320.9,
            363.90000000000003,
            302
           ],
           "yaxis": "y"
          },
          {
           "alignmentgroup": "True",
           "hovertemplate": "TravelModes=Passenger car (passenger)<br>Period=2019<br>Urbanization level=%{x}<br>Time travelled (hours/year)=%{y}<extra></extra>",
           "legendgroup": "Passenger car (passenger)",
           "marker": {
            "color": "#FFA15A",
            "pattern": {
             "shape": ""
            }
           },
           "name": "Passenger car (passenger)",
           "offsetgroup": "Passenger car (passenger)",
           "orientation": "v",
           "showlegend": true,
           "textposition": "auto",
           "type": "bar",
           "x": [
            "Extremely urbanised",
            "Hardly urbanised",
            "Moderately urbanised",
            "Not urbanised",
            "Strongly urbanised"
           ],
           "xaxis": "x",
           "y": [
            85.7,
            125.5,
            117,
            106.1,
            114.1
           ],
           "yaxis": "y"
          },
          {
           "alignmentgroup": "True",
           "hovertemplate": "TravelModes=Train<br>Period=2019<br>Urbanization level=%{x}<br>Time travelled (hours/year)=%{y}<extra></extra>",
           "legendgroup": "Train",
           "marker": {
            "color": "#19d3f3",
            "pattern": {
             "shape": ""
            }
           },
           "name": "Train",
           "offsetgroup": "Train",
           "orientation": "v",
           "showlegend": true,
           "textposition": "auto",
           "type": "bar",
           "x": [
            "Extremely urbanised",
            "Hardly urbanised",
            "Moderately urbanised",
            "Not urbanised",
            "Strongly urbanised"
           ],
           "xaxis": "x",
           "y": [
            122.39999999999999,
            33.2,
            46.9,
            19.8,
            78.3
           ],
           "yaxis": "y"
          },
          {
           "alignmentgroup": "True",
           "hovertemplate": "TravelModes=Walking<br>Period=2019<br>Urbanization level=%{x}<br>Time travelled (hours/year)=%{y}<extra></extra>",
           "legendgroup": "Walking",
           "marker": {
            "color": "#FF6692",
            "pattern": {
             "shape": ""
            }
           },
           "name": "Walking",
           "offsetgroup": "Walking",
           "orientation": "v",
           "showlegend": true,
           "textposition": "auto",
           "type": "bar",
           "x": [
            "Extremely urbanised",
            "Hardly urbanised",
            "Moderately urbanised",
            "Not urbanised",
            "Strongly urbanised"
           ],
           "xaxis": "x",
           "y": [
            162,
            115.5,
            121.89999999999999,
            107.39999999999999,
            131
           ],
           "yaxis": "y"
          }
         ],
         "name": "2019"
        },
        {
         "data": [
          {
           "alignmentgroup": "True",
           "hovertemplate": "TravelModes=Bike<br>Period=2020<br>Urbanization level=%{x}<br>Time travelled (hours/year)=%{y}<extra></extra>",
           "legendgroup": "Bike",
           "marker": {
            "color": "#636efa",
            "pattern": {
             "shape": ""
            }
           },
           "name": "Bike",
           "offsetgroup": "Bike",
           "orientation": "v",
           "showlegend": true,
           "textposition": "auto",
           "type": "bar",
           "x": [
            "Extremely urbanised",
            "Hardly urbanised",
            "Moderately urbanised",
            "Not urbanised",
            "Strongly urbanised"
           ],
           "xaxis": "x",
           "y": [
            190.9,
            178.6,
            191.8,
            161.5,
            169.3
           ],
           "yaxis": "y"
          },
          {
           "alignmentgroup": "True",
           "hovertemplate": "TravelModes=Bus/tram/metro<br>Period=2020<br>Urbanization level=%{x}<br>Time travelled (hours/year)=%{y}<extra></extra>",
           "legendgroup": "Bus/tram/metro",
           "marker": {
            "color": "#EF553B",
            "pattern": {
             "shape": ""
            }
           },
           "name": "Bus/tram/metro",
           "offsetgroup": "Bus/tram/metro",
           "orientation": "v",
           "showlegend": true,
           "textposition": "auto",
           "type": "bar",
           "x": [
            "Extremely urbanised",
            "Hardly urbanised",
            "Moderately urbanised",
            "Strongly urbanised"
           ],
           "xaxis": "x",
           "y": [
            36.1,
            4.6,
            6.2,
            11.799999999999999
           ],
           "yaxis": "y"
          },
          {
           "alignmentgroup": "True",
           "hovertemplate": "TravelModes=Other<br>Period=2020<br>Urbanization level=%{x}<br>Time travelled (hours/year)=%{y}<extra></extra>",
           "legendgroup": "Other",
           "marker": {
            "color": "#00cc96",
            "pattern": {
             "shape": ""
            }
           },
           "name": "Other",
           "offsetgroup": "Other",
           "orientation": "v",
           "showlegend": true,
           "textposition": "auto",
           "type": "bar",
           "x": [
            "Extremely urbanised",
            "Hardly urbanised",
            "Moderately urbanised",
            "Not urbanised",
            "Strongly urbanised"
           ],
           "xaxis": "x",
           "y": [
            19.099999999999998,
            31.5,
            25.5,
            31.4,
            23.4
           ],
           "yaxis": "y"
          },
          {
           "alignmentgroup": "True",
           "hovertemplate": "TravelModes=Passenger car (driver)<br>Period=2020<br>Urbanization level=%{x}<br>Time travelled (hours/year)=%{y}<extra></extra>",
           "legendgroup": "Passenger car (driver)",
           "marker": {
            "color": "#ab63fa",
            "pattern": {
             "shape": ""
            }
           },
           "name": "Passenger car (driver)",
           "offsetgroup": "Passenger car (driver)",
           "orientation": "v",
           "showlegend": true,
           "textposition": "auto",
           "type": "bar",
           "x": [
            "Extremely urbanised",
            "Hardly urbanised",
            "Moderately urbanised",
            "Not urbanised",
            "Strongly urbanised"
           ],
           "xaxis": "x",
           "y": [
            168.9,
            261.1,
            243.89999999999998,
            272.59999999999997,
            230.3
           ],
           "yaxis": "y"
          },
          {
           "alignmentgroup": "True",
           "hovertemplate": "TravelModes=Passenger car (passenger)<br>Period=2020<br>Urbanization level=%{x}<br>Time travelled (hours/year)=%{y}<extra></extra>",
           "legendgroup": "Passenger car (passenger)",
           "marker": {
            "color": "#FFA15A",
            "pattern": {
             "shape": ""
            }
           },
           "name": "Passenger car (passenger)",
           "offsetgroup": "Passenger car (passenger)",
           "orientation": "v",
           "showlegend": true,
           "textposition": "auto",
           "type": "bar",
           "x": [
            "Extremely urbanised",
            "Hardly urbanised",
            "Moderately urbanised",
            "Not urbanised",
            "Strongly urbanised"
           ],
           "xaxis": "x",
           "y": [
            70.3,
            83.8,
            87.8,
            77.2,
            82
           ],
           "yaxis": "y"
          },
          {
           "alignmentgroup": "True",
           "hovertemplate": "TravelModes=Train<br>Period=2020<br>Urbanization level=%{x}<br>Time travelled (hours/year)=%{y}<extra></extra>",
           "legendgroup": "Train",
           "marker": {
            "color": "#19d3f3",
            "pattern": {
             "shape": ""
            }
           },
           "name": "Train",
           "offsetgroup": "Train",
           "orientation": "v",
           "showlegend": true,
           "textposition": "auto",
           "type": "bar",
           "x": [
            "Extremely urbanised",
            "Hardly urbanised",
            "Moderately urbanised",
            "Strongly urbanised"
           ],
           "xaxis": "x",
           "y": [
            42.7,
            8.5,
            14.899999999999999,
            30.7
           ],
           "yaxis": "y"
          },
          {
           "alignmentgroup": "True",
           "hovertemplate": "TravelModes=Walking<br>Period=2020<br>Urbanization level=%{x}<br>Time travelled (hours/year)=%{y}<extra></extra>",
           "legendgroup": "Walking",
           "marker": {
            "color": "#FF6692",
            "pattern": {
             "shape": ""
            }
           },
           "name": "Walking",
           "offsetgroup": "Walking",
           "orientation": "v",
           "showlegend": true,
           "textposition": "auto",
           "type": "bar",
           "x": [
            "Extremely urbanised",
            "Hardly urbanised",
            "Moderately urbanised",
            "Not urbanised",
            "Strongly urbanised"
           ],
           "xaxis": "x",
           "y": [
            207.5,
            162.89999999999998,
            170.3,
            158.3,
            189.6
           ],
           "yaxis": "y"
          }
         ],
         "name": "2020"
        },
        {
         "data": [
          {
           "alignmentgroup": "True",
           "hovertemplate": "TravelModes=Bike<br>Period=2021<br>Urbanization level=%{x}<br>Time travelled (hours/year)=%{y}<extra></extra>",
           "legendgroup": "Bike",
           "marker": {
            "color": "#636efa",
            "pattern": {
             "shape": ""
            }
           },
           "name": "Bike",
           "offsetgroup": "Bike",
           "orientation": "v",
           "showlegend": true,
           "textposition": "auto",
           "type": "bar",
           "x": [
            "Extremely urbanised",
            "Hardly urbanised",
            "Moderately urbanised",
            "Not urbanised",
            "Strongly urbanised"
           ],
           "xaxis": "x",
           "y": [
            197.5,
            176.6,
            184.4,
            181.29999999999998,
            179.1
           ],
           "yaxis": "y"
          },
          {
           "alignmentgroup": "True",
           "hovertemplate": "TravelModes=Bus/tram/metro<br>Period=2021<br>Urbanization level=%{x}<br>Time travelled (hours/year)=%{y}<extra></extra>",
           "legendgroup": "Bus/tram/metro",
           "marker": {
            "color": "#EF553B",
            "pattern": {
             "shape": ""
            }
           },
           "name": "Bus/tram/metro",
           "offsetgroup": "Bus/tram/metro",
           "orientation": "v",
           "showlegend": true,
           "textposition": "auto",
           "type": "bar",
           "x": [
            "Extremely urbanised",
            "Hardly urbanised",
            "Moderately urbanised",
            "Not urbanised",
            "Strongly urbanised"
           ],
           "xaxis": "x",
           "y": [
            40.5,
            10,
            4.4,
            6.5,
            11.5
           ],
           "yaxis": "y"
          },
          {
           "alignmentgroup": "True",
           "hovertemplate": "TravelModes=Other<br>Period=2021<br>Urbanization level=%{x}<br>Time travelled (hours/year)=%{y}<extra></extra>",
           "legendgroup": "Other",
           "marker": {
            "color": "#00cc96",
            "pattern": {
             "shape": ""
            }
           },
           "name": "Other",
           "offsetgroup": "Other",
           "orientation": "v",
           "showlegend": true,
           "textposition": "auto",
           "type": "bar",
           "x": [
            "Extremely urbanised",
            "Hardly urbanised",
            "Moderately urbanised",
            "Not urbanised",
            "Strongly urbanised"
           ],
           "xaxis": "x",
           "y": [
            26,
            39.8,
            31.6,
            39.7,
            40.6
           ],
           "yaxis": "y"
          },
          {
           "alignmentgroup": "True",
           "hovertemplate": "TravelModes=Passenger car (driver)<br>Period=2021<br>Urbanization level=%{x}<br>Time travelled (hours/year)=%{y}<extra></extra>",
           "legendgroup": "Passenger car (driver)",
           "marker": {
            "color": "#ab63fa",
            "pattern": {
             "shape": ""
            }
           },
           "name": "Passenger car (driver)",
           "offsetgroup": "Passenger car (driver)",
           "orientation": "v",
           "showlegend": true,
           "textposition": "auto",
           "type": "bar",
           "x": [
            "Extremely urbanised",
            "Hardly urbanised",
            "Moderately urbanised",
            "Not urbanised",
            "Strongly urbanised"
           ],
           "xaxis": "x",
           "y": [
            180.8,
            282.2,
            262.2,
            292.7,
            244.9
           ],
           "yaxis": "y"
          },
          {
           "alignmentgroup": "True",
           "hovertemplate": "TravelModes=Passenger car (passenger)<br>Period=2021<br>Urbanization level=%{x}<br>Time travelled (hours/year)=%{y}<extra></extra>",
           "legendgroup": "Passenger car (passenger)",
           "marker": {
            "color": "#FFA15A",
            "pattern": {
             "shape": ""
            }
           },
           "name": "Passenger car (passenger)",
           "offsetgroup": "Passenger car (passenger)",
           "orientation": "v",
           "showlegend": true,
           "textposition": "auto",
           "type": "bar",
           "x": [
            "Extremely urbanised",
            "Hardly urbanised",
            "Moderately urbanised",
            "Not urbanised",
            "Strongly urbanised"
           ],
           "xaxis": "x",
           "y": [
            81.1,
            96.89999999999999,
            103,
            86.6,
            96.5
           ],
           "yaxis": "y"
          },
          {
           "alignmentgroup": "True",
           "hovertemplate": "TravelModes=Train<br>Period=2021<br>Urbanization level=%{x}<br>Time travelled (hours/year)=%{y}<extra></extra>",
           "legendgroup": "Train",
           "marker": {
            "color": "#19d3f3",
            "pattern": {
             "shape": ""
            }
           },
           "name": "Train",
           "offsetgroup": "Train",
           "orientation": "v",
           "showlegend": true,
           "textposition": "auto",
           "type": "bar",
           "x": [
            "Extremely urbanised",
            "Hardly urbanised",
            "Moderately urbanised",
            "Strongly urbanised"
           ],
           "xaxis": "x",
           "y": [
            55.2,
            12.600000000000001,
            11,
            29.299999999999997
           ],
           "yaxis": "y"
          },
          {
           "alignmentgroup": "True",
           "hovertemplate": "TravelModes=Walking<br>Period=2021<br>Urbanization level=%{x}<br>Time travelled (hours/year)=%{y}<extra></extra>",
           "legendgroup": "Walking",
           "marker": {
            "color": "#FF6692",
            "pattern": {
             "shape": ""
            }
           },
           "name": "Walking",
           "offsetgroup": "Walking",
           "orientation": "v",
           "showlegend": true,
           "textposition": "auto",
           "type": "bar",
           "x": [
            "Extremely urbanised",
            "Hardly urbanised",
            "Moderately urbanised",
            "Not urbanised",
            "Strongly urbanised"
           ],
           "xaxis": "x",
           "y": [
            270.4,
            208.70000000000002,
            204.89999999999998,
            199.29999999999998,
            225.1
           ],
           "yaxis": "y"
          }
         ],
         "name": "2021"
        },
        {
         "data": [
          {
           "alignmentgroup": "True",
           "hovertemplate": "TravelModes=Bike<br>Period=2022<br>Urbanization level=%{x}<br>Time travelled (hours/year)=%{y}<extra></extra>",
           "legendgroup": "Bike",
           "marker": {
            "color": "#636efa",
            "pattern": {
             "shape": ""
            }
           },
           "name": "Bike",
           "offsetgroup": "Bike",
           "orientation": "v",
           "showlegend": true,
           "textposition": "auto",
           "type": "bar",
           "x": [
            "Extremely urbanised",
            "Hardly urbanised",
            "Moderately urbanised",
            "Not urbanised",
            "Strongly urbanised"
           ],
           "xaxis": "x",
           "y": [
            215.1,
            198.7,
            213.4,
            184.8,
            194.5
           ],
           "yaxis": "y"
          },
          {
           "alignmentgroup": "True",
           "hovertemplate": "TravelModes=Bus/tram/metro<br>Period=2022<br>Urbanization level=%{x}<br>Time travelled (hours/year)=%{y}<extra></extra>",
           "legendgroup": "Bus/tram/metro",
           "marker": {
            "color": "#EF553B",
            "pattern": {
             "shape": ""
            }
           },
           "name": "Bus/tram/metro",
           "offsetgroup": "Bus/tram/metro",
           "orientation": "v",
           "showlegend": true,
           "textposition": "auto",
           "type": "bar",
           "x": [
            "Extremely urbanised",
            "Hardly urbanised",
            "Moderately urbanised",
            "Not urbanised",
            "Strongly urbanised"
           ],
           "xaxis": "x",
           "y": [
            57.699999999999996,
            12.399999999999999,
            11.6,
            11.9,
            20.599999999999998
           ],
           "yaxis": "y"
          },
          {
           "alignmentgroup": "True",
           "hovertemplate": "TravelModes=Other<br>Period=2022<br>Urbanization level=%{x}<br>Time travelled (hours/year)=%{y}<extra></extra>",
           "legendgroup": "Other",
           "marker": {
            "color": "#00cc96",
            "pattern": {
             "shape": ""
            }
           },
           "name": "Other",
           "offsetgroup": "Other",
           "orientation": "v",
           "showlegend": true,
           "textposition": "auto",
           "type": "bar",
           "x": [
            "Extremely urbanised",
            "Hardly urbanised",
            "Moderately urbanised",
            "Not urbanised",
            "Strongly urbanised"
           ],
           "xaxis": "x",
           "y": [
            21.6,
            40.2,
            37.900000000000006,
            31.5,
            40.4
           ],
           "yaxis": "y"
          },
          {
           "alignmentgroup": "True",
           "hovertemplate": "TravelModes=Passenger car (driver)<br>Period=2022<br>Urbanization level=%{x}<br>Time travelled (hours/year)=%{y}<extra></extra>",
           "legendgroup": "Passenger car (driver)",
           "marker": {
            "color": "#ab63fa",
            "pattern": {
             "shape": ""
            }
           },
           "name": "Passenger car (driver)",
           "offsetgroup": "Passenger car (driver)",
           "orientation": "v",
           "showlegend": true,
           "textposition": "auto",
           "type": "bar",
           "x": [
            "Extremely urbanised",
            "Hardly urbanised",
            "Moderately urbanised",
            "Not urbanised",
            "Strongly urbanised"
           ],
           "xaxis": "x",
           "y": [
            198.7,
            300.90000000000003,
            281.6,
            295.8,
            264.7
           ],
           "yaxis": "y"
          },
          {
           "alignmentgroup": "True",
           "hovertemplate": "TravelModes=Passenger car (passenger)<br>Period=2022<br>Urbanization level=%{x}<br>Time travelled (hours/year)=%{y}<extra></extra>",
           "legendgroup": "Passenger car (passenger)",
           "marker": {
            "color": "#FFA15A",
            "pattern": {
             "shape": ""
            }
           },
           "name": "Passenger car (passenger)",
           "offsetgroup": "Passenger car (passenger)",
           "orientation": "v",
           "showlegend": true,
           "textposition": "auto",
           "type": "bar",
           "x": [
            "Extremely urbanised",
            "Hardly urbanised",
            "Moderately urbanised",
            "Not urbanised",
            "Strongly urbanised"
           ],
           "xaxis": "x",
           "y": [
            84.5,
            107.4,
            101.5,
            91.19999999999999,
            98.8
           ],
           "yaxis": "y"
          },
          {
           "alignmentgroup": "True",
           "hovertemplate": "TravelModes=Train<br>Period=2022<br>Urbanization level=%{x}<br>Time travelled (hours/year)=%{y}<extra></extra>",
           "legendgroup": "Train",
           "marker": {
            "color": "#19d3f3",
            "pattern": {
             "shape": ""
            }
           },
           "name": "Train",
           "offsetgroup": "Train",
           "orientation": "v",
           "showlegend": true,
           "textposition": "auto",
           "type": "bar",
           "x": [
            "Extremely urbanised",
            "Hardly urbanised",
            "Moderately urbanised",
            "Not urbanised",
            "Strongly urbanised"
           ],
           "xaxis": "x",
           "y": [
            68.2,
            23.6,
            31.799999999999997,
            17.2,
            53.1
           ],
           "yaxis": "y"
          },
          {
           "alignmentgroup": "True",
           "hovertemplate": "TravelModes=Walking<br>Period=2022<br>Urbanization level=%{x}<br>Time travelled (hours/year)=%{y}<extra></extra>",
           "legendgroup": "Walking",
           "marker": {
            "color": "#FF6692",
            "pattern": {
             "shape": ""
            }
           },
           "name": "Walking",
           "offsetgroup": "Walking",
           "orientation": "v",
           "showlegend": true,
           "textposition": "auto",
           "type": "bar",
           "x": [
            "Extremely urbanised",
            "Hardly urbanised",
            "Moderately urbanised",
            "Not urbanised",
            "Strongly urbanised"
           ],
           "xaxis": "x",
           "y": [
            225.1,
            178.20000000000002,
            194.2,
            155,
            196.7
           ],
           "yaxis": "y"
          }
         ],
         "name": "2022"
        },
        {
         "data": [
          {
           "alignmentgroup": "True",
           "hovertemplate": "TravelModes=Bike<br>Period=2023<br>Urbanization level=%{x}<br>Time travelled (hours/year)=%{y}<extra></extra>",
           "legendgroup": "Bike",
           "marker": {
            "color": "#636efa",
            "pattern": {
             "shape": ""
            }
           },
           "name": "Bike",
           "offsetgroup": "Bike",
           "orientation": "v",
           "showlegend": true,
           "textposition": "auto",
           "type": "bar",
           "x": [
            "Extremely urbanised",
            "Hardly urbanised",
            "Moderately urbanised",
            "Not urbanised",
            "Strongly urbanised"
           ],
           "xaxis": "x",
           "y": [
            212.9,
            181.5,
            194.29999999999998,
            170.9,
            185.2
           ],
           "yaxis": "y"
          },
          {
           "alignmentgroup": "True",
           "hovertemplate": "TravelModes=Bus/tram/metro<br>Period=2023<br>Urbanization level=%{x}<br>Time travelled (hours/year)=%{y}<extra></extra>",
           "legendgroup": "Bus/tram/metro",
           "marker": {
            "color": "#EF553B",
            "pattern": {
             "shape": ""
            }
           },
           "name": "Bus/tram/metro",
           "offsetgroup": "Bus/tram/metro",
           "orientation": "v",
           "showlegend": true,
           "textposition": "auto",
           "type": "bar",
           "x": [
            "Extremely urbanised",
            "Hardly urbanised",
            "Moderately urbanised",
            "Not urbanised",
            "Strongly urbanised"
           ],
           "xaxis": "x",
           "y": [
            65.60000000000001,
            10.8,
            11.200000000000001,
            9.4,
            20
           ],
           "yaxis": "y"
          },
          {
           "alignmentgroup": "True",
           "hovertemplate": "TravelModes=Other<br>Period=2023<br>Urbanization level=%{x}<br>Time travelled (hours/year)=%{y}<extra></extra>",
           "legendgroup": "Other",
           "marker": {
            "color": "#00cc96",
            "pattern": {
             "shape": ""
            }
           },
           "name": "Other",
           "offsetgroup": "Other",
           "orientation": "v",
           "showlegend": true,
           "textposition": "auto",
           "type": "bar",
           "x": [
            "Extremely urbanised",
            "Hardly urbanised",
            "Moderately urbanised",
            "Not urbanised",
            "Strongly urbanised"
           ],
           "xaxis": "x",
           "y": [
            27.9,
            29.5,
            28.099999999999998,
            39.2,
            32.4
           ],
           "yaxis": "y"
          },
          {
           "alignmentgroup": "True",
           "hovertemplate": "TravelModes=Passenger car (driver)<br>Period=2023<br>Urbanization level=%{x}<br>Time travelled (hours/year)=%{y}<extra></extra>",
           "legendgroup": "Passenger car (driver)",
           "marker": {
            "color": "#ab63fa",
            "pattern": {
             "shape": ""
            }
           },
           "name": "Passenger car (driver)",
           "offsetgroup": "Passenger car (driver)",
           "orientation": "v",
           "showlegend": true,
           "textposition": "auto",
           "type": "bar",
           "x": [
            "Extremely urbanised",
            "Hardly urbanised",
            "Moderately urbanised",
            "Not urbanised",
            "Strongly urbanised"
           ],
           "xaxis": "x",
           "y": [
            201.8,
            325.59999999999997,
            302.9,
            323.59999999999997,
            279.7
           ],
           "yaxis": "y"
          },
          {
           "alignmentgroup": "True",
           "hovertemplate": "TravelModes=Passenger car (passenger)<br>Period=2023<br>Urbanization level=%{x}<br>Time travelled (hours/year)=%{y}<extra></extra>",
           "legendgroup": "Passenger car (passenger)",
           "marker": {
            "color": "#FFA15A",
            "pattern": {
             "shape": ""
            }
           },
           "name": "Passenger car (passenger)",
           "offsetgroup": "Passenger car (passenger)",
           "orientation": "v",
           "showlegend": true,
           "textposition": "auto",
           "type": "bar",
           "x": [
            "Extremely urbanised",
            "Hardly urbanised",
            "Moderately urbanised",
            "Not urbanised",
            "Strongly urbanised"
           ],
           "xaxis": "x",
           "y": [
            87.4,
            107.7,
            114,
            108.1,
            111.2
           ],
           "yaxis": "y"
          },
          {
           "alignmentgroup": "True",
           "hovertemplate": "TravelModes=Train<br>Period=2023<br>Urbanization level=%{x}<br>Time travelled (hours/year)=%{y}<extra></extra>",
           "legendgroup": "Train",
           "marker": {
            "color": "#19d3f3",
            "pattern": {
             "shape": ""
            }
           },
           "name": "Train",
           "offsetgroup": "Train",
           "orientation": "v",
           "showlegend": true,
           "textposition": "auto",
           "type": "bar",
           "x": [
            "Extremely urbanised",
            "Hardly urbanised",
            "Moderately urbanised",
            "Not urbanised",
            "Strongly urbanised"
           ],
           "xaxis": "x",
           "y": [
            91.2,
            27.9,
            38.9,
            14,
            70.2
           ],
           "yaxis": "y"
          },
          {
           "alignmentgroup": "True",
           "hovertemplate": "TravelModes=Walking<br>Period=2023<br>Urbanization level=%{x}<br>Time travelled (hours/year)=%{y}<extra></extra>",
           "legendgroup": "Walking",
           "marker": {
            "color": "#FF6692",
            "pattern": {
             "shape": ""
            }
           },
           "name": "Walking",
           "offsetgroup": "Walking",
           "orientation": "v",
           "showlegend": true,
           "textposition": "auto",
           "type": "bar",
           "x": [
            "Extremely urbanised",
            "Hardly urbanised",
            "Moderately urbanised",
            "Not urbanised",
            "Strongly urbanised"
           ],
           "xaxis": "x",
           "y": [
            211.7,
            168.5,
            173.70000000000002,
            151.2,
            187.9
           ],
           "yaxis": "y"
          }
         ],
         "name": "2023"
        }
       ],
       "layout": {
        "barmode": "group",
        "legend": {
         "title": {
          "text": "TravelModes"
         },
         "tracegroupgap": 0
        },
        "margin": {
         "t": 60
        },
        "sliders": [
         {
          "active": 0,
          "currentvalue": {
           "prefix": "Period="
          },
          "len": 0.9,
          "pad": {
           "b": 10,
           "t": 60
          },
          "steps": [
           {
            "args": [
             [
              "2018"
             ],
             {
              "frame": {
               "duration": 0,
               "redraw": true
              },
              "fromcurrent": true,
              "mode": "immediate",
              "transition": {
               "duration": 0,
               "easing": "linear"
              }
             }
            ],
            "label": "2018",
            "method": "animate"
           },
           {
            "args": [
             [
              "2019"
             ],
             {
              "frame": {
               "duration": 0,
               "redraw": true
              },
              "fromcurrent": true,
              "mode": "immediate",
              "transition": {
               "duration": 0,
               "easing": "linear"
              }
             }
            ],
            "label": "2019",
            "method": "animate"
           },
           {
            "args": [
             [
              "2020"
             ],
             {
              "frame": {
               "duration": 0,
               "redraw": true
              },
              "fromcurrent": true,
              "mode": "immediate",
              "transition": {
               "duration": 0,
               "easing": "linear"
              }
             }
            ],
            "label": "2020",
            "method": "animate"
           },
           {
            "args": [
             [
              "2021"
             ],
             {
              "frame": {
               "duration": 0,
               "redraw": true
              },
              "fromcurrent": true,
              "mode": "immediate",
              "transition": {
               "duration": 0,
               "easing": "linear"
              }
             }
            ],
            "label": "2021",
            "method": "animate"
           },
           {
            "args": [
             [
              "2022"
             ],
             {
              "frame": {
               "duration": 0,
               "redraw": true
              },
              "fromcurrent": true,
              "mode": "immediate",
              "transition": {
               "duration": 0,
               "easing": "linear"
              }
             }
            ],
            "label": "2022",
            "method": "animate"
           },
           {
            "args": [
             [
              "2023"
             ],
             {
              "frame": {
               "duration": 0,
               "redraw": true
              },
              "fromcurrent": true,
              "mode": "immediate",
              "transition": {
               "duration": 0,
               "easing": "linear"
              }
             }
            ],
            "label": "2023",
            "method": "animate"
           }
          ],
          "x": 0.1,
          "xanchor": "left",
          "y": 0,
          "yanchor": "top"
         }
        ],
        "template": {
         "data": {
          "bar": [
           {
            "error_x": {
             "color": "#2a3f5f"
            },
            "error_y": {
             "color": "#2a3f5f"
            },
            "marker": {
             "line": {
              "color": "#E5ECF6",
              "width": 0.5
             },
             "pattern": {
              "fillmode": "overlay",
              "size": 10,
              "solidity": 0.2
             }
            },
            "type": "bar"
           }
          ],
          "barpolar": [
           {
            "marker": {
             "line": {
              "color": "#E5ECF6",
              "width": 0.5
             },
             "pattern": {
              "fillmode": "overlay",
              "size": 10,
              "solidity": 0.2
             }
            },
            "type": "barpolar"
           }
          ],
          "carpet": [
           {
            "aaxis": {
             "endlinecolor": "#2a3f5f",
             "gridcolor": "white",
             "linecolor": "white",
             "minorgridcolor": "white",
             "startlinecolor": "#2a3f5f"
            },
            "baxis": {
             "endlinecolor": "#2a3f5f",
             "gridcolor": "white",
             "linecolor": "white",
             "minorgridcolor": "white",
             "startlinecolor": "#2a3f5f"
            },
            "type": "carpet"
           }
          ],
          "choropleth": [
           {
            "colorbar": {
             "outlinewidth": 0,
             "ticks": ""
            },
            "type": "choropleth"
           }
          ],
          "contour": [
           {
            "colorbar": {
             "outlinewidth": 0,
             "ticks": ""
            },
            "colorscale": [
             [
              0,
              "#0d0887"
             ],
             [
              0.1111111111111111,
              "#46039f"
             ],
             [
              0.2222222222222222,
              "#7201a8"
             ],
             [
              0.3333333333333333,
              "#9c179e"
             ],
             [
              0.4444444444444444,
              "#bd3786"
             ],
             [
              0.5555555555555556,
              "#d8576b"
             ],
             [
              0.6666666666666666,
              "#ed7953"
             ],
             [
              0.7777777777777778,
              "#fb9f3a"
             ],
             [
              0.8888888888888888,
              "#fdca26"
             ],
             [
              1,
              "#f0f921"
             ]
            ],
            "type": "contour"
           }
          ],
          "contourcarpet": [
           {
            "colorbar": {
             "outlinewidth": 0,
             "ticks": ""
            },
            "type": "contourcarpet"
           }
          ],
          "heatmap": [
           {
            "colorbar": {
             "outlinewidth": 0,
             "ticks": ""
            },
            "colorscale": [
             [
              0,
              "#0d0887"
             ],
             [
              0.1111111111111111,
              "#46039f"
             ],
             [
              0.2222222222222222,
              "#7201a8"
             ],
             [
              0.3333333333333333,
              "#9c179e"
             ],
             [
              0.4444444444444444,
              "#bd3786"
             ],
             [
              0.5555555555555556,
              "#d8576b"
             ],
             [
              0.6666666666666666,
              "#ed7953"
             ],
             [
              0.7777777777777778,
              "#fb9f3a"
             ],
             [
              0.8888888888888888,
              "#fdca26"
             ],
             [
              1,
              "#f0f921"
             ]
            ],
            "type": "heatmap"
           }
          ],
          "heatmapgl": [
           {
            "colorbar": {
             "outlinewidth": 0,
             "ticks": ""
            },
            "colorscale": [
             [
              0,
              "#0d0887"
             ],
             [
              0.1111111111111111,
              "#46039f"
             ],
             [
              0.2222222222222222,
              "#7201a8"
             ],
             [
              0.3333333333333333,
              "#9c179e"
             ],
             [
              0.4444444444444444,
              "#bd3786"
             ],
             [
              0.5555555555555556,
              "#d8576b"
             ],
             [
              0.6666666666666666,
              "#ed7953"
             ],
             [
              0.7777777777777778,
              "#fb9f3a"
             ],
             [
              0.8888888888888888,
              "#fdca26"
             ],
             [
              1,
              "#f0f921"
             ]
            ],
            "type": "heatmapgl"
           }
          ],
          "histogram": [
           {
            "marker": {
             "pattern": {
              "fillmode": "overlay",
              "size": 10,
              "solidity": 0.2
             }
            },
            "type": "histogram"
           }
          ],
          "histogram2d": [
           {
            "colorbar": {
             "outlinewidth": 0,
             "ticks": ""
            },
            "colorscale": [
             [
              0,
              "#0d0887"
             ],
             [
              0.1111111111111111,
              "#46039f"
             ],
             [
              0.2222222222222222,
              "#7201a8"
             ],
             [
              0.3333333333333333,
              "#9c179e"
             ],
             [
              0.4444444444444444,
              "#bd3786"
             ],
             [
              0.5555555555555556,
              "#d8576b"
             ],
             [
              0.6666666666666666,
              "#ed7953"
             ],
             [
              0.7777777777777778,
              "#fb9f3a"
             ],
             [
              0.8888888888888888,
              "#fdca26"
             ],
             [
              1,
              "#f0f921"
             ]
            ],
            "type": "histogram2d"
           }
          ],
          "histogram2dcontour": [
           {
            "colorbar": {
             "outlinewidth": 0,
             "ticks": ""
            },
            "colorscale": [
             [
              0,
              "#0d0887"
             ],
             [
              0.1111111111111111,
              "#46039f"
             ],
             [
              0.2222222222222222,
              "#7201a8"
             ],
             [
              0.3333333333333333,
              "#9c179e"
             ],
             [
              0.4444444444444444,
              "#bd3786"
             ],
             [
              0.5555555555555556,
              "#d8576b"
             ],
             [
              0.6666666666666666,
              "#ed7953"
             ],
             [
              0.7777777777777778,
              "#fb9f3a"
             ],
             [
              0.8888888888888888,
              "#fdca26"
             ],
             [
              1,
              "#f0f921"
             ]
            ],
            "type": "histogram2dcontour"
           }
          ],
          "mesh3d": [
           {
            "colorbar": {
             "outlinewidth": 0,
             "ticks": ""
            },
            "type": "mesh3d"
           }
          ],
          "parcoords": [
           {
            "line": {
             "colorbar": {
              "outlinewidth": 0,
              "ticks": ""
             }
            },
            "type": "parcoords"
           }
          ],
          "pie": [
           {
            "automargin": true,
            "type": "pie"
           }
          ],
          "scatter": [
           {
            "fillpattern": {
             "fillmode": "overlay",
             "size": 10,
             "solidity": 0.2
            },
            "type": "scatter"
           }
          ],
          "scatter3d": [
           {
            "line": {
             "colorbar": {
              "outlinewidth": 0,
              "ticks": ""
             }
            },
            "marker": {
             "colorbar": {
              "outlinewidth": 0,
              "ticks": ""
             }
            },
            "type": "scatter3d"
           }
          ],
          "scattercarpet": [
           {
            "marker": {
             "colorbar": {
              "outlinewidth": 0,
              "ticks": ""
             }
            },
            "type": "scattercarpet"
           }
          ],
          "scattergeo": [
           {
            "marker": {
             "colorbar": {
              "outlinewidth": 0,
              "ticks": ""
             }
            },
            "type": "scattergeo"
           }
          ],
          "scattergl": [
           {
            "marker": {
             "colorbar": {
              "outlinewidth": 0,
              "ticks": ""
             }
            },
            "type": "scattergl"
           }
          ],
          "scattermapbox": [
           {
            "marker": {
             "colorbar": {
              "outlinewidth": 0,
              "ticks": ""
             }
            },
            "type": "scattermapbox"
           }
          ],
          "scatterpolar": [
           {
            "marker": {
             "colorbar": {
              "outlinewidth": 0,
              "ticks": ""
             }
            },
            "type": "scatterpolar"
           }
          ],
          "scatterpolargl": [
           {
            "marker": {
             "colorbar": {
              "outlinewidth": 0,
              "ticks": ""
             }
            },
            "type": "scatterpolargl"
           }
          ],
          "scatterternary": [
           {
            "marker": {
             "colorbar": {
              "outlinewidth": 0,
              "ticks": ""
             }
            },
            "type": "scatterternary"
           }
          ],
          "surface": [
           {
            "colorbar": {
             "outlinewidth": 0,
             "ticks": ""
            },
            "colorscale": [
             [
              0,
              "#0d0887"
             ],
             [
              0.1111111111111111,
              "#46039f"
             ],
             [
              0.2222222222222222,
              "#7201a8"
             ],
             [
              0.3333333333333333,
              "#9c179e"
             ],
             [
              0.4444444444444444,
              "#bd3786"
             ],
             [
              0.5555555555555556,
              "#d8576b"
             ],
             [
              0.6666666666666666,
              "#ed7953"
             ],
             [
              0.7777777777777778,
              "#fb9f3a"
             ],
             [
              0.8888888888888888,
              "#fdca26"
             ],
             [
              1,
              "#f0f921"
             ]
            ],
            "type": "surface"
           }
          ],
          "table": [
           {
            "cells": {
             "fill": {
              "color": "#EBF0F8"
             },
             "line": {
              "color": "white"
             }
            },
            "header": {
             "fill": {
              "color": "#C8D4E3"
             },
             "line": {
              "color": "white"
             }
            },
            "type": "table"
           }
          ]
         },
         "layout": {
          "annotationdefaults": {
           "arrowcolor": "#2a3f5f",
           "arrowhead": 0,
           "arrowwidth": 1
          },
          "autotypenumbers": "strict",
          "coloraxis": {
           "colorbar": {
            "outlinewidth": 0,
            "ticks": ""
           }
          },
          "colorscale": {
           "diverging": [
            [
             0,
             "#8e0152"
            ],
            [
             0.1,
             "#c51b7d"
            ],
            [
             0.2,
             "#de77ae"
            ],
            [
             0.3,
             "#f1b6da"
            ],
            [
             0.4,
             "#fde0ef"
            ],
            [
             0.5,
             "#f7f7f7"
            ],
            [
             0.6,
             "#e6f5d0"
            ],
            [
             0.7,
             "#b8e186"
            ],
            [
             0.8,
             "#7fbc41"
            ],
            [
             0.9,
             "#4d9221"
            ],
            [
             1,
             "#276419"
            ]
           ],
           "sequential": [
            [
             0,
             "#0d0887"
            ],
            [
             0.1111111111111111,
             "#46039f"
            ],
            [
             0.2222222222222222,
             "#7201a8"
            ],
            [
             0.3333333333333333,
             "#9c179e"
            ],
            [
             0.4444444444444444,
             "#bd3786"
            ],
            [
             0.5555555555555556,
             "#d8576b"
            ],
            [
             0.6666666666666666,
             "#ed7953"
            ],
            [
             0.7777777777777778,
             "#fb9f3a"
            ],
            [
             0.8888888888888888,
             "#fdca26"
            ],
            [
             1,
             "#f0f921"
            ]
           ],
           "sequentialminus": [
            [
             0,
             "#0d0887"
            ],
            [
             0.1111111111111111,
             "#46039f"
            ],
            [
             0.2222222222222222,
             "#7201a8"
            ],
            [
             0.3333333333333333,
             "#9c179e"
            ],
            [
             0.4444444444444444,
             "#bd3786"
            ],
            [
             0.5555555555555556,
             "#d8576b"
            ],
            [
             0.6666666666666666,
             "#ed7953"
            ],
            [
             0.7777777777777778,
             "#fb9f3a"
            ],
            [
             0.8888888888888888,
             "#fdca26"
            ],
            [
             1,
             "#f0f921"
            ]
           ]
          },
          "colorway": [
           "#636efa",
           "#EF553B",
           "#00cc96",
           "#ab63fa",
           "#FFA15A",
           "#19d3f3",
           "#FF6692",
           "#B6E880",
           "#FF97FF",
           "#FECB52"
          ],
          "font": {
           "color": "#2a3f5f"
          },
          "geo": {
           "bgcolor": "white",
           "lakecolor": "white",
           "landcolor": "#E5ECF6",
           "showlakes": true,
           "showland": true,
           "subunitcolor": "white"
          },
          "hoverlabel": {
           "align": "left"
          },
          "hovermode": "closest",
          "mapbox": {
           "style": "light"
          },
          "paper_bgcolor": "white",
          "plot_bgcolor": "#E5ECF6",
          "polar": {
           "angularaxis": {
            "gridcolor": "white",
            "linecolor": "white",
            "ticks": ""
           },
           "bgcolor": "#E5ECF6",
           "radialaxis": {
            "gridcolor": "white",
            "linecolor": "white",
            "ticks": ""
           }
          },
          "scene": {
           "xaxis": {
            "backgroundcolor": "#E5ECF6",
            "gridcolor": "white",
            "gridwidth": 2,
            "linecolor": "white",
            "showbackground": true,
            "ticks": "",
            "zerolinecolor": "white"
           },
           "yaxis": {
            "backgroundcolor": "#E5ECF6",
            "gridcolor": "white",
            "gridwidth": 2,
            "linecolor": "white",
            "showbackground": true,
            "ticks": "",
            "zerolinecolor": "white"
           },
           "zaxis": {
            "backgroundcolor": "#E5ECF6",
            "gridcolor": "white",
            "gridwidth": 2,
            "linecolor": "white",
            "showbackground": true,
            "ticks": "",
            "zerolinecolor": "white"
           }
          },
          "shapedefaults": {
           "line": {
            "color": "#2a3f5f"
           }
          },
          "ternary": {
           "aaxis": {
            "gridcolor": "white",
            "linecolor": "white",
            "ticks": ""
           },
           "baxis": {
            "gridcolor": "white",
            "linecolor": "white",
            "ticks": ""
           },
           "bgcolor": "#E5ECF6",
           "caxis": {
            "gridcolor": "white",
            "linecolor": "white",
            "ticks": ""
           }
          },
          "title": {
           "x": 0.05
          },
          "xaxis": {
           "automargin": true,
           "gridcolor": "white",
           "linecolor": "white",
           "ticks": "",
           "title": {
            "standoff": 15
           },
           "zerolinecolor": "white",
           "zerolinewidth": 2
          },
          "yaxis": {
           "automargin": true,
           "gridcolor": "white",
           "linecolor": "white",
           "ticks": "",
           "title": {
            "standoff": 15
           },
           "zerolinecolor": "white",
           "zerolinewidth": 2
          }
         }
        },
        "updatemenus": [
         {
          "buttons": [
           {
            "args": [
             null,
             {
              "frame": {
               "duration": 2000,
               "redraw": true
              },
              "fromcurrent": true,
              "transition": {
               "duration": 1000
              }
             }
            ],
            "label": "Play",
            "method": "animate"
           },
           {
            "args": [
             [
              null
             ],
             {
              "frame": {
               "duration": 0,
               "redraw": false
              },
              "mode": "immediate",
              "transition": {
               "duration": 0
              }
             }
            ],
            "label": "Pause",
            "method": "animate"
           }
          ],
          "direction": "left",
          "pad": {
           "r": 10,
           "t": 70
          },
          "showactive": false,
          "type": "buttons",
          "x": 0.1,
          "xanchor": "right",
          "y": 0,
          "yanchor": "top"
         }
        ],
        "xaxis": {
         "anchor": "y",
         "categoryarray": [
          "Not urbanised",
          "Hardly urbanised",
          "Moderately urbanised",
          "Strongly urbanised",
          "Extremely urbanised"
         ],
         "categoryorder": "array",
         "domain": [
          0,
          1
         ],
         "title": {
          "text": "Urbanization level"
         }
        },
        "yaxis": {
         "anchor": "x",
         "domain": [
          0,
          1
         ],
         "title": {
          "text": "Time travelled (hours/year)"
         }
        }
       }
      }
     },
     "metadata": {},
     "output_type": "display_data"
    }
   ],
   "source": [
    "# make plot for travelhours\n",
    "\n",
    "# Deze naam moet anders, want dit werkt niet met hours nad minutes samen.\n",
    "\n",
    "# Dit is voor justing zn grafieken:\n",
    "datanototal = data[data['TravelModes'] != 'Total']  # Exclude 'Total'\n",
    "\n",
    "plot_travelminutes()\n",
    "barplotanimation(datanototal, 'Time_Travelled_Hours_Per_Year', 'Time travelled (hours/year)')"
   ]
  },
  {
   "attachments": {
    "image-2.png": {
     "image/png": "[encoded data removed]"
    },
    "image.png": {
     "image/png": "[encoded data removed]"
    }
   },
   "cell_type": "markdown",
   "metadata": {},
   "source": [
    "# Analysis of Passenger Kilometers Across Different Urban Areas (2018–2023)\n",
    "\n",
    "Passenger kilometers, representing the total distance travelled by passengers is a good metric for understanding overall travel behavior and mobility trends. Passenger kilometers changes give valuable insights into the pandemic's impact on people's mobility patterns. Different urbanization levels in this case: very urban, urban, semi-urban, and rural areas, may show different patterns due to variations in population density. The availability of transport modes and local restrictions could also impact the difference in travelled kilometers.\n",
    "\n",
    "## Passenger Kilometers Over Time\n",
    "\n",
    "The line chart reveals a sharp decline in passenger kilometers for all areas in 2020, aligning with the start of the pandemic. Highly urbanized areas experienced one of the most significant drops. This decrease reflects strict lockdowns, the rise of remote work, and health concerns that kept people at home.\n",
    "\n",
    "By 2021, travel began to pick up again, but the recovery rates differed:\n",
    "\n",
    "- In less urbanized areas with hardly and non-urbanized areas saw a quicker return to near-normal travel levels by 2022. This faster rebound might be due to greater reliance on personal vehicles, fewer restrictions, and lower population densities.\n",
    "\n",
    "- In highly urbanized areas the recovery was slower, with 2023 levels still slightly below those of 2018. Ongoing remote work and lasting changes in lifestyle likely contributed to this slower return to pre-pandemic travel habits.\n",
    "\n",
    "\n",
    "**Images because github is not able to handle plotly graphs** \n",
    "![image-2.png](attachment:image-2.png)\n",
    "![image.png](attachment:image.png)"
   ]
  },
  {
   "cell_type": "code",
   "execution_count": 17,
   "metadata": {},
   "outputs": [
    {
     "data": {
      "application/vnd.plotly.v1+json": {
       "config": {
        "plotlyServerURL": "https://plot.ly"
       },
       "data": [
        {
         "hovertemplate": "Urbanization Level=Extremely urbanised<br>Year=%{x}<br>Passenger Kilometers per Year=%{y}<extra></extra>",
         "legendgroup": "Extremely urbanised",
         "line": {
          "color": "#636efa",
          "dash": "solid"
         },
         "marker": {
          "symbol": "circle"
         },
         "mode": "lines+markers",
         "name": "Extremely urbanised",
         "orientation": "v",
         "showlegend": true,
         "type": "scatter",
         "x": [
          2018,
          2019,
          2020,
          2021,
          2022,
          2023
         ],
         "xaxis": "x",
         "y": [
          11922,
          11464,
          7601,
          8402,
          9287,
          9831
         ],
         "yaxis": "y"
        },
        {
         "hovertemplate": "Urbanization Level=Strongly urbanised<br>Year=%{x}<br>Passenger Kilometers per Year=%{y}<extra></extra>",
         "legendgroup": "Strongly urbanised",
         "line": {
          "color": "#EF553B",
          "dash": "solid"
         },
         "marker": {
          "symbol": "circle"
         },
         "mode": "lines+markers",
         "name": "Strongly urbanised",
         "orientation": "v",
         "showlegend": true,
         "type": "scatter",
         "x": [
          2018,
          2019,
          2020,
          2021,
          2022,
          2023
         ],
         "xaxis": "x",
         "y": [
          13165,
          13168,
          9035,
          9890,
          11128,
          11832
         ],
         "yaxis": "y"
        },
        {
         "hovertemplate": "Urbanization Level=Moderately urbanised<br>Year=%{x}<br>Passenger Kilometers per Year=%{y}<extra></extra>",
         "legendgroup": "Moderately urbanised",
         "line": {
          "color": "#00cc96",
          "dash": "solid"
         },
         "marker": {
          "symbol": "circle"
         },
         "mode": "lines+markers",
         "name": "Moderately urbanised",
         "orientation": "v",
         "showlegend": true,
         "type": "scatter",
         "x": [
          2018,
          2019,
          2020,
          2021,
          2022,
          2023
         ],
         "xaxis": "x",
         "y": [
          13128,
          13539,
          9543,
          10222,
          11416,
          12193
         ],
         "yaxis": "y"
        },
        {
         "hovertemplate": "Urbanization Level=Hardly urbanised<br>Year=%{x}<br>Passenger Kilometers per Year=%{y}<extra></extra>",
         "legendgroup": "Hardly urbanised",
         "line": {
          "color": "#ab63fa",
          "dash": "solid"
         },
         "marker": {
          "symbol": "circle"
         },
         "mode": "lines+markers",
         "name": "Hardly urbanised",
         "orientation": "v",
         "showlegend": true,
         "type": "scatter",
         "x": [
          2018,
          2019,
          2020,
          2021,
          2022,
          2023
         ],
         "xaxis": "x",
         "y": [
          14415,
          13986,
          9969,
          10959,
          12308,
          12687
         ],
         "yaxis": "y"
        },
        {
         "hovertemplate": "Urbanization Level=Not urbanised<br>Year=%{x}<br>Passenger Kilometers per Year=%{y}<extra></extra>",
         "legendgroup": "Not urbanised",
         "line": {
          "color": "#FFA15A",
          "dash": "solid"
         },
         "marker": {
          "symbol": "circle"
         },
         "mode": "lines+markers",
         "name": "Not urbanised",
         "orientation": "v",
         "showlegend": true,
         "type": "scatter",
         "x": [
          2018,
          2019,
          2020,
          2021,
          2022,
          2023
         ],
         "xaxis": "x",
         "y": [
          14011,
          15093,
          10978,
          11950,
          12312,
          13605
         ],
         "yaxis": "y"
        }
       ],
       "layout": {
        "legend": {
         "title": {
          "text": "Urbanization Level"
         },
         "tracegroupgap": 0,
         "x": 1.05,
         "y": 1
        },
        "margin": {
         "b": 50,
         "l": 50,
         "r": 50,
         "t": 50
        },
        "template": {
         "data": {
          "bar": [
           {
            "error_x": {
             "color": "#2a3f5f"
            },
            "error_y": {
             "color": "#2a3f5f"
            },
            "marker": {
             "line": {
              "color": "#E5ECF6",
              "width": 0.5
             },
             "pattern": {
              "fillmode": "overlay",
              "size": 10,
              "solidity": 0.2
             }
            },
            "type": "bar"
           }
          ],
          "barpolar": [
           {
            "marker": {
             "line": {
              "color": "#E5ECF6",
              "width": 0.5
             },
             "pattern": {
              "fillmode": "overlay",
              "size": 10,
              "solidity": 0.2
             }
            },
            "type": "barpolar"
           }
          ],
          "carpet": [
           {
            "aaxis": {
             "endlinecolor": "#2a3f5f",
             "gridcolor": "white",
             "linecolor": "white",
             "minorgridcolor": "white",
             "startlinecolor": "#2a3f5f"
            },
            "baxis": {
             "endlinecolor": "#2a3f5f",
             "gridcolor": "white",
             "linecolor": "white",
             "minorgridcolor": "white",
             "startlinecolor": "#2a3f5f"
            },
            "type": "carpet"
           }
          ],
          "choropleth": [
           {
            "colorbar": {
             "outlinewidth": 0,
             "ticks": ""
            },
            "type": "choropleth"
           }
          ],
          "contour": [
           {
            "colorbar": {
             "outlinewidth": 0,
             "ticks": ""
            },
            "colorscale": [
             [
              0,
              "#0d0887"
             ],
             [
              0.1111111111111111,
              "#46039f"
             ],
             [
              0.2222222222222222,
              "#7201a8"
             ],
             [
              0.3333333333333333,
              "#9c179e"
             ],
             [
              0.4444444444444444,
              "#bd3786"
             ],
             [
              0.5555555555555556,
              "#d8576b"
             ],
             [
              0.6666666666666666,
              "#ed7953"
             ],
             [
              0.7777777777777778,
              "#fb9f3a"
             ],
             [
              0.8888888888888888,
              "#fdca26"
             ],
             [
              1,
              "#f0f921"
             ]
            ],
            "type": "contour"
           }
          ],
          "contourcarpet": [
           {
            "colorbar": {
             "outlinewidth": 0,
             "ticks": ""
            },
            "type": "contourcarpet"
           }
          ],
          "heatmap": [
           {
            "colorbar": {
             "outlinewidth": 0,
             "ticks": ""
            },
            "colorscale": [
             [
              0,
              "#0d0887"
             ],
             [
              0.1111111111111111,
              "#46039f"
             ],
             [
              0.2222222222222222,
              "#7201a8"
             ],
             [
              0.3333333333333333,
              "#9c179e"
             ],
             [
              0.4444444444444444,
              "#bd3786"
             ],
             [
              0.5555555555555556,
              "#d8576b"
             ],
             [
              0.6666666666666666,
              "#ed7953"
             ],
             [
              0.7777777777777778,
              "#fb9f3a"
             ],
             [
              0.8888888888888888,
              "#fdca26"
             ],
             [
              1,
              "#f0f921"
             ]
            ],
            "type": "heatmap"
           }
          ],
          "heatmapgl": [
           {
            "colorbar": {
             "outlinewidth": 0,
             "ticks": ""
            },
            "colorscale": [
             [
              0,
              "#0d0887"
             ],
             [
              0.1111111111111111,
              "#46039f"
             ],
             [
              0.2222222222222222,
              "#7201a8"
             ],
             [
              0.3333333333333333,
              "#9c179e"
             ],
             [
              0.4444444444444444,
              "#bd3786"
             ],
             [
              0.5555555555555556,
              "#d8576b"
             ],
             [
              0.6666666666666666,
              "#ed7953"
             ],
             [
              0.7777777777777778,
              "#fb9f3a"
             ],
             [
              0.8888888888888888,
              "#fdca26"
             ],
             [
              1,
              "#f0f921"
             ]
            ],
            "type": "heatmapgl"
           }
          ],
          "histogram": [
           {
            "marker": {
             "pattern": {
              "fillmode": "overlay",
              "size": 10,
              "solidity": 0.2
             }
            },
            "type": "histogram"
           }
          ],
          "histogram2d": [
           {
            "colorbar": {
             "outlinewidth": 0,
             "ticks": ""
            },
            "colorscale": [
             [
              0,
              "#0d0887"
             ],
             [
              0.1111111111111111,
              "#46039f"
             ],
             [
              0.2222222222222222,
              "#7201a8"
             ],
             [
              0.3333333333333333,
              "#9c179e"
             ],
             [
              0.4444444444444444,
              "#bd3786"
             ],
             [
              0.5555555555555556,
              "#d8576b"
             ],
             [
              0.6666666666666666,
              "#ed7953"
             ],
             [
              0.7777777777777778,
              "#fb9f3a"
             ],
             [
              0.8888888888888888,
              "#fdca26"
             ],
             [
              1,
              "#f0f921"
             ]
            ],
            "type": "histogram2d"
           }
          ],
          "histogram2dcontour": [
           {
            "colorbar": {
             "outlinewidth": 0,
             "ticks": ""
            },
            "colorscale": [
             [
              0,
              "#0d0887"
             ],
             [
              0.1111111111111111,
              "#46039f"
             ],
             [
              0.2222222222222222,
              "#7201a8"
             ],
             [
              0.3333333333333333,
              "#9c179e"
             ],
             [
              0.4444444444444444,
              "#bd3786"
             ],
             [
              0.5555555555555556,
              "#d8576b"
             ],
             [
              0.6666666666666666,
              "#ed7953"
             ],
             [
              0.7777777777777778,
              "#fb9f3a"
             ],
             [
              0.8888888888888888,
              "#fdca26"
             ],
             [
              1,
              "#f0f921"
             ]
            ],
            "type": "histogram2dcontour"
           }
          ],
          "mesh3d": [
           {
            "colorbar": {
             "outlinewidth": 0,
             "ticks": ""
            },
            "type": "mesh3d"
           }
          ],
          "parcoords": [
           {
            "line": {
             "colorbar": {
              "outlinewidth": 0,
              "ticks": ""
             }
            },
            "type": "parcoords"
           }
          ],
          "pie": [
           {
            "automargin": true,
            "type": "pie"
           }
          ],
          "scatter": [
           {
            "fillpattern": {
             "fillmode": "overlay",
             "size": 10,
             "solidity": 0.2
            },
            "type": "scatter"
           }
          ],
          "scatter3d": [
           {
            "line": {
             "colorbar": {
              "outlinewidth": 0,
              "ticks": ""
             }
            },
            "marker": {
             "colorbar": {
              "outlinewidth": 0,
              "ticks": ""
             }
            },
            "type": "scatter3d"
           }
          ],
          "scattercarpet": [
           {
            "marker": {
             "colorbar": {
              "outlinewidth": 0,
              "ticks": ""
             }
            },
            "type": "scattercarpet"
           }
          ],
          "scattergeo": [
           {
            "marker": {
             "colorbar": {
              "outlinewidth": 0,
              "ticks": ""
             }
            },
            "type": "scattergeo"
           }
          ],
          "scattergl": [
           {
            "marker": {
             "colorbar": {
              "outlinewidth": 0,
              "ticks": ""
             }
            },
            "type": "scattergl"
           }
          ],
          "scattermapbox": [
           {
            "marker": {
             "colorbar": {
              "outlinewidth": 0,
              "ticks": ""
             }
            },
            "type": "scattermapbox"
           }
          ],
          "scatterpolar": [
           {
            "marker": {
             "colorbar": {
              "outlinewidth": 0,
              "ticks": ""
             }
            },
            "type": "scatterpolar"
           }
          ],
          "scatterpolargl": [
           {
            "marker": {
             "colorbar": {
              "outlinewidth": 0,
              "ticks": ""
             }
            },
            "type": "scatterpolargl"
           }
          ],
          "scatterternary": [
           {
            "marker": {
             "colorbar": {
              "outlinewidth": 0,
              "ticks": ""
             }
            },
            "type": "scatterternary"
           }
          ],
          "surface": [
           {
            "colorbar": {
             "outlinewidth": 0,
             "ticks": ""
            },
            "colorscale": [
             [
              0,
              "#0d0887"
             ],
             [
              0.1111111111111111,
              "#46039f"
             ],
             [
              0.2222222222222222,
              "#7201a8"
             ],
             [
              0.3333333333333333,
              "#9c179e"
             ],
             [
              0.4444444444444444,
              "#bd3786"
             ],
             [
              0.5555555555555556,
              "#d8576b"
             ],
             [
              0.6666666666666666,
              "#ed7953"
             ],
             [
              0.7777777777777778,
              "#fb9f3a"
             ],
             [
              0.8888888888888888,
              "#fdca26"
             ],
             [
              1,
              "#f0f921"
             ]
            ],
            "type": "surface"
           }
          ],
          "table": [
           {
            "cells": {
             "fill": {
              "color": "#EBF0F8"
             },
             "line": {
              "color": "white"
             }
            },
            "header": {
             "fill": {
              "color": "#C8D4E3"
             },
             "line": {
              "color": "white"
             }
            },
            "type": "table"
           }
          ]
         },
         "layout": {
          "annotationdefaults": {
           "arrowcolor": "#2a3f5f",
           "arrowhead": 0,
           "arrowwidth": 1
          },
          "autotypenumbers": "strict",
          "coloraxis": {
           "colorbar": {
            "outlinewidth": 0,
            "ticks": ""
           }
          },
          "colorscale": {
           "diverging": [
            [
             0,
             "#8e0152"
            ],
            [
             0.1,
             "#c51b7d"
            ],
            [
             0.2,
             "#de77ae"
            ],
            [
             0.3,
             "#f1b6da"
            ],
            [
             0.4,
             "#fde0ef"
            ],
            [
             0.5,
             "#f7f7f7"
            ],
            [
             0.6,
             "#e6f5d0"
            ],
            [
             0.7,
             "#b8e186"
            ],
            [
             0.8,
             "#7fbc41"
            ],
            [
             0.9,
             "#4d9221"
            ],
            [
             1,
             "#276419"
            ]
           ],
           "sequential": [
            [
             0,
             "#0d0887"
            ],
            [
             0.1111111111111111,
             "#46039f"
            ],
            [
             0.2222222222222222,
             "#7201a8"
            ],
            [
             0.3333333333333333,
             "#9c179e"
            ],
            [
             0.4444444444444444,
             "#bd3786"
            ],
            [
             0.5555555555555556,
             "#d8576b"
            ],
            [
             0.6666666666666666,
             "#ed7953"
            ],
            [
             0.7777777777777778,
             "#fb9f3a"
            ],
            [
             0.8888888888888888,
             "#fdca26"
            ],
            [
             1,
             "#f0f921"
            ]
           ],
           "sequentialminus": [
            [
             0,
             "#0d0887"
            ],
            [
             0.1111111111111111,
             "#46039f"
            ],
            [
             0.2222222222222222,
             "#7201a8"
            ],
            [
             0.3333333333333333,
             "#9c179e"
            ],
            [
             0.4444444444444444,
             "#bd3786"
            ],
            [
             0.5555555555555556,
             "#d8576b"
            ],
            [
             0.6666666666666666,
             "#ed7953"
            ],
            [
             0.7777777777777778,
             "#fb9f3a"
            ],
            [
             0.8888888888888888,
             "#fdca26"
            ],
            [
             1,
             "#f0f921"
            ]
           ]
          },
          "colorway": [
           "#636efa",
           "#EF553B",
           "#00cc96",
           "#ab63fa",
           "#FFA15A",
           "#19d3f3",
           "#FF6692",
           "#B6E880",
           "#FF97FF",
           "#FECB52"
          ],
          "font": {
           "color": "#2a3f5f"
          },
          "geo": {
           "bgcolor": "white",
           "lakecolor": "white",
           "landcolor": "#E5ECF6",
           "showlakes": true,
           "showland": true,
           "subunitcolor": "white"
          },
          "hoverlabel": {
           "align": "left"
          },
          "hovermode": "closest",
          "mapbox": {
           "style": "light"
          },
          "paper_bgcolor": "white",
          "plot_bgcolor": "#E5ECF6",
          "polar": {
           "angularaxis": {
            "gridcolor": "white",
            "linecolor": "white",
            "ticks": ""
           },
           "bgcolor": "#E5ECF6",
           "radialaxis": {
            "gridcolor": "white",
            "linecolor": "white",
            "ticks": ""
           }
          },
          "scene": {
           "xaxis": {
            "backgroundcolor": "#E5ECF6",
            "gridcolor": "white",
            "gridwidth": 2,
            "linecolor": "white",
            "showbackground": true,
            "ticks": "",
            "zerolinecolor": "white"
           },
           "yaxis": {
            "backgroundcolor": "#E5ECF6",
            "gridcolor": "white",
            "gridwidth": 2,
            "linecolor": "white",
            "showbackground": true,
            "ticks": "",
            "zerolinecolor": "white"
           },
           "zaxis": {
            "backgroundcolor": "#E5ECF6",
            "gridcolor": "white",
            "gridwidth": 2,
            "linecolor": "white",
            "showbackground": true,
            "ticks": "",
            "zerolinecolor": "white"
           }
          },
          "shapedefaults": {
           "line": {
            "color": "#2a3f5f"
           }
          },
          "ternary": {
           "aaxis": {
            "gridcolor": "white",
            "linecolor": "white",
            "ticks": ""
           },
           "baxis": {
            "gridcolor": "white",
            "linecolor": "white",
            "ticks": ""
           },
           "bgcolor": "#E5ECF6",
           "caxis": {
            "gridcolor": "white",
            "linecolor": "white",
            "ticks": ""
           }
          },
          "title": {
           "x": 0.05
          },
          "xaxis": {
           "automargin": true,
           "gridcolor": "white",
           "linecolor": "white",
           "ticks": "",
           "title": {
            "standoff": 15
           },
           "zerolinecolor": "white",
           "zerolinewidth": 2
          },
          "yaxis": {
           "automargin": true,
           "gridcolor": "white",
           "linecolor": "white",
           "ticks": "",
           "title": {
            "standoff": 15
           },
           "zerolinecolor": "white",
           "zerolinewidth": 2
          }
         }
        },
        "title": {
         "text": "Passenger Kilometers Over Time by Urbanization Level"
        },
        "xaxis": {
         "anchor": "y",
         "domain": [
          0,
          1
         ],
         "title": {
          "text": "Year"
         }
        },
        "yaxis": {
         "anchor": "x",
         "domain": [
          0,
          1
         ],
         "title": {
          "text": "Passenger Kilometers per Year"
         }
        }
       }
      }
     },
     "metadata": {},
     "output_type": "display_data"
    }
   ],
   "source": [
    "passenger_km_plot(data)"
   ]
  },
  {
   "cell_type": "code",
   "execution_count": 18,
   "metadata": {},
   "outputs": [
    {
     "data": {
      "application/vnd.plotly.v1+json": {
       "config": {
        "plotlyServerURL": "https://plot.ly"
       },
       "data": [
        {
         "alignmentgroup": "True",
         "hovertemplate": "TravelModes=Bike<br>Period=2018<br>Urbanization level=%{x}<br>Distance travelled (km/year)=%{y}<extra></extra>",
         "legendgroup": "Bike",
         "marker": {
          "color": "#636efa",
          "pattern": {
           "shape": ""
          }
         },
         "name": "Bike",
         "offsetgroup": "Bike",
         "orientation": "v",
         "showlegend": true,
         "textposition": "auto",
         "type": "bar",
         "x": [
          "Extremely urbanised",
          "Hardly urbanised",
          "Moderately urbanised",
          "Not urbanised",
          "Strongly urbanised"
         ],
         "xaxis": "x",
         "y": [
          2379,
          2263,
          2286,
          2224,
          2315
         ],
         "yaxis": "y"
        },
        {
         "alignmentgroup": "True",
         "hovertemplate": "TravelModes=Bus/tram/metro<br>Period=2018<br>Urbanization level=%{x}<br>Distance travelled (km/year)=%{y}<extra></extra>",
         "legendgroup": "Bus/tram/metro",
         "marker": {
          "color": "#EF553B",
          "pattern": {
           "shape": ""
          }
         },
         "name": "Bus/tram/metro",
         "offsetgroup": "Bus/tram/metro",
         "orientation": "v",
         "showlegend": true,
         "textposition": "auto",
         "type": "bar",
         "x": [
          "Extremely urbanised",
          "Hardly urbanised",
          "Moderately urbanised",
          "Not urbanised",
          "Strongly urbanised"
         ],
         "xaxis": "x",
         "y": [
          1325,
          472,
          463,
          444,
          640
         ],
         "yaxis": "y"
        },
        {
         "alignmentgroup": "True",
         "hovertemplate": "TravelModes=Other<br>Period=2018<br>Urbanization level=%{x}<br>Distance travelled (km/year)=%{y}<extra></extra>",
         "legendgroup": "Other",
         "marker": {
          "color": "#00cc96",
          "pattern": {
           "shape": ""
          }
         },
         "name": "Other",
         "offsetgroup": "Other",
         "orientation": "v",
         "showlegend": true,
         "textposition": "auto",
         "type": "bar",
         "x": [
          "Extremely urbanised",
          "Hardly urbanised",
          "Moderately urbanised",
          "Not urbanised",
          "Strongly urbanised"
         ],
         "xaxis": "x",
         "y": [
          693,
          2208,
          1384,
          2085,
          1258
         ],
         "yaxis": "y"
        },
        {
         "alignmentgroup": "True",
         "hovertemplate": "TravelModes=Passenger car (driver)<br>Period=2018<br>Urbanization level=%{x}<br>Distance travelled (km/year)=%{y}<extra></extra>",
         "legendgroup": "Passenger car (driver)",
         "marker": {
          "color": "#ab63fa",
          "pattern": {
           "shape": ""
          }
         },
         "name": "Passenger car (driver)",
         "offsetgroup": "Passenger car (driver)",
         "orientation": "v",
         "showlegend": true,
         "textposition": "auto",
         "type": "bar",
         "x": [
          "Extremely urbanised",
          "Hardly urbanised",
          "Moderately urbanised",
          "Not urbanised",
          "Strongly urbanised"
         ],
         "xaxis": "x",
         "y": [
          9836,
          15573,
          13536,
          15575,
          13548
         ],
         "yaxis": "y"
        },
        {
         "alignmentgroup": "True",
         "hovertemplate": "TravelModes=Passenger car (passenger)<br>Period=2018<br>Urbanization level=%{x}<br>Distance travelled (km/year)=%{y}<extra></extra>",
         "legendgroup": "Passenger car (passenger)",
         "marker": {
          "color": "#FFA15A",
          "pattern": {
           "shape": ""
          }
         },
         "name": "Passenger car (passenger)",
         "offsetgroup": "Passenger car (passenger)",
         "orientation": "v",
         "showlegend": true,
         "textposition": "auto",
         "type": "bar",
         "x": [
          "Extremely urbanised",
          "Hardly urbanised",
          "Moderately urbanised",
          "Not urbanised",
          "Strongly urbanised"
         ],
         "xaxis": "x",
         "y": [
          3861,
          5829,
          4883,
          4712,
          4752
         ],
         "yaxis": "y"
        },
        {
         "alignmentgroup": "True",
         "hovertemplate": "TravelModes=Train<br>Period=2018<br>Urbanization level=%{x}<br>Distance travelled (km/year)=%{y}<extra></extra>",
         "legendgroup": "Train",
         "marker": {
          "color": "#19d3f3",
          "pattern": {
           "shape": ""
          }
         },
         "name": "Train",
         "offsetgroup": "Train",
         "orientation": "v",
         "showlegend": true,
         "textposition": "auto",
         "type": "bar",
         "x": [
          "Extremely urbanised",
          "Hardly urbanised",
          "Moderately urbanised",
          "Not urbanised",
          "Strongly urbanised"
         ],
         "xaxis": "x",
         "y": [
          4418,
          1181,
          2039,
          702,
          2751
         ],
         "yaxis": "y"
        },
        {
         "alignmentgroup": "True",
         "hovertemplate": "TravelModes=Walking<br>Period=2018<br>Urbanization level=%{x}<br>Distance travelled (km/year)=%{y}<extra></extra>",
         "legendgroup": "Walking",
         "marker": {
          "color": "#FF6692",
          "pattern": {
           "shape": ""
          }
         },
         "name": "Walking",
         "offsetgroup": "Walking",
         "orientation": "v",
         "showlegend": true,
         "textposition": "auto",
         "type": "bar",
         "x": [
          "Extremely urbanised",
          "Hardly urbanised",
          "Moderately urbanised",
          "Not urbanised",
          "Strongly urbanised"
         ],
         "xaxis": "x",
         "y": [
          786,
          550,
          628,
          484,
          670
         ],
         "yaxis": "y"
        }
       ],
       "frames": [
        {
         "data": [
          {
           "alignmentgroup": "True",
           "hovertemplate": "TravelModes=Bike<br>Period=2018<br>Urbanization level=%{x}<br>Distance travelled (km/year)=%{y}<extra></extra>",
           "legendgroup": "Bike",
           "marker": {
            "color": "#636efa",
            "pattern": {
             "shape": ""
            }
           },
           "name": "Bike",
           "offsetgroup": "Bike",
           "orientation": "v",
           "showlegend": true,
           "textposition": "auto",
           "type": "bar",
           "x": [
            "Extremely urbanised",
            "Hardly urbanised",
            "Moderately urbanised",
            "Not urbanised",
            "Strongly urbanised"
           ],
           "xaxis": "x",
           "y": [
            2379,
            2263,
            2286,
            2224,
            2315
           ],
           "yaxis": "y"
          },
          {
           "alignmentgroup": "True",
           "hovertemplate": "TravelModes=Bus/tram/metro<br>Period=2018<br>Urbanization level=%{x}<br>Distance travelled (km/year)=%{y}<extra></extra>",
           "legendgroup": "Bus/tram/metro",
           "marker": {
            "color": "#EF553B",
            "pattern": {
             "shape": ""
            }
           },
           "name": "Bus/tram/metro",
           "offsetgroup": "Bus/tram/metro",
           "orientation": "v",
           "showlegend": true,
           "textposition": "auto",
           "type": "bar",
           "x": [
            "Extremely urbanised",
            "Hardly urbanised",
            "Moderately urbanised",
            "Not urbanised",
            "Strongly urbanised"
           ],
           "xaxis": "x",
           "y": [
            1325,
            472,
            463,
            444,
            640
           ],
           "yaxis": "y"
          },
          {
           "alignmentgroup": "True",
           "hovertemplate": "TravelModes=Other<br>Period=2018<br>Urbanization level=%{x}<br>Distance travelled (km/year)=%{y}<extra></extra>",
           "legendgroup": "Other",
           "marker": {
            "color": "#00cc96",
            "pattern": {
             "shape": ""
            }
           },
           "name": "Other",
           "offsetgroup": "Other",
           "orientation": "v",
           "showlegend": true,
           "textposition": "auto",
           "type": "bar",
           "x": [
            "Extremely urbanised",
            "Hardly urbanised",
            "Moderately urbanised",
            "Not urbanised",
            "Strongly urbanised"
           ],
           "xaxis": "x",
           "y": [
            693,
            2208,
            1384,
            2085,
            1258
           ],
           "yaxis": "y"
          },
          {
           "alignmentgroup": "True",
           "hovertemplate": "TravelModes=Passenger car (driver)<br>Period=2018<br>Urbanization level=%{x}<br>Distance travelled (km/year)=%{y}<extra></extra>",
           "legendgroup": "Passenger car (driver)",
           "marker": {
            "color": "#ab63fa",
            "pattern": {
             "shape": ""
            }
           },
           "name": "Passenger car (driver)",
           "offsetgroup": "Passenger car (driver)",
           "orientation": "v",
           "showlegend": true,
           "textposition": "auto",
           "type": "bar",
           "x": [
            "Extremely urbanised",
            "Hardly urbanised",
            "Moderately urbanised",
            "Not urbanised",
            "Strongly urbanised"
           ],
           "xaxis": "x",
           "y": [
            9836,
            15573,
            13536,
            15575,
            13548
           ],
           "yaxis": "y"
          },
          {
           "alignmentgroup": "True",
           "hovertemplate": "TravelModes=Passenger car (passenger)<br>Period=2018<br>Urbanization level=%{x}<br>Distance travelled (km/year)=%{y}<extra></extra>",
           "legendgroup": "Passenger car (passenger)",
           "marker": {
            "color": "#FFA15A",
            "pattern": {
             "shape": ""
            }
           },
           "name": "Passenger car (passenger)",
           "offsetgroup": "Passenger car (passenger)",
           "orientation": "v",
           "showlegend": true,
           "textposition": "auto",
           "type": "bar",
           "x": [
            "Extremely urbanised",
            "Hardly urbanised",
            "Moderately urbanised",
            "Not urbanised",
            "Strongly urbanised"
           ],
           "xaxis": "x",
           "y": [
            3861,
            5829,
            4883,
            4712,
            4752
           ],
           "yaxis": "y"
          },
          {
           "alignmentgroup": "True",
           "hovertemplate": "TravelModes=Train<br>Period=2018<br>Urbanization level=%{x}<br>Distance travelled (km/year)=%{y}<extra></extra>",
           "legendgroup": "Train",
           "marker": {
            "color": "#19d3f3",
            "pattern": {
             "shape": ""
            }
           },
           "name": "Train",
           "offsetgroup": "Train",
           "orientation": "v",
           "showlegend": true,
           "textposition": "auto",
           "type": "bar",
           "x": [
            "Extremely urbanised",
            "Hardly urbanised",
            "Moderately urbanised",
            "Not urbanised",
            "Strongly urbanised"
           ],
           "xaxis": "x",
           "y": [
            4418,
            1181,
            2039,
            702,
            2751
           ],
           "yaxis": "y"
          },
          {
           "alignmentgroup": "True",
           "hovertemplate": "TravelModes=Walking<br>Period=2018<br>Urbanization level=%{x}<br>Distance travelled (km/year)=%{y}<extra></extra>",
           "legendgroup": "Walking",
           "marker": {
            "color": "#FF6692",
            "pattern": {
             "shape": ""
            }
           },
           "name": "Walking",
           "offsetgroup": "Walking",
           "orientation": "v",
           "showlegend": true,
           "textposition": "auto",
           "type": "bar",
           "x": [
            "Extremely urbanised",
            "Hardly urbanised",
            "Moderately urbanised",
            "Not urbanised",
            "Strongly urbanised"
           ],
           "xaxis": "x",
           "y": [
            786,
            550,
            628,
            484,
            670
           ],
           "yaxis": "y"
          }
         ],
         "name": "2018"
        },
        {
         "data": [
          {
           "alignmentgroup": "True",
           "hovertemplate": "TravelModes=Bike<br>Period=2019<br>Urbanization level=%{x}<br>Distance travelled (km/year)=%{y}<extra></extra>",
           "legendgroup": "Bike",
           "marker": {
            "color": "#636efa",
            "pattern": {
             "shape": ""
            }
           },
           "name": "Bike",
           "offsetgroup": "Bike",
           "orientation": "v",
           "showlegend": true,
           "textposition": "auto",
           "type": "bar",
           "x": [
            "Extremely urbanised",
            "Hardly urbanised",
            "Moderately urbanised",
            "Not urbanised",
            "Strongly urbanised"
           ],
           "xaxis": "x",
           "y": [
            2273,
            2178,
            2273,
            1998,
            2153
           ],
           "yaxis": "y"
          },
          {
           "alignmentgroup": "True",
           "hovertemplate": "TravelModes=Bus/tram/metro<br>Period=2019<br>Urbanization level=%{x}<br>Distance travelled (km/year)=%{y}<extra></extra>",
           "legendgroup": "Bus/tram/metro",
           "marker": {
            "color": "#EF553B",
            "pattern": {
             "shape": ""
            }
           },
           "name": "Bus/tram/metro",
           "offsetgroup": "Bus/tram/metro",
           "orientation": "v",
           "showlegend": true,
           "textposition": "auto",
           "type": "bar",
           "x": [
            "Extremely urbanised",
            "Hardly urbanised",
            "Moderately urbanised",
            "Not urbanised",
            "Strongly urbanised"
           ],
           "xaxis": "x",
           "y": [
            1205,
            399,
            470,
            308,
            639
           ],
           "yaxis": "y"
          },
          {
           "alignmentgroup": "True",
           "hovertemplate": "TravelModes=Other<br>Period=2019<br>Urbanization level=%{x}<br>Distance travelled (km/year)=%{y}<extra></extra>",
           "legendgroup": "Other",
           "marker": {
            "color": "#00cc96",
            "pattern": {
             "shape": ""
            }
           },
           "name": "Other",
           "offsetgroup": "Other",
           "orientation": "v",
           "showlegend": true,
           "textposition": "auto",
           "type": "bar",
           "x": [
            "Extremely urbanised",
            "Hardly urbanised",
            "Moderately urbanised",
            "Not urbanised",
            "Strongly urbanised"
           ],
           "xaxis": "x",
           "y": [
            885,
            1940,
            1502,
            2044,
            1294
           ],
           "yaxis": "y"
          },
          {
           "alignmentgroup": "True",
           "hovertemplate": "TravelModes=Passenger car (driver)<br>Period=2019<br>Urbanization level=%{x}<br>Distance travelled (km/year)=%{y}<extra></extra>",
           "legendgroup": "Passenger car (driver)",
           "marker": {
            "color": "#ab63fa",
            "pattern": {
             "shape": ""
            }
           },
           "name": "Passenger car (driver)",
           "offsetgroup": "Passenger car (driver)",
           "orientation": "v",
           "showlegend": true,
           "textposition": "auto",
           "type": "bar",
           "x": [
            "Extremely urbanised",
            "Hardly urbanised",
            "Moderately urbanised",
            "Not urbanised",
            "Strongly urbanised"
           ],
           "xaxis": "x",
           "y": [
            9232,
            15265,
            14194,
            17188,
            13167
           ],
           "yaxis": "y"
          },
          {
           "alignmentgroup": "True",
           "hovertemplate": "TravelModes=Passenger car (passenger)<br>Period=2019<br>Urbanization level=%{x}<br>Distance travelled (km/year)=%{y}<extra></extra>",
           "legendgroup": "Passenger car (passenger)",
           "marker": {
            "color": "#FFA15A",
            "pattern": {
             "shape": ""
            }
           },
           "name": "Passenger car (passenger)",
           "offsetgroup": "Passenger car (passenger)",
           "orientation": "v",
           "showlegend": true,
           "textposition": "auto",
           "type": "bar",
           "x": [
            "Extremely urbanised",
            "Hardly urbanised",
            "Moderately urbanised",
            "Not urbanised",
            "Strongly urbanised"
           ],
           "xaxis": "x",
           "y": [
            3389,
            5592,
            5087,
            4859,
            4844
           ],
           "yaxis": "y"
          },
          {
           "alignmentgroup": "True",
           "hovertemplate": "TravelModes=Train<br>Period=2019<br>Urbanization level=%{x}<br>Distance travelled (km/year)=%{y}<extra></extra>",
           "legendgroup": "Train",
           "marker": {
            "color": "#19d3f3",
            "pattern": {
             "shape": ""
            }
           },
           "name": "Train",
           "offsetgroup": "Train",
           "orientation": "v",
           "showlegend": true,
           "textposition": "auto",
           "type": "bar",
           "x": [
            "Extremely urbanised",
            "Hardly urbanised",
            "Moderately urbanised",
            "Not urbanised",
            "Strongly urbanised"
           ],
           "xaxis": "x",
           "y": [
            4733,
            1181,
            1759,
            705,
            3083
           ],
           "yaxis": "y"
          },
          {
           "alignmentgroup": "True",
           "hovertemplate": "TravelModes=Walking<br>Period=2019<br>Urbanization level=%{x}<br>Distance travelled (km/year)=%{y}<extra></extra>",
           "legendgroup": "Walking",
           "marker": {
            "color": "#FF6692",
            "pattern": {
             "shape": ""
            }
           },
           "name": "Walking",
           "offsetgroup": "Walking",
           "orientation": "v",
           "showlegend": true,
           "textposition": "auto",
           "type": "bar",
           "x": [
            "Extremely urbanised",
            "Hardly urbanised",
            "Moderately urbanised",
            "Not urbanised",
            "Strongly urbanised"
           ],
           "xaxis": "x",
           "y": [
            773,
            563,
            591,
            489,
            642
           ],
           "yaxis": "y"
          }
         ],
         "name": "2019"
        },
        {
         "data": [
          {
           "alignmentgroup": "True",
           "hovertemplate": "TravelModes=Bike<br>Period=2020<br>Urbanization level=%{x}<br>Distance travelled (km/year)=%{y}<extra></extra>",
           "legendgroup": "Bike",
           "marker": {
            "color": "#636efa",
            "pattern": {
             "shape": ""
            }
           },
           "name": "Bike",
           "offsetgroup": "Bike",
           "orientation": "v",
           "showlegend": true,
           "textposition": "auto",
           "type": "bar",
           "x": [
            "Extremely urbanised",
            "Hardly urbanised",
            "Moderately urbanised",
            "Not urbanised",
            "Strongly urbanised"
           ],
           "xaxis": "x",
           "y": [
            1893,
            2043,
            2004,
            1867,
            1780
           ],
           "yaxis": "y"
          },
          {
           "alignmentgroup": "True",
           "hovertemplate": "TravelModes=Bus/tram/metro<br>Period=2020<br>Urbanization level=%{x}<br>Distance travelled (km/year)=%{y}<extra></extra>",
           "legendgroup": "Bus/tram/metro",
           "marker": {
            "color": "#EF553B",
            "pattern": {
             "shape": ""
            }
           },
           "name": "Bus/tram/metro",
           "offsetgroup": "Bus/tram/metro",
           "orientation": "v",
           "showlegend": true,
           "textposition": "auto",
           "type": "bar",
           "x": [
            "Extremely urbanised",
            "Hardly urbanised",
            "Moderately urbanised",
            "Strongly urbanised"
           ],
           "xaxis": "x",
           "y": [
            567,
            120,
            147,
            244
           ],
           "yaxis": "y"
          },
          {
           "alignmentgroup": "True",
           "hovertemplate": "TravelModes=Other<br>Period=2020<br>Urbanization level=%{x}<br>Distance travelled (km/year)=%{y}<extra></extra>",
           "legendgroup": "Other",
           "marker": {
            "color": "#00cc96",
            "pattern": {
             "shape": ""
            }
           },
           "name": "Other",
           "offsetgroup": "Other",
           "orientation": "v",
           "showlegend": true,
           "textposition": "auto",
           "type": "bar",
           "x": [
            "Extremely urbanised",
            "Hardly urbanised",
            "Moderately urbanised",
            "Not urbanised",
            "Strongly urbanised"
           ],
           "xaxis": "x",
           "y": [
            479,
            1203,
            1033,
            1296,
            855
           ],
           "yaxis": "y"
          },
          {
           "alignmentgroup": "True",
           "hovertemplate": "TravelModes=Passenger car (driver)<br>Period=2020<br>Urbanization level=%{x}<br>Distance travelled (km/year)=%{y}<extra></extra>",
           "legendgroup": "Passenger car (driver)",
           "marker": {
            "color": "#ab63fa",
            "pattern": {
             "shape": ""
            }
           },
           "name": "Passenger car (driver)",
           "offsetgroup": "Passenger car (driver)",
           "orientation": "v",
           "showlegend": true,
           "textposition": "auto",
           "type": "bar",
           "x": [
            "Extremely urbanised",
            "Hardly urbanised",
            "Moderately urbanised",
            "Not urbanised",
            "Strongly urbanised"
           ],
           "xaxis": "x",
           "y": [
            6735,
            11333,
            10323,
            12331,
            9681
           ],
           "yaxis": "y"
          },
          {
           "alignmentgroup": "True",
           "hovertemplate": "TravelModes=Passenger car (passenger)<br>Period=2020<br>Urbanization level=%{x}<br>Distance travelled (km/year)=%{y}<extra></extra>",
           "legendgroup": "Passenger car (passenger)",
           "marker": {
            "color": "#FFA15A",
            "pattern": {
             "shape": ""
            }
           },
           "name": "Passenger car (passenger)",
           "offsetgroup": "Passenger car (passenger)",
           "orientation": "v",
           "showlegend": true,
           "textposition": "auto",
           "type": "bar",
           "x": [
            "Extremely urbanised",
            "Hardly urbanised",
            "Moderately urbanised",
            "Not urbanised",
            "Strongly urbanised"
           ],
           "xaxis": "x",
           "y": [
            2667,
            3403,
            3560,
            3356,
            3107
           ],
           "yaxis": "y"
          },
          {
           "alignmentgroup": "True",
           "hovertemplate": "TravelModes=Train<br>Period=2020<br>Urbanization level=%{x}<br>Distance travelled (km/year)=%{y}<extra></extra>",
           "legendgroup": "Train",
           "marker": {
            "color": "#19d3f3",
            "pattern": {
             "shape": ""
            }
           },
           "name": "Train",
           "offsetgroup": "Train",
           "orientation": "v",
           "showlegend": true,
           "textposition": "auto",
           "type": "bar",
           "x": [
            "Extremely urbanised",
            "Hardly urbanised",
            "Moderately urbanised",
            "Strongly urbanised"
           ],
           "xaxis": "x",
           "y": [
            1586,
            327,
            583,
            1136
           ],
           "yaxis": "y"
          },
          {
           "alignmentgroup": "True",
           "hovertemplate": "TravelModes=Walking<br>Period=2020<br>Urbanization level=%{x}<br>Distance travelled (km/year)=%{y}<extra></extra>",
           "legendgroup": "Walking",
           "marker": {
            "color": "#FF6692",
            "pattern": {
             "shape": ""
            }
           },
           "name": "Walking",
           "offsetgroup": "Walking",
           "orientation": "v",
           "showlegend": true,
           "textposition": "auto",
           "type": "bar",
           "x": [
            "Extremely urbanised",
            "Hardly urbanised",
            "Moderately urbanised",
            "Not urbanised",
            "Strongly urbanised"
           ],
           "xaxis": "x",
           "y": [
            881,
            759,
            770,
            774,
            843
           ],
           "yaxis": "y"
          }
         ],
         "name": "2020"
        },
        {
         "data": [
          {
           "alignmentgroup": "True",
           "hovertemplate": "TravelModes=Bike<br>Period=2021<br>Urbanization level=%{x}<br>Distance travelled (km/year)=%{y}<extra></extra>",
           "legendgroup": "Bike",
           "marker": {
            "color": "#636efa",
            "pattern": {
             "shape": ""
            }
           },
           "name": "Bike",
           "offsetgroup": "Bike",
           "orientation": "v",
           "showlegend": true,
           "textposition": "auto",
           "type": "bar",
           "x": [
            "Extremely urbanised",
            "Hardly urbanised",
            "Moderately urbanised",
            "Not urbanised",
            "Strongly urbanised"
           ],
           "xaxis": "x",
           "y": [
            1907,
            2018,
            2035,
            2143,
            1858
           ],
           "yaxis": "y"
          },
          {
           "alignmentgroup": "True",
           "hovertemplate": "TravelModes=Bus/tram/metro<br>Period=2021<br>Urbanization level=%{x}<br>Distance travelled (km/year)=%{y}<extra></extra>",
           "legendgroup": "Bus/tram/metro",
           "marker": {
            "color": "#EF553B",
            "pattern": {
             "shape": ""
            }
           },
           "name": "Bus/tram/metro",
           "offsetgroup": "Bus/tram/metro",
           "orientation": "v",
           "showlegend": true,
           "textposition": "auto",
           "type": "bar",
           "x": [
            "Extremely urbanised",
            "Hardly urbanised",
            "Moderately urbanised",
            "Not urbanised",
            "Strongly urbanised"
           ],
           "xaxis": "x",
           "y": [
            630,
            246,
            93,
            170,
            246
           ],
           "yaxis": "y"
          },
          {
           "alignmentgroup": "True",
           "hovertemplate": "TravelModes=Other<br>Period=2021<br>Urbanization level=%{x}<br>Distance travelled (km/year)=%{y}<extra></extra>",
           "legendgroup": "Other",
           "marker": {
            "color": "#00cc96",
            "pattern": {
             "shape": ""
            }
           },
           "name": "Other",
           "offsetgroup": "Other",
           "orientation": "v",
           "showlegend": true,
           "textposition": "auto",
           "type": "bar",
           "x": [
            "Extremely urbanised",
            "Hardly urbanised",
            "Moderately urbanised",
            "Not urbanised",
            "Strongly urbanised"
           ],
           "xaxis": "x",
           "y": [
            632,
            1603,
            1127,
            1516,
            1214
           ],
           "yaxis": "y"
          },
          {
           "alignmentgroup": "True",
           "hovertemplate": "TravelModes=Passenger car (driver)<br>Period=2021<br>Urbanization level=%{x}<br>Distance travelled (km/year)=%{y}<extra></extra>",
           "legendgroup": "Passenger car (driver)",
           "marker": {
            "color": "#ab63fa",
            "pattern": {
             "shape": ""
            }
           },
           "name": "Passenger car (driver)",
           "offsetgroup": "Passenger car (driver)",
           "orientation": "v",
           "showlegend": true,
           "textposition": "auto",
           "type": "bar",
           "x": [
            "Extremely urbanised",
            "Hardly urbanised",
            "Moderately urbanised",
            "Not urbanised",
            "Strongly urbanised"
           ],
           "xaxis": "x",
           "y": [
            7056,
            12162,
            10981,
            14052,
            10247
           ],
           "yaxis": "y"
          },
          {
           "alignmentgroup": "True",
           "hovertemplate": "TravelModes=Passenger car (passenger)<br>Period=2021<br>Urbanization level=%{x}<br>Distance travelled (km/year)=%{y}<extra></extra>",
           "legendgroup": "Passenger car (passenger)",
           "marker": {
            "color": "#FFA15A",
            "pattern": {
             "shape": ""
            }
           },
           "name": "Passenger car (passenger)",
           "offsetgroup": "Passenger car (passenger)",
           "orientation": "v",
           "showlegend": true,
           "textposition": "auto",
           "type": "bar",
           "x": [
            "Extremely urbanised",
            "Hardly urbanised",
            "Moderately urbanised",
            "Not urbanised",
            "Strongly urbanised"
           ],
           "xaxis": "x",
           "y": [
            3091,
            3858,
            4025,
            3390,
            3859
           ],
           "yaxis": "y"
          },
          {
           "alignmentgroup": "True",
           "hovertemplate": "TravelModes=Train<br>Period=2021<br>Urbanization level=%{x}<br>Distance travelled (km/year)=%{y}<extra></extra>",
           "legendgroup": "Train",
           "marker": {
            "color": "#19d3f3",
            "pattern": {
             "shape": ""
            }
           },
           "name": "Train",
           "offsetgroup": "Train",
           "orientation": "v",
           "showlegend": true,
           "textposition": "auto",
           "type": "bar",
           "x": [
            "Extremely urbanised",
            "Hardly urbanised",
            "Moderately urbanised",
            "Strongly urbanised"
           ],
           "xaxis": "x",
           "y": [
            2070,
            410,
            385,
            1070
           ],
           "yaxis": "y"
          },
          {
           "alignmentgroup": "True",
           "hovertemplate": "TravelModes=Walking<br>Period=2021<br>Urbanization level=%{x}<br>Distance travelled (km/year)=%{y}<extra></extra>",
           "legendgroup": "Walking",
           "marker": {
            "color": "#FF6692",
            "pattern": {
             "shape": ""
            }
           },
           "name": "Walking",
           "offsetgroup": "Walking",
           "orientation": "v",
           "showlegend": true,
           "textposition": "auto",
           "type": "bar",
           "x": [
            "Extremely urbanised",
            "Hardly urbanised",
            "Moderately urbanised",
            "Not urbanised",
            "Strongly urbanised"
           ],
           "xaxis": "x",
           "y": [
            1135,
            955,
            938,
            890,
            994
           ],
           "yaxis": "y"
          }
         ],
         "name": "2021"
        },
        {
         "data": [
          {
           "alignmentgroup": "True",
           "hovertemplate": "TravelModes=Bike<br>Period=2022<br>Urbanization level=%{x}<br>Distance travelled (km/year)=%{y}<extra></extra>",
           "legendgroup": "Bike",
           "marker": {
            "color": "#636efa",
            "pattern": {
             "shape": ""
            }
           },
           "name": "Bike",
           "offsetgroup": "Bike",
           "orientation": "v",
           "showlegend": true,
           "textposition": "auto",
           "type": "bar",
           "x": [
            "Extremely urbanised",
            "Hardly urbanised",
            "Moderately urbanised",
            "Not urbanised",
            "Strongly urbanised"
           ],
           "xaxis": "x",
           "y": [
            2189,
            2312,
            2342,
            2208,
            2100
           ],
           "yaxis": "y"
          },
          {
           "alignmentgroup": "True",
           "hovertemplate": "TravelModes=Bus/tram/metro<br>Period=2022<br>Urbanization level=%{x}<br>Distance travelled (km/year)=%{y}<extra></extra>",
           "legendgroup": "Bus/tram/metro",
           "marker": {
            "color": "#EF553B",
            "pattern": {
             "shape": ""
            }
           },
           "name": "Bus/tram/metro",
           "offsetgroup": "Bus/tram/metro",
           "orientation": "v",
           "showlegend": true,
           "textposition": "auto",
           "type": "bar",
           "x": [
            "Extremely urbanised",
            "Hardly urbanised",
            "Moderately urbanised",
            "Not urbanised",
            "Strongly urbanised"
           ],
           "xaxis": "x",
           "y": [
            839,
            338,
            270,
            305,
            424
           ],
           "yaxis": "y"
          },
          {
           "alignmentgroup": "True",
           "hovertemplate": "TravelModes=Other<br>Period=2022<br>Urbanization level=%{x}<br>Distance travelled (km/year)=%{y}<extra></extra>",
           "legendgroup": "Other",
           "marker": {
            "color": "#00cc96",
            "pattern": {
             "shape": ""
            }
           },
           "name": "Other",
           "offsetgroup": "Other",
           "orientation": "v",
           "showlegend": true,
           "textposition": "auto",
           "type": "bar",
           "x": [
            "Extremely urbanised",
            "Hardly urbanised",
            "Moderately urbanised",
            "Not urbanised",
            "Strongly urbanised"
           ],
           "xaxis": "x",
           "y": [
            554,
            1628,
            1525,
            1282,
            1397
           ],
           "yaxis": "y"
          },
          {
           "alignmentgroup": "True",
           "hovertemplate": "TravelModes=Passenger car (driver)<br>Period=2022<br>Urbanization level=%{x}<br>Distance travelled (km/year)=%{y}<extra></extra>",
           "legendgroup": "Passenger car (driver)",
           "marker": {
            "color": "#ab63fa",
            "pattern": {
             "shape": ""
            }
           },
           "name": "Passenger car (driver)",
           "offsetgroup": "Passenger car (driver)",
           "orientation": "v",
           "showlegend": true,
           "textposition": "auto",
           "type": "bar",
           "x": [
            "Extremely urbanised",
            "Hardly urbanised",
            "Moderately urbanised",
            "Not urbanised",
            "Strongly urbanised"
           ],
           "xaxis": "x",
           "y": [
            7814,
            13332,
            11872,
            13537,
            11134
           ],
           "yaxis": "y"
          },
          {
           "alignmentgroup": "True",
           "hovertemplate": "TravelModes=Passenger car (passenger)<br>Period=2022<br>Urbanization level=%{x}<br>Distance travelled (km/year)=%{y}<extra></extra>",
           "legendgroup": "Passenger car (passenger)",
           "marker": {
            "color": "#FFA15A",
            "pattern": {
             "shape": ""
            }
           },
           "name": "Passenger car (passenger)",
           "offsetgroup": "Passenger car (passenger)",
           "orientation": "v",
           "showlegend": true,
           "textposition": "auto",
           "type": "bar",
           "x": [
            "Extremely urbanised",
            "Hardly urbanised",
            "Moderately urbanised",
            "Not urbanised",
            "Strongly urbanised"
           ],
           "xaxis": "x",
           "y": [
            3263,
            4594,
            4041,
            3726,
            3933
           ],
           "yaxis": "y"
          },
          {
           "alignmentgroup": "True",
           "hovertemplate": "TravelModes=Train<br>Period=2022<br>Urbanization level=%{x}<br>Distance travelled (km/year)=%{y}<extra></extra>",
           "legendgroup": "Train",
           "marker": {
            "color": "#19d3f3",
            "pattern": {
             "shape": ""
            }
           },
           "name": "Train",
           "offsetgroup": "Train",
           "orientation": "v",
           "showlegend": true,
           "textposition": "auto",
           "type": "bar",
           "x": [
            "Extremely urbanised",
            "Hardly urbanised",
            "Moderately urbanised",
            "Not urbanised",
            "Strongly urbanised"
           ],
           "xaxis": "x",
           "y": [
            2538,
            924,
            1068,
            627,
            1994
           ],
           "yaxis": "y"
          },
          {
           "alignmentgroup": "True",
           "hovertemplate": "TravelModes=Walking<br>Period=2022<br>Urbanization level=%{x}<br>Distance travelled (km/year)=%{y}<extra></extra>",
           "legendgroup": "Walking",
           "marker": {
            "color": "#FF6692",
            "pattern": {
             "shape": ""
            }
           },
           "name": "Walking",
           "offsetgroup": "Walking",
           "orientation": "v",
           "showlegend": true,
           "textposition": "auto",
           "type": "bar",
           "x": [
            "Extremely urbanised",
            "Hardly urbanised",
            "Moderately urbanised",
            "Not urbanised",
            "Strongly urbanised"
           ],
           "xaxis": "x",
           "y": [
            965,
            816,
            867,
            704,
            885
           ],
           "yaxis": "y"
          }
         ],
         "name": "2022"
        },
        {
         "data": [
          {
           "alignmentgroup": "True",
           "hovertemplate": "TravelModes=Bike<br>Period=2023<br>Urbanization level=%{x}<br>Distance travelled (km/year)=%{y}<extra></extra>",
           "legendgroup": "Bike",
           "marker": {
            "color": "#636efa",
            "pattern": {
             "shape": ""
            }
           },
           "name": "Bike",
           "offsetgroup": "Bike",
           "orientation": "v",
           "showlegend": true,
           "textposition": "auto",
           "type": "bar",
           "x": [
            "Extremely urbanised",
            "Hardly urbanised",
            "Moderately urbanised",
            "Not urbanised",
            "Strongly urbanised"
           ],
           "xaxis": "x",
           "y": [
            2185,
            2165,
            2195,
            1990,
            2044
           ],
           "yaxis": "y"
          },
          {
           "alignmentgroup": "True",
           "hovertemplate": "TravelModes=Bus/tram/metro<br>Period=2023<br>Urbanization level=%{x}<br>Distance travelled (km/year)=%{y}<extra></extra>",
           "legendgroup": "Bus/tram/metro",
           "marker": {
            "color": "#EF553B",
            "pattern": {
             "shape": ""
            }
           },
           "name": "Bus/tram/metro",
           "offsetgroup": "Bus/tram/metro",
           "orientation": "v",
           "showlegend": true,
           "textposition": "auto",
           "type": "bar",
           "x": [
            "Extremely urbanised",
            "Hardly urbanised",
            "Moderately urbanised",
            "Not urbanised",
            "Strongly urbanised"
           ],
           "xaxis": "x",
           "y": [
            985,
            276,
            286,
            267,
            449
           ],
           "yaxis": "y"
          },
          {
           "alignmentgroup": "True",
           "hovertemplate": "TravelModes=Other<br>Period=2023<br>Urbanization level=%{x}<br>Distance travelled (km/year)=%{y}<extra></extra>",
           "legendgroup": "Other",
           "marker": {
            "color": "#00cc96",
            "pattern": {
             "shape": ""
            }
           },
           "name": "Other",
           "offsetgroup": "Other",
           "orientation": "v",
           "showlegend": true,
           "textposition": "auto",
           "type": "bar",
           "x": [
            "Extremely urbanised",
            "Hardly urbanised",
            "Moderately urbanised",
            "Not urbanised",
            "Strongly urbanised"
           ],
           "xaxis": "x",
           "y": [
            734,
            1171,
            1025,
            1605,
            1104
           ],
           "yaxis": "y"
          },
          {
           "alignmentgroup": "True",
           "hovertemplate": "TravelModes=Passenger car (driver)<br>Period=2023<br>Urbanization level=%{x}<br>Distance travelled (km/year)=%{y}<extra></extra>",
           "legendgroup": "Passenger car (driver)",
           "marker": {
            "color": "#ab63fa",
            "pattern": {
             "shape": ""
            }
           },
           "name": "Passenger car (driver)",
           "offsetgroup": "Passenger car (driver)",
           "orientation": "v",
           "showlegend": true,
           "textposition": "auto",
           "type": "bar",
           "x": [
            "Extremely urbanised",
            "Hardly urbanised",
            "Moderately urbanised",
            "Not urbanised",
            "Strongly urbanised"
           ],
           "xaxis": "x",
           "y": [
            7883,
            14464,
            13023,
            15333,
            11690
           ],
           "yaxis": "y"
          },
          {
           "alignmentgroup": "True",
           "hovertemplate": "TravelModes=Passenger car (passenger)<br>Period=2023<br>Urbanization level=%{x}<br>Distance travelled (km/year)=%{y}<extra></extra>",
           "legendgroup": "Passenger car (passenger)",
           "marker": {
            "color": "#FFA15A",
            "pattern": {
             "shape": ""
            }
           },
           "name": "Passenger car (passenger)",
           "offsetgroup": "Passenger car (passenger)",
           "orientation": "v",
           "showlegend": true,
           "textposition": "auto",
           "type": "bar",
           "x": [
            "Extremely urbanised",
            "Hardly urbanised",
            "Moderately urbanised",
            "Not urbanised",
            "Strongly urbanised"
           ],
           "xaxis": "x",
           "y": [
            3385,
            4680,
            4861,
            4912,
            4537
           ],
           "yaxis": "y"
          },
          {
           "alignmentgroup": "True",
           "hovertemplate": "TravelModes=Train<br>Period=2023<br>Urbanization level=%{x}<br>Distance travelled (km/year)=%{y}<extra></extra>",
           "legendgroup": "Train",
           "marker": {
            "color": "#19d3f3",
            "pattern": {
             "shape": ""
            }
           },
           "name": "Train",
           "offsetgroup": "Train",
           "orientation": "v",
           "showlegend": true,
           "textposition": "auto",
           "type": "bar",
           "x": [
            "Extremely urbanised",
            "Hardly urbanised",
            "Moderately urbanised",
            "Not urbanised",
            "Strongly urbanised"
           ],
           "xaxis": "x",
           "y": [
            3397,
            1054,
            1297,
            522,
            2626
           ],
           "yaxis": "y"
          },
          {
           "alignmentgroup": "True",
           "hovertemplate": "TravelModes=Walking<br>Period=2023<br>Urbanization level=%{x}<br>Distance travelled (km/year)=%{y}<extra></extra>",
           "legendgroup": "Walking",
           "marker": {
            "color": "#FF6692",
            "pattern": {
             "shape": ""
            }
           },
           "name": "Walking",
           "offsetgroup": "Walking",
           "orientation": "v",
           "showlegend": true,
           "textposition": "auto",
           "type": "bar",
           "x": [
            "Extremely urbanised",
            "Hardly urbanised",
            "Moderately urbanised",
            "Not urbanised",
            "Strongly urbanised"
           ],
           "xaxis": "x",
           "y": [
            921,
            752,
            787,
            699,
            848
           ],
           "yaxis": "y"
          }
         ],
         "name": "2023"
        }
       ],
       "layout": {
        "barmode": "group",
        "legend": {
         "title": {
          "text": "TravelModes"
         },
         "tracegroupgap": 0
        },
        "margin": {
         "t": 60
        },
        "sliders": [
         {
          "active": 0,
          "currentvalue": {
           "prefix": "Period="
          },
          "len": 0.9,
          "pad": {
           "b": 10,
           "t": 60
          },
          "steps": [
           {
            "args": [
             [
              "2018"
             ],
             {
              "frame": {
               "duration": 0,
               "redraw": true
              },
              "fromcurrent": true,
              "mode": "immediate",
              "transition": {
               "duration": 0,
               "easing": "linear"
              }
             }
            ],
            "label": "2018",
            "method": "animate"
           },
           {
            "args": [
             [
              "2019"
             ],
             {
              "frame": {
               "duration": 0,
               "redraw": true
              },
              "fromcurrent": true,
              "mode": "immediate",
              "transition": {
               "duration": 0,
               "easing": "linear"
              }
             }
            ],
            "label": "2019",
            "method": "animate"
           },
           {
            "args": [
             [
              "2020"
             ],
             {
              "frame": {
               "duration": 0,
               "redraw": true
              },
              "fromcurrent": true,
              "mode": "immediate",
              "transition": {
               "duration": 0,
               "easing": "linear"
              }
             }
            ],
            "label": "2020",
            "method": "animate"
           },
           {
            "args": [
             [
              "2021"
             ],
             {
              "frame": {
               "duration": 0,
               "redraw": true
              },
              "fromcurrent": true,
              "mode": "immediate",
              "transition": {
               "duration": 0,
               "easing": "linear"
              }
             }
            ],
            "label": "2021",
            "method": "animate"
           },
           {
            "args": [
             [
              "2022"
             ],
             {
              "frame": {
               "duration": 0,
               "redraw": true
              },
              "fromcurrent": true,
              "mode": "immediate",
              "transition": {
               "duration": 0,
               "easing": "linear"
              }
             }
            ],
            "label": "2022",
            "method": "animate"
           },
           {
            "args": [
             [
              "2023"
             ],
             {
              "frame": {
               "duration": 0,
               "redraw": true
              },
              "fromcurrent": true,
              "mode": "immediate",
              "transition": {
               "duration": 0,
               "easing": "linear"
              }
             }
            ],
            "label": "2023",
            "method": "animate"
           }
          ],
          "x": 0.1,
          "xanchor": "left",
          "y": 0,
          "yanchor": "top"
         }
        ],
        "template": {
         "data": {
          "bar": [
           {
            "error_x": {
             "color": "#2a3f5f"
            },
            "error_y": {
             "color": "#2a3f5f"
            },
            "marker": {
             "line": {
              "color": "#E5ECF6",
              "width": 0.5
             },
             "pattern": {
              "fillmode": "overlay",
              "size": 10,
              "solidity": 0.2
             }
            },
            "type": "bar"
           }
          ],
          "barpolar": [
           {
            "marker": {
             "line": {
              "color": "#E5ECF6",
              "width": 0.5
             },
             "pattern": {
              "fillmode": "overlay",
              "size": 10,
              "solidity": 0.2
             }
            },
            "type": "barpolar"
           }
          ],
          "carpet": [
           {
            "aaxis": {
             "endlinecolor": "#2a3f5f",
             "gridcolor": "white",
             "linecolor": "white",
             "minorgridcolor": "white",
             "startlinecolor": "#2a3f5f"
            },
            "baxis": {
             "endlinecolor": "#2a3f5f",
             "gridcolor": "white",
             "linecolor": "white",
             "minorgridcolor": "white",
             "startlinecolor": "#2a3f5f"
            },
            "type": "carpet"
           }
          ],
          "choropleth": [
           {
            "colorbar": {
             "outlinewidth": 0,
             "ticks": ""
            },
            "type": "choropleth"
           }
          ],
          "contour": [
           {
            "colorbar": {
             "outlinewidth": 0,
             "ticks": ""
            },
            "colorscale": [
             [
              0,
              "#0d0887"
             ],
             [
              0.1111111111111111,
              "#46039f"
             ],
             [
              0.2222222222222222,
              "#7201a8"
             ],
             [
              0.3333333333333333,
              "#9c179e"
             ],
             [
              0.4444444444444444,
              "#bd3786"
             ],
             [
              0.5555555555555556,
              "#d8576b"
             ],
             [
              0.6666666666666666,
              "#ed7953"
             ],
             [
              0.7777777777777778,
              "#fb9f3a"
             ],
             [
              0.8888888888888888,
              "#fdca26"
             ],
             [
              1,
              "#f0f921"
             ]
            ],
            "type": "contour"
           }
          ],
          "contourcarpet": [
           {
            "colorbar": {
             "outlinewidth": 0,
             "ticks": ""
            },
            "type": "contourcarpet"
           }
          ],
          "heatmap": [
           {
            "colorbar": {
             "outlinewidth": 0,
             "ticks": ""
            },
            "colorscale": [
             [
              0,
              "#0d0887"
             ],
             [
              0.1111111111111111,
              "#46039f"
             ],
             [
              0.2222222222222222,
              "#7201a8"
             ],
             [
              0.3333333333333333,
              "#9c179e"
             ],
             [
              0.4444444444444444,
              "#bd3786"
             ],
             [
              0.5555555555555556,
              "#d8576b"
             ],
             [
              0.6666666666666666,
              "#ed7953"
             ],
             [
              0.7777777777777778,
              "#fb9f3a"
             ],
             [
              0.8888888888888888,
              "#fdca26"
             ],
             [
              1,
              "#f0f921"
             ]
            ],
            "type": "heatmap"
           }
          ],
          "heatmapgl": [
           {
            "colorbar": {
             "outlinewidth": 0,
             "ticks": ""
            },
            "colorscale": [
             [
              0,
              "#0d0887"
             ],
             [
              0.1111111111111111,
              "#46039f"
             ],
             [
              0.2222222222222222,
              "#7201a8"
             ],
             [
              0.3333333333333333,
              "#9c179e"
             ],
             [
              0.4444444444444444,
              "#bd3786"
             ],
             [
              0.5555555555555556,
              "#d8576b"
             ],
             [
              0.6666666666666666,
              "#ed7953"
             ],
             [
              0.7777777777777778,
              "#fb9f3a"
             ],
             [
              0.8888888888888888,
              "#fdca26"
             ],
             [
              1,
              "#f0f921"
             ]
            ],
            "type": "heatmapgl"
           }
          ],
          "histogram": [
           {
            "marker": {
             "pattern": {
              "fillmode": "overlay",
              "size": 10,
              "solidity": 0.2
             }
            },
            "type": "histogram"
           }
          ],
          "histogram2d": [
           {
            "colorbar": {
             "outlinewidth": 0,
             "ticks": ""
            },
            "colorscale": [
             [
              0,
              "#0d0887"
             ],
             [
              0.1111111111111111,
              "#46039f"
             ],
             [
              0.2222222222222222,
              "#7201a8"
             ],
             [
              0.3333333333333333,
              "#9c179e"
             ],
             [
              0.4444444444444444,
              "#bd3786"
             ],
             [
              0.5555555555555556,
              "#d8576b"
             ],
             [
              0.6666666666666666,
              "#ed7953"
             ],
             [
              0.7777777777777778,
              "#fb9f3a"
             ],
             [
              0.8888888888888888,
              "#fdca26"
             ],
             [
              1,
              "#f0f921"
             ]
            ],
            "type": "histogram2d"
           }
          ],
          "histogram2dcontour": [
           {
            "colorbar": {
             "outlinewidth": 0,
             "ticks": ""
            },
            "colorscale": [
             [
              0,
              "#0d0887"
             ],
             [
              0.1111111111111111,
              "#46039f"
             ],
             [
              0.2222222222222222,
              "#7201a8"
             ],
             [
              0.3333333333333333,
              "#9c179e"
             ],
             [
              0.4444444444444444,
              "#bd3786"
             ],
             [
              0.5555555555555556,
              "#d8576b"
             ],
             [
              0.6666666666666666,
              "#ed7953"
             ],
             [
              0.7777777777777778,
              "#fb9f3a"
             ],
             [
              0.8888888888888888,
              "#fdca26"
             ],
             [
              1,
              "#f0f921"
             ]
            ],
            "type": "histogram2dcontour"
           }
          ],
          "mesh3d": [
           {
            "colorbar": {
             "outlinewidth": 0,
             "ticks": ""
            },
            "type": "mesh3d"
           }
          ],
          "parcoords": [
           {
            "line": {
             "colorbar": {
              "outlinewidth": 0,
              "ticks": ""
             }
            },
            "type": "parcoords"
           }
          ],
          "pie": [
           {
            "automargin": true,
            "type": "pie"
           }
          ],
          "scatter": [
           {
            "fillpattern": {
             "fillmode": "overlay",
             "size": 10,
             "solidity": 0.2
            },
            "type": "scatter"
           }
          ],
          "scatter3d": [
           {
            "line": {
             "colorbar": {
              "outlinewidth": 0,
              "ticks": ""
             }
            },
            "marker": {
             "colorbar": {
              "outlinewidth": 0,
              "ticks": ""
             }
            },
            "type": "scatter3d"
           }
          ],
          "scattercarpet": [
           {
            "marker": {
             "colorbar": {
              "outlinewidth": 0,
              "ticks": ""
             }
            },
            "type": "scattercarpet"
           }
          ],
          "scattergeo": [
           {
            "marker": {
             "colorbar": {
              "outlinewidth": 0,
              "ticks": ""
             }
            },
            "type": "scattergeo"
           }
          ],
          "scattergl": [
           {
            "marker": {
             "colorbar": {
              "outlinewidth": 0,
              "ticks": ""
             }
            },
            "type": "scattergl"
           }
          ],
          "scattermapbox": [
           {
            "marker": {
             "colorbar": {
              "outlinewidth": 0,
              "ticks": ""
             }
            },
            "type": "scattermapbox"
           }
          ],
          "scatterpolar": [
           {
            "marker": {
             "colorbar": {
              "outlinewidth": 0,
              "ticks": ""
             }
            },
            "type": "scatterpolar"
           }
          ],
          "scatterpolargl": [
           {
            "marker": {
             "colorbar": {
              "outlinewidth": 0,
              "ticks": ""
             }
            },
            "type": "scatterpolargl"
           }
          ],
          "scatterternary": [
           {
            "marker": {
             "colorbar": {
              "outlinewidth": 0,
              "ticks": ""
             }
            },
            "type": "scatterternary"
           }
          ],
          "surface": [
           {
            "colorbar": {
             "outlinewidth": 0,
             "ticks": ""
            },
            "colorscale": [
             [
              0,
              "#0d0887"
             ],
             [
              0.1111111111111111,
              "#46039f"
             ],
             [
              0.2222222222222222,
              "#7201a8"
             ],
             [
              0.3333333333333333,
              "#9c179e"
             ],
             [
              0.4444444444444444,
              "#bd3786"
             ],
             [
              0.5555555555555556,
              "#d8576b"
             ],
             [
              0.6666666666666666,
              "#ed7953"
             ],
             [
              0.7777777777777778,
              "#fb9f3a"
             ],
             [
              0.8888888888888888,
              "#fdca26"
             ],
             [
              1,
              "#f0f921"
             ]
            ],
            "type": "surface"
           }
          ],
          "table": [
           {
            "cells": {
             "fill": {
              "color": "#EBF0F8"
             },
             "line": {
              "color": "white"
             }
            },
            "header": {
             "fill": {
              "color": "#C8D4E3"
             },
             "line": {
              "color": "white"
             }
            },
            "type": "table"
           }
          ]
         },
         "layout": {
          "annotationdefaults": {
           "arrowcolor": "#2a3f5f",
           "arrowhead": 0,
           "arrowwidth": 1
          },
          "autotypenumbers": "strict",
          "coloraxis": {
           "colorbar": {
            "outlinewidth": 0,
            "ticks": ""
           }
          },
          "colorscale": {
           "diverging": [
            [
             0,
             "#8e0152"
            ],
            [
             0.1,
             "#c51b7d"
            ],
            [
             0.2,
             "#de77ae"
            ],
            [
             0.3,
             "#f1b6da"
            ],
            [
             0.4,
             "#fde0ef"
            ],
            [
             0.5,
             "#f7f7f7"
            ],
            [
             0.6,
             "#e6f5d0"
            ],
            [
             0.7,
             "#b8e186"
            ],
            [
             0.8,
             "#7fbc41"
            ],
            [
             0.9,
             "#4d9221"
            ],
            [
             1,
             "#276419"
            ]
           ],
           "sequential": [
            [
             0,
             "#0d0887"
            ],
            [
             0.1111111111111111,
             "#46039f"
            ],
            [
             0.2222222222222222,
             "#7201a8"
            ],
            [
             0.3333333333333333,
             "#9c179e"
            ],
            [
             0.4444444444444444,
             "#bd3786"
            ],
            [
             0.5555555555555556,
             "#d8576b"
            ],
            [
             0.6666666666666666,
             "#ed7953"
            ],
            [
             0.7777777777777778,
             "#fb9f3a"
            ],
            [
             0.8888888888888888,
             "#fdca26"
            ],
            [
             1,
             "#f0f921"
            ]
           ],
           "sequentialminus": [
            [
             0,
             "#0d0887"
            ],
            [
             0.1111111111111111,
             "#46039f"
            ],
            [
             0.2222222222222222,
             "#7201a8"
            ],
            [
             0.3333333333333333,
             "#9c179e"
            ],
            [
             0.4444444444444444,
             "#bd3786"
            ],
            [
             0.5555555555555556,
             "#d8576b"
            ],
            [
             0.6666666666666666,
             "#ed7953"
            ],
            [
             0.7777777777777778,
             "#fb9f3a"
            ],
            [
             0.8888888888888888,
             "#fdca26"
            ],
            [
             1,
             "#f0f921"
            ]
           ]
          },
          "colorway": [
           "#636efa",
           "#EF553B",
           "#00cc96",
           "#ab63fa",
           "#FFA15A",
           "#19d3f3",
           "#FF6692",
           "#B6E880",
           "#FF97FF",
           "#FECB52"
          ],
          "font": {
           "color": "#2a3f5f"
          },
          "geo": {
           "bgcolor": "white",
           "lakecolor": "white",
           "landcolor": "#E5ECF6",
           "showlakes": true,
           "showland": true,
           "subunitcolor": "white"
          },
          "hoverlabel": {
           "align": "left"
          },
          "hovermode": "closest",
          "mapbox": {
           "style": "light"
          },
          "paper_bgcolor": "white",
          "plot_bgcolor": "#E5ECF6",
          "polar": {
           "angularaxis": {
            "gridcolor": "white",
            "linecolor": "white",
            "ticks": ""
           },
           "bgcolor": "#E5ECF6",
           "radialaxis": {
            "gridcolor": "white",
            "linecolor": "white",
            "ticks": ""
           }
          },
          "scene": {
           "xaxis": {
            "backgroundcolor": "#E5ECF6",
            "gridcolor": "white",
            "gridwidth": 2,
            "linecolor": "white",
            "showbackground": true,
            "ticks": "",
            "zerolinecolor": "white"
           },
           "yaxis": {
            "backgroundcolor": "#E5ECF6",
            "gridcolor": "white",
            "gridwidth": 2,
            "linecolor": "white",
            "showbackground": true,
            "ticks": "",
            "zerolinecolor": "white"
           },
           "zaxis": {
            "backgroundcolor": "#E5ECF6",
            "gridcolor": "white",
            "gridwidth": 2,
            "linecolor": "white",
            "showbackground": true,
            "ticks": "",
            "zerolinecolor": "white"
           }
          },
          "shapedefaults": {
           "line": {
            "color": "#2a3f5f"
           }
          },
          "ternary": {
           "aaxis": {
            "gridcolor": "white",
            "linecolor": "white",
            "ticks": ""
           },
           "baxis": {
            "gridcolor": "white",
            "linecolor": "white",
            "ticks": ""
           },
           "bgcolor": "#E5ECF6",
           "caxis": {
            "gridcolor": "white",
            "linecolor": "white",
            "ticks": ""
           }
          },
          "title": {
           "x": 0.05
          },
          "xaxis": {
           "automargin": true,
           "gridcolor": "white",
           "linecolor": "white",
           "ticks": "",
           "title": {
            "standoff": 15
           },
           "zerolinecolor": "white",
           "zerolinewidth": 2
          },
          "yaxis": {
           "automargin": true,
           "gridcolor": "white",
           "linecolor": "white",
           "ticks": "",
           "title": {
            "standoff": 15
           },
           "zerolinecolor": "white",
           "zerolinewidth": 2
          }
         }
        },
        "updatemenus": [
         {
          "buttons": [
           {
            "args": [
             null,
             {
              "frame": {
               "duration": 2000,
               "redraw": true
              },
              "fromcurrent": true,
              "transition": {
               "duration": 1000
              }
             }
            ],
            "label": "Play",
            "method": "animate"
           },
           {
            "args": [
             [
              null
             ],
             {
              "frame": {
               "duration": 0,
               "redraw": false
              },
              "mode": "immediate",
              "transition": {
               "duration": 0
              }
             }
            ],
            "label": "Pause",
            "method": "animate"
           }
          ],
          "direction": "left",
          "pad": {
           "r": 10,
           "t": 70
          },
          "showactive": false,
          "type": "buttons",
          "x": 0.1,
          "xanchor": "right",
          "y": 0,
          "yanchor": "top"
         }
        ],
        "xaxis": {
         "anchor": "y",
         "categoryarray": [
          "Not urbanised",
          "Hardly urbanised",
          "Moderately urbanised",
          "Strongly urbanised",
          "Extremely urbanised"
         ],
         "categoryorder": "array",
         "domain": [
          0,
          1
         ],
         "title": {
          "text": "Urbanization level"
         }
        },
        "yaxis": {
         "anchor": "x",
         "domain": [
          0,
          1
         ],
         "title": {
          "text": "Distance travelled (km/year)"
         }
        }
       }
      }
     },
     "metadata": {},
     "output_type": "display_data"
    }
   ],
   "source": [
    "barplotanimation(datanototal, 'Distance_Travelled_PassengerKm_Per_Year', 'Distance travelled (km/year)')"
   ]
  },
  {
   "cell_type": "markdown",
   "metadata": {},
   "source": [
    "### After 2020 Shift\n",
    "\n",
    "After 2020, there was a slight shift. The increase for the less urbanized areas gained a small but noticeable increase in their share of total travel.\n",
    "Overall, while there were changes, the proportions remained relatively stable, indicating that urbanized areas continue to play a key role in overall mobility.\n",
    "\n",
    "### Conclusion\n",
    "\n",
    "The pandemic caused a significant drop in passenger kilometers across all areas in 2020. The less urbanized areas came back more quickly, possibly due to personal vehicle use and fewer restrictions. The higher urbanized areas recovered more  slowly. These findings suggest that while there were temporary changes in travel patterns, there may also be lasting effects on how people in highly urbanized areas choose to travel in the future.\n"
   ]
  },
  {
   "cell_type": "markdown",
   "metadata": {},
   "source": [
    "Subquestion 2: How did the number of trips vary across different transportation modes and periods?"
   ]
  },
  {
   "cell_type": "markdown",
   "metadata": {},
   "source": [
    "In this part of the report, we will look at how the number of trips vary across different transportation modes and periods. Firstly, we will look at the global trend without specify for the transportation modes. This trend can be seen in the figure below. "
   ]
  },
  {
   "cell_type": "code",
   "execution_count": 19,
   "metadata": {},
   "outputs": [
    {
     "data": {
      "image/png": "[encoded data removed]",
      "text/plain": [
       "<Figure size 640x480 with 1 Axes>"
      ]
     },
     "metadata": {},
     "output_type": "display_data"
    }
   ],
   "source": [
    "trips_per_year_total_and_period(data)"
   ]
  },
  {
   "attachments": {
    "image.png": {
     "image/png": "[encoded data removed]"
    }
   },
   "cell_type": "markdown",
   "metadata": {},
   "source": [
    "In the figure above, for each period (pre, during and after COVID-19) the total trips per year for all transportation modes are plotted. We can see a decrease in the number of trips per year in the year 2020, in that year COVID-19 started. Furthermore, we can see the effect from the measurments taken to reduce the virus, which resulted in fewer trips. In 2021, it was still COVID-19 time, however less was closed then during 2020. In 2022 and 2023, the number of trips per year went (almost) back to the pre COVID-19 level. \n",
    "\n",
    "In the next figures, the number of trips will be specified for the different transportation modes. \n",
    "\n",
    "**Image because github is not able to handle plotly graphs**\n",
    "![image.png](attachment:image.png)"
   ]
  },
  {
   "cell_type": "code",
   "execution_count": 20,
   "metadata": {},
   "outputs": [
    {
     "data": {
      "application/vnd.plotly.v1+json": {
       "config": {
        "plotlyServerURL": "https://plot.ly"
       },
       "data": [
        {
         "alignmentgroup": "True",
         "hovertemplate": "TravelModes=Bike<br>Period=2018<br>Urbanization level=%{x}<br>Trips per year=%{y}<extra></extra>",
         "legendgroup": "Bike",
         "marker": {
          "color": "#636efa",
          "pattern": {
           "shape": ""
          }
         },
         "name": "Bike",
         "offsetgroup": "Bike",
         "orientation": "v",
         "showlegend": true,
         "textposition": "auto",
         "type": "bar",
         "x": [
          "Extremely urbanised",
          "Hardly urbanised",
          "Moderately urbanised",
          "Not urbanised",
          "Strongly urbanised"
         ],
         "xaxis": "x",
         "y": [
          626,
          550,
          571,
          461,
          591
         ],
         "yaxis": "y"
        },
        {
         "alignmentgroup": "True",
         "hovertemplate": "TravelModes=Bus/tram/metro<br>Period=2018<br>Urbanization level=%{x}<br>Trips per year=%{y}<extra></extra>",
         "legendgroup": "Bus/tram/metro",
         "marker": {
          "color": "#EF553B",
          "pattern": {
           "shape": ""
          }
         },
         "name": "Bus/tram/metro",
         "offsetgroup": "Bus/tram/metro",
         "orientation": "v",
         "showlegend": true,
         "textposition": "auto",
         "type": "bar",
         "x": [
          "Extremely urbanised",
          "Hardly urbanised",
          "Moderately urbanised",
          "Not urbanised",
          "Strongly urbanised"
         ],
         "xaxis": "x",
         "y": [
          127,
          21,
          23,
          18,
          42
         ],
         "yaxis": "y"
        },
        {
         "alignmentgroup": "True",
         "hovertemplate": "TravelModes=Other<br>Period=2018<br>Urbanization level=%{x}<br>Trips per year=%{y}<extra></extra>",
         "legendgroup": "Other",
         "marker": {
          "color": "#00cc96",
          "pattern": {
           "shape": ""
          }
         },
         "name": "Other",
         "offsetgroup": "Other",
         "orientation": "v",
         "showlegend": true,
         "textposition": "auto",
         "type": "bar",
         "x": [
          "Extremely urbanised",
          "Hardly urbanised",
          "Moderately urbanised",
          "Not urbanised",
          "Strongly urbanised"
         ],
         "xaxis": "x",
         "y": [
          42,
          83,
          58,
          79,
          60
         ],
         "yaxis": "y"
        },
        {
         "alignmentgroup": "True",
         "hovertemplate": "TravelModes=Passenger car (driver)<br>Period=2018<br>Urbanization level=%{x}<br>Trips per year=%{y}<extra></extra>",
         "legendgroup": "Passenger car (driver)",
         "marker": {
          "color": "#ab63fa",
          "pattern": {
           "shape": ""
          }
         },
         "name": "Passenger car (driver)",
         "offsetgroup": "Passenger car (driver)",
         "orientation": "v",
         "showlegend": true,
         "textposition": "auto",
         "type": "bar",
         "x": [
          "Extremely urbanised",
          "Hardly urbanised",
          "Moderately urbanised",
          "Not urbanised",
          "Strongly urbanised"
         ],
         "xaxis": "x",
         "y": [
          479,
          828,
          771,
          830,
          707
         ],
         "yaxis": "y"
        },
        {
         "alignmentgroup": "True",
         "hovertemplate": "TravelModes=Passenger car (passenger)<br>Period=2018<br>Urbanization level=%{x}<br>Trips per year=%{y}<extra></extra>",
         "legendgroup": "Passenger car (passenger)",
         "marker": {
          "color": "#FFA15A",
          "pattern": {
           "shape": ""
          }
         },
         "name": "Passenger car (passenger)",
         "offsetgroup": "Passenger car (passenger)",
         "orientation": "v",
         "showlegend": true,
         "textposition": "auto",
         "type": "bar",
         "x": [
          "Extremely urbanised",
          "Hardly urbanised",
          "Moderately urbanised",
          "Not urbanised",
          "Strongly urbanised"
         ],
         "xaxis": "x",
         "y": [
          176,
          270,
          267,
          230,
          234
         ],
         "yaxis": "y"
        },
        {
         "alignmentgroup": "True",
         "hovertemplate": "TravelModes=Train<br>Period=2018<br>Urbanization level=%{x}<br>Trips per year=%{y}<extra></extra>",
         "legendgroup": "Train",
         "marker": {
          "color": "#19d3f3",
          "pattern": {
           "shape": ""
          }
         },
         "name": "Train",
         "offsetgroup": "Train",
         "orientation": "v",
         "showlegend": true,
         "textposition": "auto",
         "type": "bar",
         "x": [
          "Extremely urbanised",
          "Hardly urbanised",
          "Moderately urbanised",
          "Not urbanised",
          "Strongly urbanised"
         ],
         "xaxis": "x",
         "y": [
          93,
          23,
          47,
          12,
          56
         ],
         "yaxis": "y"
        },
        {
         "alignmentgroup": "True",
         "hovertemplate": "TravelModes=Walking<br>Period=2018<br>Urbanization level=%{x}<br>Trips per year=%{y}<extra></extra>",
         "legendgroup": "Walking",
         "marker": {
          "color": "#FF6692",
          "pattern": {
           "shape": ""
          }
         },
         "name": "Walking",
         "offsetgroup": "Walking",
         "orientation": "v",
         "showlegend": true,
         "textposition": "auto",
         "type": "bar",
         "x": [
          "Extremely urbanised",
          "Hardly urbanised",
          "Moderately urbanised",
          "Not urbanised",
          "Strongly urbanised"
         ],
         "xaxis": "x",
         "y": [
          398,
          269,
          296,
          226,
          334
         ],
         "yaxis": "y"
        }
       ],
       "frames": [
        {
         "data": [
          {
           "alignmentgroup": "True",
           "hovertemplate": "TravelModes=Bike<br>Period=2018<br>Urbanization level=%{x}<br>Trips per year=%{y}<extra></extra>",
           "legendgroup": "Bike",
           "marker": {
            "color": "#636efa",
            "pattern": {
             "shape": ""
            }
           },
           "name": "Bike",
           "offsetgroup": "Bike",
           "orientation": "v",
           "showlegend": true,
           "textposition": "auto",
           "type": "bar",
           "x": [
            "Extremely urbanised",
            "Hardly urbanised",
            "Moderately urbanised",
            "Not urbanised",
            "Strongly urbanised"
           ],
           "xaxis": "x",
           "y": [
            626,
            550,
            571,
            461,
            591
           ],
           "yaxis": "y"
          },
          {
           "alignmentgroup": "True",
           "hovertemplate": "TravelModes=Bus/tram/metro<br>Period=2018<br>Urbanization level=%{x}<br>Trips per year=%{y}<extra></extra>",
           "legendgroup": "Bus/tram/metro",
           "marker": {
            "color": "#EF553B",
            "pattern": {
             "shape": ""
            }
           },
           "name": "Bus/tram/metro",
           "offsetgroup": "Bus/tram/metro",
           "orientation": "v",
           "showlegend": true,
           "textposition": "auto",
           "type": "bar",
           "x": [
            "Extremely urbanised",
            "Hardly urbanised",
            "Moderately urbanised",
            "Not urbanised",
            "Strongly urbanised"
           ],
           "xaxis": "x",
           "y": [
            127,
            21,
            23,
            18,
            42
           ],
           "yaxis": "y"
          },
          {
           "alignmentgroup": "True",
           "hovertemplate": "TravelModes=Other<br>Period=2018<br>Urbanization level=%{x}<br>Trips per year=%{y}<extra></extra>",
           "legendgroup": "Other",
           "marker": {
            "color": "#00cc96",
            "pattern": {
             "shape": ""
            }
           },
           "name": "Other",
           "offsetgroup": "Other",
           "orientation": "v",
           "showlegend": true,
           "textposition": "auto",
           "type": "bar",
           "x": [
            "Extremely urbanised",
            "Hardly urbanised",
            "Moderately urbanised",
            "Not urbanised",
            "Strongly urbanised"
           ],
           "xaxis": "x",
           "y": [
            42,
            83,
            58,
            79,
            60
           ],
           "yaxis": "y"
          },
          {
           "alignmentgroup": "True",
           "hovertemplate": "TravelModes=Passenger car (driver)<br>Period=2018<br>Urbanization level=%{x}<br>Trips per year=%{y}<extra></extra>",
           "legendgroup": "Passenger car (driver)",
           "marker": {
            "color": "#ab63fa",
            "pattern": {
             "shape": ""
            }
           },
           "name": "Passenger car (driver)",
           "offsetgroup": "Passenger car (driver)",
           "orientation": "v",
           "showlegend": true,
           "textposition": "auto",
           "type": "bar",
           "x": [
            "Extremely urbanised",
            "Hardly urbanised",
            "Moderately urbanised",
            "Not urbanised",
            "Strongly urbanised"
           ],
           "xaxis": "x",
           "y": [
            479,
            828,
            771,
            830,
            707
           ],
           "yaxis": "y"
          },
          {
           "alignmentgroup": "True",
           "hovertemplate": "TravelModes=Passenger car (passenger)<br>Period=2018<br>Urbanization level=%{x}<br>Trips per year=%{y}<extra></extra>",
           "legendgroup": "Passenger car (passenger)",
           "marker": {
            "color": "#FFA15A",
            "pattern": {
             "shape": ""
            }
           },
           "name": "Passenger car (passenger)",
           "offsetgroup": "Passenger car (passenger)",
           "orientation": "v",
           "showlegend": true,
           "textposition": "auto",
           "type": "bar",
           "x": [
            "Extremely urbanised",
            "Hardly urbanised",
            "Moderately urbanised",
            "Not urbanised",
            "Strongly urbanised"
           ],
           "xaxis": "x",
           "y": [
            176,
            270,
            267,
            230,
            234
           ],
           "yaxis": "y"
          },
          {
           "alignmentgroup": "True",
           "hovertemplate": "TravelModes=Train<br>Period=2018<br>Urbanization level=%{x}<br>Trips per year=%{y}<extra></extra>",
           "legendgroup": "Train",
           "marker": {
            "color": "#19d3f3",
            "pattern": {
             "shape": ""
            }
           },
           "name": "Train",
           "offsetgroup": "Train",
           "orientation": "v",
           "showlegend": true,
           "textposition": "auto",
           "type": "bar",
           "x": [
            "Extremely urbanised",
            "Hardly urbanised",
            "Moderately urbanised",
            "Not urbanised",
            "Strongly urbanised"
           ],
           "xaxis": "x",
           "y": [
            93,
            23,
            47,
            12,
            56
           ],
           "yaxis": "y"
          },
          {
           "alignmentgroup": "True",
           "hovertemplate": "TravelModes=Walking<br>Period=2018<br>Urbanization level=%{x}<br>Trips per year=%{y}<extra></extra>",
           "legendgroup": "Walking",
           "marker": {
            "color": "#FF6692",
            "pattern": {
             "shape": ""
            }
           },
           "name": "Walking",
           "offsetgroup": "Walking",
           "orientation": "v",
           "showlegend": true,
           "textposition": "auto",
           "type": "bar",
           "x": [
            "Extremely urbanised",
            "Hardly urbanised",
            "Moderately urbanised",
            "Not urbanised",
            "Strongly urbanised"
           ],
           "xaxis": "x",
           "y": [
            398,
            269,
            296,
            226,
            334
           ],
           "yaxis": "y"
          }
         ],
         "name": "2018"
        },
        {
         "data": [
          {
           "alignmentgroup": "True",
           "hovertemplate": "TravelModes=Bike<br>Period=2019<br>Urbanization level=%{x}<br>Trips per year=%{y}<extra></extra>",
           "legendgroup": "Bike",
           "marker": {
            "color": "#636efa",
            "pattern": {
             "shape": ""
            }
           },
           "name": "Bike",
           "offsetgroup": "Bike",
           "orientation": "v",
           "showlegend": true,
           "textposition": "auto",
           "type": "bar",
           "x": [
            "Extremely urbanised",
            "Hardly urbanised",
            "Moderately urbanised",
            "Not urbanised",
            "Strongly urbanised"
           ],
           "xaxis": "x",
           "y": [
            600,
            515,
            573,
            412,
            565
           ],
           "yaxis": "y"
          },
          {
           "alignmentgroup": "True",
           "hovertemplate": "TravelModes=Bus/tram/metro<br>Period=2019<br>Urbanization level=%{x}<br>Trips per year=%{y}<extra></extra>",
           "legendgroup": "Bus/tram/metro",
           "marker": {
            "color": "#EF553B",
            "pattern": {
             "shape": ""
            }
           },
           "name": "Bus/tram/metro",
           "offsetgroup": "Bus/tram/metro",
           "orientation": "v",
           "showlegend": true,
           "textposition": "auto",
           "type": "bar",
           "x": [
            "Extremely urbanised",
            "Hardly urbanised",
            "Moderately urbanised",
            "Not urbanised",
            "Strongly urbanised"
           ],
           "xaxis": "x",
           "y": [
            110,
            17,
            24,
            12,
            39
           ],
           "yaxis": "y"
          },
          {
           "alignmentgroup": "True",
           "hovertemplate": "TravelModes=Other<br>Period=2019<br>Urbanization level=%{x}<br>Trips per year=%{y}<extra></extra>",
           "legendgroup": "Other",
           "marker": {
            "color": "#00cc96",
            "pattern": {
             "shape": ""
            }
           },
           "name": "Other",
           "offsetgroup": "Other",
           "orientation": "v",
           "showlegend": true,
           "textposition": "auto",
           "type": "bar",
           "x": [
            "Extremely urbanised",
            "Hardly urbanised",
            "Moderately urbanised",
            "Not urbanised",
            "Strongly urbanised"
           ],
           "xaxis": "x",
           "y": [
            52,
            79,
            62,
            80,
            69
           ],
           "yaxis": "y"
          },
          {
           "alignmentgroup": "True",
           "hovertemplate": "TravelModes=Passenger car (driver)<br>Period=2019<br>Urbanization level=%{x}<br>Trips per year=%{y}<extra></extra>",
           "legendgroup": "Passenger car (driver)",
           "marker": {
            "color": "#ab63fa",
            "pattern": {
             "shape": ""
            }
           },
           "name": "Passenger car (driver)",
           "offsetgroup": "Passenger car (driver)",
           "orientation": "v",
           "showlegend": true,
           "textposition": "auto",
           "type": "bar",
           "x": [
            "Extremely urbanised",
            "Hardly urbanised",
            "Moderately urbanised",
            "Not urbanised",
            "Strongly urbanised"
           ],
           "xaxis": "x",
           "y": [
            461,
            827,
            772,
            854,
            697
           ],
           "yaxis": "y"
          },
          {
           "alignmentgroup": "True",
           "hovertemplate": "TravelModes=Passenger car (passenger)<br>Period=2019<br>Urbanization level=%{x}<br>Trips per year=%{y}<extra></extra>",
           "legendgroup": "Passenger car (passenger)",
           "marker": {
            "color": "#FFA15A",
            "pattern": {
             "shape": ""
            }
           },
           "name": "Passenger car (passenger)",
           "offsetgroup": "Passenger car (passenger)",
           "orientation": "v",
           "showlegend": true,
           "textposition": "auto",
           "type": "bar",
           "x": [
            "Extremely urbanised",
            "Hardly urbanised",
            "Moderately urbanised",
            "Not urbanised",
            "Strongly urbanised"
           ],
           "xaxis": "x",
           "y": [
            167,
            257,
            234,
            222,
            238
           ],
           "yaxis": "y"
          },
          {
           "alignmentgroup": "True",
           "hovertemplate": "TravelModes=Train<br>Period=2019<br>Urbanization level=%{x}<br>Trips per year=%{y}<extra></extra>",
           "legendgroup": "Train",
           "marker": {
            "color": "#19d3f3",
            "pattern": {
             "shape": ""
            }
           },
           "name": "Train",
           "offsetgroup": "Train",
           "orientation": "v",
           "showlegend": true,
           "textposition": "auto",
           "type": "bar",
           "x": [
            "Extremely urbanised",
            "Hardly urbanised",
            "Moderately urbanised",
            "Not urbanised",
            "Strongly urbanised"
           ],
           "xaxis": "x",
           "y": [
            96,
            26,
            40,
            15,
            58
           ],
           "yaxis": "y"
          },
          {
           "alignmentgroup": "True",
           "hovertemplate": "TravelModes=Walking<br>Period=2019<br>Urbanization level=%{x}<br>Trips per year=%{y}<extra></extra>",
           "legendgroup": "Walking",
           "marker": {
            "color": "#FF6692",
            "pattern": {
             "shape": ""
            }
           },
           "name": "Walking",
           "offsetgroup": "Walking",
           "orientation": "v",
           "showlegend": true,
           "textposition": "auto",
           "type": "bar",
           "x": [
            "Extremely urbanised",
            "Hardly urbanised",
            "Moderately urbanised",
            "Not urbanised",
            "Strongly urbanised"
           ],
           "xaxis": "x",
           "y": [
            386,
            263,
            292,
            212,
            308
           ],
           "yaxis": "y"
          }
         ],
         "name": "2019"
        },
        {
         "data": [
          {
           "alignmentgroup": "True",
           "hovertemplate": "TravelModes=Bike<br>Period=2020<br>Urbanization level=%{x}<br>Trips per year=%{y}<extra></extra>",
           "legendgroup": "Bike",
           "marker": {
            "color": "#636efa",
            "pattern": {
             "shape": ""
            }
           },
           "name": "Bike",
           "offsetgroup": "Bike",
           "orientation": "v",
           "showlegend": true,
           "textposition": "auto",
           "type": "bar",
           "x": [
            "Extremely urbanised",
            "Hardly urbanised",
            "Moderately urbanised",
            "Not urbanised",
            "Strongly urbanised"
           ],
           "xaxis": "x",
           "y": [
            465,
            434,
            494,
            385,
            463
           ],
           "yaxis": "y"
          },
          {
           "alignmentgroup": "True",
           "hovertemplate": "TravelModes=Bus/tram/metro<br>Period=2020<br>Urbanization level=%{x}<br>Trips per year=%{y}<extra></extra>",
           "legendgroup": "Bus/tram/metro",
           "marker": {
            "color": "#EF553B",
            "pattern": {
             "shape": ""
            }
           },
           "name": "Bus/tram/metro",
           "offsetgroup": "Bus/tram/metro",
           "orientation": "v",
           "showlegend": true,
           "textposition": "auto",
           "type": "bar",
           "x": [
            "Extremely urbanised",
            "Hardly urbanised",
            "Moderately urbanised",
            "Strongly urbanised"
           ],
           "xaxis": "x",
           "y": [
            57,
            5,
            7,
            17
           ],
           "yaxis": "y"
          },
          {
           "alignmentgroup": "True",
           "hovertemplate": "TravelModes=Other<br>Period=2020<br>Urbanization level=%{x}<br>Trips per year=%{y}<extra></extra>",
           "legendgroup": "Other",
           "marker": {
            "color": "#00cc96",
            "pattern": {
             "shape": ""
            }
           },
           "name": "Other",
           "offsetgroup": "Other",
           "orientation": "v",
           "showlegend": true,
           "textposition": "auto",
           "type": "bar",
           "x": [
            "Extremely urbanised",
            "Hardly urbanised",
            "Moderately urbanised",
            "Not urbanised",
            "Strongly urbanised"
           ],
           "xaxis": "x",
           "y": [
            37,
            61,
            51,
            63,
            52
           ],
           "yaxis": "y"
          },
          {
           "alignmentgroup": "True",
           "hovertemplate": "TravelModes=Passenger car (driver)<br>Period=2020<br>Urbanization level=%{x}<br>Trips per year=%{y}<extra></extra>",
           "legendgroup": "Passenger car (driver)",
           "marker": {
            "color": "#ab63fa",
            "pattern": {
             "shape": ""
            }
           },
           "name": "Passenger car (driver)",
           "offsetgroup": "Passenger car (driver)",
           "orientation": "v",
           "showlegend": true,
           "textposition": "auto",
           "type": "bar",
           "x": [
            "Extremely urbanised",
            "Hardly urbanised",
            "Moderately urbanised",
            "Not urbanised",
            "Strongly urbanised"
           ],
           "xaxis": "x",
           "y": [
            376,
            722,
            676,
            738,
            587
           ],
           "yaxis": "y"
          },
          {
           "alignmentgroup": "True",
           "hovertemplate": "TravelModes=Passenger car (passenger)<br>Period=2020<br>Urbanization level=%{x}<br>Trips per year=%{y}<extra></extra>",
           "legendgroup": "Passenger car (passenger)",
           "marker": {
            "color": "#FFA15A",
            "pattern": {
             "shape": ""
            }
           },
           "name": "Passenger car (passenger)",
           "offsetgroup": "Passenger car (passenger)",
           "orientation": "v",
           "showlegend": true,
           "textposition": "auto",
           "type": "bar",
           "x": [
            "Extremely urbanised",
            "Hardly urbanised",
            "Moderately urbanised",
            "Not urbanised",
            "Strongly urbanised"
           ],
           "xaxis": "x",
           "y": [
            134,
            187,
            201,
            186,
            183
           ],
           "yaxis": "y"
          },
          {
           "alignmentgroup": "True",
           "hovertemplate": "TravelModes=Train<br>Period=2020<br>Urbanization level=%{x}<br>Trips per year=%{y}<extra></extra>",
           "legendgroup": "Train",
           "marker": {
            "color": "#19d3f3",
            "pattern": {
             "shape": ""
            }
           },
           "name": "Train",
           "offsetgroup": "Train",
           "orientation": "v",
           "showlegend": true,
           "textposition": "auto",
           "type": "bar",
           "x": [
            "Extremely urbanised",
            "Hardly urbanised",
            "Moderately urbanised",
            "Strongly urbanised"
           ],
           "xaxis": "x",
           "y": [
            34,
            6,
            13,
            24
           ],
           "yaxis": "y"
          },
          {
           "alignmentgroup": "True",
           "hovertemplate": "TravelModes=Walking<br>Period=2020<br>Urbanization level=%{x}<br>Trips per year=%{y}<extra></extra>",
           "legendgroup": "Walking",
           "marker": {
            "color": "#FF6692",
            "pattern": {
             "shape": ""
            }
           },
           "name": "Walking",
           "offsetgroup": "Walking",
           "orientation": "v",
           "showlegend": true,
           "textposition": "auto",
           "type": "bar",
           "x": [
            "Extremely urbanised",
            "Hardly urbanised",
            "Moderately urbanised",
            "Not urbanised",
            "Strongly urbanised"
           ],
           "xaxis": "x",
           "y": [
            438,
            328,
            352,
            305,
            396
           ],
           "yaxis": "y"
          }
         ],
         "name": "2020"
        },
        {
         "data": [
          {
           "alignmentgroup": "True",
           "hovertemplate": "TravelModes=Bike<br>Period=2021<br>Urbanization level=%{x}<br>Trips per year=%{y}<extra></extra>",
           "legendgroup": "Bike",
           "marker": {
            "color": "#636efa",
            "pattern": {
             "shape": ""
            }
           },
           "name": "Bike",
           "offsetgroup": "Bike",
           "orientation": "v",
           "showlegend": true,
           "textposition": "auto",
           "type": "bar",
           "x": [
            "Extremely urbanised",
            "Hardly urbanised",
            "Moderately urbanised",
            "Not urbanised",
            "Strongly urbanised"
           ],
           "xaxis": "x",
           "y": [
            472,
            445,
            500,
            391,
            469
           ],
           "yaxis": "y"
          },
          {
           "alignmentgroup": "True",
           "hovertemplate": "TravelModes=Bus/tram/metro<br>Period=2021<br>Urbanization level=%{x}<br>Trips per year=%{y}<extra></extra>",
           "legendgroup": "Bus/tram/metro",
           "marker": {
            "color": "#EF553B",
            "pattern": {
             "shape": ""
            }
           },
           "name": "Bus/tram/metro",
           "offsetgroup": "Bus/tram/metro",
           "orientation": "v",
           "showlegend": true,
           "textposition": "auto",
           "type": "bar",
           "x": [
            "Extremely urbanised",
            "Hardly urbanised",
            "Moderately urbanised",
            "Not urbanised",
            "Strongly urbanised"
           ],
           "xaxis": "x",
           "y": [
            56,
            10,
            5,
            7,
            16
           ],
           "yaxis": "y"
          },
          {
           "alignmentgroup": "True",
           "hovertemplate": "TravelModes=Other<br>Period=2021<br>Urbanization level=%{x}<br>Trips per year=%{y}<extra></extra>",
           "legendgroup": "Other",
           "marker": {
            "color": "#00cc96",
            "pattern": {
             "shape": ""
            }
           },
           "name": "Other",
           "offsetgroup": "Other",
           "orientation": "v",
           "showlegend": true,
           "textposition": "auto",
           "type": "bar",
           "x": [
            "Extremely urbanised",
            "Hardly urbanised",
            "Moderately urbanised",
            "Not urbanised",
            "Strongly urbanised"
           ],
           "xaxis": "x",
           "y": [
            49,
            65,
            56,
            84,
            73
           ],
           "yaxis": "y"
          },
          {
           "alignmentgroup": "True",
           "hovertemplate": "TravelModes=Passenger car (driver)<br>Period=2021<br>Urbanization level=%{x}<br>Trips per year=%{y}<extra></extra>",
           "legendgroup": "Passenger car (driver)",
           "marker": {
            "color": "#ab63fa",
            "pattern": {
             "shape": ""
            }
           },
           "name": "Passenger car (driver)",
           "offsetgroup": "Passenger car (driver)",
           "orientation": "v",
           "showlegend": true,
           "textposition": "auto",
           "type": "bar",
           "x": [
            "Extremely urbanised",
            "Hardly urbanised",
            "Moderately urbanised",
            "Not urbanised",
            "Strongly urbanised"
           ],
           "xaxis": "x",
           "y": [
            394,
            744,
            677,
            726,
            601
           ],
           "yaxis": "y"
          },
          {
           "alignmentgroup": "True",
           "hovertemplate": "TravelModes=Passenger car (passenger)<br>Period=2021<br>Urbanization level=%{x}<br>Trips per year=%{y}<extra></extra>",
           "legendgroup": "Passenger car (passenger)",
           "marker": {
            "color": "#FFA15A",
            "pattern": {
             "shape": ""
            }
           },
           "name": "Passenger car (passenger)",
           "offsetgroup": "Passenger car (passenger)",
           "orientation": "v",
           "showlegend": true,
           "textposition": "auto",
           "type": "bar",
           "x": [
            "Extremely urbanised",
            "Hardly urbanised",
            "Moderately urbanised",
            "Not urbanised",
            "Strongly urbanised"
           ],
           "xaxis": "x",
           "y": [
            148,
            205,
            200,
            182,
            194
           ],
           "yaxis": "y"
          },
          {
           "alignmentgroup": "True",
           "hovertemplate": "TravelModes=Train<br>Period=2021<br>Urbanization level=%{x}<br>Trips per year=%{y}<extra></extra>",
           "legendgroup": "Train",
           "marker": {
            "color": "#19d3f3",
            "pattern": {
             "shape": ""
            }
           },
           "name": "Train",
           "offsetgroup": "Train",
           "orientation": "v",
           "showlegend": true,
           "textposition": "auto",
           "type": "bar",
           "x": [
            "Extremely urbanised",
            "Hardly urbanised",
            "Moderately urbanised",
            "Strongly urbanised"
           ],
           "xaxis": "x",
           "y": [
            40,
            9,
            9,
            23
           ],
           "yaxis": "y"
          },
          {
           "alignmentgroup": "True",
           "hovertemplate": "TravelModes=Walking<br>Period=2021<br>Urbanization level=%{x}<br>Trips per year=%{y}<extra></extra>",
           "legendgroup": "Walking",
           "marker": {
            "color": "#FF6692",
            "pattern": {
             "shape": ""
            }
           },
           "name": "Walking",
           "offsetgroup": "Walking",
           "orientation": "v",
           "showlegend": true,
           "textposition": "auto",
           "type": "bar",
           "x": [
            "Extremely urbanised",
            "Hardly urbanised",
            "Moderately urbanised",
            "Not urbanised",
            "Strongly urbanised"
           ],
           "xaxis": "x",
           "y": [
            529,
            395,
            407,
            340,
            450
           ],
           "yaxis": "y"
          }
         ],
         "name": "2021"
        },
        {
         "data": [
          {
           "alignmentgroup": "True",
           "hovertemplate": "TravelModes=Bike<br>Period=2022<br>Urbanization level=%{x}<br>Trips per year=%{y}<extra></extra>",
           "legendgroup": "Bike",
           "marker": {
            "color": "#636efa",
            "pattern": {
             "shape": ""
            }
           },
           "name": "Bike",
           "offsetgroup": "Bike",
           "orientation": "v",
           "showlegend": true,
           "textposition": "auto",
           "type": "bar",
           "x": [
            "Extremely urbanised",
            "Hardly urbanised",
            "Moderately urbanised",
            "Not urbanised",
            "Strongly urbanised"
           ],
           "xaxis": "x",
           "y": [
            567,
            520,
            580,
            432,
            561
           ],
           "yaxis": "y"
          },
          {
           "alignmentgroup": "True",
           "hovertemplate": "TravelModes=Bus/tram/metro<br>Period=2022<br>Urbanization level=%{x}<br>Trips per year=%{y}<extra></extra>",
           "legendgroup": "Bus/tram/metro",
           "marker": {
            "color": "#EF553B",
            "pattern": {
             "shape": ""
            }
           },
           "name": "Bus/tram/metro",
           "offsetgroup": "Bus/tram/metro",
           "orientation": "v",
           "showlegend": true,
           "textposition": "auto",
           "type": "bar",
           "x": [
            "Extremely urbanised",
            "Hardly urbanised",
            "Moderately urbanised",
            "Not urbanised",
            "Strongly urbanised"
           ],
           "xaxis": "x",
           "y": [
            88,
            14,
            13,
            10,
            26
           ],
           "yaxis": "y"
          },
          {
           "alignmentgroup": "True",
           "hovertemplate": "TravelModes=Other<br>Period=2022<br>Urbanization level=%{x}<br>Trips per year=%{y}<extra></extra>",
           "legendgroup": "Other",
           "marker": {
            "color": "#00cc96",
            "pattern": {
             "shape": ""
            }
           },
           "name": "Other",
           "offsetgroup": "Other",
           "orientation": "v",
           "showlegend": true,
           "textposition": "auto",
           "type": "bar",
           "x": [
            "Extremely urbanised",
            "Hardly urbanised",
            "Moderately urbanised",
            "Not urbanised",
            "Strongly urbanised"
           ],
           "xaxis": "x",
           "y": [
            46,
            79,
            71,
            66,
            68
           ],
           "yaxis": "y"
          },
          {
           "alignmentgroup": "True",
           "hovertemplate": "TravelModes=Passenger car (driver)<br>Period=2022<br>Urbanization level=%{x}<br>Trips per year=%{y}<extra></extra>",
           "legendgroup": "Passenger car (driver)",
           "marker": {
            "color": "#ab63fa",
            "pattern": {
             "shape": ""
            }
           },
           "name": "Passenger car (driver)",
           "offsetgroup": "Passenger car (driver)",
           "orientation": "v",
           "showlegend": true,
           "textposition": "auto",
           "type": "bar",
           "x": [
            "Extremely urbanised",
            "Hardly urbanised",
            "Moderately urbanised",
            "Not urbanised",
            "Strongly urbanised"
           ],
           "xaxis": "x",
           "y": [
            437,
            770,
            715,
            766,
            631
           ],
           "yaxis": "y"
          },
          {
           "alignmentgroup": "True",
           "hovertemplate": "TravelModes=Passenger car (passenger)<br>Period=2022<br>Urbanization level=%{x}<br>Trips per year=%{y}<extra></extra>",
           "legendgroup": "Passenger car (passenger)",
           "marker": {
            "color": "#FFA15A",
            "pattern": {
             "shape": ""
            }
           },
           "name": "Passenger car (passenger)",
           "offsetgroup": "Passenger car (passenger)",
           "orientation": "v",
           "showlegend": true,
           "textposition": "auto",
           "type": "bar",
           "x": [
            "Extremely urbanised",
            "Hardly urbanised",
            "Moderately urbanised",
            "Not urbanised",
            "Strongly urbanised"
           ],
           "xaxis": "x",
           "y": [
            153,
            235,
            220,
            216,
            202
           ],
           "yaxis": "y"
          },
          {
           "alignmentgroup": "True",
           "hovertemplate": "TravelModes=Train<br>Period=2022<br>Urbanization level=%{x}<br>Trips per year=%{y}<extra></extra>",
           "legendgroup": "Train",
           "marker": {
            "color": "#19d3f3",
            "pattern": {
             "shape": ""
            }
           },
           "name": "Train",
           "offsetgroup": "Train",
           "orientation": "v",
           "showlegend": true,
           "textposition": "auto",
           "type": "bar",
           "x": [
            "Extremely urbanised",
            "Hardly urbanised",
            "Moderately urbanised",
            "Not urbanised",
            "Strongly urbanised"
           ],
           "xaxis": "x",
           "y": [
            50,
            16,
            25,
            11,
            40
           ],
           "yaxis": "y"
          },
          {
           "alignmentgroup": "True",
           "hovertemplate": "TravelModes=Walking<br>Period=2022<br>Urbanization level=%{x}<br>Trips per year=%{y}<extra></extra>",
           "legendgroup": "Walking",
           "marker": {
            "color": "#FF6692",
            "pattern": {
             "shape": ""
            }
           },
           "name": "Walking",
           "offsetgroup": "Walking",
           "orientation": "v",
           "showlegend": true,
           "textposition": "auto",
           "type": "bar",
           "x": [
            "Extremely urbanised",
            "Hardly urbanised",
            "Moderately urbanised",
            "Not urbanised",
            "Strongly urbanised"
           ],
           "xaxis": "x",
           "y": [
            480,
            377,
            407,
            319,
            440
           ],
           "yaxis": "y"
          }
         ],
         "name": "2022"
        },
        {
         "data": [
          {
           "alignmentgroup": "True",
           "hovertemplate": "TravelModes=Bike<br>Period=2023<br>Urbanization level=%{x}<br>Trips per year=%{y}<extra></extra>",
           "legendgroup": "Bike",
           "marker": {
            "color": "#636efa",
            "pattern": {
             "shape": ""
            }
           },
           "name": "Bike",
           "offsetgroup": "Bike",
           "orientation": "v",
           "showlegend": true,
           "textposition": "auto",
           "type": "bar",
           "x": [
            "Extremely urbanised",
            "Hardly urbanised",
            "Moderately urbanised",
            "Not urbanised",
            "Strongly urbanised"
           ],
           "xaxis": "x",
           "y": [
            567,
            506,
            542,
            410,
            541
           ],
           "yaxis": "y"
          },
          {
           "alignmentgroup": "True",
           "hovertemplate": "TravelModes=Bus/tram/metro<br>Period=2023<br>Urbanization level=%{x}<br>Trips per year=%{y}<extra></extra>",
           "legendgroup": "Bus/tram/metro",
           "marker": {
            "color": "#EF553B",
            "pattern": {
             "shape": ""
            }
           },
           "name": "Bus/tram/metro",
           "offsetgroup": "Bus/tram/metro",
           "orientation": "v",
           "showlegend": true,
           "textposition": "auto",
           "type": "bar",
           "x": [
            "Extremely urbanised",
            "Hardly urbanised",
            "Moderately urbanised",
            "Not urbanised",
            "Strongly urbanised"
           ],
           "xaxis": "x",
           "y": [
            93,
            12,
            13,
            10,
            27
           ],
           "yaxis": "y"
          },
          {
           "alignmentgroup": "True",
           "hovertemplate": "TravelModes=Other<br>Period=2023<br>Urbanization level=%{x}<br>Trips per year=%{y}<extra></extra>",
           "legendgroup": "Other",
           "marker": {
            "color": "#00cc96",
            "pattern": {
             "shape": ""
            }
           },
           "name": "Other",
           "offsetgroup": "Other",
           "orientation": "v",
           "showlegend": true,
           "textposition": "auto",
           "type": "bar",
           "x": [
            "Extremely urbanised",
            "Hardly urbanised",
            "Moderately urbanised",
            "Not urbanised",
            "Strongly urbanised"
           ],
           "xaxis": "x",
           "y": [
            50,
            59,
            55,
            72,
            63
           ],
           "yaxis": "y"
          },
          {
           "alignmentgroup": "True",
           "hovertemplate": "TravelModes=Passenger car (driver)<br>Period=2023<br>Urbanization level=%{x}<br>Trips per year=%{y}<extra></extra>",
           "legendgroup": "Passenger car (driver)",
           "marker": {
            "color": "#ab63fa",
            "pattern": {
             "shape": ""
            }
           },
           "name": "Passenger car (driver)",
           "offsetgroup": "Passenger car (driver)",
           "orientation": "v",
           "showlegend": true,
           "textposition": "auto",
           "type": "bar",
           "x": [
            "Extremely urbanised",
            "Hardly urbanised",
            "Moderately urbanised",
            "Not urbanised",
            "Strongly urbanised"
           ],
           "xaxis": "x",
           "y": [
            428,
            827,
            768,
            828,
            665
           ],
           "yaxis": "y"
          },
          {
           "alignmentgroup": "True",
           "hovertemplate": "TravelModes=Passenger car (passenger)<br>Period=2023<br>Urbanization level=%{x}<br>Trips per year=%{y}<extra></extra>",
           "legendgroup": "Passenger car (passenger)",
           "marker": {
            "color": "#FFA15A",
            "pattern": {
             "shape": ""
            }
           },
           "name": "Passenger car (passenger)",
           "offsetgroup": "Passenger car (passenger)",
           "orientation": "v",
           "showlegend": true,
           "textposition": "auto",
           "type": "bar",
           "x": [
            "Extremely urbanised",
            "Hardly urbanised",
            "Moderately urbanised",
            "Not urbanised",
            "Strongly urbanised"
           ],
           "xaxis": "x",
           "y": [
            165,
            234,
            246,
            224,
            229
           ],
           "yaxis": "y"
          },
          {
           "alignmentgroup": "True",
           "hovertemplate": "TravelModes=Train<br>Period=2023<br>Urbanization level=%{x}<br>Trips per year=%{y}<extra></extra>",
           "legendgroup": "Train",
           "marker": {
            "color": "#19d3f3",
            "pattern": {
             "shape": ""
            }
           },
           "name": "Train",
           "offsetgroup": "Train",
           "orientation": "v",
           "showlegend": true,
           "textposition": "auto",
           "type": "bar",
           "x": [
            "Extremely urbanised",
            "Hardly urbanised",
            "Moderately urbanised",
            "Not urbanised",
            "Strongly urbanised"
           ],
           "xaxis": "x",
           "y": [
            71,
            19,
            31,
            11,
            53
           ],
           "yaxis": "y"
          },
          {
           "alignmentgroup": "True",
           "hovertemplate": "TravelModes=Walking<br>Period=2023<br>Urbanization level=%{x}<br>Trips per year=%{y}<extra></extra>",
           "legendgroup": "Walking",
           "marker": {
            "color": "#FF6692",
            "pattern": {
             "shape": ""
            }
           },
           "name": "Walking",
           "offsetgroup": "Walking",
           "orientation": "v",
           "showlegend": true,
           "textposition": "auto",
           "type": "bar",
           "x": [
            "Extremely urbanised",
            "Hardly urbanised",
            "Moderately urbanised",
            "Not urbanised",
            "Strongly urbanised"
           ],
           "xaxis": "x",
           "y": [
            474,
            343,
            374,
            313,
            417
           ],
           "yaxis": "y"
          }
         ],
         "name": "2023"
        }
       ],
       "layout": {
        "barmode": "group",
        "legend": {
         "title": {
          "text": "TravelModes"
         },
         "tracegroupgap": 0
        },
        "margin": {
         "t": 60
        },
        "sliders": [
         {
          "active": 0,
          "currentvalue": {
           "prefix": "Period="
          },
          "len": 0.9,
          "pad": {
           "b": 10,
           "t": 60
          },
          "steps": [
           {
            "args": [
             [
              "2018"
             ],
             {
              "frame": {
               "duration": 0,
               "redraw": true
              },
              "fromcurrent": true,
              "mode": "immediate",
              "transition": {
               "duration": 0,
               "easing": "linear"
              }
             }
            ],
            "label": "2018",
            "method": "animate"
           },
           {
            "args": [
             [
              "2019"
             ],
             {
              "frame": {
               "duration": 0,
               "redraw": true
              },
              "fromcurrent": true,
              "mode": "immediate",
              "transition": {
               "duration": 0,
               "easing": "linear"
              }
             }
            ],
            "label": "2019",
            "method": "animate"
           },
           {
            "args": [
             [
              "2020"
             ],
             {
              "frame": {
               "duration": 0,
               "redraw": true
              },
              "fromcurrent": true,
              "mode": "immediate",
              "transition": {
               "duration": 0,
               "easing": "linear"
              }
             }
            ],
            "label": "2020",
            "method": "animate"
           },
           {
            "args": [
             [
              "2021"
             ],
             {
              "frame": {
               "duration": 0,
               "redraw": true
              },
              "fromcurrent": true,
              "mode": "immediate",
              "transition": {
               "duration": 0,
               "easing": "linear"
              }
             }
            ],
            "label": "2021",
            "method": "animate"
           },
           {
            "args": [
             [
              "2022"
             ],
             {
              "frame": {
               "duration": 0,
               "redraw": true
              },
              "fromcurrent": true,
              "mode": "immediate",
              "transition": {
               "duration": 0,
               "easing": "linear"
              }
             }
            ],
            "label": "2022",
            "method": "animate"
           },
           {
            "args": [
             [
              "2023"
             ],
             {
              "frame": {
               "duration": 0,
               "redraw": true
              },
              "fromcurrent": true,
              "mode": "immediate",
              "transition": {
               "duration": 0,
               "easing": "linear"
              }
             }
            ],
            "label": "2023",
            "method": "animate"
           }
          ],
          "x": 0.1,
          "xanchor": "left",
          "y": 0,
          "yanchor": "top"
         }
        ],
        "template": {
         "data": {
          "bar": [
           {
            "error_x": {
             "color": "#2a3f5f"
            },
            "error_y": {
             "color": "#2a3f5f"
            },
            "marker": {
             "line": {
              "color": "#E5ECF6",
              "width": 0.5
             },
             "pattern": {
              "fillmode": "overlay",
              "size": 10,
              "solidity": 0.2
             }
            },
            "type": "bar"
           }
          ],
          "barpolar": [
           {
            "marker": {
             "line": {
              "color": "#E5ECF6",
              "width": 0.5
             },
             "pattern": {
              "fillmode": "overlay",
              "size": 10,
              "solidity": 0.2
             }
            },
            "type": "barpolar"
           }
          ],
          "carpet": [
           {
            "aaxis": {
             "endlinecolor": "#2a3f5f",
             "gridcolor": "white",
             "linecolor": "white",
             "minorgridcolor": "white",
             "startlinecolor": "#2a3f5f"
            },
            "baxis": {
             "endlinecolor": "#2a3f5f",
             "gridcolor": "white",
             "linecolor": "white",
             "minorgridcolor": "white",
             "startlinecolor": "#2a3f5f"
            },
            "type": "carpet"
           }
          ],
          "choropleth": [
           {
            "colorbar": {
             "outlinewidth": 0,
             "ticks": ""
            },
            "type": "choropleth"
           }
          ],
          "contour": [
           {
            "colorbar": {
             "outlinewidth": 0,
             "ticks": ""
            },
            "colorscale": [
             [
              0,
              "#0d0887"
             ],
             [
              0.1111111111111111,
              "#46039f"
             ],
             [
              0.2222222222222222,
              "#7201a8"
             ],
             [
              0.3333333333333333,
              "#9c179e"
             ],
             [
              0.4444444444444444,
              "#bd3786"
             ],
             [
              0.5555555555555556,
              "#d8576b"
             ],
             [
              0.6666666666666666,
              "#ed7953"
             ],
             [
              0.7777777777777778,
              "#fb9f3a"
             ],
             [
              0.8888888888888888,
              "#fdca26"
             ],
             [
              1,
              "#f0f921"
             ]
            ],
            "type": "contour"
           }
          ],
          "contourcarpet": [
           {
            "colorbar": {
             "outlinewidth": 0,
             "ticks": ""
            },
            "type": "contourcarpet"
           }
          ],
          "heatmap": [
           {
            "colorbar": {
             "outlinewidth": 0,
             "ticks": ""
            },
            "colorscale": [
             [
              0,
              "#0d0887"
             ],
             [
              0.1111111111111111,
              "#46039f"
             ],
             [
              0.2222222222222222,
              "#7201a8"
             ],
             [
              0.3333333333333333,
              "#9c179e"
             ],
             [
              0.4444444444444444,
              "#bd3786"
             ],
             [
              0.5555555555555556,
              "#d8576b"
             ],
             [
              0.6666666666666666,
              "#ed7953"
             ],
             [
              0.7777777777777778,
              "#fb9f3a"
             ],
             [
              0.8888888888888888,
              "#fdca26"
             ],
             [
              1,
              "#f0f921"
             ]
            ],
            "type": "heatmap"
           }
          ],
          "heatmapgl": [
           {
            "colorbar": {
             "outlinewidth": 0,
             "ticks": ""
            },
            "colorscale": [
             [
              0,
              "#0d0887"
             ],
             [
              0.1111111111111111,
              "#46039f"
             ],
             [
              0.2222222222222222,
              "#7201a8"
             ],
             [
              0.3333333333333333,
              "#9c179e"
             ],
             [
              0.4444444444444444,
              "#bd3786"
             ],
             [
              0.5555555555555556,
              "#d8576b"
             ],
             [
              0.6666666666666666,
              "#ed7953"
             ],
             [
              0.7777777777777778,
              "#fb9f3a"
             ],
             [
              0.8888888888888888,
              "#fdca26"
             ],
             [
              1,
              "#f0f921"
             ]
            ],
            "type": "heatmapgl"
           }
          ],
          "histogram": [
           {
            "marker": {
             "pattern": {
              "fillmode": "overlay",
              "size": 10,
              "solidity": 0.2
             }
            },
            "type": "histogram"
           }
          ],
          "histogram2d": [
           {
            "colorbar": {
             "outlinewidth": 0,
             "ticks": ""
            },
            "colorscale": [
             [
              0,
              "#0d0887"
             ],
             [
              0.1111111111111111,
              "#46039f"
             ],
             [
              0.2222222222222222,
              "#7201a8"
             ],
             [
              0.3333333333333333,
              "#9c179e"
             ],
             [
              0.4444444444444444,
              "#bd3786"
             ],
             [
              0.5555555555555556,
              "#d8576b"
             ],
             [
              0.6666666666666666,
              "#ed7953"
             ],
             [
              0.7777777777777778,
              "#fb9f3a"
             ],
             [
              0.8888888888888888,
              "#fdca26"
             ],
             [
              1,
              "#f0f921"
             ]
            ],
            "type": "histogram2d"
           }
          ],
          "histogram2dcontour": [
           {
            "colorbar": {
             "outlinewidth": 0,
             "ticks": ""
            },
            "colorscale": [
             [
              0,
              "#0d0887"
             ],
             [
              0.1111111111111111,
              "#46039f"
             ],
             [
              0.2222222222222222,
              "#7201a8"
             ],
             [
              0.3333333333333333,
              "#9c179e"
             ],
             [
              0.4444444444444444,
              "#bd3786"
             ],
             [
              0.5555555555555556,
              "#d8576b"
             ],
             [
              0.6666666666666666,
              "#ed7953"
             ],
             [
              0.7777777777777778,
              "#fb9f3a"
             ],
             [
              0.8888888888888888,
              "#fdca26"
             ],
             [
              1,
              "#f0f921"
             ]
            ],
            "type": "histogram2dcontour"
           }
          ],
          "mesh3d": [
           {
            "colorbar": {
             "outlinewidth": 0,
             "ticks": ""
            },
            "type": "mesh3d"
           }
          ],
          "parcoords": [
           {
            "line": {
             "colorbar": {
              "outlinewidth": 0,
              "ticks": ""
             }
            },
            "type": "parcoords"
           }
          ],
          "pie": [
           {
            "automargin": true,
            "type": "pie"
           }
          ],
          "scatter": [
           {
            "fillpattern": {
             "fillmode": "overlay",
             "size": 10,
             "solidity": 0.2
            },
            "type": "scatter"
           }
          ],
          "scatter3d": [
           {
            "line": {
             "colorbar": {
              "outlinewidth": 0,
              "ticks": ""
             }
            },
            "marker": {
             "colorbar": {
              "outlinewidth": 0,
              "ticks": ""
             }
            },
            "type": "scatter3d"
           }
          ],
          "scattercarpet": [
           {
            "marker": {
             "colorbar": {
              "outlinewidth": 0,
              "ticks": ""
             }
            },
            "type": "scattercarpet"
           }
          ],
          "scattergeo": [
           {
            "marker": {
             "colorbar": {
              "outlinewidth": 0,
              "ticks": ""
             }
            },
            "type": "scattergeo"
           }
          ],
          "scattergl": [
           {
            "marker": {
             "colorbar": {
              "outlinewidth": 0,
              "ticks": ""
             }
            },
            "type": "scattergl"
           }
          ],
          "scattermapbox": [
           {
            "marker": {
             "colorbar": {
              "outlinewidth": 0,
              "ticks": ""
             }
            },
            "type": "scattermapbox"
           }
          ],
          "scatterpolar": [
           {
            "marker": {
             "colorbar": {
              "outlinewidth": 0,
              "ticks": ""
             }
            },
            "type": "scatterpolar"
           }
          ],
          "scatterpolargl": [
           {
            "marker": {
             "colorbar": {
              "outlinewidth": 0,
              "ticks": ""
             }
            },
            "type": "scatterpolargl"
           }
          ],
          "scatterternary": [
           {
            "marker": {
             "colorbar": {
              "outlinewidth": 0,
              "ticks": ""
             }
            },
            "type": "scatterternary"
           }
          ],
          "surface": [
           {
            "colorbar": {
             "outlinewidth": 0,
             "ticks": ""
            },
            "colorscale": [
             [
              0,
              "#0d0887"
             ],
             [
              0.1111111111111111,
              "#46039f"
             ],
             [
              0.2222222222222222,
              "#7201a8"
             ],
             [
              0.3333333333333333,
              "#9c179e"
             ],
             [
              0.4444444444444444,
              "#bd3786"
             ],
             [
              0.5555555555555556,
              "#d8576b"
             ],
             [
              0.6666666666666666,
              "#ed7953"
             ],
             [
              0.7777777777777778,
              "#fb9f3a"
             ],
             [
              0.8888888888888888,
              "#fdca26"
             ],
             [
              1,
              "#f0f921"
             ]
            ],
            "type": "surface"
           }
          ],
          "table": [
           {
            "cells": {
             "fill": {
              "color": "#EBF0F8"
             },
             "line": {
              "color": "white"
             }
            },
            "header": {
             "fill": {
              "color": "#C8D4E3"
             },
             "line": {
              "color": "white"
             }
            },
            "type": "table"
           }
          ]
         },
         "layout": {
          "annotationdefaults": {
           "arrowcolor": "#2a3f5f",
           "arrowhead": 0,
           "arrowwidth": 1
          },
          "autotypenumbers": "strict",
          "coloraxis": {
           "colorbar": {
            "outlinewidth": 0,
            "ticks": ""
           }
          },
          "colorscale": {
           "diverging": [
            [
             0,
             "#8e0152"
            ],
            [
             0.1,
             "#c51b7d"
            ],
            [
             0.2,
             "#de77ae"
            ],
            [
             0.3,
             "#f1b6da"
            ],
            [
             0.4,
             "#fde0ef"
            ],
            [
             0.5,
             "#f7f7f7"
            ],
            [
             0.6,
             "#e6f5d0"
            ],
            [
             0.7,
             "#b8e186"
            ],
            [
             0.8,
             "#7fbc41"
            ],
            [
             0.9,
             "#4d9221"
            ],
            [
             1,
             "#276419"
            ]
           ],
           "sequential": [
            [
             0,
             "#0d0887"
            ],
            [
             0.1111111111111111,
             "#46039f"
            ],
            [
             0.2222222222222222,
             "#7201a8"
            ],
            [
             0.3333333333333333,
             "#9c179e"
            ],
            [
             0.4444444444444444,
             "#bd3786"
            ],
            [
             0.5555555555555556,
             "#d8576b"
            ],
            [
             0.6666666666666666,
             "#ed7953"
            ],
            [
             0.7777777777777778,
             "#fb9f3a"
            ],
            [
             0.8888888888888888,
             "#fdca26"
            ],
            [
             1,
             "#f0f921"
            ]
           ],
           "sequentialminus": [
            [
             0,
             "#0d0887"
            ],
            [
             0.1111111111111111,
             "#46039f"
            ],
            [
             0.2222222222222222,
             "#7201a8"
            ],
            [
             0.3333333333333333,
             "#9c179e"
            ],
            [
             0.4444444444444444,
             "#bd3786"
            ],
            [
             0.5555555555555556,
             "#d8576b"
            ],
            [
             0.6666666666666666,
             "#ed7953"
            ],
            [
             0.7777777777777778,
             "#fb9f3a"
            ],
            [
             0.8888888888888888,
             "#fdca26"
            ],
            [
             1,
             "#f0f921"
            ]
           ]
          },
          "colorway": [
           "#636efa",
           "#EF553B",
           "#00cc96",
           "#ab63fa",
           "#FFA15A",
           "#19d3f3",
           "#FF6692",
           "#B6E880",
           "#FF97FF",
           "#FECB52"
          ],
          "font": {
           "color": "#2a3f5f"
          },
          "geo": {
           "bgcolor": "white",
           "lakecolor": "white",
           "landcolor": "#E5ECF6",
           "showlakes": true,
           "showland": true,
           "subunitcolor": "white"
          },
          "hoverlabel": {
           "align": "left"
          },
          "hovermode": "closest",
          "mapbox": {
           "style": "light"
          },
          "paper_bgcolor": "white",
          "plot_bgcolor": "#E5ECF6",
          "polar": {
           "angularaxis": {
            "gridcolor": "white",
            "linecolor": "white",
            "ticks": ""
           },
           "bgcolor": "#E5ECF6",
           "radialaxis": {
            "gridcolor": "white",
            "linecolor": "white",
            "ticks": ""
           }
          },
          "scene": {
           "xaxis": {
            "backgroundcolor": "#E5ECF6",
            "gridcolor": "white",
            "gridwidth": 2,
            "linecolor": "white",
            "showbackground": true,
            "ticks": "",
            "zerolinecolor": "white"
           },
           "yaxis": {
            "backgroundcolor": "#E5ECF6",
            "gridcolor": "white",
            "gridwidth": 2,
            "linecolor": "white",
            "showbackground": true,
            "ticks": "",
            "zerolinecolor": "white"
           },
           "zaxis": {
            "backgroundcolor": "#E5ECF6",
            "gridcolor": "white",
            "gridwidth": 2,
            "linecolor": "white",
            "showbackground": true,
            "ticks": "",
            "zerolinecolor": "white"
           }
          },
          "shapedefaults": {
           "line": {
            "color": "#2a3f5f"
           }
          },
          "ternary": {
           "aaxis": {
            "gridcolor": "white",
            "linecolor": "white",
            "ticks": ""
           },
           "baxis": {
            "gridcolor": "white",
            "linecolor": "white",
            "ticks": ""
           },
           "bgcolor": "#E5ECF6",
           "caxis": {
            "gridcolor": "white",
            "linecolor": "white",
            "ticks": ""
           }
          },
          "title": {
           "x": 0.05
          },
          "xaxis": {
           "automargin": true,
           "gridcolor": "white",
           "linecolor": "white",
           "ticks": "",
           "title": {
            "standoff": 15
           },
           "zerolinecolor": "white",
           "zerolinewidth": 2
          },
          "yaxis": {
           "automargin": true,
           "gridcolor": "white",
           "linecolor": "white",
           "ticks": "",
           "title": {
            "standoff": 15
           },
           "zerolinecolor": "white",
           "zerolinewidth": 2
          }
         }
        },
        "updatemenus": [
         {
          "buttons": [
           {
            "args": [
             null,
             {
              "frame": {
               "duration": 2000,
               "redraw": true
              },
              "fromcurrent": true,
              "transition": {
               "duration": 1000
              }
             }
            ],
            "label": "Play",
            "method": "animate"
           },
           {
            "args": [
             [
              null
             ],
             {
              "frame": {
               "duration": 0,
               "redraw": false
              },
              "mode": "immediate",
              "transition": {
               "duration": 0
              }
             }
            ],
            "label": "Pause",
            "method": "animate"
           }
          ],
          "direction": "left",
          "pad": {
           "r": 10,
           "t": 70
          },
          "showactive": false,
          "type": "buttons",
          "x": 0.1,
          "xanchor": "right",
          "y": 0,
          "yanchor": "top"
         }
        ],
        "xaxis": {
         "anchor": "y",
         "categoryarray": [
          "Not urbanised",
          "Hardly urbanised",
          "Moderately urbanised",
          "Strongly urbanised",
          "Extremely urbanised"
         ],
         "categoryorder": "array",
         "domain": [
          0,
          1
         ],
         "title": {
          "text": "Urbanization level"
         }
        },
        "yaxis": {
         "anchor": "x",
         "domain": [
          0,
          1
         ],
         "title": {
          "text": "Trips per year"
         }
        }
       }
      }
     },
     "metadata": {},
     "output_type": "display_data"
    }
   ],
   "source": [
    "barplotanimation(datanototal, 'Trips_Per_Year', 'Trips per year')"
   ]
  },
  {
   "cell_type": "markdown",
   "metadata": {},
   "source": [
    "In the figure above, the number of trips taking each year have been specified. Just as the figure for all transportation modes together, the decrease in trips for the transportation modes can be seen. However, if we look specific for the mode walking something different can be seen. The number of trips for walking increased during COVID-19. Since many sport activities could not continue during COVID-19 and people had to stay at home, people started looking for other simple activiteit that were allowed to do during COVID_19. Walking alone or with a friend at 1.5m distance was one of the activities that many people started doing and can be seen in the figure above. The number of trips from the other transportation modes decreased during COVID-19. "
   ]
  },
  {
   "cell_type": "code",
   "execution_count": 21,
   "metadata": {},
   "outputs": [
    {
     "data": {
      "image/png": "[encoded data removed]",
      "text/plain": [
       "<Figure size 1000x600 with 1 Axes>"
      ]
     },
     "metadata": {},
     "output_type": "display_data"
    }
   ],
   "source": [
    "area_chart_trips(data)"
   ]
  },
  {
   "cell_type": "markdown",
   "metadata": {},
   "source": [
    "In the visualization above, the first two figures are combined. The total number of trips for each year can still be seen, which is the sum of all transportation modes. Within the total, the different transportation modes are defined with colours. The bigger the area of a colour, the higher the number of trips for that specific transportation mode in that year. "
   ]
  },
  {
   "cell_type": "markdown",
   "metadata": {},
   "source": [
    "## Conclusion\n",
    "\n",
    "All in all, this report has sought to research the influence of COVID-19 on the travel behaviour of the citizens of the Netherlands. The report examined shifts in travel behavior across different urbanization levels in the Netherlands before, during, and after the COVID-19 pandemic, with a focus on travel time, passenger kilometers, and trip frequency across transportation modes. This research identified four sub-questions to answer the followinng research question: What are the differences in transportation modes used in different urbanization-level areas before, during, and after the COVID-19 pandemic? \n",
    "\n",
    "This report found that the post-COVID level of transport hours, trips, kilometers have not been restored to the pre-COVID level. This report also identified that there were, however, regional differences for these variables. This report found that the non-urbanised regions are recovering slower (to pre-covid numbers) in terms of travel hours, but this region is recovering more quickly in terms of passenger kilometers and number of trips. \n",
    "It therefore seems that people living in non-urbanised areas are still travelling frequently but in less time. For the other urbanisation levels there is not necessarily a difference in terms of the key variables. For these regions, they variables increase and decrease relatively the same. \n",
    "Also, the study found that non-motorized modes, such as walking, gained popularity during the pandemic, reflecting a shift in lifestyle and a preference for local, socially distanced activities. Although some travel behaviors have returned to pre-pandemic levels, the persistence of remote work and a cautious approach toward public transit in urban areas suggest that certain changes may be long-lasting. \n"
   ]
  },
  {
   "cell_type": "markdown",
   "metadata": {},
   "source": [
    "## Discussion and limitations: \n",
    "For most of the research, only one dataset was used. The dataset was based on a CBS dataset that gave an overview of the travel behaviour of Dutch citizens. The data set provided insight into the travel behaviour of Dutch citizens but lacked specific data for real research into travel patterns. The CBS dataset is based on aggregated survey data, which may overlook individual variations in travel patterns. External factors such as seasonal effects, fuel prices, or temporary disruptions in public transportation are not controlled for. These kinds of external factors can have an impact on travel behaviour. The study does not consider variations in employment types or flexibility in remote work across regions, which likely influenced recovery rates but were not explicitly accounted for. These limitations suggest that while the study provides valuable insights into pandemic-related changes in travel behaviour, a more comprehensive dataset and additional controls are necessary for a full understanding of the underlying factors influencing these shifts.\n",
    "\n",
    "### Future research \n",
    "\n",
    "Future research could improve on this study by using individual-level data to capture how personal factors like age and job type influence travel behaviour. Examining seasonal changes, fuel prices, and transport disruptions would provide a fuller view of external impacts. \n",
    "A study with the long-term effects of remote work on commuting, especially in urban areas, and exploring the adoption of new travel modes like e-scooters and ride-sharing across regions would give more insights into post-pandemic travel patterns. A study with data from another country could also reveal h"
   ]
  },
  {
   "cell_type": "markdown",
   "metadata": {},
   "source": [
    "### References\n",
    "\n",
    "Abdullah, M., Dias, C., Muley, D., & Shahin, M. (2020). Exploring the impacts of COVID-19 on travel behavior and mode preferences. Transportation Research Interdisciplinary Perspectives, 8, 100255. https://doi.org/10.1016/j.trip.2020.100255 "
   ]
  }
 ],
 "metadata": {
  "kernelspec": {
   "display_name": "TIL6022",
   "language": "python",
   "name": "python3"
  },
  "language_info": {
   "codemirror_mode": {
    "name": "ipython",
    "version": 3
   },
   "file_extension": ".py",
   "mimetype": "text/x-python",
   "name": "python",
   "nbconvert_exporter": "python",
   "pygments_lexer": "ipython3",
   "version": "3.12.4"
  },
  "orig_nbformat": 4
 },
 "nbformat": 4,
 "nbformat_minor": 2
}
