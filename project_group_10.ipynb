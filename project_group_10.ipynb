{
 "cells": [
  {
   "cell_type": "markdown",
   "metadata": {},
   "source": [
    "# Project Group - 10\n",
    "\n",
    "Members + student number: \n",
    "\n",
    "Splinter Groenink:  \n",
    "Ton van Mameren: 6108466  \n",
    "Gijs Volkers: 5295920   \n",
    "Hidde Voogt:  \n",
    "Justin Wagenaar:  \n",
    "\n"
   ]
  },
  {
   "cell_type": "markdown",
   "metadata": {},
   "source": [
    "# Research Objective\n",
    "\n",
    "*Requires data modeling and quantitative research in Transport, Infrastructure & Logistics*"
   ]
  },
  {
   "cell_type": "markdown",
   "metadata": {},
   "source": []
  },
  {
   "cell_type": "markdown",
   "metadata": {},
   "source": [
    "# Contribution Statement\n",
    "\n",
    "*Be specific. Some of the tasks can be coding (expect everyone to do this), background research, conceptualisation, visualisation, data analysis, data modelling*"
   ]
  },
  {
   "cell_type": "markdown",
   "metadata": {},
   "source": [
    "**Author 1**:\n",
    "\n",
    "**Author 2**:\n",
    "\n",
    "**Author 3**:"
   ]
  },
  {
   "cell_type": "markdown",
   "metadata": {},
   "source": [
    "# Data Used"
   ]
  },
  {
   "cell_type": "markdown",
   "metadata": {},
   "source": []
  },
  {
   "cell_type": "markdown",
   "metadata": {},
   "source": [
    "# Data Pipeline"
   ]
  },
  {
   "cell_type": "markdown",
   "metadata": {},
   "source": []
  },
  {
   "cell_type": "code",
   "execution_count": 2,
   "metadata": {},
   "outputs": [],
   "source": [
    "from data_rename import make_named_clean_dataset\n",
    "import pandas as pd"
   ]
  },
  {
   "cell_type": "code",
   "execution_count": 4,
   "metadata": {},
   "outputs": [
    {
     "name": "stdout",
     "output_type": "stream",
     "text": [
      "Named And Cleaned Data After Dropping Missing Values: (38718, 13) \n",
      "\n"
     ]
    },
    {
     "data": {
      "text/html": [
       "<div>\n",
       "<style scoped>\n",
       "    .dataframe tbody tr th:only-of-type {\n",
       "        vertical-align: middle;\n",
       "    }\n",
       "\n",
       "    .dataframe tbody tr th {\n",
       "        vertical-align: top;\n",
       "    }\n",
       "\n",
       "    .dataframe thead th {\n",
       "        text-align: right;\n",
       "    }\n",
       "</style>\n",
       "<table border=\"1\" class=\"dataframe\">\n",
       "  <thead>\n",
       "    <tr style=\"text-align: right;\">\n",
       "      <th></th>\n",
       "      <th>ID</th>\n",
       "      <th>Trips_Per_Day</th>\n",
       "      <th>Distance_Travelled_PassengerKm_Per_Day</th>\n",
       "      <th>Time_Travelled_Minutes_Per_Day</th>\n",
       "      <th>Trips_Per_Year</th>\n",
       "      <th>Distance_Travelled_PassengerKm_Per_Year</th>\n",
       "      <th>Time_Travelled_Hours_Per_Year</th>\n",
       "      <th>TravelMotives</th>\n",
       "      <th>Population</th>\n",
       "      <th>TravelModes</th>\n",
       "      <th>Margins</th>\n",
       "      <th>RegionCharacteristics</th>\n",
       "      <th>Period</th>\n",
       "    </tr>\n",
       "  </thead>\n",
       "  <tbody>\n",
       "    <tr>\n",
       "      <th>0</th>\n",
       "      <td>0</td>\n",
       "      <td>2.78</td>\n",
       "      <td>36.16</td>\n",
       "      <td>74.60</td>\n",
       "      <td>1015.0</td>\n",
       "      <td>13200.0</td>\n",
       "      <td>453.8</td>\n",
       "      <td>Total</td>\n",
       "      <td>Population 6 years or older</td>\n",
       "      <td>Total</td>\n",
       "      <td>Value</td>\n",
       "      <td>The Netherlands</td>\n",
       "      <td>2018</td>\n",
       "    </tr>\n",
       "    <tr>\n",
       "      <th>1</th>\n",
       "      <td>1</td>\n",
       "      <td>2.71</td>\n",
       "      <td>36.00</td>\n",
       "      <td>74.39</td>\n",
       "      <td>989.0</td>\n",
       "      <td>13140.0</td>\n",
       "      <td>452.6</td>\n",
       "      <td>Total</td>\n",
       "      <td>Population 6 years or older</td>\n",
       "      <td>Total</td>\n",
       "      <td>Value</td>\n",
       "      <td>The Netherlands</td>\n",
       "      <td>2019</td>\n",
       "    </tr>\n",
       "    <tr>\n",
       "      <th>2</th>\n",
       "      <td>2</td>\n",
       "      <td>2.35</td>\n",
       "      <td>24.88</td>\n",
       "      <td>61.96</td>\n",
       "      <td>861.0</td>\n",
       "      <td>9105.0</td>\n",
       "      <td>378.0</td>\n",
       "      <td>Total</td>\n",
       "      <td>Population 6 years or older</td>\n",
       "      <td>Total</td>\n",
       "      <td>Value</td>\n",
       "      <td>The Netherlands</td>\n",
       "      <td>2020</td>\n",
       "    </tr>\n",
       "    <tr>\n",
       "      <th>3</th>\n",
       "      <td>3</td>\n",
       "      <td>2.51</td>\n",
       "      <td>27.24</td>\n",
       "      <td>69.85</td>\n",
       "      <td>915.0</td>\n",
       "      <td>9942.0</td>\n",
       "      <td>424.9</td>\n",
       "      <td>Total</td>\n",
       "      <td>Population 6 years or older</td>\n",
       "      <td>Total</td>\n",
       "      <td>Value</td>\n",
       "      <td>The Netherlands</td>\n",
       "      <td>2021</td>\n",
       "    </tr>\n",
       "    <tr>\n",
       "      <th>4</th>\n",
       "      <td>4</td>\n",
       "      <td>2.70</td>\n",
       "      <td>30.21</td>\n",
       "      <td>72.69</td>\n",
       "      <td>984.0</td>\n",
       "      <td>11027.0</td>\n",
       "      <td>442.2</td>\n",
       "      <td>Total</td>\n",
       "      <td>Population 6 years or older</td>\n",
       "      <td>Total</td>\n",
       "      <td>Value</td>\n",
       "      <td>The Netherlands</td>\n",
       "      <td>2022</td>\n",
       "    </tr>\n",
       "  </tbody>\n",
       "</table>\n",
       "</div>"
      ],
      "text/plain": [
       "   ID  Trips_Per_Day  Distance_Travelled_PassengerKm_Per_Day  \\\n",
       "0   0           2.78                                   36.16   \n",
       "1   1           2.71                                   36.00   \n",
       "2   2           2.35                                   24.88   \n",
       "3   3           2.51                                   27.24   \n",
       "4   4           2.70                                   30.21   \n",
       "\n",
       "   Time_Travelled_Minutes_Per_Day  Trips_Per_Year  \\\n",
       "0                           74.60          1015.0   \n",
       "1                           74.39           989.0   \n",
       "2                           61.96           861.0   \n",
       "3                           69.85           915.0   \n",
       "4                           72.69           984.0   \n",
       "\n",
       "   Distance_Travelled_PassengerKm_Per_Year  Time_Travelled_Hours_Per_Year  \\\n",
       "0                                  13200.0                          453.8   \n",
       "1                                  13140.0                          452.6   \n",
       "2                                   9105.0                          378.0   \n",
       "3                                   9942.0                          424.9   \n",
       "4                                  11027.0                          442.2   \n",
       "\n",
       "  TravelMotives                   Population TravelModes Margins  \\\n",
       "0         Total  Population 6 years or older       Total   Value   \n",
       "1         Total  Population 6 years or older       Total   Value   \n",
       "2         Total  Population 6 years or older       Total   Value   \n",
       "3         Total  Population 6 years or older       Total   Value   \n",
       "4         Total  Population 6 years or older       Total   Value   \n",
       "\n",
       "  RegionCharacteristics Period  \n",
       "0       The Netherlands   2018  \n",
       "1       The Netherlands   2019  \n",
       "2       The Netherlands   2020  \n",
       "3       The Netherlands   2021  \n",
       "4       The Netherlands   2022  "
      ]
     },
     "execution_count": 4,
     "metadata": {},
     "output_type": "execute_result"
    }
   ],
   "source": [
    "#opening, cleaning and nameing data in dataset using helper function created by us.\n",
    "\n",
    "file_path = 'oud/84710ENG_TypedDataSet_30092024_142837.csv'\n",
    "\n",
    "data_raw = pd.read_csv(file_path, delimiter=';', encoding='utf-8')\n",
    "\n",
    "data = make_named_clean_dataset(data_raw)\n",
    "\n",
    "data.head()"
   ]
  }
 ],
 "metadata": {
  "kernelspec": {
   "display_name": "TIL6022",
   "language": "python",
   "name": "python3"
  },
  "language_info": {
   "codemirror_mode": {
    "name": "ipython",
    "version": 3
   },
   "file_extension": ".py",
   "mimetype": "text/x-python",
   "name": "python",
   "nbconvert_exporter": "python",
   "pygments_lexer": "ipython3",
   "version": "3.12.4"
  },
  "orig_nbformat": 4
 },
 "nbformat": 4,
 "nbformat_minor": 2
}
